{
  "cells": [
    {
      "cell_type": "markdown",
      "metadata": {
        "id": "view-in-github",
        "colab_type": "text"
      },
      "source": [
        "<a href=\"https://colab.research.google.com/github/neriluiz/Intro_html_css/blob/master/rotulagem_cap87.ipynb\" target=\"_parent\"><img src=\"https://colab.research.google.com/assets/colab-badge.svg\" alt=\"Open In Colab\"/></a>"
      ]
    },
    {
      "cell_type": "code",
      "execution_count": null,
      "id": "0de15ea2-1b3b-4269-8d87-7e48aac4c3f1",
      "metadata": {
        "tags": [],
        "id": "0de15ea2-1b3b-4269-8d87-7e48aac4c3f1"
      },
      "outputs": [],
      "source": [
        "import pandas as pd\n",
        "from nltk import bigrams, FreqDist, download\n",
        "from nltk.corpus import stopwords\n",
        "from nltk.tokenize import sent_tokenize, word_tokenize\n",
        "from collections import Counter\n",
        "import matplotlib.pyplot as plt\n",
        "import re\n",
        "import numpy as np\n",
        "import warnings\n",
        "warnings.filterwarnings('ignore')"
      ]
    },
    {
      "cell_type": "code",
      "execution_count": null,
      "id": "fe5569f6-0819-496d-8300-fd26d82df37f",
      "metadata": {
        "id": "fe5569f6-0819-496d-8300-fd26d82df37f"
      },
      "outputs": [],
      "source": [
        "pd.set_option('max_colwidth', 400)"
      ]
    },
    {
      "cell_type": "code",
      "execution_count": null,
      "id": "d434ac04-1e9e-46c0-a890-3dbdf41da97b",
      "metadata": {
        "id": "d434ac04-1e9e-46c0-a890-3dbdf41da97b",
        "outputId": "1b63ce0d-8571-48b6-8aae-a6bf9e91feb3"
      },
      "outputs": [
        {
          "name": "stderr",
          "output_type": "stream",
          "text": [
            "[nltk_data] Downloading package stopwords to\n",
            "[nltk_data]     C:\\Users\\nholleben\\AppData\\Roaming\\nltk_data...\n",
            "[nltk_data]   Package stopwords is already up-to-date!\n",
            "[nltk_data] Downloading package punkt to\n",
            "[nltk_data]     C:\\Users\\nholleben\\AppData\\Roaming\\nltk_data...\n",
            "[nltk_data]   Package punkt is already up-to-date!\n"
          ]
        },
        {
          "data": {
            "text/plain": [
              "True"
            ]
          },
          "execution_count": 3,
          "metadata": {},
          "output_type": "execute_result"
        }
      ],
      "source": [
        "download(\"stopwords\")\n",
        "download('punkt')"
      ]
    },
    {
      "cell_type": "code",
      "execution_count": null,
      "id": "55ad7ef3-6077-4d8f-9722-cfa00e71b65d",
      "metadata": {
        "id": "55ad7ef3-6077-4d8f-9722-cfa00e71b65d"
      },
      "outputs": [],
      "source": [
        "STOP_WORDS = stopwords.words('portuguese')"
      ]
    },
    {
      "cell_type": "code",
      "execution_count": null,
      "id": "91eefaa2-e2de-4762-bfd1-71bd9f1e8a8c",
      "metadata": {
        "id": "91eefaa2-e2de-4762-bfd1-71bd9f1e8a8c",
        "outputId": "db1ae9a7-c790-4704-9897-0759f4a5c679"
      },
      "outputs": [
        {
          "data": {
            "text/plain": [
              "['de', 'a', 'o', 'que', 'e', 'é', 'do', 'da', 'em', 'um']"
            ]
          },
          "execution_count": 5,
          "metadata": {},
          "output_type": "execute_result"
        }
      ],
      "source": [
        "STOP_WORDS[:10]"
      ]
    },
    {
      "cell_type": "code",
      "execution_count": null,
      "id": "2664db05-993a-4ee7-9eed-c294419af291",
      "metadata": {
        "id": "2664db05-993a-4ee7-9eed-c294419af291"
      },
      "outputs": [],
      "source": [
        "df = pd.read_pickle('df_importancia.pkl') # para análise de corpus"
      ]
    },
    {
      "cell_type": "code",
      "execution_count": null,
      "id": "423fa466-4738-4798-bdc2-5e9091e0c98f",
      "metadata": {
        "id": "423fa466-4738-4798-bdc2-5e9091e0c98f"
      },
      "outputs": [],
      "source": [
        "df_train = pd.read_pickle('df_train.pkl') # para treinamento da IA"
      ]
    },
    {
      "cell_type": "code",
      "execution_count": null,
      "id": "be97c872-d1d3-4f37-9d1f-f53073b73515",
      "metadata": {
        "id": "be97c872-d1d3-4f37-9d1f-f53073b73515"
      },
      "outputs": [],
      "source": [
        "df = df_train.copy()"
      ]
    },
    {
      "cell_type": "code",
      "execution_count": null,
      "id": "e46d6a0e-f24d-474e-8ff5-c9a09a7f119d",
      "metadata": {
        "id": "e46d6a0e-f24d-474e-8ff5-c9a09a7f119d",
        "outputId": "02054c8d-07eb-46cf-9ecf-427c23ea49d0"
      },
      "outputs": [
        {
          "data": {
            "text/plain": [
              "500000"
            ]
          },
          "execution_count": 9,
          "metadata": {},
          "output_type": "execute_result"
        }
      ],
      "source": [
        "len(df)"
      ]
    },
    {
      "cell_type": "code",
      "execution_count": null,
      "id": "952e4262-401f-41a1-ab8b-8cf6ae66e8b4",
      "metadata": {
        "id": "952e4262-401f-41a1-ab8b-8cf6ae66e8b4"
      },
      "outputs": [],
      "source": [
        "df['POSICAO_NCM'] = df['PROD_NCM'].astype(str).str[:4]"
      ]
    },
    {
      "cell_type": "code",
      "execution_count": null,
      "id": "d636bf85-a798-468c-aa2b-8943da8bb155",
      "metadata": {
        "id": "d636bf85-a798-468c-aa2b-8943da8bb155",
        "outputId": "b13c47b1-634c-4aaa-838a-8a373b8bbfe9"
      },
      "outputs": [
        {
          "data": {
            "text/plain": [
              "<AxesSubplot:>"
            ]
          },
          "execution_count": 11,
          "metadata": {},
          "output_type": "execute_result"
        },
        {
          "data": {
            "image/png": "[encoded data removed]",
            "text/plain": [
              "<Figure size 432x288 with 1 Axes>"
            ]
          },
          "metadata": {
            "needs_background": "light"
          },
          "output_type": "display_data"
        }
      ],
      "source": [
        "df['POSICAO_NCM'].value_counts().sort_values(ascending=False).head(20).plot(kind='bar')"
      ]
    },
    {
      "cell_type": "code",
      "execution_count": null,
      "id": "33bf34b3-8183-4111-94c9-ae600b0ec5e3",
      "metadata": {
        "id": "33bf34b3-8183-4111-94c9-ae600b0ec5e3"
      },
      "outputs": [],
      "source": [
        "TOKEN_ALFANUM = '\\\\b[A-Za-z]+\\\\b'"
      ]
    },
    {
      "cell_type": "markdown",
      "id": "19deaf89-0ae3-40d7-95f1-199e3bda0a03",
      "metadata": {
        "id": "19deaf89-0ae3-40d7-95f1-199e3bda0a03"
      },
      "source": [
        "## Corpus do cap 87."
      ]
    },
    {
      "cell_type": "code",
      "execution_count": null,
      "id": "64d4046f-fb04-422f-bef8-68074bafdc0f",
      "metadata": {
        "tags": [],
        "id": "64d4046f-fb04-422f-bef8-68074bafdc0f"
      },
      "outputs": [],
      "source": [
        "corpus_cap87 = \" \".join(df.PROD_XPROD)"
      ]
    },
    {
      "cell_type": "code",
      "execution_count": null,
      "id": "ac52b77d-84c7-41ce-bf44-792a9371bc02",
      "metadata": {
        "tags": [],
        "id": "ac52b77d-84c7-41ce-bf44-792a9371bc02"
      },
      "outputs": [],
      "source": [
        "# Para testes de regex no: https://regex101.com/\n",
        "#corpus_cap87[:-10000]"
      ]
    },
    {
      "cell_type": "code",
      "execution_count": null,
      "id": "c3af3fad-abcc-467b-b237-5bf2e35ec293",
      "metadata": {
        "tags": [],
        "id": "c3af3fad-abcc-467b-b237-5bf2e35ec293"
      },
      "outputs": [],
      "source": [
        "#with open('corpus_cap87.txt','w') as c:\n",
        "#    c.write(corpus_cap87)\n",
        "#    c.close()"
      ]
    },
    {
      "cell_type": "code",
      "execution_count": null,
      "id": "75ae78f0-e7ec-48b5-b80c-0d3e27b7a69a",
      "metadata": {
        "id": "75ae78f0-e7ec-48b5-b80c-0d3e27b7a69a"
      },
      "outputs": [],
      "source": [
        ""
      ]
    },
    {
      "cell_type": "code",
      "execution_count": null,
      "id": "f4dada14-0faa-43a2-bc9d-3cecbb14062d",
      "metadata": {
        "id": "f4dada14-0faa-43a2-bc9d-3cecbb14062d"
      },
      "outputs": [],
      "source": [
        "#tokens = [w for w in word_tokenize(corpus_cap87.lower(), language='portuguese') if w.isalpha()]"
      ]
    },
    {
      "cell_type": "markdown",
      "id": "135923f3-4a19-4258-932f-36569507def7",
      "metadata": {
        "id": "135923f3-4a19-4258-932f-36569507def7"
      },
      "source": [
        "##### BOW de tokens sem stop words:"
      ]
    },
    {
      "cell_type": "code",
      "execution_count": null,
      "id": "48411355-2096-4ed2-9ca2-cc75edb5a7af",
      "metadata": {
        "jupyter": {
          "source_hidden": true
        },
        "tags": [],
        "id": "48411355-2096-4ed2-9ca2-cc75edb5a7af"
      },
      "outputs": [],
      "source": [
        "#no_stops = [t for t in tokens if t not in stopwords.words('portuguese')]"
      ]
    },
    {
      "cell_type": "code",
      "execution_count": null,
      "id": "35eb4079-4532-454d-abe4-b3933e7c806d",
      "metadata": {
        "id": "35eb4079-4532-454d-abe4-b3933e7c806d"
      },
      "outputs": [],
      "source": [
        "# s_no_stops = pd.Series(no_stops)"
      ]
    },
    {
      "cell_type": "code",
      "execution_count": null,
      "id": "e7eb9eff-6d1f-48b9-bf43-013de1899d49",
      "metadata": {
        "id": "e7eb9eff-6d1f-48b9-bf43-013de1899d49"
      },
      "outputs": [],
      "source": [
        "# s_no_stops.to_csv('no_stops.csv')"
      ]
    },
    {
      "cell_type": "code",
      "execution_count": null,
      "id": "b43c7733-9353-4713-bfdb-dfcfc2034bda",
      "metadata": {
        "id": "b43c7733-9353-4713-bfdb-dfcfc2034bda"
      },
      "outputs": [],
      "source": [
        "#bigrams = bigrams(no_stops)"
      ]
    },
    {
      "cell_type": "code",
      "execution_count": null,
      "id": "28402b77-4dfe-4bf3-ac69-3e41aa3a6677",
      "metadata": {
        "tags": [],
        "id": "28402b77-4dfe-4bf3-ac69-3e41aa3a6677"
      },
      "outputs": [],
      "source": [
        "#frequency = FreqDist(bigrams)"
      ]
    },
    {
      "cell_type": "code",
      "execution_count": null,
      "id": "a34faf7a-f40c-477f-ae47-00a948775264",
      "metadata": {
        "tags": [],
        "id": "a34faf7a-f40c-477f-ae47-00a948775264"
      },
      "outputs": [],
      "source": [
        "#frequency.most_common(20)"
      ]
    },
    {
      "cell_type": "code",
      "execution_count": null,
      "id": "c17067ff-2467-419d-84fc-083dafb781d8",
      "metadata": {
        "id": "c17067ff-2467-419d-84fc-083dafb781d8"
      },
      "outputs": [],
      "source": [
        "#top_20 = frequency.most_common(20)"
      ]
    },
    {
      "cell_type": "markdown",
      "id": "4703f618-da6e-4f56-88b6-bb1754883065",
      "metadata": {
        "id": "4703f618-da6e-4f56-88b6-bb1754883065"
      },
      "source": [
        "##### Conversor de bigramas para regex"
      ]
    },
    {
      "cell_type": "code",
      "execution_count": null,
      "id": "e1a357ef-7f46-40f9-ace6-758d949ce620",
      "metadata": {
        "id": "e1a357ef-7f46-40f9-ace6-758d949ce620"
      },
      "outputs": [],
      "source": [
        "def bigrams2regex(top_list):\n",
        "    regexes = []\n",
        "    for i in top_list:\n",
        "        regexes.append(\"^\" + \".*\".join(i[0]))\n",
        "    return regexes"
      ]
    },
    {
      "cell_type": "code",
      "execution_count": null,
      "id": "c3d7e6bd-f50a-49e8-a8c7-f9dcfbb3c79c",
      "metadata": {
        "id": "c3d7e6bd-f50a-49e8-a8c7-f9dcfbb3c79c"
      },
      "outputs": [],
      "source": [
        "##### Conversor de listas para grupos de captura com elementos disjuntos."
      ]
    },
    {
      "cell_type": "code",
      "execution_count": null,
      "id": "f6fc2587-f220-46cc-9df0-e0bad9702c5e",
      "metadata": {
        "id": "f6fc2587-f220-46cc-9df0-e0bad9702c5e"
      },
      "outputs": [],
      "source": [
        "def regex_with_or_groups(*grupo1, flag1a=\"?>\", flag_1b=\"?\"):\n",
        "    def regex_group2(*grupo2, flag2a=\"\", flag_2b=\"\"):\n",
        "        g1 = \"|\".join(grupo1)\n",
        "        g2 = \"|\".join(grupo2)\n",
        "        return \"^\" + \"(\" + flag1a + g1 + \")\" + \"(\" + g2 + \")\" + flag_2b\n",
        "    return regex_group2"
      ]
    },
    {
      "cell_type": "code",
      "execution_count": null,
      "id": "ce27e26d-dce4-4ac0-9d99-d5a69dabbe2d",
      "metadata": {
        "id": "ce27e26d-dce4-4ac0-9d99-d5a69dabbe2d"
      },
      "outputs": [],
      "source": [
        "# Algoritmo: buscar todos os ítens relacionados à sistemas de freios através dos bigramas abaixo e colocar a classificação SEFAZ"
      ]
    },
    {
      "cell_type": "code",
      "execution_count": null,
      "id": "09a53ea4-e4e8-40b6-81bc-bff4ac37579f",
      "metadata": {
        "tags": [],
        "id": "09a53ea4-e4e8-40b6-81bc-bff4ac37579f"
      },
      "outputs": [],
      "source": [
        "#bigrams2regex(top_20)"
      ]
    },
    {
      "cell_type": "markdown",
      "id": "9d97ebfe-182a-426e-8b43-fd087a3cf18a",
      "metadata": {
        "id": "9d97ebfe-182a-426e-8b43-fd087a3cf18a"
      },
      "source": [
        "### Autopeças"
      ]
    },
    {
      "cell_type": "markdown",
      "id": "57eabdc4-40b2-48cb-85ed-cf31c59624cb",
      "metadata": {
        "id": "57eabdc4-40b2-48cb-85ed-cf31c59624cb"
      },
      "source": [
        "##### Sistemas"
      ]
    },
    {
      "cell_type": "code",
      "execution_count": null,
      "id": "7887fcff-7332-4f6b-8dc8-fdece6972c78",
      "metadata": {
        "id": "7887fcff-7332-4f6b-8dc8-fdece6972c78"
      },
      "outputs": [],
      "source": [
        "sistemas_oleo = ['freios', 'direcao', 'transmissao', 'suspensao', 'lubrificacao', 'partes e peças para bicicleta', 'outras partes de veiculo','oleo']"
      ]
    },
    {
      "cell_type": "code",
      "execution_count": null,
      "id": "edd243de-ef2d-4ac9-a95b-d4ad7a6cb961",
      "metadata": {
        "id": "edd243de-ef2d-4ac9-a95b-d4ad7a6cb961"
      },
      "outputs": [],
      "source": [
        "cod_sefaz = [10030447001, 10030447002, 10030447003, 10030447004, 10030447005, 10030447006, 10030447007, 10030566001]"
      ]
    },
    {
      "cell_type": "code",
      "execution_count": null,
      "id": "8df67f89-09e9-4654-a5b7-71d256f6f0c8",
      "metadata": {
        "id": "8df67f89-09e9-4654-a5b7-71d256f6f0c8"
      },
      "outputs": [],
      "source": [
        "classif_dic = dict(zip(sistemas_oleo, cod_sefaz))"
      ]
    },
    {
      "cell_type": "code",
      "execution_count": null,
      "id": "edac81ab-c431-4853-88e4-eb39a3894eab",
      "metadata": {
        "id": "edac81ab-c431-4853-88e4-eb39a3894eab",
        "outputId": "35cc0f45-1357-442f-82a0-c9f27d4a992b"
      },
      "outputs": [
        {
          "data": {
            "text/plain": [
              "{'freios': 10030447001,\n",
              " 'direcao': 10030447002,\n",
              " 'transmissao': 10030447003,\n",
              " 'suspensao': 10030447004,\n",
              " 'lubrificacao': 10030447005,\n",
              " 'partes e peças para bicicleta': 10030447006,\n",
              " 'outras partes de veiculo': 10030447007,\n",
              " 'oleo': 10030566001}"
            ]
          },
          "execution_count": 32,
          "metadata": {},
          "output_type": "execute_result"
        }
      ],
      "source": [
        "classif_dic"
      ]
    },
    {
      "cell_type": "markdown",
      "id": "d3dda1f5-badc-4870-83ec-b0956d72e896",
      "metadata": {
        "id": "d3dda1f5-badc-4870-83ec-b0956d72e896"
      },
      "source": [
        "##### Tabela autopeças"
      ]
    },
    {
      "cell_type": "code",
      "execution_count": null,
      "id": "0af1acfd-2ddb-40b4-bc0b-f6f7ccc77e2c",
      "metadata": {
        "tags": [],
        "id": "0af1acfd-2ddb-40b4-bc0b-f6f7ccc77e2c",
        "outputId": "9c60cf56-86f8-49c5-c049-cf56b0b5c65b"
      },
      "outputs": [
        {
          "data": {
            "text/html": [
              "<div>\n",
              "<style scoped>\n",
              "    .dataframe tbody tr th:only-of-type {\n",
              "        vertical-align: middle;\n",
              "    }\n",
              "\n",
              "    .dataframe tbody tr th {\n",
              "        vertical-align: top;\n",
              "    }\n",
              "\n",
              "    .dataframe thead th {\n",
              "        text-align: right;\n",
              "    }\n",
              "</style>\n",
              "<table border=\"1\" class=\"dataframe\">\n",
              "  <thead>\n",
              "    <tr style=\"text-align: right;\">\n",
              "      <th></th>\n",
              "      <th>PROD_XPROD</th>\n",
              "      <th>PROD_NCM</th>\n",
              "      <th>PROD_VUNCOM</th>\n",
              "      <th>CONTAGEM</th>\n",
              "      <th>NCM_POSICAO</th>\n",
              "      <th>IMPORTANCIA</th>\n",
              "      <th>POSICAO_NCM</th>\n",
              "    </tr>\n",
              "  </thead>\n",
              "  <tbody>\n",
              "    <tr>\n",
              "      <th>69569</th>\n",
              "      <td>MOTOCICLETA HONDA XRE 300 DE 25,4CV(GASOLINA)/ 25, 6CV(ALCOOL) E 291,6CC ANO MOD 2018 ANO FAB 2018 CO M FREIO ABS</td>\n",
              "      <td>87113000</td>\n",
              "      <td>25191.340</td>\n",
              "      <td>240</td>\n",
              "      <td>8711</td>\n",
              "      <td>6045921.600</td>\n",
              "      <td>8711</td>\n",
              "    </tr>\n",
              "    <tr>\n",
              "      <th>40218</th>\n",
              "      <td>MOTOCICLETA HONDA CB250F TWISTER CBS DE 22,4CV(GAS OLINA)/ 22,6CV(ALCOOL) E 249,5CC ANO MOD 2019 ANO FAB 2019 COM FREIOS</td>\n",
              "      <td>87112020</td>\n",
              "      <td>11427.000</td>\n",
              "      <td>208</td>\n",
              "      <td>8711</td>\n",
              "      <td>2376816.000</td>\n",
              "      <td>8711</td>\n",
              "    </tr>\n",
              "    <tr>\n",
              "      <th>395263</th>\n",
              "      <td>MOTOCICLETA HONDA CB250F TWISTER CBS DE 22,4CV(GAS OLINA)/ 22,6CV(ALCOOL) E 249,5CC ANO MOD 2019 ANO FAB 2019 COM FREIOS</td>\n",
              "      <td>87112020</td>\n",
              "      <td>11314.000</td>\n",
              "      <td>192</td>\n",
              "      <td>8711</td>\n",
              "      <td>2172288.000</td>\n",
              "      <td>8711</td>\n",
              "    </tr>\n",
              "    <tr>\n",
              "      <th>447383</th>\n",
              "      <td>MOTOCICLETA HONDA CB250F TWISTER CBS DE 22,4CV(GAS OLINA)/ 22,6CV(ALCOOL) E 249,5CC ANO MOD 2021 ANO FAB 2021 COM FREIOS</td>\n",
              "      <td>87112020</td>\n",
              "      <td>13028.000</td>\n",
              "      <td>151</td>\n",
              "      <td>8711</td>\n",
              "      <td>1967228.000</td>\n",
              "      <td>8711</td>\n",
              "    </tr>\n",
              "    <tr>\n",
              "      <th>113868</th>\n",
              "      <td>MOTOCICLETA HONDA CB250F TWISTER CBS DE 22,4CV(GAS OLINA)/ 22,6CV(ALCOOL) E 249,5CC ANO MOD 2019 ANO FAB 2018 COM FREIOS</td>\n",
              "      <td>87112020</td>\n",
              "      <td>11314.000</td>\n",
              "      <td>173</td>\n",
              "      <td>8711</td>\n",
              "      <td>1957322.000</td>\n",
              "      <td>8711</td>\n",
              "    </tr>\n",
              "    <tr>\n",
              "      <th>...</th>\n",
              "      <td>...</td>\n",
              "      <td>...</td>\n",
              "      <td>...</td>\n",
              "      <td>...</td>\n",
              "      <td>...</td>\n",
              "      <td>...</td>\n",
              "      <td>...</td>\n",
              "    </tr>\n",
              "    <tr>\n",
              "      <th>304223</th>\n",
              "      <td>381 994 00 09 - TRAVA PINO PATIM FREIO 3MM</td>\n",
              "      <td>87082999</td>\n",
              "      <td>0.090</td>\n",
              "      <td>2</td>\n",
              "      <td>8708</td>\n",
              "      <td>0.180</td>\n",
              "      <td>8708</td>\n",
              "    </tr>\n",
              "    <tr>\n",
              "      <th>138413</th>\n",
              "      <td>MOLA PATIM DE FREIO CG/ TITAN ES/ KS/ 150/ FAN DIANT./ TRAS.</td>\n",
              "      <td>87141000</td>\n",
              "      <td>0.144</td>\n",
              "      <td>1</td>\n",
              "      <td>8714</td>\n",
              "      <td>0.144</td>\n",
              "      <td>8714</td>\n",
              "    </tr>\n",
              "    <tr>\n",
              "      <th>208256</th>\n",
              "      <td>MOLA PATIM DE FREIO BIZ/ BROS/ XLR TRAS.</td>\n",
              "      <td>73202010</td>\n",
              "      <td>0.144</td>\n",
              "      <td>1</td>\n",
              "      <td>7320</td>\n",
              "      <td>0.144</td>\n",
              "      <td>7320</td>\n",
              "    </tr>\n",
              "    <tr>\n",
              "      <th>270987</th>\n",
              "      <td>TAMBOR FREIO CARRETA GUERRA A DISCO 96/</td>\n",
              "      <td>87083090</td>\n",
              "      <td>0.000</td>\n",
              "      <td>1</td>\n",
              "      <td>8708</td>\n",
              "      <td>0.000</td>\n",
              "      <td>8708</td>\n",
              "    </tr>\n",
              "    <tr>\n",
              "      <th>316834</th>\n",
              "      <td>BIKE COLLI ULTIMATE,21M,ARO 29,FREIO A D PRETO NA</td>\n",
              "      <td>87120010</td>\n",
              "      <td>0.000</td>\n",
              "      <td>6</td>\n",
              "      <td>8712</td>\n",
              "      <td>0.000</td>\n",
              "      <td>8712</td>\n",
              "    </tr>\n",
              "  </tbody>\n",
              "</table>\n",
              "<p>48096 rows × 7 columns</p>\n",
              "</div>"
            ],
            "text/plain": [
              "                                                                                                                      PROD_XPROD  \\\n",
              "69569          MOTOCICLETA HONDA XRE 300 DE 25,4CV(GASOLINA)/ 25, 6CV(ALCOOL) E 291,6CC ANO MOD 2018 ANO FAB 2018 CO M FREIO ABS   \n",
              "40218   MOTOCICLETA HONDA CB250F TWISTER CBS DE 22,4CV(GAS OLINA)/ 22,6CV(ALCOOL) E 249,5CC ANO MOD 2019 ANO FAB 2019 COM FREIOS   \n",
              "395263  MOTOCICLETA HONDA CB250F TWISTER CBS DE 22,4CV(GAS OLINA)/ 22,6CV(ALCOOL) E 249,5CC ANO MOD 2019 ANO FAB 2019 COM FREIOS   \n",
              "447383  MOTOCICLETA HONDA CB250F TWISTER CBS DE 22,4CV(GAS OLINA)/ 22,6CV(ALCOOL) E 249,5CC ANO MOD 2021 ANO FAB 2021 COM FREIOS   \n",
              "113868  MOTOCICLETA HONDA CB250F TWISTER CBS DE 22,4CV(GAS OLINA)/ 22,6CV(ALCOOL) E 249,5CC ANO MOD 2019 ANO FAB 2018 COM FREIOS   \n",
              "...                                                                                                                          ...   \n",
              "304223                                                                                381 994 00 09 - TRAVA PINO PATIM FREIO 3MM   \n",
              "138413                                                              MOLA PATIM DE FREIO CG/ TITAN ES/ KS/ 150/ FAN DIANT./ TRAS.   \n",
              "208256                                                                                  MOLA PATIM DE FREIO BIZ/ BROS/ XLR TRAS.   \n",
              "270987                                                                                   TAMBOR FREIO CARRETA GUERRA A DISCO 96/   \n",
              "316834                                                                         BIKE COLLI ULTIMATE,21M,ARO 29,FREIO A D PRETO NA   \n",
              "\n",
              "        PROD_NCM  PROD_VUNCOM  CONTAGEM NCM_POSICAO  IMPORTANCIA POSICAO_NCM  \n",
              "69569   87113000    25191.340       240        8711  6045921.600        8711  \n",
              "40218   87112020    11427.000       208        8711  2376816.000        8711  \n",
              "395263  87112020    11314.000       192        8711  2172288.000        8711  \n",
              "447383  87112020    13028.000       151        8711  1967228.000        8711  \n",
              "113868  87112020    11314.000       173        8711  1957322.000        8711  \n",
              "...          ...          ...       ...         ...          ...         ...  \n",
              "304223  87082999        0.090         2        8708        0.180        8708  \n",
              "138413  87141000        0.144         1        8714        0.144        8714  \n",
              "208256  73202010        0.144         1        7320        0.144        7320  \n",
              "270987  87083090        0.000         1        8708        0.000        8708  \n",
              "316834  87120010        0.000         6        8712        0.000        8712  \n",
              "\n",
              "[48096 rows x 7 columns]"
            ]
          },
          "execution_count": 33,
          "metadata": {},
          "output_type": "execute_result"
        }
      ],
      "source": [
        "df[df['PROD_XPROD'].str.contains('FREIO|CILINDRO MESTRE') ].sort_values(by=['IMPORTANCIA','PROD_VUNCOM'], ascending=False)"
      ]
    },
    {
      "cell_type": "markdown",
      "id": "695bc91d-3846-48d9-92e8-73677b183658",
      "metadata": {
        "id": "695bc91d-3846-48d9-92e8-73677b183658"
      },
      "source": [
        "##### Sistema de freio"
      ]
    },
    {
      "cell_type": "code",
      "execution_count": null,
      "id": "95bd9bea-2435-4227-bbdf-2fdc9a64a12b",
      "metadata": {
        "id": "95bd9bea-2435-4227-bbdf-2fdc9a64a12b"
      },
      "outputs": [],
      "source": [
        "pattern_freios = r'^FREIO|PD/82|CILINDRO MESTRE'"
      ]
    },
    {
      "cell_type": "code",
      "execution_count": null,
      "id": "65e2940f-ce78-41db-b429-915fc9f1d3a4",
      "metadata": {
        "tags": [],
        "id": "65e2940f-ce78-41db-b429-915fc9f1d3a4"
      },
      "outputs": [],
      "source": [
        "MASK_FREIOS = df[\"PROD_XPROD\"].str.contains(pattern_freios)  & (df[\"PROD_VUNCOM\"] < 20000)"
      ]
    },
    {
      "cell_type": "code",
      "execution_count": null,
      "id": "f01fc725-a991-4e7e-8ed4-fa32cdebf203",
      "metadata": {
        "id": "f01fc725-a991-4e7e-8ed4-fa32cdebf203"
      },
      "outputs": [],
      "source": [
        "LABELS_2 = ['PROD_XPROD', 'CONTAGEM']"
      ]
    },
    {
      "cell_type": "code",
      "execution_count": null,
      "id": "5b0c35b1-8c6b-4674-a4ac-e8b79247d6f9",
      "metadata": {
        "id": "5b0c35b1-8c6b-4674-a4ac-e8b79247d6f9"
      },
      "outputs": [],
      "source": [
        "df_freios = df[MASK_FREIOS][LABELS_2]"
      ]
    },
    {
      "cell_type": "code",
      "execution_count": null,
      "id": "30494407-7281-4ca4-93ae-8d9d740d42fe",
      "metadata": {
        "id": "30494407-7281-4ca4-93ae-8d9d740d42fe",
        "outputId": "bc35e20b-111f-45b3-eb98-e546a119d2a4"
      },
      "outputs": [
        {
          "data": {
            "text/plain": [
              "2482"
            ]
          },
          "execution_count": 38,
          "metadata": {},
          "output_type": "execute_result"
        }
      ],
      "source": [
        "len(df[df[\"PROD_XPROD\"].str.contains(r'^(KIT|JOGO|JG)?([.\\s])?(FREIO|PD/82|CILINDRO MESTRE)')  & (df[\"PROD_VUNCOM\"] < 20000)][LABELS_2])"
      ]
    },
    {
      "cell_type": "code",
      "execution_count": null,
      "id": "ec8b6689-b035-4229-b60e-deec8dda8200",
      "metadata": {
        "tags": [],
        "id": "ec8b6689-b035-4229-b60e-deec8dda8200",
        "outputId": "7e59f833-837d-4823-d2d5-c1d1d9ad43e2"
      },
      "outputs": [
        {
          "data": {
            "text/html": [
              "<div>\n",
              "<style scoped>\n",
              "    .dataframe tbody tr th:only-of-type {\n",
              "        vertical-align: middle;\n",
              "    }\n",
              "\n",
              "    .dataframe tbody tr th {\n",
              "        vertical-align: top;\n",
              "    }\n",
              "\n",
              "    .dataframe thead th {\n",
              "        text-align: right;\n",
              "    }\n",
              "</style>\n",
              "<table border=\"1\" class=\"dataframe\">\n",
              "  <thead>\n",
              "    <tr style=\"text-align: right;\">\n",
              "      <th></th>\n",
              "      <th>PROD_XPROD</th>\n",
              "      <th>CONTAGEM</th>\n",
              "    </tr>\n",
              "  </thead>\n",
              "  <tbody>\n",
              "    <tr>\n",
              "      <th>0</th>\n",
              "      <td>C-2005 CILINDRO MESTRE S/RESERV - CTL</td>\n",
              "      <td>1</td>\n",
              "    </tr>\n",
              "    <tr>\n",
              "      <th>273290</th>\n",
              "      <td>(82001) CILINDRO MESTRE EMBREAGEM</td>\n",
              "      <td>1</td>\n",
              "    </tr>\n",
              "    <tr>\n",
              "      <th>273464</th>\n",
              "      <td>(C2096) CILINDRO MESTRE FREIO CLIO 1.0/1.6 99/06 ( S/ABS ) ( C2096 )</td>\n",
              "      <td>1</td>\n",
              "    </tr>\n",
              "    <tr>\n",
              "      <th>273540</th>\n",
              "      <td>CILINDRO MESTRE EMBREAGEM FH</td>\n",
              "      <td>1</td>\n",
              "    </tr>\n",
              "    <tr>\n",
              "      <th>273567</th>\n",
              "      <td>CILINDRO MESTRE EMBREAGEM</td>\n",
              "      <td>1</td>\n",
              "    </tr>\n",
              "    <tr>\n",
              "      <th>273746</th>\n",
              "      <td>VKCH 1503901 CILINDRO MESTRE SKF</td>\n",
              "      <td>1</td>\n",
              "    </tr>\n",
              "    <tr>\n",
              "      <th>274216</th>\n",
              "      <td>C-2073 CILINDRO MESTRE DUPLO S/RESERV - CTL</td>\n",
              "      <td>1</td>\n",
              "    </tr>\n",
              "    <tr>\n",
              "      <th>275042</th>\n",
              "      <td>C-2638 CILINDRO MESTRE EMBREAGEM - CTL</td>\n",
              "      <td>1</td>\n",
              "    </tr>\n",
              "    <tr>\n",
              "      <th>273279</th>\n",
              "      <td>(B02T270)CILINDRO MESTRE EMBREAGEM C/HASTE S/FORQUILHA</td>\n",
              "      <td>1</td>\n",
              "    </tr>\n",
              "    <tr>\n",
              "      <th>275145</th>\n",
              "      <td>RCCM27900 CILINDRO MESTRE S/RESERV - VAR</td>\n",
              "      <td>1</td>\n",
              "    </tr>\n",
              "    <tr>\n",
              "      <th>276009</th>\n",
              "      <td>400060 - CILINDRO MESTRE INF TITAN 150 -08 - EVOL</td>\n",
              "      <td>1</td>\n",
              "    </tr>\n",
              "    <tr>\n",
              "      <th>276303</th>\n",
              "      <td>CILINDRO MESTRE                          PMF918:009</td>\n",
              "      <td>1</td>\n",
              "    </tr>\n",
              "    <tr>\n",
              "      <th>277366</th>\n",
              "      <td>RESERVATORIO CILINDRO MESTRE</td>\n",
              "      <td>1</td>\n",
              "    </tr>\n",
              "    <tr>\n",
              "      <th>278243</th>\n",
              "      <td>C2058-CILINDRO MESTRE DUPLO DO FREIO</td>\n",
              "      <td>1</td>\n",
              "    </tr>\n",
              "    <tr>\n",
              "      <th>278648</th>\n",
              "      <td>CILINDRO MESTRE EMB VW16210/14210</td>\n",
              "      <td>1</td>\n",
              "    </tr>\n",
              "    <tr>\n",
              "      <th>278690</th>\n",
              "      <td>FREIO A DISCO ABSOLUTE HIDR. D/T G55A</td>\n",
              "      <td>1</td>\n",
              "    </tr>\n",
              "    <tr>\n",
              "      <th>279196</th>\n",
              "      <td>VKCH1503901 CILINDRO MESTRE DA EMBREAGEM BASE ST = 116.64 VLICM ST = 6.61 PC ICM ST = 17.00</td>\n",
              "      <td>1</td>\n",
              "    </tr>\n",
              "    <tr>\n",
              "      <th>275598</th>\n",
              "      <td>CILINDRO MESTRE EMBREAGEM</td>\n",
              "      <td>1</td>\n",
              "    </tr>\n",
              "    <tr>\n",
              "      <th>279465</th>\n",
              "      <td>CILINDRO MESTRE FREIO C/RESERVATORIO MANUAL 40MM</td>\n",
              "      <td>1</td>\n",
              "    </tr>\n",
              "    <tr>\n",
              "      <th>272918</th>\n",
              "      <td>CILINDRO MESTRE EMBREAGEM F4000/250/350 99/</td>\n",
              "      <td>1</td>\n",
              "    </tr>\n",
              "  </tbody>\n",
              "</table>\n",
              "</div>"
            ],
            "text/plain": [
              "                                                                                         PROD_XPROD  \\\n",
              "0                                                             C-2005 CILINDRO MESTRE S/RESERV - CTL   \n",
              "273290                                                            (82001) CILINDRO MESTRE EMBREAGEM   \n",
              "273464                         (C2096) CILINDRO MESTRE FREIO CLIO 1.0/1.6 99/06 ( S/ABS ) ( C2096 )   \n",
              "273540                                                                 CILINDRO MESTRE EMBREAGEM FH   \n",
              "273567                                                                    CILINDRO MESTRE EMBREAGEM   \n",
              "273746                                                             VKCH 1503901 CILINDRO MESTRE SKF   \n",
              "274216                                                  C-2073 CILINDRO MESTRE DUPLO S/RESERV - CTL   \n",
              "275042                                                       C-2638 CILINDRO MESTRE EMBREAGEM - CTL   \n",
              "273279                                       (B02T270)CILINDRO MESTRE EMBREAGEM C/HASTE S/FORQUILHA   \n",
              "275145                                                     RCCM27900 CILINDRO MESTRE S/RESERV - VAR   \n",
              "276009                                            400060 - CILINDRO MESTRE INF TITAN 150 -08 - EVOL   \n",
              "276303                                          CILINDRO MESTRE                          PMF918:009   \n",
              "277366                                                                 RESERVATORIO CILINDRO MESTRE   \n",
              "278243                                                         C2058-CILINDRO MESTRE DUPLO DO FREIO   \n",
              "278648                                                            CILINDRO MESTRE EMB VW16210/14210   \n",
              "278690                                                        FREIO A DISCO ABSOLUTE HIDR. D/T G55A   \n",
              "279196  VKCH1503901 CILINDRO MESTRE DA EMBREAGEM BASE ST = 116.64 VLICM ST = 6.61 PC ICM ST = 17.00   \n",
              "275598                                                                    CILINDRO MESTRE EMBREAGEM   \n",
              "279465                                             CILINDRO MESTRE FREIO C/RESERVATORIO MANUAL 40MM   \n",
              "272918                                                  CILINDRO MESTRE EMBREAGEM F4000/250/350 99/   \n",
              "\n",
              "        CONTAGEM  \n",
              "0              1  \n",
              "273290         1  \n",
              "273464         1  \n",
              "273540         1  \n",
              "273567         1  \n",
              "273746         1  \n",
              "274216         1  \n",
              "275042         1  \n",
              "273279         1  \n",
              "275145         1  \n",
              "276009         1  \n",
              "276303         1  \n",
              "277366         1  \n",
              "278243         1  \n",
              "278648         1  \n",
              "278690         1  \n",
              "279196         1  \n",
              "275598         1  \n",
              "279465         1  \n",
              "272918         1  "
            ]
          },
          "execution_count": 39,
          "metadata": {},
          "output_type": "execute_result"
        }
      ],
      "source": [
        "df_freios.sort_values(by='CONTAGEM', ascending=True).head(20)"
      ]
    },
    {
      "cell_type": "code",
      "execution_count": null,
      "id": "7eb18541-7e51-477a-ad5e-6dda70cad5a4",
      "metadata": {
        "tags": [],
        "id": "7eb18541-7e51-477a-ad5e-6dda70cad5a4"
      },
      "outputs": [],
      "source": [
        "df_freios['CODIGO_PRODUTO_SEFAZ'] = classif_dic['freios']"
      ]
    },
    {
      "cell_type": "code",
      "execution_count": null,
      "id": "f8324d9d-af89-44be-ae52-c6a593d49f81",
      "metadata": {
        "tags": [],
        "id": "f8324d9d-af89-44be-ae52-c6a593d49f81",
        "outputId": "97f006c1-df11-47cf-b602-bb2b584a3bca"
      },
      "outputs": [
        {
          "data": {
            "text/html": [
              "<div>\n",
              "<style scoped>\n",
              "    .dataframe tbody tr th:only-of-type {\n",
              "        vertical-align: middle;\n",
              "    }\n",
              "\n",
              "    .dataframe tbody tr th {\n",
              "        vertical-align: top;\n",
              "    }\n",
              "\n",
              "    .dataframe thead th {\n",
              "        text-align: right;\n",
              "    }\n",
              "</style>\n",
              "<table border=\"1\" class=\"dataframe\">\n",
              "  <thead>\n",
              "    <tr style=\"text-align: right;\">\n",
              "      <th></th>\n",
              "      <th>PROD_XPROD</th>\n",
              "      <th>CONTAGEM</th>\n",
              "      <th>CODIGO_PRODUTO_SEFAZ</th>\n",
              "    </tr>\n",
              "  </thead>\n",
              "  <tbody>\n",
              "    <tr>\n",
              "      <th>0</th>\n",
              "      <td>C-2005 CILINDRO MESTRE S/RESERV - CTL</td>\n",
              "      <td>1</td>\n",
              "      <td>10030447001</td>\n",
              "    </tr>\n",
              "    <tr>\n",
              "      <th>5</th>\n",
              "      <td>PD/82 _ PD/1788</td>\n",
              "      <td>157</td>\n",
              "      <td>10030447001</td>\n",
              "    </tr>\n",
              "    <tr>\n",
              "      <th>137</th>\n",
              "      <td>RCCE00700 CILINDRO MESTRE EMBREAGEM - VAR</td>\n",
              "      <td>1</td>\n",
              "      <td>10030447001</td>\n",
              "    </tr>\n",
              "    <tr>\n",
              "      <th>288</th>\n",
              "      <td>FREIO DISCO MEC, D/T, NERO, PTO, ROTOR</td>\n",
              "      <td>1</td>\n",
              "      <td>10030447001</td>\n",
              "    </tr>\n",
              "    <tr>\n",
              "      <th>342</th>\n",
              "      <td>FREIO DISCO HID DT/TS C/ROTOR 160MM</td>\n",
              "      <td>1</td>\n",
              "      <td>10030447001</td>\n",
              "    </tr>\n",
              "  </tbody>\n",
              "</table>\n",
              "</div>"
            ],
            "text/plain": [
              "                                    PROD_XPROD  CONTAGEM  CODIGO_PRODUTO_SEFAZ\n",
              "0        C-2005 CILINDRO MESTRE S/RESERV - CTL         1           10030447001\n",
              "5                              PD/82 _ PD/1788       157           10030447001\n",
              "137  RCCE00700 CILINDRO MESTRE EMBREAGEM - VAR         1           10030447001\n",
              "288     FREIO DISCO MEC, D/T, NERO, PTO, ROTOR         1           10030447001\n",
              "342        FREIO DISCO HID DT/TS C/ROTOR 160MM         1           10030447001"
            ]
          },
          "execution_count": 41,
          "metadata": {},
          "output_type": "execute_result"
        }
      ],
      "source": [
        "df_freios.head()"
      ]
    },
    {
      "cell_type": "code",
      "execution_count": null,
      "id": "4786a180-c6df-481b-86bf-88a58e36f55a",
      "metadata": {
        "id": "4786a180-c6df-481b-86bf-88a58e36f55a"
      },
      "outputs": [],
      "source": [
        "df_freios.to_csv('freios.csv')"
      ]
    },
    {
      "cell_type": "code",
      "execution_count": null,
      "id": "44beca48-2c7e-4581-ac3b-8238d1e5f378",
      "metadata": {
        "id": "44beca48-2c7e-4581-ac3b-8238d1e5f378"
      },
      "outputs": [],
      "source": [
        "df_freios.to_csv('labeled_cap87.csv')"
      ]
    },
    {
      "cell_type": "code",
      "execution_count": null,
      "id": "f141fac9-a851-47c5-9a04-2f6531268a93",
      "metadata": {
        "id": "f141fac9-a851-47c5-9a04-2f6531268a93"
      },
      "outputs": [],
      "source": [
        "# pattern_sist_freios = re.compile('freio')"
      ]
    },
    {
      "cell_type": "code",
      "execution_count": null,
      "id": "22110e7a-b185-468d-a82b-99242eee62f7",
      "metadata": {
        "id": "22110e7a-b185-468d-a82b-99242eee62f7"
      },
      "outputs": [],
      "source": [
        "# len(re.findall(r'freio', corpus_cap87, flags=re.IGNORECASE))"
      ]
    },
    {
      "cell_type": "markdown",
      "id": "ef8bd0f8-049b-4792-86a8-2b38d3d67607",
      "metadata": {
        "toc-hr-collapsed": true,
        "id": "ef8bd0f8-049b-4792-86a8-2b38d3d67607"
      },
      "source": [
        "##### Sistema de direção"
      ]
    },
    {
      "cell_type": "code",
      "execution_count": null,
      "id": "41bbb73e-e12c-41ce-b5db-eb2b3e948ba0",
      "metadata": {
        "id": "41bbb73e-e12c-41ce-b5db-eb2b3e948ba0"
      },
      "outputs": [],
      "source": [
        "de_direcao = ['volante', 'coluna', 'caixa', 'barra', 'terminal', 'manga']"
      ]
    },
    {
      "cell_type": "code",
      "execution_count": null,
      "id": "d6fe5990-2e46-48a0-8c78-8daafd31c8ab",
      "metadata": {
        "id": "d6fe5990-2e46-48a0-8c78-8daafd31c8ab"
      },
      "outputs": [],
      "source": [
        "pattern_direcao = 'DIRECAO'"
      ]
    },
    {
      "cell_type": "code",
      "execution_count": null,
      "id": "34f197fe-3870-4d68-b704-5ec438fcab8e",
      "metadata": {
        "id": "34f197fe-3870-4d68-b704-5ec438fcab8e"
      },
      "outputs": [],
      "source": [
        "MASK_DIRECAO = df[\"PROD_XPROD\"].str.contains(pattern_direcao, flags = re.IGNORECASE) & (df[\"PROD_VUNCOM\"] < 20000)"
      ]
    },
    {
      "cell_type": "code",
      "execution_count": null,
      "id": "343b2da0-475e-4a03-91e1-6a6f303cbc2b",
      "metadata": {
        "id": "343b2da0-475e-4a03-91e1-6a6f303cbc2b"
      },
      "outputs": [],
      "source": [
        "LABELS_2 = ['PROD_XPROD', 'CONTAGEM']"
      ]
    },
    {
      "cell_type": "code",
      "execution_count": null,
      "id": "a4173b24-ac18-43ec-8c16-448aee75fe4e",
      "metadata": {
        "id": "a4173b24-ac18-43ec-8c16-448aee75fe4e"
      },
      "outputs": [],
      "source": [
        "df_direcao = df[MASK_DIRECAO][LABELS_2]"
      ]
    },
    {
      "cell_type": "code",
      "execution_count": null,
      "id": "bcb85cf0-f532-4a92-a3b1-6aa8ffd63ca3",
      "metadata": {
        "tags": [],
        "id": "bcb85cf0-f532-4a92-a3b1-6aa8ffd63ca3",
        "outputId": "c3303fb0-0fb7-4ba0-cdb3-55ad10bcb0e5"
      },
      "outputs": [
        {
          "data": {
            "text/html": [
              "<div>\n",
              "<style scoped>\n",
              "    .dataframe tbody tr th:only-of-type {\n",
              "        vertical-align: middle;\n",
              "    }\n",
              "\n",
              "    .dataframe tbody tr th {\n",
              "        vertical-align: top;\n",
              "    }\n",
              "\n",
              "    .dataframe thead th {\n",
              "        text-align: right;\n",
              "    }\n",
              "</style>\n",
              "<table border=\"1\" class=\"dataframe\">\n",
              "  <thead>\n",
              "    <tr style=\"text-align: right;\">\n",
              "      <th></th>\n",
              "      <th>PROD_XPROD</th>\n",
              "      <th>CONTAGEM</th>\n",
              "    </tr>\n",
              "  </thead>\n",
              "  <tbody>\n",
              "    <tr>\n",
              "      <th>499475</th>\n",
              "      <td>TERMINAL DIRECAO LE DUSTER 2011/...</td>\n",
              "      <td>3</td>\n",
              "    </tr>\n",
              "    <tr>\n",
              "      <th>499479</th>\n",
              "      <td>N 374 TERMINAL DIRECAO - NAK</td>\n",
              "      <td>1</td>\n",
              "    </tr>\n",
              "    <tr>\n",
              "      <th>499508</th>\n",
              "      <td>TERMINAL DIRECAO L/D IX35/SPORTAGE 10/...</td>\n",
              "      <td>2</td>\n",
              "    </tr>\n",
              "    <tr>\n",
              "      <th>499547</th>\n",
              "      <td>VKY 6190 - TERMINAL DE DIRECAO ESQUERDO</td>\n",
              "      <td>2</td>\n",
              "    </tr>\n",
              "    <tr>\n",
              "      <th>499632</th>\n",
              "      <td>382130 - JOGO CAIXA DIRECAO FACTOR 09-FAZER150 - SIVERST</td>\n",
              "      <td>1</td>\n",
              "    </tr>\n",
              "    <tr>\n",
              "      <th>499675</th>\n",
              "      <td>TERMINAL DIRECAO LD MB1620/1935/38/41/45/2638/IVECO LD</td>\n",
              "      <td>4</td>\n",
              "    </tr>\n",
              "    <tr>\n",
              "      <th>499692</th>\n",
              "      <td>N 96037 TERMINAL DIRECAO - NAK</td>\n",
              "      <td>3</td>\n",
              "    </tr>\n",
              "    <tr>\n",
              "      <th>499698</th>\n",
              "      <td>BARRA DE DIRECAO CURTA</td>\n",
              "      <td>21</td>\n",
              "    </tr>\n",
              "    <tr>\n",
              "      <th>499702</th>\n",
              "      <td>BRAcO DO EIXO CENTRAL DE DIREcaO</td>\n",
              "      <td>2</td>\n",
              "    </tr>\n",
              "    <tr>\n",
              "      <th>499736</th>\n",
              "      <td>TERMINAL DIRECAO UNO TDS/TEMPRA 92/99</td>\n",
              "      <td>1</td>\n",
              "    </tr>\n",
              "    <tr>\n",
              "      <th>499742</th>\n",
              "      <td>BARRA DIRECAO LONGA AXOR 2035/2831/3344</td>\n",
              "      <td>4</td>\n",
              "    </tr>\n",
              "    <tr>\n",
              "      <th>499771</th>\n",
              "      <td>TERMINAL DE DIRECAO LD</td>\n",
              "      <td>2</td>\n",
              "    </tr>\n",
              "    <tr>\n",
              "      <th>499779</th>\n",
              "      <td>TRAVA DE DIRECAO UNO/MILLE/ELBA/PREMIO/FIORINO&lt;03</td>\n",
              "      <td>1</td>\n",
              "    </tr>\n",
              "    <tr>\n",
              "      <th>499798</th>\n",
              "      <td>CAIXA DIRECAO HIDRAULICA</td>\n",
              "      <td>1</td>\n",
              "    </tr>\n",
              "    <tr>\n",
              "      <th>499808</th>\n",
              "      <td>CONJ BARRA DE DIRECAO F250 4X4 06/12</td>\n",
              "      <td>1</td>\n",
              "    </tr>\n",
              "    <tr>\n",
              "      <th>499903</th>\n",
              "      <td>TERM.DIRECAO HILUX PICK-UP 16/... O.C.: 1172</td>\n",
              "      <td>1</td>\n",
              "    </tr>\n",
              "    <tr>\n",
              "      <th>499916</th>\n",
              "      <td>TERMINAL DE DIRECAO EXT. / 17882</td>\n",
              "      <td>8</td>\n",
              "    </tr>\n",
              "    <tr>\n",
              "      <th>499945</th>\n",
              "      <td>LEMFOERDER TERMINAL DE DIRECAO COMPOSTO EM ACO APLICADO EM SISTEMAS DE DIRECAO DE VEICULO COMERCIAL</td>\n",
              "      <td>4</td>\n",
              "    </tr>\n",
              "    <tr>\n",
              "      <th>499976</th>\n",
              "      <td>KIT BUCHAS CAIXA DE DIRECAO CORSA</td>\n",
              "      <td>3</td>\n",
              "    </tr>\n",
              "    <tr>\n",
              "      <th>499993</th>\n",
              "      <td>FIRST 11005 TERMINAL   DE DIRECAO  OV: 2413893</td>\n",
              "      <td>1</td>\n",
              "    </tr>\n",
              "  </tbody>\n",
              "</table>\n",
              "</div>"
            ],
            "text/plain": [
              "                                                                                                 PROD_XPROD  \\\n",
              "499475                                                                  TERMINAL DIRECAO LE DUSTER 2011/...   \n",
              "499479                                                                         N 374 TERMINAL DIRECAO - NAK   \n",
              "499508                                                            TERMINAL DIRECAO L/D IX35/SPORTAGE 10/...   \n",
              "499547                                                              VKY 6190 - TERMINAL DE DIRECAO ESQUERDO   \n",
              "499632                                             382130 - JOGO CAIXA DIRECAO FACTOR 09-FAZER150 - SIVERST   \n",
              "499675                                               TERMINAL DIRECAO LD MB1620/1935/38/41/45/2638/IVECO LD   \n",
              "499692                                                                       N 96037 TERMINAL DIRECAO - NAK   \n",
              "499698                                                                               BARRA DE DIRECAO CURTA   \n",
              "499702                                                                     BRAcO DO EIXO CENTRAL DE DIREcaO   \n",
              "499736                                                                TERMINAL DIRECAO UNO TDS/TEMPRA 92/99   \n",
              "499742                                                              BARRA DIRECAO LONGA AXOR 2035/2831/3344   \n",
              "499771                                                                               TERMINAL DE DIRECAO LD   \n",
              "499779                                                    TRAVA DE DIRECAO UNO/MILLE/ELBA/PREMIO/FIORINO<03   \n",
              "499798                                                                             CAIXA DIRECAO HIDRAULICA   \n",
              "499808                                                                 CONJ BARRA DE DIRECAO F250 4X4 06/12   \n",
              "499903                                                         TERM.DIRECAO HILUX PICK-UP 16/... O.C.: 1172   \n",
              "499916                                                                     TERMINAL DE DIRECAO EXT. / 17882   \n",
              "499945  LEMFOERDER TERMINAL DE DIRECAO COMPOSTO EM ACO APLICADO EM SISTEMAS DE DIRECAO DE VEICULO COMERCIAL   \n",
              "499976                                                                    KIT BUCHAS CAIXA DE DIRECAO CORSA   \n",
              "499993                                                       FIRST 11005 TERMINAL   DE DIRECAO  OV: 2413893   \n",
              "\n",
              "        CONTAGEM  \n",
              "499475         3  \n",
              "499479         1  \n",
              "499508         2  \n",
              "499547         2  \n",
              "499632         1  \n",
              "499675         4  \n",
              "499692         3  \n",
              "499698        21  \n",
              "499702         2  \n",
              "499736         1  \n",
              "499742         4  \n",
              "499771         2  \n",
              "499779         1  \n",
              "499798         1  \n",
              "499808         1  \n",
              "499903         1  \n",
              "499916         8  \n",
              "499945         4  \n",
              "499976         3  \n",
              "499993         1  "
            ]
          },
          "execution_count": 51,
          "metadata": {},
          "output_type": "execute_result"
        }
      ],
      "source": [
        "df_direcao.tail(20)"
      ]
    },
    {
      "cell_type": "code",
      "execution_count": null,
      "id": "a45cc807-3be3-4fce-b10e-6ab668d34426",
      "metadata": {
        "id": "a45cc807-3be3-4fce-b10e-6ab668d34426"
      },
      "outputs": [],
      "source": [
        "df_direcao['CODIGO_PRODUTO_SEFAZ'] = classif_dic['direcao']"
      ]
    },
    {
      "cell_type": "code",
      "execution_count": null,
      "id": "34b8e677-b4ae-492a-a785-4683fd4e5e15",
      "metadata": {
        "tags": [],
        "id": "34b8e677-b4ae-492a-a785-4683fd4e5e15",
        "outputId": "538439c4-95e5-4f5c-d911-e240da632637"
      },
      "outputs": [
        {
          "data": {
            "text/html": [
              "<div>\n",
              "<style scoped>\n",
              "    .dataframe tbody tr th:only-of-type {\n",
              "        vertical-align: middle;\n",
              "    }\n",
              "\n",
              "    .dataframe tbody tr th {\n",
              "        vertical-align: top;\n",
              "    }\n",
              "\n",
              "    .dataframe thead th {\n",
              "        text-align: right;\n",
              "    }\n",
              "</style>\n",
              "<table border=\"1\" class=\"dataframe\">\n",
              "  <thead>\n",
              "    <tr style=\"text-align: right;\">\n",
              "      <th></th>\n",
              "      <th>PROD_XPROD</th>\n",
              "      <th>CONTAGEM</th>\n",
              "      <th>CODIGO_PRODUTO_SEFAZ</th>\n",
              "    </tr>\n",
              "  </thead>\n",
              "  <tbody>\n",
              "    <tr>\n",
              "      <th>11</th>\n",
              "      <td>AXIAL DE DIRECAO</td>\n",
              "      <td>6</td>\n",
              "      <td>10030447002</td>\n",
              "    </tr>\n",
              "    <tr>\n",
              "      <th>12</th>\n",
              "      <td>AXIAL DE DIRECAO</td>\n",
              "      <td>2</td>\n",
              "      <td>10030447002</td>\n",
              "    </tr>\n",
              "    <tr>\n",
              "      <th>17</th>\n",
              "      <td>TERMINAL DE DIRECAO LD/ LE</td>\n",
              "      <td>16</td>\n",
              "      <td>10030447002</td>\n",
              "    </tr>\n",
              "    <tr>\n",
              "      <th>18</th>\n",
              "      <td>AXIAL DE DIRECAO</td>\n",
              "      <td>2</td>\n",
              "      <td>10030447002</td>\n",
              "    </tr>\n",
              "    <tr>\n",
              "      <th>55</th>\n",
              "      <td>N 97000 TERMINAL DIRECAO - NAK</td>\n",
              "      <td>4</td>\n",
              "      <td>10030447002</td>\n",
              "    </tr>\n",
              "  </tbody>\n",
              "</table>\n",
              "</div>"
            ],
            "text/plain": [
              "                        PROD_XPROD  CONTAGEM  CODIGO_PRODUTO_SEFAZ\n",
              "11                AXIAL DE DIRECAO         6           10030447002\n",
              "12                AXIAL DE DIRECAO         2           10030447002\n",
              "17      TERMINAL DE DIRECAO LD/ LE        16           10030447002\n",
              "18                AXIAL DE DIRECAO         2           10030447002\n",
              "55  N 97000 TERMINAL DIRECAO - NAK         4           10030447002"
            ]
          },
          "execution_count": 53,
          "metadata": {},
          "output_type": "execute_result"
        }
      ],
      "source": [
        "df_direcao.head()"
      ]
    },
    {
      "cell_type": "code",
      "execution_count": null,
      "id": "ec5b29dc-4b6d-4e79-8377-0b2bc6d1cba0",
      "metadata": {
        "id": "ec5b29dc-4b6d-4e79-8377-0b2bc6d1cba0"
      },
      "outputs": [],
      "source": [
        "df_direcao.to_csv('direcao.csv', header=False, mode='a')"
      ]
    },
    {
      "cell_type": "code",
      "execution_count": null,
      "id": "2cd51499-ccc6-4d9f-8287-bfd652aa7825",
      "metadata": {
        "tags": [],
        "id": "2cd51499-ccc6-4d9f-8287-bfd652aa7825",
        "outputId": "19d1dd09-3d84-4d24-b38e-b5d9cc0251de"
      },
      "outputs": [
        {
          "data": {
            "text/plain": [
              "<function pandas.core.generic.NDFrame.to_csv(self, path_or_buf: 'FilePathOrBuffer[AnyStr] | None' = None, sep: 'str' = ',', na_rep: 'str' = '', float_format: 'str | None' = None, columns: 'Sequence[Hashable] | None' = None, header: 'bool_t | list[str]' = True, index: 'bool_t' = True, index_label: 'IndexLabel | None' = None, mode: 'str' = 'w', encoding: 'str | None' = None, compression: 'CompressionOptions' = 'infer', quoting: 'int | None' = None, quotechar: 'str' = '\"', line_terminator: 'str | None' = None, chunksize: 'int | None' = None, date_format: 'str | None' = None, doublequote: 'bool_t' = True, escapechar: 'str | None' = None, decimal: 'str' = '.', errors: 'str' = 'strict', storage_options: 'StorageOptions' = None) -> 'str | None'>"
            ]
          },
          "execution_count": 55,
          "metadata": {},
          "output_type": "execute_result"
        }
      ],
      "source": [
        "pd.DataFrame.to_csv"
      ]
    },
    {
      "cell_type": "code",
      "execution_count": null,
      "id": "c61ce65e-c84a-4cc4-8be1-114d60553fbc",
      "metadata": {
        "id": "c61ce65e-c84a-4cc4-8be1-114d60553fbc"
      },
      "outputs": [],
      "source": [
        "df_direcao.to_csv('labeled_cap87.csv', header=False, mode='a')"
      ]
    },
    {
      "cell_type": "markdown",
      "id": "24598023-1a99-45ad-8dec-8d54b05e5c92",
      "metadata": {
        "id": "24598023-1a99-45ad-8dec-8d54b05e5c92"
      },
      "source": [
        "##### Sistema de transmissão"
      ]
    },
    {
      "cell_type": "code",
      "execution_count": null,
      "id": "d4a8f48d-400c-478f-a63b-c9cb282528f7",
      "metadata": {
        "id": "d4a8f48d-400c-478f-a63b-c9cb282528f7"
      },
      "outputs": [],
      "source": [
        "pattern_transmissao = r'^(KIT|JOGO|JG)?([.\\s])?(CUBO*.RODA|EMBR|HOMOC|(\\bTRAN[S.]?\\b|\\bTRANSM[.\\s].*))'"
      ]
    },
    {
      "cell_type": "code",
      "execution_count": null,
      "id": "eff668c8-c6a0-4e67-93a7-a89ad2c2cc76",
      "metadata": {
        "tags": [],
        "id": "eff668c8-c6a0-4e67-93a7-a89ad2c2cc76"
      },
      "outputs": [],
      "source": [
        "MASK_TRANSMISSAO = df[\"PROD_XPROD\"].str.contains(pattern_transmissao, flags = re.IGNORECASE) & (df[\"PROD_VUNCOM\"] < 20000)"
      ]
    },
    {
      "cell_type": "code",
      "execution_count": null,
      "id": "20f1f7c1-0ef5-46e1-bea1-06e3eb5667bf",
      "metadata": {
        "id": "20f1f7c1-0ef5-46e1-bea1-06e3eb5667bf",
        "outputId": "f9cc4a3b-5e50-4d78-ee68-169e68a6fd98"
      },
      "outputs": [
        {
          "data": {
            "text/plain": [
              "4080"
            ]
          },
          "execution_count": 59,
          "metadata": {},
          "output_type": "execute_result"
        }
      ],
      "source": [
        "len(df[df[\"PROD_XPROD\"].str.contains(r'^(KIT|JOGO|JG)?([.\\s])?(CUBO*.RODA|EMBR|HOMOC|(\\bTRAN[S.]?\\b|\\bTRANSM[.\\s].*))') & (df[\"PROD_VUNCOM\"] < 20000)])"
      ]
    },
    {
      "cell_type": "code",
      "execution_count": null,
      "id": "895a4fc9-0f5a-4d54-a5dc-0d265c2a910f",
      "metadata": {
        "id": "895a4fc9-0f5a-4d54-a5dc-0d265c2a910f",
        "outputId": "e37411e2-83a9-4af9-9c1b-23b2381a98b9"
      },
      "outputs": [
        {
          "data": {
            "text/html": [
              "<div>\n",
              "<style scoped>\n",
              "    .dataframe tbody tr th:only-of-type {\n",
              "        vertical-align: middle;\n",
              "    }\n",
              "\n",
              "    .dataframe tbody tr th {\n",
              "        vertical-align: top;\n",
              "    }\n",
              "\n",
              "    .dataframe thead th {\n",
              "        text-align: right;\n",
              "    }\n",
              "</style>\n",
              "<table border=\"1\" class=\"dataframe\">\n",
              "  <thead>\n",
              "    <tr style=\"text-align: right;\">\n",
              "      <th></th>\n",
              "      <th>PROD_XPROD</th>\n",
              "      <th>PROD_NCM</th>\n",
              "      <th>PROD_VUNCOM</th>\n",
              "      <th>CONTAGEM</th>\n",
              "      <th>NCM_POSICAO</th>\n",
              "      <th>IMPORTANCIA</th>\n",
              "      <th>POSICAO_NCM</th>\n",
              "    </tr>\n",
              "  </thead>\n",
              "  <tbody>\n",
              "    <tr>\n",
              "      <th>498975</th>\n",
              "      <td>KIT HOMOCINETICO LADO CAMBIO ;SUSPENSAO</td>\n",
              "      <td>87088000</td>\n",
              "      <td>11.40</td>\n",
              "      <td>3</td>\n",
              "      <td>8708</td>\n",
              "      <td>34.20</td>\n",
              "      <td>8708</td>\n",
              "    </tr>\n",
              "    <tr>\n",
              "      <th>499209</th>\n",
              "      <td>KIT EMBR KA/FIESTA/CO 1.0/1.6 05/12 C/ATUADOR</td>\n",
              "      <td>87089300</td>\n",
              "      <td>446.00</td>\n",
              "      <td>1</td>\n",
              "      <td>8708</td>\n",
              "      <td>446.00</td>\n",
              "      <td>8708</td>\n",
              "    </tr>\n",
              "    <tr>\n",
              "      <th>499292</th>\n",
              "      <td>KIT EMBREAGEM                            6203044000</td>\n",
              "      <td>87089300</td>\n",
              "      <td>184.36</td>\n",
              "      <td>2</td>\n",
              "      <td>8708</td>\n",
              "      <td>368.72</td>\n",
              "      <td>8708</td>\n",
              "    </tr>\n",
              "    <tr>\n",
              "      <th>499563</th>\n",
              "      <td>KIT TRANSM TITAN 150/FAN 150 - RIFFEL</td>\n",
              "      <td>87141000</td>\n",
              "      <td>75.00</td>\n",
              "      <td>3</td>\n",
              "      <td>8714</td>\n",
              "      <td>225.00</td>\n",
              "      <td>8714</td>\n",
              "    </tr>\n",
              "    <tr>\n",
              "      <th>499979</th>\n",
              "      <td>JG.EMBREAG</td>\n",
              "      <td>87089300</td>\n",
              "      <td>4577.50</td>\n",
              "      <td>3</td>\n",
              "      <td>8708</td>\n",
              "      <td>13732.50</td>\n",
              "      <td>8708</td>\n",
              "    </tr>\n",
              "  </tbody>\n",
              "</table>\n",
              "</div>"
            ],
            "text/plain": [
              "                                                 PROD_XPROD  PROD_NCM  \\\n",
              "498975              KIT HOMOCINETICO LADO CAMBIO ;SUSPENSAO  87088000   \n",
              "499209        KIT EMBR KA/FIESTA/CO 1.0/1.6 05/12 C/ATUADOR  87089300   \n",
              "499292  KIT EMBREAGEM                            6203044000  87089300   \n",
              "499563                KIT TRANSM TITAN 150/FAN 150 - RIFFEL  87141000   \n",
              "499979                                           JG.EMBREAG  87089300   \n",
              "\n",
              "        PROD_VUNCOM  CONTAGEM NCM_POSICAO  IMPORTANCIA POSICAO_NCM  \n",
              "498975        11.40         3        8708        34.20        8708  \n",
              "499209       446.00         1        8708       446.00        8708  \n",
              "499292       184.36         2        8708       368.72        8708  \n",
              "499563        75.00         3        8714       225.00        8714  \n",
              "499979      4577.50         3        8708     13732.50        8708  "
            ]
          },
          "execution_count": 60,
          "metadata": {},
          "output_type": "execute_result"
        }
      ],
      "source": [
        "df[df[\"PROD_XPROD\"].str.contains(r'^(KIT|JOGO|JG)([.\\s])?(CUBO*.RODA|EMBR|HOMOC|(\\bTRAN[S.]?\\b|\\bTRANSM[.\\s].*))') & (df[\"PROD_VUNCOM\"] < 20000)].tail()"
      ]
    },
    {
      "cell_type": "code",
      "execution_count": null,
      "id": "cfd1ab93-728f-4b69-8b45-1249c49c7577",
      "metadata": {
        "id": "cfd1ab93-728f-4b69-8b45-1249c49c7577"
      },
      "outputs": [],
      "source": [
        "df_transmissao = df[MASK_TRANSMISSAO][LABELS_2]"
      ]
    },
    {
      "cell_type": "code",
      "execution_count": null,
      "id": "32349da0-978d-4bae-aba4-1f9d7eb1a636",
      "metadata": {
        "tags": [],
        "id": "32349da0-978d-4bae-aba4-1f9d7eb1a636",
        "outputId": "05e0595b-9b2e-4c8f-bf51-384d4c7033b0"
      },
      "outputs": [
        {
          "data": {
            "text/plain": [
              "CONTAGEM    82\n",
              "dtype: int64"
            ]
          },
          "execution_count": 62,
          "metadata": {},
          "output_type": "execute_result"
        }
      ],
      "source": [
        "df_transmissao[LABELS_2].head().agg({'CONTAGEM':np.sum})"
      ]
    },
    {
      "cell_type": "code",
      "execution_count": null,
      "id": "21a00ee2-7553-428a-af1e-58e1e521c709",
      "metadata": {
        "id": "21a00ee2-7553-428a-af1e-58e1e521c709",
        "outputId": "48cb3324-226a-4df8-89c7-9387b5a761e6"
      },
      "outputs": [
        {
          "data": {
            "text/plain": [
              "CONTAGEM    46318\n",
              "dtype: int64"
            ]
          },
          "execution_count": 63,
          "metadata": {},
          "output_type": "execute_result"
        }
      ],
      "source": [
        "df[df[\"PROD_XPROD\"].str.contains(\"\\WTRAN[S.][^P]\", regex=True)][LABELS_2].agg({'CONTAGEM':np.sum})"
      ]
    },
    {
      "cell_type": "code",
      "execution_count": null,
      "id": "b62b28ae-79fe-4cf4-96ef-7694d57a37f1",
      "metadata": {
        "id": "b62b28ae-79fe-4cf4-96ef-7694d57a37f1",
        "outputId": "ba26cf2e-b65a-4455-e5a1-bdb74023b612"
      },
      "outputs": [
        {
          "data": {
            "text/plain": [
              "CONTAGEM    11536\n",
              "dtype: int64"
            ]
          },
          "execution_count": 64,
          "metadata": {},
          "output_type": "execute_result"
        }
      ],
      "source": [
        "df[df[\"PROD_XPROD\"].str.contains( r\"(\\bTRAN[S.]?\\b|\\bTRANSM[.\\s].*)\", regex=True)][LABELS_2].agg({'CONTAGEM' : np.sum})"
      ]
    },
    {
      "cell_type": "code",
      "execution_count": null,
      "id": "c1aa27ac-8188-40bb-9976-e1800ab17145",
      "metadata": {
        "id": "c1aa27ac-8188-40bb-9976-e1800ab17145"
      },
      "outputs": [],
      "source": [
        "df_transmissao['CODIGO_PRODUTO_SEFAZ'] = classif_dic['transmissao']"
      ]
    },
    {
      "cell_type": "code",
      "execution_count": null,
      "id": "3cbb9c83-c829-4330-bdca-b3070c7847ba",
      "metadata": {
        "id": "3cbb9c83-c829-4330-bdca-b3070c7847ba",
        "outputId": "b5c9c05a-cd08-40c8-bb77-f184426168d7"
      },
      "outputs": [
        {
          "data": {
            "text/html": [
              "<div>\n",
              "<style scoped>\n",
              "    .dataframe tbody tr th:only-of-type {\n",
              "        vertical-align: middle;\n",
              "    }\n",
              "\n",
              "    .dataframe tbody tr th {\n",
              "        vertical-align: top;\n",
              "    }\n",
              "\n",
              "    .dataframe thead th {\n",
              "        text-align: right;\n",
              "    }\n",
              "</style>\n",
              "<table border=\"1\" class=\"dataframe\">\n",
              "  <thead>\n",
              "    <tr style=\"text-align: right;\">\n",
              "      <th></th>\n",
              "      <th>PROD_XPROD</th>\n",
              "      <th>CONTAGEM</th>\n",
              "      <th>CODIGO_PRODUTO_SEFAZ</th>\n",
              "    </tr>\n",
              "  </thead>\n",
              "  <tbody>\n",
              "    <tr>\n",
              "      <th>248</th>\n",
              "      <td>EMBREAGEM COMPLETA GP7 NX 400</td>\n",
              "      <td>1</td>\n",
              "      <td>10030447003</td>\n",
              "    </tr>\n",
              "    <tr>\n",
              "      <th>371</th>\n",
              "      <td>EMBREAGEM MAGNETICA HELICE AXOR 2036/2536/2644 OM</td>\n",
              "      <td>4</td>\n",
              "      <td>10030447003</td>\n",
              "    </tr>\n",
              "    <tr>\n",
              "      <th>531</th>\n",
              "      <td>KIT EMBREAGEM CAMINHAO MB ATRON 2729 RECONDICIONADO</td>\n",
              "      <td>26</td>\n",
              "      <td>10030447003</td>\n",
              "    </tr>\n",
              "    <tr>\n",
              "      <th>643</th>\n",
              "      <td>KIT TRANS. WR ACO 1045 BIZ125 2005/</td>\n",
              "      <td>19</td>\n",
              "      <td>10030447003</td>\n",
              "    </tr>\n",
              "    <tr>\n",
              "      <th>854</th>\n",
              "      <td>CUBO RODA DIANTEIRA S/ABS</td>\n",
              "      <td>32</td>\n",
              "      <td>10030447003</td>\n",
              "    </tr>\n",
              "  </tbody>\n",
              "</table>\n",
              "</div>"
            ],
            "text/plain": [
              "                                              PROD_XPROD  CONTAGEM  \\\n",
              "248                        EMBREAGEM COMPLETA GP7 NX 400         1   \n",
              "371    EMBREAGEM MAGNETICA HELICE AXOR 2036/2536/2644 OM         4   \n",
              "531  KIT EMBREAGEM CAMINHAO MB ATRON 2729 RECONDICIONADO        26   \n",
              "643                  KIT TRANS. WR ACO 1045 BIZ125 2005/        19   \n",
              "854                            CUBO RODA DIANTEIRA S/ABS        32   \n",
              "\n",
              "     CODIGO_PRODUTO_SEFAZ  \n",
              "248           10030447003  \n",
              "371           10030447003  \n",
              "531           10030447003  \n",
              "643           10030447003  \n",
              "854           10030447003  "
            ]
          },
          "execution_count": 66,
          "metadata": {},
          "output_type": "execute_result"
        }
      ],
      "source": [
        "df_transmissao.head()"
      ]
    },
    {
      "cell_type": "code",
      "execution_count": null,
      "id": "8dd56254-26fc-4d66-bfc0-8a1711cf0721",
      "metadata": {
        "id": "8dd56254-26fc-4d66-bfc0-8a1711cf0721",
        "outputId": "ab84447a-0e62-4532-f0f3-87001d7637cb"
      },
      "outputs": [
        {
          "data": {
            "text/plain": [
              "CONTAGEM    27531\n",
              "dtype: int64"
            ]
          },
          "execution_count": 67,
          "metadata": {},
          "output_type": "execute_result"
        }
      ],
      "source": [
        "df_transmissao.agg({'CONTAGEM':np.sum})"
      ]
    },
    {
      "cell_type": "code",
      "execution_count": null,
      "id": "3d83b3ba-cd7a-4e1a-8044-7f64cd921888",
      "metadata": {
        "id": "3d83b3ba-cd7a-4e1a-8044-7f64cd921888"
      },
      "outputs": [],
      "source": [
        "df_transmissao.to_csv('transmissao.csv', header=False, mode='a')"
      ]
    },
    {
      "cell_type": "markdown",
      "id": "852f794d-2fab-48d2-a977-540e83b4d76e",
      "metadata": {
        "toc-hr-collapsed": true,
        "id": "852f794d-2fab-48d2-a977-540e83b4d76e"
      },
      "source": [
        "##### Sistema de suspensão"
      ]
    },
    {
      "cell_type": "code",
      "execution_count": null,
      "id": "c6271850-481f-4f72-8edf-4f7c5eeacd23",
      "metadata": {
        "id": "c6271850-481f-4f72-8edf-4f7c5eeacd23"
      },
      "outputs": [],
      "source": [
        "suspensao = ['AMORTECEDOR', 'MOLA', 'BARRA ESTABILIZADORA', 'BRAÇO TRIANGULAR']"
      ]
    },
    {
      "cell_type": "code",
      "execution_count": null,
      "id": "a4cb2e17-2ea7-43fc-bc44-741a961d0f5f",
      "metadata": {
        "tags": [],
        "id": "a4cb2e17-2ea7-43fc-bc44-741a961d0f5f"
      },
      "outputs": [],
      "source": [
        "pattern_suspensao = '^SUSP|AMORT|BARRA ESTAB'"
      ]
    },
    {
      "cell_type": "code",
      "execution_count": null,
      "id": "e581fae3-3852-47a2-bb6f-4779390bd792",
      "metadata": {
        "id": "e581fae3-3852-47a2-bb6f-4779390bd792"
      },
      "outputs": [],
      "source": [
        "MASK_SUSPENSAO = df[\"PROD_XPROD\"].str.contains(pattern_suspensao, flags = re.IGNORECASE)"
      ]
    },
    {
      "cell_type": "code",
      "execution_count": null,
      "id": "4dcad536-9953-4e35-8985-9a61b8ff7417",
      "metadata": {
        "id": "4dcad536-9953-4e35-8985-9a61b8ff7417"
      },
      "outputs": [],
      "source": [
        "LABELS_2 = ['PROD_XPROD', 'CONTAGEM']"
      ]
    },
    {
      "cell_type": "code",
      "execution_count": null,
      "id": "bca29fb8-e7d0-4299-a516-ca6816909d83",
      "metadata": {
        "id": "bca29fb8-e7d0-4299-a516-ca6816909d83"
      },
      "outputs": [],
      "source": [
        "df_suspensao = df[MASK_SUSPENSAO][LABELS_2]"
      ]
    },
    {
      "cell_type": "code",
      "execution_count": null,
      "id": "e0ad8f76-7a77-4795-bb6a-4f3d819346a5",
      "metadata": {
        "id": "e0ad8f76-7a77-4795-bb6a-4f3d819346a5",
        "outputId": "43c3cc5f-94f1-4c74-f5f6-d1a0edd99bcb"
      },
      "outputs": [
        {
          "data": {
            "text/html": [
              "<div>\n",
              "<style scoped>\n",
              "    .dataframe tbody tr th:only-of-type {\n",
              "        vertical-align: middle;\n",
              "    }\n",
              "\n",
              "    .dataframe tbody tr th {\n",
              "        vertical-align: top;\n",
              "    }\n",
              "\n",
              "    .dataframe thead th {\n",
              "        text-align: right;\n",
              "    }\n",
              "</style>\n",
              "<table border=\"1\" class=\"dataframe\">\n",
              "  <thead>\n",
              "    <tr style=\"text-align: right;\">\n",
              "      <th></th>\n",
              "      <th>PROD_XPROD</th>\n",
              "      <th>CONTAGEM</th>\n",
              "    </tr>\n",
              "  </thead>\n",
              "  <tbody>\n",
              "    <tr>\n",
              "      <th>43</th>\n",
              "      <td>345 240 71 25 - BARRA ESTAB COMPL N504 280X16X1 5MM</td>\n",
              "      <td>1</td>\n",
              "    </tr>\n",
              "    <tr>\n",
              "      <th>46</th>\n",
              "      <td>AM DE GM COBALT - AMORTECEDOR DE SUSPENSAO</td>\n",
              "      <td>1</td>\n",
              "    </tr>\n",
              "    <tr>\n",
              "      <th>50</th>\n",
              "      <td>SE 31143 AMORTECEDOR TRAS - NAK</td>\n",
              "      <td>1</td>\n",
              "    </tr>\n",
              "    <tr>\n",
              "      <th>56</th>\n",
              "      <td>AMORTECEDOR ESTRUTURA A GAS EX_TIPI = 01</td>\n",
              "      <td>52</td>\n",
              "    </tr>\n",
              "    <tr>\n",
              "      <th>65</th>\n",
              "      <td>AMORTECEDOR PARATI GII GIII GIV 1995- 15/CX</td>\n",
              "      <td>10</td>\n",
              "    </tr>\n",
              "  </tbody>\n",
              "</table>\n",
              "</div>"
            ],
            "text/plain": [
              "                                             PROD_XPROD  CONTAGEM\n",
              "43  345 240 71 25 - BARRA ESTAB COMPL N504 280X16X1 5MM         1\n",
              "46           AM DE GM COBALT - AMORTECEDOR DE SUSPENSAO         1\n",
              "50                      SE 31143 AMORTECEDOR TRAS - NAK         1\n",
              "56             AMORTECEDOR ESTRUTURA A GAS EX_TIPI = 01        52\n",
              "65          AMORTECEDOR PARATI GII GIII GIV 1995- 15/CX        10"
            ]
          },
          "execution_count": 74,
          "metadata": {},
          "output_type": "execute_result"
        }
      ],
      "source": [
        "df_suspensao.head()"
      ]
    },
    {
      "cell_type": "code",
      "execution_count": null,
      "id": "7235cacf-3bc8-4f7a-a6e2-d604f012a043",
      "metadata": {
        "tags": [],
        "id": "7235cacf-3bc8-4f7a-a6e2-d604f012a043",
        "outputId": "2a2bcf06-5d3a-414e-857a-b579986a70e5"
      },
      "outputs": [
        {
          "data": {
            "text/html": [
              "<div>\n",
              "<style scoped>\n",
              "    .dataframe tbody tr th:only-of-type {\n",
              "        vertical-align: middle;\n",
              "    }\n",
              "\n",
              "    .dataframe tbody tr th {\n",
              "        vertical-align: top;\n",
              "    }\n",
              "\n",
              "    .dataframe thead th {\n",
              "        text-align: right;\n",
              "    }\n",
              "</style>\n",
              "<table border=\"1\" class=\"dataframe\">\n",
              "  <thead>\n",
              "    <tr style=\"text-align: right;\">\n",
              "      <th></th>\n",
              "      <th>PROD_XPROD</th>\n",
              "      <th>CONTAGEM</th>\n",
              "    </tr>\n",
              "  </thead>\n",
              "  <tbody>\n",
              "    <tr>\n",
              "      <th>499717</th>\n",
              "      <td>GP32868 - AMORTECEDOR DIANTEIRO LD GRAND SIENA 2012/... PALIO 2011/...32868</td>\n",
              "      <td>1</td>\n",
              "    </tr>\n",
              "    <tr>\n",
              "      <th>499718</th>\n",
              "      <td>PAR AMORTECEDOR DE PORTA MALAS- MOLA A GAS-FORD KA 1997/2001</td>\n",
              "      <td>6</td>\n",
              "    </tr>\n",
              "    <tr>\n",
              "      <th>499723</th>\n",
              "      <td>KIT BARRA ESTABILIZ SUSP DIANT - INTERNO GOL 80/96 VOYAGE/PARATI 81/95</td>\n",
              "      <td>1</td>\n",
              "    </tr>\n",
              "    <tr>\n",
              "      <th>499751</th>\n",
              "      <td>PAR AMORTECEDOR PORTA MALA PEUGEOT 307 HATCH 2002/2015</td>\n",
              "      <td>7</td>\n",
              "    </tr>\n",
              "    <tr>\n",
              "      <th>499763</th>\n",
              "      <td>AMORT.DIANT.L/E SORENTO 2.5 CRDTI 2.4/3.5 02/06</td>\n",
              "      <td>1</td>\n",
              "    </tr>\n",
              "    <tr>\n",
              "      <th>499764</th>\n",
              "      <td>KITS AMORTECEDOR DIANT SPORTAGE 2010/2016</td>\n",
              "      <td>10</td>\n",
              "    </tr>\n",
              "    <tr>\n",
              "      <th>499775</th>\n",
              "      <td>AMORTECEDOR CONVENC LEVE</td>\n",
              "      <td>5</td>\n",
              "    </tr>\n",
              "    <tr>\n",
              "      <th>499787</th>\n",
              "      <td>KIT AMORTECEDOR</td>\n",
              "      <td>4</td>\n",
              "    </tr>\n",
              "    <tr>\n",
              "      <th>499797</th>\n",
              "      <td>AM MOTO HONDA 150 CC - AMORTECEDOR DE MOTO</td>\n",
              "      <td>2</td>\n",
              "    </tr>\n",
              "    <tr>\n",
              "      <th>499802</th>\n",
              "      <td>(SK120S) KIT AMORTECEDOR SUSP DIANTEIRO</td>\n",
              "      <td>1</td>\n",
              "    </tr>\n",
              "    <tr>\n",
              "      <th>499836</th>\n",
              "      <td>SUPORTE DO AMORTECEDOR ;SUSPENSAO DIANT</td>\n",
              "      <td>17</td>\n",
              "    </tr>\n",
              "    <tr>\n",
              "      <th>499850</th>\n",
              "      <td>BUCHA PONTA BARRA ESTABILIZADORA ;SUSPE</td>\n",
              "      <td>1</td>\n",
              "    </tr>\n",
              "    <tr>\n",
              "      <th>499852</th>\n",
              "      <td>SUPORTE DO AMORTECEDOR ;SUSPENSAO DIANT</td>\n",
              "      <td>4</td>\n",
              "    </tr>\n",
              "    <tr>\n",
              "      <th>499857</th>\n",
              "      <td>KIT DO AMORTECEDOR COMPLETO SUSP. TRAS. 1 LADO FOX 03/... POLO HATCH 02/... POLO SEDAN 02/...</td>\n",
              "      <td>1</td>\n",
              "    </tr>\n",
              "    <tr>\n",
              "      <th>499865</th>\n",
              "      <td>BIELETA COMPL BARRA ESTABILIZ DIANTEIRA ESQ</td>\n",
              "      <td>1</td>\n",
              "    </tr>\n",
              "    <tr>\n",
              "      <th>499867</th>\n",
              "      <td>AM MOTO HONDA NXR BROS 125/150 - AMORTECEDOR DE MOTO</td>\n",
              "      <td>1</td>\n",
              "    </tr>\n",
              "    <tr>\n",
              "      <th>499902</th>\n",
              "      <td>GP30110 - AMORTECEDOR TURBOGAS DT</td>\n",
              "      <td>2</td>\n",
              "    </tr>\n",
              "    <tr>\n",
              "      <th>499918</th>\n",
              "      <td>KIT AMORTECEDOR GOL ANTIGO DT</td>\n",
              "      <td>12</td>\n",
              "    </tr>\n",
              "    <tr>\n",
              "      <th>499930</th>\n",
              "      <td>CONJUNTO DO AMORTECEDOR</td>\n",
              "      <td>30</td>\n",
              "    </tr>\n",
              "    <tr>\n",
              "      <th>499982</th>\n",
              "      <td>KIT BAT. AMORT. DIANT. GOL G5/FOX/SAV.</td>\n",
              "      <td>1</td>\n",
              "    </tr>\n",
              "  </tbody>\n",
              "</table>\n",
              "</div>"
            ],
            "text/plain": [
              "                                                                                           PROD_XPROD  \\\n",
              "499717                    GP32868 - AMORTECEDOR DIANTEIRO LD GRAND SIENA 2012/... PALIO 2011/...32868   \n",
              "499718                                   PAR AMORTECEDOR DE PORTA MALAS- MOLA A GAS-FORD KA 1997/2001   \n",
              "499723                         KIT BARRA ESTABILIZ SUSP DIANT - INTERNO GOL 80/96 VOYAGE/PARATI 81/95   \n",
              "499751                                         PAR AMORTECEDOR PORTA MALA PEUGEOT 307 HATCH 2002/2015   \n",
              "499763                                                AMORT.DIANT.L/E SORENTO 2.5 CRDTI 2.4/3.5 02/06   \n",
              "499764                                                      KITS AMORTECEDOR DIANT SPORTAGE 2010/2016   \n",
              "499775                                                                       AMORTECEDOR CONVENC LEVE   \n",
              "499787                                                                                KIT AMORTECEDOR   \n",
              "499797                                                     AM MOTO HONDA 150 CC - AMORTECEDOR DE MOTO   \n",
              "499802                                                        (SK120S) KIT AMORTECEDOR SUSP DIANTEIRO   \n",
              "499836                                                        SUPORTE DO AMORTECEDOR ;SUSPENSAO DIANT   \n",
              "499850                                                        BUCHA PONTA BARRA ESTABILIZADORA ;SUSPE   \n",
              "499852                                                        SUPORTE DO AMORTECEDOR ;SUSPENSAO DIANT   \n",
              "499857  KIT DO AMORTECEDOR COMPLETO SUSP. TRAS. 1 LADO FOX 03/... POLO HATCH 02/... POLO SEDAN 02/...   \n",
              "499865                                                    BIELETA COMPL BARRA ESTABILIZ DIANTEIRA ESQ   \n",
              "499867                                           AM MOTO HONDA NXR BROS 125/150 - AMORTECEDOR DE MOTO   \n",
              "499902                                                              GP30110 - AMORTECEDOR TURBOGAS DT   \n",
              "499918                                                                  KIT AMORTECEDOR GOL ANTIGO DT   \n",
              "499930                                                                        CONJUNTO DO AMORTECEDOR   \n",
              "499982                                                         KIT BAT. AMORT. DIANT. GOL G5/FOX/SAV.   \n",
              "\n",
              "        CONTAGEM  \n",
              "499717         1  \n",
              "499718         6  \n",
              "499723         1  \n",
              "499751         7  \n",
              "499763         1  \n",
              "499764        10  \n",
              "499775         5  \n",
              "499787         4  \n",
              "499797         2  \n",
              "499802         1  \n",
              "499836        17  \n",
              "499850         1  \n",
              "499852         4  \n",
              "499857         1  \n",
              "499865         1  \n",
              "499867         1  \n",
              "499902         2  \n",
              "499918        12  \n",
              "499930        30  \n",
              "499982         1  "
            ]
          },
          "execution_count": 75,
          "metadata": {},
          "output_type": "execute_result"
        }
      ],
      "source": [
        "df_suspensao.tail(20)"
      ]
    },
    {
      "cell_type": "code",
      "execution_count": null,
      "id": "e73edf19-fa8d-45c6-b9f5-a405dada2cc0",
      "metadata": {
        "id": "e73edf19-fa8d-45c6-b9f5-a405dada2cc0"
      },
      "outputs": [],
      "source": [
        "df_suspensao['CODIGO_PRODUTO_SEFAZ'] = classif_dic['suspensao']"
      ]
    },
    {
      "cell_type": "code",
      "execution_count": null,
      "id": "25c4a5ea-2a01-4013-adc0-a0abd66d9573",
      "metadata": {
        "id": "25c4a5ea-2a01-4013-adc0-a0abd66d9573",
        "outputId": "c6f7e5a3-922d-4000-e745-31ceb80a15ce"
      },
      "outputs": [
        {
          "data": {
            "text/html": [
              "<div>\n",
              "<style scoped>\n",
              "    .dataframe tbody tr th:only-of-type {\n",
              "        vertical-align: middle;\n",
              "    }\n",
              "\n",
              "    .dataframe tbody tr th {\n",
              "        vertical-align: top;\n",
              "    }\n",
              "\n",
              "    .dataframe thead th {\n",
              "        text-align: right;\n",
              "    }\n",
              "</style>\n",
              "<table border=\"1\" class=\"dataframe\">\n",
              "  <thead>\n",
              "    <tr style=\"text-align: right;\">\n",
              "      <th></th>\n",
              "      <th>PROD_XPROD</th>\n",
              "      <th>CONTAGEM</th>\n",
              "      <th>CODIGO_PRODUTO_SEFAZ</th>\n",
              "    </tr>\n",
              "  </thead>\n",
              "  <tbody>\n",
              "    <tr>\n",
              "      <th>43</th>\n",
              "      <td>345 240 71 25 - BARRA ESTAB COMPL N504 280X16X1 5MM</td>\n",
              "      <td>1</td>\n",
              "      <td>10030447004</td>\n",
              "    </tr>\n",
              "    <tr>\n",
              "      <th>46</th>\n",
              "      <td>AM DE GM COBALT - AMORTECEDOR DE SUSPENSAO</td>\n",
              "      <td>1</td>\n",
              "      <td>10030447004</td>\n",
              "    </tr>\n",
              "    <tr>\n",
              "      <th>50</th>\n",
              "      <td>SE 31143 AMORTECEDOR TRAS - NAK</td>\n",
              "      <td>1</td>\n",
              "      <td>10030447004</td>\n",
              "    </tr>\n",
              "    <tr>\n",
              "      <th>56</th>\n",
              "      <td>AMORTECEDOR ESTRUTURA A GAS EX_TIPI = 01</td>\n",
              "      <td>52</td>\n",
              "      <td>10030447004</td>\n",
              "    </tr>\n",
              "    <tr>\n",
              "      <th>65</th>\n",
              "      <td>AMORTECEDOR PARATI GII GIII GIV 1995- 15/CX</td>\n",
              "      <td>10</td>\n",
              "      <td>10030447004</td>\n",
              "    </tr>\n",
              "  </tbody>\n",
              "</table>\n",
              "</div>"
            ],
            "text/plain": [
              "                                             PROD_XPROD  CONTAGEM  \\\n",
              "43  345 240 71 25 - BARRA ESTAB COMPL N504 280X16X1 5MM         1   \n",
              "46           AM DE GM COBALT - AMORTECEDOR DE SUSPENSAO         1   \n",
              "50                      SE 31143 AMORTECEDOR TRAS - NAK         1   \n",
              "56             AMORTECEDOR ESTRUTURA A GAS EX_TIPI = 01        52   \n",
              "65          AMORTECEDOR PARATI GII GIII GIV 1995- 15/CX        10   \n",
              "\n",
              "    CODIGO_PRODUTO_SEFAZ  \n",
              "43           10030447004  \n",
              "46           10030447004  \n",
              "50           10030447004  \n",
              "56           10030447004  \n",
              "65           10030447004  "
            ]
          },
          "execution_count": 77,
          "metadata": {},
          "output_type": "execute_result"
        }
      ],
      "source": [
        "df_suspensao.head()"
      ]
    },
    {
      "cell_type": "code",
      "execution_count": null,
      "id": "4813f237-fd87-4edd-91c4-a294333a3ed1",
      "metadata": {
        "id": "4813f237-fd87-4edd-91c4-a294333a3ed1"
      },
      "outputs": [],
      "source": [
        "df_suspensao.to_csv('suspensao.csv')"
      ]
    },
    {
      "cell_type": "code",
      "execution_count": null,
      "id": "7bcfd5c2-7f4b-403a-9f01-5364acf49e20",
      "metadata": {
        "id": "7bcfd5c2-7f4b-403a-9f01-5364acf49e20"
      },
      "outputs": [],
      "source": [
        "df_suspensao.to_csv('labeled_cap87.csv', header=False, mode='a')"
      ]
    },
    {
      "cell_type": "markdown",
      "id": "cdf05a7e-01ff-4c30-9f5d-cdc241a4594d",
      "metadata": {
        "id": "cdf05a7e-01ff-4c30-9f5d-cdc241a4594d"
      },
      "source": [
        "##### Sistema de lubrificacao"
      ]
    },
    {
      "cell_type": "code",
      "execution_count": null,
      "id": "5c922955-0011-4aec-8f28-9f5f81617250",
      "metadata": {
        "id": "5c922955-0011-4aec-8f28-9f5f81617250"
      },
      "outputs": [],
      "source": [
        "# Problema principal: separar peças relacionadas a lubrificaçao com o produto oleo."
      ]
    },
    {
      "cell_type": "code",
      "execution_count": null,
      "id": "7e072ed2-d7ed-4bc5-ba45-cd3bcf98e772",
      "metadata": {
        "id": "7e072ed2-d7ed-4bc5-ba45-cd3bcf98e772"
      },
      "outputs": [],
      "source": [
        "lubrificacao_peças = ['bomba de oleo', 'filtro de oleo', 'galeria principal', 'carter', 'filtro de sucção', 'pescador']"
      ]
    },
    {
      "cell_type": "code",
      "execution_count": null,
      "id": "ba8c7310-f8c9-44ab-83df-b83f8553d912",
      "metadata": {
        "tags": [],
        "id": "ba8c7310-f8c9-44ab-83df-b83f8553d912"
      },
      "outputs": [],
      "source": [
        "pattern_lubrificacao = 'BOMBA|GALERIA|CARTER|FILTRO|PESCADOR'"
      ]
    },
    {
      "cell_type": "code",
      "execution_count": null,
      "id": "995f79b4-1006-4908-b96b-f7ae42fe5669",
      "metadata": {
        "id": "995f79b4-1006-4908-b96b-f7ae42fe5669"
      },
      "outputs": [],
      "source": [
        "# Apenas carter e filtro se mostrarm resultados"
      ]
    },
    {
      "cell_type": "code",
      "execution_count": null,
      "id": "3cf8872e-c783-4fd3-bb31-c1156a588f32",
      "metadata": {
        "id": "3cf8872e-c783-4fd3-bb31-c1156a588f32"
      },
      "outputs": [],
      "source": [
        "MASK_LUBRIFICACAO = df[\"PROD_XPROD\"].str.contains('OLEO|LUBRIF', flags = re.IGNORECASE)"
      ]
    },
    {
      "cell_type": "code",
      "execution_count": null,
      "id": "b74fe8e4-fbdf-48c6-abc2-4fb469984ddd",
      "metadata": {
        "id": "b74fe8e4-fbdf-48c6-abc2-4fb469984ddd"
      },
      "outputs": [],
      "source": [
        "MASK_NOT_OIL_BEGINING = ~df[\"PROD_XPROD\"].str.contains('^OLEO', flags = re.IGNORECASE)"
      ]
    },
    {
      "cell_type": "code",
      "execution_count": null,
      "id": "59803ede-ddee-49fe-bdfb-52b69558905a",
      "metadata": {
        "id": "59803ede-ddee-49fe-bdfb-52b69558905a"
      },
      "outputs": [],
      "source": [
        "MASK_NOT_OIL = ~df[\"PROD_XPROD\"].str.contains('OLEO', flags = re.IGNORECASE)"
      ]
    },
    {
      "cell_type": "code",
      "execution_count": null,
      "id": "05344360-d95b-49b3-b50b-1ffdb7d2252d",
      "metadata": {
        "id": "05344360-d95b-49b3-b50b-1ffdb7d2252d",
        "outputId": "e9f528a4-9d44-44ec-eae9-00d55875a3bf"
      },
      "outputs": [
        {
          "data": {
            "text/plain": [
              "99.48559999999999"
            ]
          },
          "execution_count": 87,
          "metadata": {},
          "output_type": "execute_result"
        }
      ],
      "source": [
        "sum(~df[\"PROD_XPROD\"].str.contains('OLEO', flags = re.IGNORECASE)) / len(df) * 100"
      ]
    },
    {
      "cell_type": "markdown",
      "id": "79f19f2c-5b6b-4c4a-ba8b-e1f68dd8050f",
      "metadata": {
        "id": "79f19f2c-5b6b-4c4a-ba8b-e1f68dd8050f"
      },
      "source": [
        "###### tokens: lubr e oleo"
      ]
    },
    {
      "cell_type": "code",
      "execution_count": null,
      "id": "f36f3860-6e39-4e8f-999e-37e1b608bb3f",
      "metadata": {
        "id": "f36f3860-6e39-4e8f-999e-37e1b608bb3f",
        "outputId": "a88dbfd3-b48c-4bf5-e7ef-9a7f0d1bf45a"
      },
      "outputs": [
        {
          "data": {
            "text/html": [
              "<div>\n",
              "<style scoped>\n",
              "    .dataframe tbody tr th:only-of-type {\n",
              "        vertical-align: middle;\n",
              "    }\n",
              "\n",
              "    .dataframe tbody tr th {\n",
              "        vertical-align: top;\n",
              "    }\n",
              "\n",
              "    .dataframe thead th {\n",
              "        text-align: right;\n",
              "    }\n",
              "</style>\n",
              "<table border=\"1\" class=\"dataframe\">\n",
              "  <thead>\n",
              "    <tr style=\"text-align: right;\">\n",
              "      <th></th>\n",
              "      <th>PROD_XPROD</th>\n",
              "      <th>PROD_NCM</th>\n",
              "      <th>PROD_VUNCOM</th>\n",
              "      <th>CONTAGEM</th>\n",
              "      <th>NCM_POSICAO</th>\n",
              "      <th>IMPORTANCIA</th>\n",
              "      <th>POSICAO_NCM</th>\n",
              "    </tr>\n",
              "  </thead>\n",
              "  <tbody>\n",
              "    <tr>\n",
              "      <th>115586</th>\n",
              "      <td>OLEO, MOTOR LUBRAX</td>\n",
              "      <td>27101932</td>\n",
              "      <td>52.83</td>\n",
              "      <td>666</td>\n",
              "      <td>2710</td>\n",
              "      <td>35184.78</td>\n",
              "      <td>2710</td>\n",
              "    </tr>\n",
              "    <tr>\n",
              "      <th>197952</th>\n",
              "      <td>OLEO MOTOR 5W30 SINTETICO API SN CAR+/MENZOIL</td>\n",
              "      <td>27101932</td>\n",
              "      <td>19.49</td>\n",
              "      <td>645</td>\n",
              "      <td>2710</td>\n",
              "      <td>12571.05</td>\n",
              "      <td>2710</td>\n",
              "    </tr>\n",
              "    <tr>\n",
              "      <th>156001</th>\n",
              "      <td>KIT P/ ANALISE OLEO JOHN DEERE</td>\n",
              "      <td>39233090</td>\n",
              "      <td>80.07</td>\n",
              "      <td>643</td>\n",
              "      <td>3923</td>\n",
              "      <td>51485.01</td>\n",
              "      <td>3923</td>\n",
              "    </tr>\n",
              "    <tr>\n",
              "      <th>5933</th>\n",
              "      <td>OLEO MOTOR 5W30 CAR+ SINTETICO API SN</td>\n",
              "      <td>27101932</td>\n",
              "      <td>19.90</td>\n",
              "      <td>613</td>\n",
              "      <td>2710</td>\n",
              "      <td>12198.70</td>\n",
              "      <td>2710</td>\n",
              "    </tr>\n",
              "    <tr>\n",
              "      <th>36243</th>\n",
              "      <td>OLEO MOTOR 5W30 CAR+ SINTETICO API SN</td>\n",
              "      <td>27101932</td>\n",
              "      <td>19.49</td>\n",
              "      <td>564</td>\n",
              "      <td>2710</td>\n",
              "      <td>10992.36</td>\n",
              "      <td>2710</td>\n",
              "    </tr>\n",
              "    <tr>\n",
              "      <th>2569</th>\n",
              "      <td>ENGRENAGEM EXT.BOMBA OLEO TRAN</td>\n",
              "      <td>87089990</td>\n",
              "      <td>238.30</td>\n",
              "      <td>561</td>\n",
              "      <td>8708</td>\n",
              "      <td>133686.30</td>\n",
              "      <td>8708</td>\n",
              "    </tr>\n",
              "    <tr>\n",
              "      <th>17754</th>\n",
              "      <td>ENGRENAGEM INT.BOMBA OLEO TRAN</td>\n",
              "      <td>87089990</td>\n",
              "      <td>206.47</td>\n",
              "      <td>559</td>\n",
              "      <td>8708</td>\n",
              "      <td>115416.73</td>\n",
              "      <td>8708</td>\n",
              "    </tr>\n",
              "    <tr>\n",
              "      <th>186258</th>\n",
              "      <td>CONEXAO LUBR.BARRA FUSO</td>\n",
              "      <td>39269090</td>\n",
              "      <td>0.72</td>\n",
              "      <td>512</td>\n",
              "      <td>3926</td>\n",
              "      <td>368.64</td>\n",
              "      <td>3926</td>\n",
              "    </tr>\n",
              "    <tr>\n",
              "      <th>278841</th>\n",
              "      <td>OLEO, MOTOR LUBRAX</td>\n",
              "      <td>27101932</td>\n",
              "      <td>56.25</td>\n",
              "      <td>420</td>\n",
              "      <td>2710</td>\n",
              "      <td>23625.00</td>\n",
              "      <td>2710</td>\n",
              "    </tr>\n",
              "    <tr>\n",
              "      <th>478476</th>\n",
              "      <td>OLEO RAM 15W40 RT4</td>\n",
              "      <td>27101932</td>\n",
              "      <td>35.00</td>\n",
              "      <td>387</td>\n",
              "      <td>2710</td>\n",
              "      <td>13545.00</td>\n",
              "      <td>2710</td>\n",
              "    </tr>\n",
              "    <tr>\n",
              "      <th>197143</th>\n",
              "      <td>ENGRENAGEM INT.BOMBA OLEO TRAN</td>\n",
              "      <td>87089990</td>\n",
              "      <td>167.85</td>\n",
              "      <td>307</td>\n",
              "      <td>8708</td>\n",
              "      <td>51529.95</td>\n",
              "      <td>8708</td>\n",
              "    </tr>\n",
              "    <tr>\n",
              "      <th>119072</th>\n",
              "      <td>ENGRENAGEM EXT.BOMBA OLEO TRAN</td>\n",
              "      <td>87089990</td>\n",
              "      <td>194.13</td>\n",
              "      <td>303</td>\n",
              "      <td>8708</td>\n",
              "      <td>58821.39</td>\n",
              "      <td>8708</td>\n",
              "    </tr>\n",
              "    <tr>\n",
              "      <th>135178</th>\n",
              "      <td>KIT P/ ANALISE OLEO JOHN DEERE</td>\n",
              "      <td>39233000</td>\n",
              "      <td>75.48</td>\n",
              "      <td>288</td>\n",
              "      <td>3923</td>\n",
              "      <td>21738.24</td>\n",
              "      <td>3923</td>\n",
              "    </tr>\n",
              "    <tr>\n",
              "      <th>87043</th>\n",
              "      <td>TAMPA ENTR.OLEO MOTOR</td>\n",
              "      <td>87089990</td>\n",
              "      <td>59.99</td>\n",
              "      <td>230</td>\n",
              "      <td>8708</td>\n",
              "      <td>13797.70</td>\n",
              "      <td>8708</td>\n",
              "    </tr>\n",
              "    <tr>\n",
              "      <th>374867</th>\n",
              "      <td>CONEXAO LUBR.BARRA FUSO</td>\n",
              "      <td>39269090</td>\n",
              "      <td>0.59</td>\n",
              "      <td>226</td>\n",
              "      <td>3926</td>\n",
              "      <td>133.34</td>\n",
              "      <td>3926</td>\n",
              "    </tr>\n",
              "    <tr>\n",
              "      <th>309650</th>\n",
              "      <td>KIT ANALISE DE OLEO</td>\n",
              "      <td>87089990</td>\n",
              "      <td>5.00</td>\n",
              "      <td>200</td>\n",
              "      <td>8708</td>\n",
              "      <td>1000.00</td>\n",
              "      <td>8708</td>\n",
              "    </tr>\n",
              "    <tr>\n",
              "      <th>361628</th>\n",
              "      <td>TMP BUJ OLEO CG/TO/TI C/ANEL TRIL</td>\n",
              "      <td>84099190</td>\n",
              "      <td>1.13</td>\n",
              "      <td>159</td>\n",
              "      <td>8409</td>\n",
              "      <td>179.67</td>\n",
              "      <td>8409</td>\n",
              "    </tr>\n",
              "    <tr>\n",
              "      <th>423196</th>\n",
              "      <td>(TC-3050) TANCLICK - TAMPA OLEOVW 1.6/1.8/2.0S10 MAXION</td>\n",
              "      <td>87089990</td>\n",
              "      <td>6.58</td>\n",
              "      <td>150</td>\n",
              "      <td>8708</td>\n",
              "      <td>987.00</td>\n",
              "      <td>8708</td>\n",
              "    </tr>\n",
              "    <tr>\n",
              "      <th>46272</th>\n",
              "      <td>VARETA NIVEL OLEO MOTOR</td>\n",
              "      <td>90261029</td>\n",
              "      <td>159.25</td>\n",
              "      <td>149</td>\n",
              "      <td>9026</td>\n",
              "      <td>23728.25</td>\n",
              "      <td>9026</td>\n",
              "    </tr>\n",
              "    <tr>\n",
              "      <th>390899</th>\n",
              "      <td>OLEO ATF 0H 50TA ( 1 LTR) BR</td>\n",
              "      <td>87089990</td>\n",
              "      <td>22.00</td>\n",
              "      <td>144</td>\n",
              "      <td>8708</td>\n",
              "      <td>3168.00</td>\n",
              "      <td>8708</td>\n",
              "    </tr>\n",
              "  </tbody>\n",
              "</table>\n",
              "</div>"
            ],
            "text/plain": [
              "                                                     PROD_XPROD  PROD_NCM  \\\n",
              "115586                                       OLEO, MOTOR LUBRAX  27101932   \n",
              "197952            OLEO MOTOR 5W30 SINTETICO API SN CAR+/MENZOIL  27101932   \n",
              "156001                           KIT P/ ANALISE OLEO JOHN DEERE  39233090   \n",
              "5933                      OLEO MOTOR 5W30 CAR+ SINTETICO API SN  27101932   \n",
              "36243                     OLEO MOTOR 5W30 CAR+ SINTETICO API SN  27101932   \n",
              "2569                             ENGRENAGEM EXT.BOMBA OLEO TRAN  87089990   \n",
              "17754                            ENGRENAGEM INT.BOMBA OLEO TRAN  87089990   \n",
              "186258                                  CONEXAO LUBR.BARRA FUSO  39269090   \n",
              "278841                                       OLEO, MOTOR LUBRAX  27101932   \n",
              "478476                                       OLEO RAM 15W40 RT4  27101932   \n",
              "197143                           ENGRENAGEM INT.BOMBA OLEO TRAN  87089990   \n",
              "119072                           ENGRENAGEM EXT.BOMBA OLEO TRAN  87089990   \n",
              "135178                           KIT P/ ANALISE OLEO JOHN DEERE  39233000   \n",
              "87043                                     TAMPA ENTR.OLEO MOTOR  87089990   \n",
              "374867                                  CONEXAO LUBR.BARRA FUSO  39269090   \n",
              "309650                                      KIT ANALISE DE OLEO  87089990   \n",
              "361628                        TMP BUJ OLEO CG/TO/TI C/ANEL TRIL  84099190   \n",
              "423196  (TC-3050) TANCLICK - TAMPA OLEOVW 1.6/1.8/2.0S10 MAXION  87089990   \n",
              "46272                                   VARETA NIVEL OLEO MOTOR  90261029   \n",
              "390899                             OLEO ATF 0H 50TA ( 1 LTR) BR  87089990   \n",
              "\n",
              "        PROD_VUNCOM  CONTAGEM NCM_POSICAO  IMPORTANCIA POSICAO_NCM  \n",
              "115586        52.83       666        2710     35184.78        2710  \n",
              "197952        19.49       645        2710     12571.05        2710  \n",
              "156001        80.07       643        3923     51485.01        3923  \n",
              "5933          19.90       613        2710     12198.70        2710  \n",
              "36243         19.49       564        2710     10992.36        2710  \n",
              "2569         238.30       561        8708    133686.30        8708  \n",
              "17754        206.47       559        8708    115416.73        8708  \n",
              "186258         0.72       512        3926       368.64        3926  \n",
              "278841        56.25       420        2710     23625.00        2710  \n",
              "478476        35.00       387        2710     13545.00        2710  \n",
              "197143       167.85       307        8708     51529.95        8708  \n",
              "119072       194.13       303        8708     58821.39        8708  \n",
              "135178        75.48       288        3923     21738.24        3923  \n",
              "87043         59.99       230        8708     13797.70        8708  \n",
              "374867         0.59       226        3926       133.34        3926  \n",
              "309650         5.00       200        8708      1000.00        8708  \n",
              "361628         1.13       159        8409       179.67        8409  \n",
              "423196         6.58       150        8708       987.00        8708  \n",
              "46272        159.25       149        9026     23728.25        9026  \n",
              "390899        22.00       144        8708      3168.00        8708  "
            ]
          },
          "execution_count": 88,
          "metadata": {},
          "output_type": "execute_result"
        }
      ],
      "source": [
        "df[df[\"PROD_XPROD\"].str.contains(r'(LUBR|OLEO)', flags = re.IGNORECASE)].sort_values(by='CONTAGEM', ascending=False).head(20)"
      ]
    },
    {
      "cell_type": "code",
      "execution_count": null,
      "id": "8274c89e-f2cc-4b04-b872-6c429b628686",
      "metadata": {
        "id": "8274c89e-f2cc-4b04-b872-6c429b628686"
      },
      "outputs": [],
      "source": [
        "df_lubr_oleo = df[df[\"PROD_XPROD\"].str.contains(r'(LUBR|OLEO)', flags = re.IGNORECASE)].sort_values(by='CONTAGEM', ascending=False)"
      ]
    },
    {
      "cell_type": "code",
      "execution_count": null,
      "id": "0d5e66fa-8aa7-4e29-845d-c0d370b02fe2",
      "metadata": {
        "id": "0d5e66fa-8aa7-4e29-845d-c0d370b02fe2"
      },
      "outputs": [],
      "source": [
        "corpus_oleo_lubri = \" \".join(df_lubr_oleo.PROD_XPROD)"
      ]
    },
    {
      "cell_type": "code",
      "execution_count": null,
      "id": "4c5d65e0-9727-41b4-bb51-808cf9c29e34",
      "metadata": {
        "id": "4c5d65e0-9727-41b4-bb51-808cf9c29e34"
      },
      "outputs": [],
      "source": [
        "tokens_oleo_lubri = [w for w in word_tokenize(corpus_oleo_lubri.lower(), language='portuguese') if w.isalpha()]"
      ]
    },
    {
      "cell_type": "markdown",
      "id": "9711455d-bd3d-4e24-9171-0a452166bec1",
      "metadata": {
        "id": "9711455d-bd3d-4e24-9171-0a452166bec1"
      },
      "source": [
        "##### BOW de tokens sem stop words:"
      ]
    },
    {
      "cell_type": "code",
      "execution_count": null,
      "id": "0c393e54-d802-4383-bf57-12c8ce9b0a14",
      "metadata": {
        "id": "0c393e54-d802-4383-bf57-12c8ce9b0a14"
      },
      "outputs": [],
      "source": [
        "no_stops_lubr_oleo = [t for t in tokens_oleo_lubri if t not in stopwords.words('portuguese')]"
      ]
    },
    {
      "cell_type": "code",
      "execution_count": null,
      "id": "d819256b-db68-4bfd-a0d5-2b4a48ff12f6",
      "metadata": {
        "tags": [],
        "id": "d819256b-db68-4bfd-a0d5-2b4a48ff12f6",
        "outputId": "0e594c86-9cb1-4479-f4b4-ed73cf86314b"
      },
      "outputs": [
        {
          "data": {
            "text/plain": [
              "['oleo',\n",
              " 'motor',\n",
              " 'lubrax',\n",
              " 'oleo',\n",
              " 'motor',\n",
              " 'sintetico',\n",
              " 'api',\n",
              " 'sn',\n",
              " 'kit',\n",
              " 'analise']"
            ]
          },
          "execution_count": 93,
          "metadata": {},
          "output_type": "execute_result"
        }
      ],
      "source": [
        "no_stops_lubr_oleo[:10]"
      ]
    },
    {
      "cell_type": "code",
      "execution_count": null,
      "id": "f2a3ef64-d815-4c3f-8f69-7e56d097affb",
      "metadata": {
        "id": "f2a3ef64-d815-4c3f-8f69-7e56d097affb"
      },
      "outputs": [],
      "source": [
        "no_stops_lubr_oleo_str = ' '.join(no_stops_lubr_oleo)"
      ]
    },
    {
      "cell_type": "code",
      "execution_count": null,
      "id": "8f233d5f-9711-4fc1-816a-18cfd3f7eadb",
      "metadata": {
        "tags": [],
        "id": "8f233d5f-9711-4fc1-816a-18cfd3f7eadb"
      },
      "outputs": [],
      "source": [
        "#no_stops_lubr_oleo_str"
      ]
    },
    {
      "cell_type": "code",
      "execution_count": null,
      "id": "b3016693-d84d-44bd-9fdc-4d80806df96d",
      "metadata": {
        "id": "b3016693-d84d-44bd-9fdc-4d80806df96d"
      },
      "outputs": [],
      "source": [
        "s_no_stops_lubr_oleo = pd.Series(tokens_oleo_lubri)"
      ]
    },
    {
      "cell_type": "code",
      "execution_count": null,
      "id": "8005ad36-05df-4548-9713-2553f56a3b0d",
      "metadata": {
        "tags": [],
        "id": "8005ad36-05df-4548-9713-2553f56a3b0d"
      },
      "outputs": [],
      "source": [
        "s_no_stops_lubr_oleo.to_csv('no_stops_lubr_oleo.csv')"
      ]
    },
    {
      "cell_type": "code",
      "execution_count": null,
      "id": "ccf5e70b-ae2b-4365-8683-603b1a23770a",
      "metadata": {
        "tags": [],
        "id": "ccf5e70b-ae2b-4365-8683-603b1a23770a"
      },
      "outputs": [],
      "source": [
        "#frequency_lubr_oleo = FreqDist(bigrams(no_stops_lubr_oleo_str))"
      ]
    },
    {
      "cell_type": "code",
      "execution_count": null,
      "id": "53a07964-41f7-4f19-a320-48e7d026b453",
      "metadata": {
        "tags": [],
        "id": "53a07964-41f7-4f19-a320-48e7d026b453"
      },
      "outputs": [],
      "source": [
        "#frequency_lubr_oleo.most_common(20)"
      ]
    },
    {
      "cell_type": "code",
      "execution_count": null,
      "id": "1d694703-8183-4362-9cbc-050a4da46946",
      "metadata": {
        "id": "1d694703-8183-4362-9cbc-050a4da46946"
      },
      "outputs": [],
      "source": [
        "#bigrams2regex(top_20_lubr_oleo)"
      ]
    },
    {
      "cell_type": "code",
      "execution_count": null,
      "id": "b3745ce0-9a2f-45ca-be86-cc2693cc8773",
      "metadata": {
        "id": "b3745ce0-9a2f-45ca-be86-cc2693cc8773"
      },
      "outputs": [],
      "source": [
        "# Há tokens \"TRAN\" que estão relacionados à transmissão"
      ]
    },
    {
      "cell_type": "code",
      "execution_count": null,
      "id": "fc6d252a-9890-46b8-8ba4-6a747595c7c4",
      "metadata": {
        "id": "fc6d252a-9890-46b8-8ba4-6a747595c7c4"
      },
      "outputs": [],
      "source": [
        "MASK_OLEO_MOTOR = df[\"PROD_XPROD\"].str.contains(r'^OLEO.*MOTOR', flags = re.IGNORECASE)"
      ]
    },
    {
      "cell_type": "code",
      "execution_count": null,
      "id": "4d0b5ad8-0d88-413a-aab7-c7a2f24ef41c",
      "metadata": {
        "tags": [],
        "id": "4d0b5ad8-0d88-413a-aab7-c7a2f24ef41c"
      },
      "outputs": [],
      "source": [
        "MASK_PEÇAS_LUBR = df[\"PROD_XPROD\"].str.contains(r'(TAMPA|NIVEL).*OLEO.*MOTOR', flags = re.IGNORECASE)"
      ]
    },
    {
      "cell_type": "code",
      "execution_count": null,
      "id": "3c0a9ac1-3cc3-4434-8012-7e60977923b3",
      "metadata": {
        "tags": [],
        "id": "3c0a9ac1-3cc3-4434-8012-7e60977923b3"
      },
      "outputs": [],
      "source": [
        "df_lubrificacao = df[MASK_PEÇAS_LUBR][LABELS_2]"
      ]
    },
    {
      "cell_type": "code",
      "execution_count": null,
      "id": "7951b56d-ba21-4fa6-8404-f3c7ae68573a",
      "metadata": {
        "tags": [],
        "id": "7951b56d-ba21-4fa6-8404-f3c7ae68573a",
        "outputId": "689be55c-4cb3-4c6d-c981-164cf6a496d4"
      },
      "outputs": [
        {
          "data": {
            "text/html": [
              "<div>\n",
              "<style scoped>\n",
              "    .dataframe tbody tr th:only-of-type {\n",
              "        vertical-align: middle;\n",
              "    }\n",
              "\n",
              "    .dataframe tbody tr th {\n",
              "        vertical-align: top;\n",
              "    }\n",
              "\n",
              "    .dataframe thead th {\n",
              "        text-align: right;\n",
              "    }\n",
              "</style>\n",
              "<table border=\"1\" class=\"dataframe\">\n",
              "  <thead>\n",
              "    <tr style=\"text-align: right;\">\n",
              "      <th></th>\n",
              "      <th>PROD_XPROD</th>\n",
              "      <th>CONTAGEM</th>\n",
              "    </tr>\n",
              "  </thead>\n",
              "  <tbody>\n",
              "    <tr>\n",
              "      <th>972</th>\n",
              "      <td>(23.048) TAMPA OLEO MOTOR -PED ANEXADO: 191573</td>\n",
              "      <td>3</td>\n",
              "    </tr>\n",
              "    <tr>\n",
              "      <th>1064</th>\n",
              "      <td>TAMPA OLEO MOTOR RANGER/ECOSPORT/FOCUS/FIESTA/FUSION</td>\n",
              "      <td>1</td>\n",
              "    </tr>\n",
              "    <tr>\n",
              "      <th>1506</th>\n",
              "      <td>TAMPA DE OLEO MOTOR</td>\n",
              "      <td>79</td>\n",
              "    </tr>\n",
              "    <tr>\n",
              "      <th>2196</th>\n",
              "      <td>F36-TAMPA DE OLEO DO MOTOR</td>\n",
              "      <td>1</td>\n",
              "    </tr>\n",
              "    <tr>\n",
              "      <th>2509</th>\n",
              "      <td>TAMPA DE OLEO MOTOR</td>\n",
              "      <td>73</td>\n",
              "    </tr>\n",
              "    <tr>\n",
              "      <th>...</th>\n",
              "      <td>...</td>\n",
              "      <td>...</td>\n",
              "    </tr>\n",
              "    <tr>\n",
              "      <th>495155</th>\n",
              "      <td>TAMPA DE OLEO MOTOR</td>\n",
              "      <td>2</td>\n",
              "    </tr>\n",
              "    <tr>\n",
              "      <th>495798</th>\n",
              "      <td>TAMPA DE OLEO MOTOR</td>\n",
              "      <td>3</td>\n",
              "    </tr>\n",
              "    <tr>\n",
              "      <th>496047</th>\n",
              "      <td>TAMPA DO OLEO MOTOR FIRE 1.0 / 1.3 / 1.6 TC4052</td>\n",
              "      <td>2</td>\n",
              "    </tr>\n",
              "    <tr>\n",
              "      <th>497950</th>\n",
              "      <td>TC5020 - TAMPA OLEO MOTOR GM - TANCLICK</td>\n",
              "      <td>1</td>\n",
              "    </tr>\n",
              "    <tr>\n",
              "      <th>499910</th>\n",
              "      <td>VARETA NIVEL OLEO MOTOR FORD</td>\n",
              "      <td>1</td>\n",
              "    </tr>\n",
              "  </tbody>\n",
              "</table>\n",
              "<p>562 rows × 2 columns</p>\n",
              "</div>"
            ],
            "text/plain": [
              "                                                  PROD_XPROD  CONTAGEM\n",
              "972           (23.048) TAMPA OLEO MOTOR -PED ANEXADO: 191573         3\n",
              "1064    TAMPA OLEO MOTOR RANGER/ECOSPORT/FOCUS/FIESTA/FUSION         1\n",
              "1506                                     TAMPA DE OLEO MOTOR        79\n",
              "2196                              F36-TAMPA DE OLEO DO MOTOR         1\n",
              "2509                                     TAMPA DE OLEO MOTOR        73\n",
              "...                                                      ...       ...\n",
              "495155                                   TAMPA DE OLEO MOTOR         2\n",
              "495798                                   TAMPA DE OLEO MOTOR         3\n",
              "496047       TAMPA DO OLEO MOTOR FIRE 1.0 / 1.3 / 1.6 TC4052         2\n",
              "497950               TC5020 - TAMPA OLEO MOTOR GM - TANCLICK         1\n",
              "499910                          VARETA NIVEL OLEO MOTOR FORD         1\n",
              "\n",
              "[562 rows x 2 columns]"
            ]
          },
          "execution_count": 105,
          "metadata": {},
          "output_type": "execute_result"
        }
      ],
      "source": [
        "df[MASK_PEÇAS_LUBR][LABELS_2]"
      ]
    },
    {
      "cell_type": "code",
      "execution_count": null,
      "id": "5adc5c53-ad8a-43bf-8d25-8c4734f54932",
      "metadata": {
        "tags": [],
        "id": "5adc5c53-ad8a-43bf-8d25-8c4734f54932"
      },
      "outputs": [],
      "source": [
        "df_lubrificacao['CODIGO_PRODUTO_SEFAZ'] = classif_dic['lubrificacao']"
      ]
    },
    {
      "cell_type": "code",
      "execution_count": null,
      "id": "3d3c583e-ed3e-4c63-8af5-423b463e927d",
      "metadata": {
        "tags": [],
        "id": "3d3c583e-ed3e-4c63-8af5-423b463e927d"
      },
      "outputs": [],
      "source": [
        "df_lubrificacao.to_csv('lubrificacao.csv')"
      ]
    },
    {
      "cell_type": "code",
      "execution_count": null,
      "id": "79007fb5-011f-4823-a889-d54eaa0835b9",
      "metadata": {
        "id": "79007fb5-011f-4823-a889-d54eaa0835b9"
      },
      "outputs": [],
      "source": [
        "df_lubrificacao.to_csv('labeled_cap87.csv', header=False, mode='a')"
      ]
    },
    {
      "cell_type": "code",
      "execution_count": null,
      "id": "27a49cb6-c628-4e54-a634-645dc7db6ca5",
      "metadata": {
        "id": "27a49cb6-c628-4e54-a634-645dc7db6ca5"
      },
      "outputs": [],
      "source": [
        "MASK_OLEO_MOTOR_SEM_PECAS = MASK_OLEO_MOTOR & ~MASK_PEÇAS_LUBR"
      ]
    },
    {
      "cell_type": "code",
      "execution_count": null,
      "id": "95f94059-5147-47c7-a69c-9c3252de79a9",
      "metadata": {
        "id": "95f94059-5147-47c7-a69c-9c3252de79a9",
        "outputId": "f422d706-5ccf-4a50-d4c9-4f7e86991e95"
      },
      "outputs": [
        {
          "data": {
            "text/html": [
              "<div>\n",
              "<style scoped>\n",
              "    .dataframe tbody tr th:only-of-type {\n",
              "        vertical-align: middle;\n",
              "    }\n",
              "\n",
              "    .dataframe tbody tr th {\n",
              "        vertical-align: top;\n",
              "    }\n",
              "\n",
              "    .dataframe thead th {\n",
              "        text-align: right;\n",
              "    }\n",
              "</style>\n",
              "<table border=\"1\" class=\"dataframe\">\n",
              "  <thead>\n",
              "    <tr style=\"text-align: right;\">\n",
              "      <th></th>\n",
              "      <th>PROD_XPROD</th>\n",
              "      <th>CONTAGEM</th>\n",
              "    </tr>\n",
              "  </thead>\n",
              "  <tbody>\n",
              "    <tr>\n",
              "      <th>5933</th>\n",
              "      <td>OLEO MOTOR 5W30 CAR+ SINTETICO API SN</td>\n",
              "      <td>613</td>\n",
              "    </tr>\n",
              "    <tr>\n",
              "      <th>11845</th>\n",
              "      <td>OLEO MOTOR LUBRAX TURBO DIESEL MINERAL (ITEM 510)</td>\n",
              "      <td>2</td>\n",
              "    </tr>\n",
              "    <tr>\n",
              "      <th>30736</th>\n",
              "      <td>OLEO MOTOR  RAM 15W40</td>\n",
              "      <td>128</td>\n",
              "    </tr>\n",
              "    <tr>\n",
              "      <th>35445</th>\n",
              "      <td>OLEO MOTOR / SEMI SINTETICO  API SL  ALC/GAS/GNV/FLEX</td>\n",
              "      <td>3</td>\n",
              "    </tr>\n",
              "    <tr>\n",
              "      <th>36243</th>\n",
              "      <td>OLEO MOTOR 5W30 CAR+ SINTETICO API SN</td>\n",
              "      <td>564</td>\n",
              "    </tr>\n",
              "    <tr>\n",
              "      <th>44185</th>\n",
              "      <td>OLEO MOTOR LUBRAX TECNO SEMISINTETICO</td>\n",
              "      <td>49</td>\n",
              "    </tr>\n",
              "    <tr>\n",
              "      <th>68193</th>\n",
              "      <td>OLEO MOTOR LUBRAX TOP TURBO</td>\n",
              "      <td>2</td>\n",
              "    </tr>\n",
              "    <tr>\n",
              "      <th>75312</th>\n",
              "      <td>OLEO MOTOR LUBRAX TECNO SEMISINTETICO</td>\n",
              "      <td>102</td>\n",
              "    </tr>\n",
              "    <tr>\n",
              "      <th>87370</th>\n",
              "      <td>OLEO MOTOR 5W30 SINTETICO TITAN FUCHS (PENTOSIN)</td>\n",
              "      <td>38</td>\n",
              "    </tr>\n",
              "    <tr>\n",
              "      <th>88016</th>\n",
              "      <td>OLEO MOTOR LUBRAX ESSENCIAL MINERAL</td>\n",
              "      <td>4</td>\n",
              "    </tr>\n",
              "    <tr>\n",
              "      <th>101081</th>\n",
              "      <td>OLEO YAMALUBE PARA TRANSMISSAO DE MOTOR DE PO</td>\n",
              "      <td>15</td>\n",
              "    </tr>\n",
              "    <tr>\n",
              "      <th>114080</th>\n",
              "      <td>OLEO MOTOR LUBRAX TECNO SEMISINTETICO (ITEM 060)</td>\n",
              "      <td>2</td>\n",
              "    </tr>\n",
              "    <tr>\n",
              "      <th>115586</th>\n",
              "      <td>OLEO, MOTOR LUBRAX</td>\n",
              "      <td>666</td>\n",
              "    </tr>\n",
              "    <tr>\n",
              "      <th>131019</th>\n",
              "      <td>OLEO MOTOR LUBRAX TOP TURBO</td>\n",
              "      <td>2</td>\n",
              "    </tr>\n",
              "    <tr>\n",
              "      <th>131320</th>\n",
              "      <td>OLEO MOTOR LUBRAX TECNO SEMISINTETICO</td>\n",
              "      <td>45</td>\n",
              "    </tr>\n",
              "    <tr>\n",
              "      <th>133533</th>\n",
              "      <td>OLEO MOTOR LUBRAX ESSENCIAL MINERAL</td>\n",
              "      <td>6</td>\n",
              "    </tr>\n",
              "    <tr>\n",
              "      <th>144215</th>\n",
              "      <td>OLEO MOTOR LUBRAX VALORA SINTETICO FORD/GM</td>\n",
              "      <td>19</td>\n",
              "    </tr>\n",
              "    <tr>\n",
              "      <th>165126</th>\n",
              "      <td>OLEO MOTOR LUBRAX SUPERA SINTETICO FIAT/VW</td>\n",
              "      <td>3</td>\n",
              "    </tr>\n",
              "    <tr>\n",
              "      <th>168234</th>\n",
              "      <td>OLEO P/MOTOR 5W30 SINTETICO (CAR +)</td>\n",
              "      <td>11</td>\n",
              "    </tr>\n",
              "    <tr>\n",
              "      <th>177353</th>\n",
              "      <td>OLEO MOTOR / SEMI SINTETICO  API SL  ALC/GAS/GNV/FLEX</td>\n",
              "      <td>1</td>\n",
              "    </tr>\n",
              "    <tr>\n",
              "      <th>197952</th>\n",
              "      <td>OLEO MOTOR 5W30 SINTETICO API SN CAR+/MENZOIL</td>\n",
              "      <td>645</td>\n",
              "    </tr>\n",
              "    <tr>\n",
              "      <th>204317</th>\n",
              "      <td>OLEO MOTOR  RAM 15W40</td>\n",
              "      <td>22</td>\n",
              "    </tr>\n",
              "    <tr>\n",
              "      <th>221131</th>\n",
              "      <td>OLEO MOTOR LUBRAX SUPERA SINTETICO FIAT/VW</td>\n",
              "      <td>1</td>\n",
              "    </tr>\n",
              "    <tr>\n",
              "      <th>246915</th>\n",
              "      <td>OLEO MOTOR LUBRAX</td>\n",
              "      <td>8</td>\n",
              "    </tr>\n",
              "    <tr>\n",
              "      <th>278841</th>\n",
              "      <td>OLEO, MOTOR LUBRAX</td>\n",
              "      <td>420</td>\n",
              "    </tr>\n",
              "    <tr>\n",
              "      <th>303378</th>\n",
              "      <td>OLEO MOTOR / SEMI SINTETICO  API SL  ALC/GAS/GNV/FLEX</td>\n",
              "      <td>1</td>\n",
              "    </tr>\n",
              "    <tr>\n",
              "      <th>314749</th>\n",
              "      <td>OLEO MOTOR LUBRAX VALORA SINTETICO FORD/GM</td>\n",
              "      <td>28</td>\n",
              "    </tr>\n",
              "    <tr>\n",
              "      <th>322955</th>\n",
              "      <td>OLEO MOTOR LUBRAX 15W40 TOPTURBO</td>\n",
              "      <td>1</td>\n",
              "    </tr>\n",
              "    <tr>\n",
              "      <th>329451</th>\n",
              "      <td>OLEO P/MOTOR SEMI SINTETICO API SN10W40</td>\n",
              "      <td>1</td>\n",
              "    </tr>\n",
              "    <tr>\n",
              "      <th>330512</th>\n",
              "      <td>OLEO MOTOR 15W40 SEMI SINTETICO FI MASTER GAS/ALC/FLEX</td>\n",
              "      <td>9</td>\n",
              "    </tr>\n",
              "    <tr>\n",
              "      <th>345205</th>\n",
              "      <td>OLEO YAMALUBE PARA TRANSMISSAO DE MOTOR DE PO</td>\n",
              "      <td>29</td>\n",
              "    </tr>\n",
              "    <tr>\n",
              "      <th>349002</th>\n",
              "      <td>OLEO P/MOTOR- FIAT FIRE/VW GOL (MAX)= VS15W40SL</td>\n",
              "      <td>17</td>\n",
              "    </tr>\n",
              "    <tr>\n",
              "      <th>365644</th>\n",
              "      <td>OLEO MOTOR LUBRAX SUPERA SINTETICO FIAT/VW</td>\n",
              "      <td>25</td>\n",
              "    </tr>\n",
              "    <tr>\n",
              "      <th>381878</th>\n",
              "      <td>OLEO MOTOR LUBRAX 15W40 TOPTURBO</td>\n",
              "      <td>2</td>\n",
              "    </tr>\n",
              "    <tr>\n",
              "      <th>383406</th>\n",
              "      <td>OLEO MOTOR LUBRAX TOP TURBO</td>\n",
              "      <td>6</td>\n",
              "    </tr>\n",
              "    <tr>\n",
              "      <th>386932</th>\n",
              "      <td>OLEO P/MOTOR- FIAT FIRE/VW GOL (MAX)= VS15W40SL</td>\n",
              "      <td>32</td>\n",
              "    </tr>\n",
              "    <tr>\n",
              "      <th>400336</th>\n",
              "      <td>OLEO MOTOR  RAM 15W40</td>\n",
              "      <td>1</td>\n",
              "    </tr>\n",
              "    <tr>\n",
              "      <th>403513</th>\n",
              "      <td>OLEO MOTOR LUBRAX ESSENCIAL MINERAL</td>\n",
              "      <td>12</td>\n",
              "    </tr>\n",
              "    <tr>\n",
              "      <th>465876</th>\n",
              "      <td>OLEO MOTOR LUBRAX VALORA SINTETICO FORD/GM  (ITEM 010)</td>\n",
              "      <td>2</td>\n",
              "    </tr>\n",
              "    <tr>\n",
              "      <th>470046</th>\n",
              "      <td>OLEO P/MOTOR 5W30 SINTETICO (CAR +)</td>\n",
              "      <td>3</td>\n",
              "    </tr>\n",
              "    <tr>\n",
              "      <th>495545</th>\n",
              "      <td>OLEO MOTOR LUBRAX VALORA SINTETICO FORD/GM</td>\n",
              "      <td>11</td>\n",
              "    </tr>\n",
              "  </tbody>\n",
              "</table>\n",
              "</div>"
            ],
            "text/plain": [
              "                                                    PROD_XPROD  CONTAGEM\n",
              "5933                     OLEO MOTOR 5W30 CAR+ SINTETICO API SN       613\n",
              "11845        OLEO MOTOR LUBRAX TURBO DIESEL MINERAL (ITEM 510)         2\n",
              "30736                                    OLEO MOTOR  RAM 15W40       128\n",
              "35445    OLEO MOTOR / SEMI SINTETICO  API SL  ALC/GAS/GNV/FLEX         3\n",
              "36243                    OLEO MOTOR 5W30 CAR+ SINTETICO API SN       564\n",
              "44185                    OLEO MOTOR LUBRAX TECNO SEMISINTETICO        49\n",
              "68193                              OLEO MOTOR LUBRAX TOP TURBO         2\n",
              "75312                    OLEO MOTOR LUBRAX TECNO SEMISINTETICO       102\n",
              "87370         OLEO MOTOR 5W30 SINTETICO TITAN FUCHS (PENTOSIN)        38\n",
              "88016                      OLEO MOTOR LUBRAX ESSENCIAL MINERAL         4\n",
              "101081           OLEO YAMALUBE PARA TRANSMISSAO DE MOTOR DE PO        15\n",
              "114080        OLEO MOTOR LUBRAX TECNO SEMISINTETICO (ITEM 060)         2\n",
              "115586                                      OLEO, MOTOR LUBRAX       666\n",
              "131019                             OLEO MOTOR LUBRAX TOP TURBO         2\n",
              "131320                   OLEO MOTOR LUBRAX TECNO SEMISINTETICO        45\n",
              "133533                     OLEO MOTOR LUBRAX ESSENCIAL MINERAL         6\n",
              "144215              OLEO MOTOR LUBRAX VALORA SINTETICO FORD/GM        19\n",
              "165126              OLEO MOTOR LUBRAX SUPERA SINTETICO FIAT/VW         3\n",
              "168234                     OLEO P/MOTOR 5W30 SINTETICO (CAR +)        11\n",
              "177353   OLEO MOTOR / SEMI SINTETICO  API SL  ALC/GAS/GNV/FLEX         1\n",
              "197952           OLEO MOTOR 5W30 SINTETICO API SN CAR+/MENZOIL       645\n",
              "204317                                   OLEO MOTOR  RAM 15W40        22\n",
              "221131              OLEO MOTOR LUBRAX SUPERA SINTETICO FIAT/VW         1\n",
              "246915                                       OLEO MOTOR LUBRAX         8\n",
              "278841                                      OLEO, MOTOR LUBRAX       420\n",
              "303378   OLEO MOTOR / SEMI SINTETICO  API SL  ALC/GAS/GNV/FLEX         1\n",
              "314749              OLEO MOTOR LUBRAX VALORA SINTETICO FORD/GM        28\n",
              "322955                        OLEO MOTOR LUBRAX 15W40 TOPTURBO         1\n",
              "329451                 OLEO P/MOTOR SEMI SINTETICO API SN10W40         1\n",
              "330512  OLEO MOTOR 15W40 SEMI SINTETICO FI MASTER GAS/ALC/FLEX         9\n",
              "345205           OLEO YAMALUBE PARA TRANSMISSAO DE MOTOR DE PO        29\n",
              "349002         OLEO P/MOTOR- FIAT FIRE/VW GOL (MAX)= VS15W40SL        17\n",
              "365644              OLEO MOTOR LUBRAX SUPERA SINTETICO FIAT/VW        25\n",
              "381878                        OLEO MOTOR LUBRAX 15W40 TOPTURBO         2\n",
              "383406                             OLEO MOTOR LUBRAX TOP TURBO         6\n",
              "386932         OLEO P/MOTOR- FIAT FIRE/VW GOL (MAX)= VS15W40SL        32\n",
              "400336                                   OLEO MOTOR  RAM 15W40         1\n",
              "403513                     OLEO MOTOR LUBRAX ESSENCIAL MINERAL        12\n",
              "465876  OLEO MOTOR LUBRAX VALORA SINTETICO FORD/GM  (ITEM 010)         2\n",
              "470046                     OLEO P/MOTOR 5W30 SINTETICO (CAR +)         3\n",
              "495545              OLEO MOTOR LUBRAX VALORA SINTETICO FORD/GM        11"
            ]
          },
          "execution_count": 110,
          "metadata": {},
          "output_type": "execute_result"
        }
      ],
      "source": [
        "df[MASK_OLEO_MOTOR_SEM_PECAS][LABELS_2]"
      ]
    },
    {
      "cell_type": "code",
      "execution_count": null,
      "id": "4d133c65-07de-499b-98ce-353323e2b38d",
      "metadata": {
        "id": "4d133c65-07de-499b-98ce-353323e2b38d"
      },
      "outputs": [],
      "source": [
        "df_oleo_motor = df[MASK_OLEO_MOTOR_SEM_PECAS][LABELS_2]"
      ]
    },
    {
      "cell_type": "code",
      "execution_count": null,
      "id": "bc804386-f483-4d4f-b5f3-6b8ee39bfb00",
      "metadata": {
        "id": "bc804386-f483-4d4f-b5f3-6b8ee39bfb00"
      },
      "outputs": [],
      "source": [
        "df_oleo_motor['CODIGO_PRODUTO_SEFAZ'] = classif_dic['oleo']"
      ]
    },
    {
      "cell_type": "code",
      "execution_count": null,
      "id": "e2a07857-dc83-4aa3-9286-e8515490f180",
      "metadata": {
        "id": "e2a07857-dc83-4aa3-9286-e8515490f180"
      },
      "outputs": [],
      "source": [
        "df_oleo_motor.to_csv('labeled_cap87.csv', header=False, mode='a')"
      ]
    },
    {
      "cell_type": "code",
      "execution_count": null,
      "id": "1f2856ab-663a-4a9b-b058-5333447236b7",
      "metadata": {
        "tags": [],
        "id": "1f2856ab-663a-4a9b-b058-5333447236b7",
        "outputId": "907fa4ef-111e-4ceb-92cb-974d19331120"
      },
      "outputs": [
        {
          "data": {
            "text/html": [
              "<div>\n",
              "<style scoped>\n",
              "    .dataframe tbody tr th:only-of-type {\n",
              "        vertical-align: middle;\n",
              "    }\n",
              "\n",
              "    .dataframe tbody tr th {\n",
              "        vertical-align: top;\n",
              "    }\n",
              "\n",
              "    .dataframe thead th {\n",
              "        text-align: right;\n",
              "    }\n",
              "</style>\n",
              "<table border=\"1\" class=\"dataframe\">\n",
              "  <thead>\n",
              "    <tr style=\"text-align: right;\">\n",
              "      <th></th>\n",
              "      <th>PROD_XPROD</th>\n",
              "      <th>CONTAGEM</th>\n",
              "      <th>CODIGO_PRODUTO_SEFAZ</th>\n",
              "    </tr>\n",
              "  </thead>\n",
              "  <tbody>\n",
              "    <tr>\n",
              "      <th>5933</th>\n",
              "      <td>OLEO MOTOR 5W30 CAR+ SINTETICO API SN</td>\n",
              "      <td>613</td>\n",
              "      <td>10030566001</td>\n",
              "    </tr>\n",
              "    <tr>\n",
              "      <th>11845</th>\n",
              "      <td>OLEO MOTOR LUBRAX TURBO DIESEL MINERAL (ITEM 510)</td>\n",
              "      <td>2</td>\n",
              "      <td>10030566001</td>\n",
              "    </tr>\n",
              "    <tr>\n",
              "      <th>30736</th>\n",
              "      <td>OLEO MOTOR  RAM 15W40</td>\n",
              "      <td>128</td>\n",
              "      <td>10030566001</td>\n",
              "    </tr>\n",
              "    <tr>\n",
              "      <th>35445</th>\n",
              "      <td>OLEO MOTOR / SEMI SINTETICO  API SL  ALC/GAS/GNV/FLEX</td>\n",
              "      <td>3</td>\n",
              "      <td>10030566001</td>\n",
              "    </tr>\n",
              "    <tr>\n",
              "      <th>36243</th>\n",
              "      <td>OLEO MOTOR 5W30 CAR+ SINTETICO API SN</td>\n",
              "      <td>564</td>\n",
              "      <td>10030566001</td>\n",
              "    </tr>\n",
              "  </tbody>\n",
              "</table>\n",
              "</div>"
            ],
            "text/plain": [
              "                                                  PROD_XPROD  CONTAGEM  \\\n",
              "5933                   OLEO MOTOR 5W30 CAR+ SINTETICO API SN       613   \n",
              "11845      OLEO MOTOR LUBRAX TURBO DIESEL MINERAL (ITEM 510)         2   \n",
              "30736                                  OLEO MOTOR  RAM 15W40       128   \n",
              "35445  OLEO MOTOR / SEMI SINTETICO  API SL  ALC/GAS/GNV/FLEX         3   \n",
              "36243                  OLEO MOTOR 5W30 CAR+ SINTETICO API SN       564   \n",
              "\n",
              "       CODIGO_PRODUTO_SEFAZ  \n",
              "5933            10030566001  \n",
              "11845           10030566001  \n",
              "30736           10030566001  \n",
              "35445           10030566001  \n",
              "36243           10030566001  "
            ]
          },
          "execution_count": 114,
          "metadata": {},
          "output_type": "execute_result"
        }
      ],
      "source": [
        "df_oleo_motor.head()"
      ]
    },
    {
      "cell_type": "markdown",
      "id": "5123d555-a5f9-47c1-92fc-53ead0521f94",
      "metadata": {
        "id": "5123d555-a5f9-47c1-92fc-53ead0521f94"
      },
      "source": [
        "##### Partes e peças para bicicleta"
      ]
    },
    {
      "cell_type": "code",
      "execution_count": null,
      "id": "8442fd6a-d48e-4ff4-b25a-c3a375fa3f1d",
      "metadata": {
        "id": "8442fd6a-d48e-4ff4-b25a-c3a375fa3f1d"
      },
      "outputs": [],
      "source": [
        "peças_bicicleta = ['volante', 'coluna', 'caixa', 'barra', 'terminal', 'manga']"
      ]
    },
    {
      "cell_type": "code",
      "execution_count": null,
      "id": "f837282b-dea6-4bda-8179-08de90d7a5a1",
      "metadata": {
        "id": "f837282b-dea6-4bda-8179-08de90d7a5a1"
      },
      "outputs": [],
      "source": [
        "pattern_pecas_bicicleta= '^SELIM|[A-Z]{1,}\\sMTB|DE BICICLETA'"
      ]
    },
    {
      "cell_type": "code",
      "execution_count": null,
      "id": "143f7b36-363b-4436-910d-1f59e1bfdcc2",
      "metadata": {
        "id": "143f7b36-363b-4436-910d-1f59e1bfdcc2"
      },
      "outputs": [],
      "source": [
        "MASK_PECAS_BICICLETA = df[\"PROD_XPROD\"].str.contains(pattern_pecas_bicicleta, flags = re.IGNORECASE) & (df[\"PROD_VUNCOM\"] < 20000)"
      ]
    },
    {
      "cell_type": "code",
      "execution_count": null,
      "id": "ec5799ea-7ba2-4f7f-add6-5ba7a1b441a0",
      "metadata": {
        "id": "ec5799ea-7ba2-4f7f-add6-5ba7a1b441a0"
      },
      "outputs": [],
      "source": [
        "LABELS_2 = ['PROD_XPROD', 'CONTAGEM']"
      ]
    },
    {
      "cell_type": "code",
      "execution_count": null,
      "id": "0ecef03c-2c09-441a-830b-fa5e8ae1a1f1",
      "metadata": {
        "id": "0ecef03c-2c09-441a-830b-fa5e8ae1a1f1"
      },
      "outputs": [],
      "source": [
        "df_pecas_bicicleta = df[MASK_PECAS_BICICLETA][LABELS_2]"
      ]
    },
    {
      "cell_type": "code",
      "execution_count": null,
      "id": "883cccbe-bcbd-4cd6-a825-c20a257e0730",
      "metadata": {
        "tags": [],
        "id": "883cccbe-bcbd-4cd6-a825-c20a257e0730",
        "outputId": "f262d494-dd54-4ba9-baac-d76bc29f2abb"
      },
      "outputs": [
        {
          "data": {
            "text/plain": [
              "3343"
            ]
          },
          "execution_count": 120,
          "metadata": {},
          "output_type": "execute_result"
        }
      ],
      "source": [
        "len(df[ df[\"PROD_XPROD\"].str.contains('^SELIM|[A-Z]{1,}\\sMTB|DE BICICLETA', flags = re.IGNORECASE) & (df[\"PROD_VUNCOM\"] < 20000)])"
      ]
    },
    {
      "cell_type": "code",
      "execution_count": null,
      "id": "0c34e9d2-965c-40fb-9227-681a3e60134a",
      "metadata": {
        "id": "0c34e9d2-965c-40fb-9227-681a3e60134a"
      },
      "outputs": [],
      "source": [
        "df_pecas_bicicleta['CODIGO_PRODUTO_SEFAZ'] = 10030447006"
      ]
    },
    {
      "cell_type": "code",
      "execution_count": null,
      "id": "22d5474e-db8f-49f7-940f-57fe9153a69f",
      "metadata": {
        "tags": [],
        "id": "22d5474e-db8f-49f7-940f-57fe9153a69f",
        "outputId": "edc922d1-bb49-46b5-f722-f20aeac48493"
      },
      "outputs": [
        {
          "data": {
            "text/html": [
              "<div>\n",
              "<style scoped>\n",
              "    .dataframe tbody tr th:only-of-type {\n",
              "        vertical-align: middle;\n",
              "    }\n",
              "\n",
              "    .dataframe tbody tr th {\n",
              "        vertical-align: top;\n",
              "    }\n",
              "\n",
              "    .dataframe thead th {\n",
              "        text-align: right;\n",
              "    }\n",
              "</style>\n",
              "<table border=\"1\" class=\"dataframe\">\n",
              "  <thead>\n",
              "    <tr style=\"text-align: right;\">\n",
              "      <th></th>\n",
              "      <th>PROD_XPROD</th>\n",
              "      <th>CONTAGEM</th>\n",
              "      <th>CODIGO_PRODUTO_SEFAZ</th>\n",
              "    </tr>\n",
              "  </thead>\n",
              "  <tbody>\n",
              "    <tr>\n",
              "      <th>22</th>\n",
              "      <td>BC 29 PRETO/AZUL T17 SOUTH NEW MTB 24M F DISCO HID</td>\n",
              "      <td>8</td>\n",
              "      <td>10030447006</td>\n",
              "    </tr>\n",
              "    <tr>\n",
              "      <th>70</th>\n",
              "      <td>SUP AL MTB PTO 60MM - 31,8</td>\n",
              "      <td>4</td>\n",
              "      <td>10030447006</td>\n",
              "    </tr>\n",
              "    <tr>\n",
              "      <th>269</th>\n",
              "      <td>MACANETA AL MTB GLOMETAL POLIDA</td>\n",
              "      <td>141</td>\n",
              "      <td>10030447006</td>\n",
              "    </tr>\n",
              "    <tr>\n",
              "      <th>274</th>\n",
              "      <td>SELIM MTB PRETO RAVA</td>\n",
              "      <td>42</td>\n",
              "      <td>10030447006</td>\n",
              "    </tr>\n",
              "    <tr>\n",
              "      <th>287</th>\n",
              "      <td>SELIM MTB/SPEED AIRFLOW PTO/AZUL</td>\n",
              "      <td>1</td>\n",
              "      <td>10030447006</td>\n",
              "    </tr>\n",
              "  </tbody>\n",
              "</table>\n",
              "</div>"
            ],
            "text/plain": [
              "                                             PROD_XPROD  CONTAGEM  \\\n",
              "22   BC 29 PRETO/AZUL T17 SOUTH NEW MTB 24M F DISCO HID         8   \n",
              "70                           SUP AL MTB PTO 60MM - 31,8         4   \n",
              "269                     MACANETA AL MTB GLOMETAL POLIDA       141   \n",
              "274                                SELIM MTB PRETO RAVA        42   \n",
              "287                    SELIM MTB/SPEED AIRFLOW PTO/AZUL         1   \n",
              "\n",
              "     CODIGO_PRODUTO_SEFAZ  \n",
              "22            10030447006  \n",
              "70            10030447006  \n",
              "269           10030447006  \n",
              "274           10030447006  \n",
              "287           10030447006  "
            ]
          },
          "execution_count": 122,
          "metadata": {},
          "output_type": "execute_result"
        }
      ],
      "source": [
        "df_pecas_bicicleta.head()"
      ]
    },
    {
      "cell_type": "code",
      "execution_count": null,
      "id": "0f4509ba-1b78-4f0e-8bb3-62b80f734c35",
      "metadata": {
        "id": "0f4509ba-1b78-4f0e-8bb3-62b80f734c35"
      },
      "outputs": [],
      "source": [
        "df_pecas_bicicleta.to_csv('direcao.csv', header=False, mode='a')"
      ]
    },
    {
      "cell_type": "code",
      "execution_count": null,
      "id": "d0f42d58-34e7-4b09-97e4-4363bc51beae",
      "metadata": {
        "id": "d0f42d58-34e7-4b09-97e4-4363bc51beae"
      },
      "outputs": [],
      "source": [
        "df_pecas_bicicleta.to_csv('labeled_cap87.csv', header=False, mode='a')"
      ]
    },
    {
      "cell_type": "markdown",
      "id": "b3a00b32-f90c-4e77-869b-6941da6dc12f",
      "metadata": {
        "id": "b3a00b32-f90c-4e77-869b-6941da6dc12f"
      },
      "source": [
        "##### Outras partes de veículos"
      ]
    },
    {
      "cell_type": "markdown",
      "id": "ae95bee5-97c4-4cd5-b983-299d4a8a0ef2",
      "metadata": {
        "id": "ae95bee5-97c4-4cd5-b983-299d4a8a0ef2"
      },
      "source": [
        "##### Peças totais"
      ]
    },
    {
      "cell_type": "code",
      "execution_count": null,
      "id": "434b00a0-e08a-4fa6-98c9-20afce60b3ff",
      "metadata": {
        "tags": [],
        "id": "434b00a0-e08a-4fa6-98c9-20afce60b3ff"
      },
      "outputs": [],
      "source": [
        "MASK_PECAS = MASK_DIRECAO | MASK_FREIOS | MASK_LUBRIFICACAO | MASK_OLEO_MOTOR_SEM_PECAS | MASK_PEÇAS_LUBR | MASK_SUSPENSAO | MASK_TRANSMISSAO | MASK_PECAS_BICICLETA"
      ]
    },
    {
      "cell_type": "code",
      "execution_count": null,
      "id": "d2eb1418-b186-4807-a534-d16ea7220e2f",
      "metadata": {
        "id": "d2eb1418-b186-4807-a534-d16ea7220e2f",
        "outputId": "b8427fd4-ee26-43bf-b523-331ad9f22d6a"
      },
      "outputs": [
        {
          "data": {
            "text/html": [
              "<div>\n",
              "<style scoped>\n",
              "    .dataframe tbody tr th:only-of-type {\n",
              "        vertical-align: middle;\n",
              "    }\n",
              "\n",
              "    .dataframe tbody tr th {\n",
              "        vertical-align: top;\n",
              "    }\n",
              "\n",
              "    .dataframe thead th {\n",
              "        text-align: right;\n",
              "    }\n",
              "</style>\n",
              "<table border=\"1\" class=\"dataframe\">\n",
              "  <thead>\n",
              "    <tr style=\"text-align: right;\">\n",
              "      <th></th>\n",
              "      <th>PROD_XPROD</th>\n",
              "      <th>PROD_NCM</th>\n",
              "      <th>PROD_VUNCOM</th>\n",
              "      <th>CONTAGEM</th>\n",
              "      <th>NCM_POSICAO</th>\n",
              "      <th>IMPORTANCIA</th>\n",
              "      <th>POSICAO_NCM</th>\n",
              "    </tr>\n",
              "  </thead>\n",
              "  <tbody>\n",
              "    <tr>\n",
              "      <th>269677</th>\n",
              "      <td>INSUFLADOR RECALL -</td>\n",
              "      <td>87089522</td>\n",
              "      <td>32.97</td>\n",
              "      <td>3103</td>\n",
              "      <td>8708</td>\n",
              "      <td>102305.91</td>\n",
              "      <td>8708</td>\n",
              "    </tr>\n",
              "    <tr>\n",
              "      <th>38913</th>\n",
              "      <td>CESTA ARAME COMP 31X23X23 C/CINTO PTO</td>\n",
              "      <td>87149990</td>\n",
              "      <td>12.00</td>\n",
              "      <td>2873</td>\n",
              "      <td>8714</td>\n",
              "      <td>34476.00</td>\n",
              "      <td>8714</td>\n",
              "    </tr>\n",
              "    <tr>\n",
              "      <th>312975</th>\n",
              "      <td>KIT REVISAO HOP 1000</td>\n",
              "      <td>87141000</td>\n",
              "      <td>35.49</td>\n",
              "      <td>2778</td>\n",
              "      <td>8714</td>\n",
              "      <td>98591.22</td>\n",
              "      <td>8714</td>\n",
              "    </tr>\n",
              "    <tr>\n",
              "      <th>34036</th>\n",
              "      <td>GARFO DIANT DIR</td>\n",
              "      <td>87141000</td>\n",
              "      <td>14.67</td>\n",
              "      <td>2740</td>\n",
              "      <td>8714</td>\n",
              "      <td>40195.80</td>\n",
              "      <td>8714</td>\n",
              "    </tr>\n",
              "    <tr>\n",
              "      <th>7670</th>\n",
              "      <td>ARO P72 26X1.1-2 36F NATURAL</td>\n",
              "      <td>87149200</td>\n",
              "      <td>14.40</td>\n",
              "      <td>2544</td>\n",
              "      <td>8714</td>\n",
              "      <td>36633.60</td>\n",
              "      <td>8714</td>\n",
              "    </tr>\n",
              "    <tr>\n",
              "      <th>100551</th>\n",
              "      <td>PEDIVELA MONOBLOCO 165MM CROMADO</td>\n",
              "      <td>87149600</td>\n",
              "      <td>12.00</td>\n",
              "      <td>2495</td>\n",
              "      <td>8714</td>\n",
              "      <td>29940.00</td>\n",
              "      <td>8714</td>\n",
              "    </tr>\n",
              "    <tr>\n",
              "      <th>9282</th>\n",
              "      <td>401114 - PATIN FREIO DIANTTRAS TITAN KS TRAS ES - COBREQ</td>\n",
              "      <td>87141000</td>\n",
              "      <td>20.00</td>\n",
              "      <td>2418</td>\n",
              "      <td>8714</td>\n",
              "      <td>48360.00</td>\n",
              "      <td>8714</td>\n",
              "    </tr>\n",
              "    <tr>\n",
              "      <th>9269</th>\n",
              "      <td>ALAV.CAMBIO AL.DIR./ESQ. C/CABOS S/COND</td>\n",
              "      <td>87149990</td>\n",
              "      <td>5.02</td>\n",
              "      <td>2415</td>\n",
              "      <td>8714</td>\n",
              "      <td>12123.30</td>\n",
              "      <td>8714</td>\n",
              "    </tr>\n",
              "    <tr>\n",
              "      <th>85415</th>\n",
              "      <td>EIXO TR 3/8X175 PTO C/CX+COLR+ESP C/CUBO</td>\n",
              "      <td>87149990</td>\n",
              "      <td>3.36</td>\n",
              "      <td>2411</td>\n",
              "      <td>8714</td>\n",
              "      <td>8100.96</td>\n",
              "      <td>8714</td>\n",
              "    </tr>\n",
              "    <tr>\n",
              "      <th>199665</th>\n",
              "      <td>CURVA POTI NOVA (BRISA) CROMADO PIMONT</td>\n",
              "      <td>87149100</td>\n",
              "      <td>9.60</td>\n",
              "      <td>2346</td>\n",
              "      <td>8714</td>\n",
              "      <td>22521.60</td>\n",
              "      <td>8714</td>\n",
              "    </tr>\n",
              "    <tr>\n",
              "      <th>162506</th>\n",
              "      <td>CESTA ARAME COMP 35X25X26 C/CINTO PTO REF: WGCES00</td>\n",
              "      <td>87149990</td>\n",
              "      <td>14.00</td>\n",
              "      <td>2254</td>\n",
              "      <td>8714</td>\n",
              "      <td>31556.00</td>\n",
              "      <td>8714</td>\n",
              "    </tr>\n",
              "    <tr>\n",
              "      <th>416669</th>\n",
              "      <td>ISPIRAZIONE GENOVA LIVANTO</td>\n",
              "      <td>9012100</td>\n",
              "      <td>2.40</td>\n",
              "      <td>2173</td>\n",
              "      <td>9012</td>\n",
              "      <td>5215.20</td>\n",
              "      <td>9012</td>\n",
              "    </tr>\n",
              "    <tr>\n",
              "      <th>32377</th>\n",
              "      <td>RODA LIVRE 6V ACO MARRON/PRETA SF-SW-02 SHUNFENG</td>\n",
              "      <td>87149320</td>\n",
              "      <td>10.88</td>\n",
              "      <td>2100</td>\n",
              "      <td>8714</td>\n",
              "      <td>22848.00</td>\n",
              "      <td>8714</td>\n",
              "    </tr>\n",
              "    <tr>\n",
              "      <th>162346</th>\n",
              "      <td>RODA LIVRE 20D ACO MARRON SF-FW09 SHUNFENG</td>\n",
              "      <td>87149320</td>\n",
              "      <td>6.08</td>\n",
              "      <td>2061</td>\n",
              "      <td>8714</td>\n",
              "      <td>12530.88</td>\n",
              "      <td>8714</td>\n",
              "    </tr>\n",
              "    <tr>\n",
              "      <th>72698</th>\n",
              "      <td>ARO 26X1.9 AL 36F 26MM NATURAL (IGR)</td>\n",
              "      <td>87149200</td>\n",
              "      <td>11.60</td>\n",
              "      <td>1957</td>\n",
              "      <td>8714</td>\n",
              "      <td>22701.20</td>\n",
              "      <td>8714</td>\n",
              "    </tr>\n",
              "    <tr>\n",
              "      <th>7357</th>\n",
              "      <td>CONJUNTO BOLSA DO AI</td>\n",
              "      <td>87089521</td>\n",
              "      <td>122.92</td>\n",
              "      <td>1937</td>\n",
              "      <td>8708</td>\n",
              "      <td>238096.04</td>\n",
              "      <td>8708</td>\n",
              "    </tr>\n",
              "    <tr>\n",
              "      <th>74476</th>\n",
              "      <td>CABO FREIO TRAS 1.5MM-1800MM 19FIOS</td>\n",
              "      <td>87149490</td>\n",
              "      <td>0.80</td>\n",
              "      <td>1836</td>\n",
              "      <td>8714</td>\n",
              "      <td>1468.80</td>\n",
              "      <td>8714</td>\n",
              "    </tr>\n",
              "    <tr>\n",
              "      <th>96361</th>\n",
              "      <td>ARO P04 ESCAPE 260 26-36F PRETO</td>\n",
              "      <td>87149200</td>\n",
              "      <td>20.00</td>\n",
              "      <td>1777</td>\n",
              "      <td>8714</td>\n",
              "      <td>35540.00</td>\n",
              "      <td>8714</td>\n",
              "    </tr>\n",
              "    <tr>\n",
              "      <th>121159</th>\n",
              "      <td>BRACO ACO PTO. 170MM INDEX 28/38/48 C/CC</td>\n",
              "      <td>87149600</td>\n",
              "      <td>20.00</td>\n",
              "      <td>1744</td>\n",
              "      <td>8714</td>\n",
              "      <td>34880.00</td>\n",
              "      <td>8714</td>\n",
              "    </tr>\n",
              "    <tr>\n",
              "      <th>28709</th>\n",
              "      <td>BAGAGEIRO DOBRAVEL CROMADO</td>\n",
              "      <td>87149990</td>\n",
              "      <td>16.00</td>\n",
              "      <td>1706</td>\n",
              "      <td>8714</td>\n",
              "      <td>27296.00</td>\n",
              "      <td>8714</td>\n",
              "    </tr>\n",
              "  </tbody>\n",
              "</table>\n",
              "</div>"
            ],
            "text/plain": [
              "                                                      PROD_XPROD  PROD_NCM  \\\n",
              "269677                                       INSUFLADOR RECALL -  87089522   \n",
              "38913                      CESTA ARAME COMP 31X23X23 C/CINTO PTO  87149990   \n",
              "312975                                      KIT REVISAO HOP 1000  87141000   \n",
              "34036                                            GARFO DIANT DIR  87141000   \n",
              "7670                                ARO P72 26X1.1-2 36F NATURAL  87149200   \n",
              "100551                          PEDIVELA MONOBLOCO 165MM CROMADO  87149600   \n",
              "9282    401114 - PATIN FREIO DIANTTRAS TITAN KS TRAS ES - COBREQ  87141000   \n",
              "9269                     ALAV.CAMBIO AL.DIR./ESQ. C/CABOS S/COND  87149990   \n",
              "85415                   EIXO TR 3/8X175 PTO C/CX+COLR+ESP C/CUBO  87149990   \n",
              "199665                    CURVA POTI NOVA (BRISA) CROMADO PIMONT  87149100   \n",
              "162506        CESTA ARAME COMP 35X25X26 C/CINTO PTO REF: WGCES00  87149990   \n",
              "416669                                ISPIRAZIONE GENOVA LIVANTO   9012100   \n",
              "32377           RODA LIVRE 6V ACO MARRON/PRETA SF-SW-02 SHUNFENG  87149320   \n",
              "162346                RODA LIVRE 20D ACO MARRON SF-FW09 SHUNFENG  87149320   \n",
              "72698                       ARO 26X1.9 AL 36F 26MM NATURAL (IGR)  87149200   \n",
              "7357                                        CONJUNTO BOLSA DO AI  87089521   \n",
              "74476                        CABO FREIO TRAS 1.5MM-1800MM 19FIOS  87149490   \n",
              "96361                            ARO P04 ESCAPE 260 26-36F PRETO  87149200   \n",
              "121159                  BRACO ACO PTO. 170MM INDEX 28/38/48 C/CC  87149600   \n",
              "28709                                 BAGAGEIRO DOBRAVEL CROMADO  87149990   \n",
              "\n",
              "        PROD_VUNCOM  CONTAGEM NCM_POSICAO  IMPORTANCIA POSICAO_NCM  \n",
              "269677        32.97      3103        8708    102305.91        8708  \n",
              "38913         12.00      2873        8714     34476.00        8714  \n",
              "312975        35.49      2778        8714     98591.22        8714  \n",
              "34036         14.67      2740        8714     40195.80        8714  \n",
              "7670          14.40      2544        8714     36633.60        8714  \n",
              "100551        12.00      2495        8714     29940.00        8714  \n",
              "9282          20.00      2418        8714     48360.00        8714  \n",
              "9269           5.02      2415        8714     12123.30        8714  \n",
              "85415          3.36      2411        8714      8100.96        8714  \n",
              "199665         9.60      2346        8714     22521.60        8714  \n",
              "162506        14.00      2254        8714     31556.00        8714  \n",
              "416669         2.40      2173        9012      5215.20        9012  \n",
              "32377         10.88      2100        8714     22848.00        8714  \n",
              "162346         6.08      2061        8714     12530.88        8714  \n",
              "72698         11.60      1957        8714     22701.20        8714  \n",
              "7357         122.92      1937        8708    238096.04        8708  \n",
              "74476          0.80      1836        8714      1468.80        8714  \n",
              "96361         20.00      1777        8714     35540.00        8714  \n",
              "121159        20.00      1744        8714     34880.00        8714  \n",
              "28709         16.00      1706        8714     27296.00        8714  "
            ]
          },
          "execution_count": 126,
          "metadata": {},
          "output_type": "execute_result"
        }
      ],
      "source": [
        "df[~MASK_PECAS].sort_values(by='CONTAGEM', ascending=False).head(20)"
      ]
    },
    {
      "cell_type": "code",
      "execution_count": null,
      "id": "602ac67e-dc9e-46a6-b525-f880297c151f",
      "metadata": {
        "id": "602ac67e-dc9e-46a6-b525-f880297c151f"
      },
      "outputs": [],
      "source": [
        "df_nao_pecas = df[~MASK_PECAS].head(20)"
      ]
    },
    {
      "cell_type": "code",
      "execution_count": null,
      "id": "57fabc1c-24e3-41fb-8beb-f36f9e9ac8f6",
      "metadata": {
        "id": "57fabc1c-24e3-41fb-8beb-f36f9e9ac8f6"
      },
      "outputs": [],
      "source": [
        "df_nao_pecas.to_csv('nao_pecas.csv')"
      ]
    },
    {
      "cell_type": "markdown",
      "id": "69e94ad8-1811-4534-9afd-cb2753fb5298",
      "metadata": {
        "id": "69e94ad8-1811-4534-9afd-cb2753fb5298"
      },
      "source": [
        "##### Outras partes de veículos"
      ]
    },
    {
      "cell_type": "code",
      "execution_count": null,
      "id": "11b65099-8d26-4af0-adac-7c5c9b63bd2d",
      "metadata": {
        "id": "11b65099-8d26-4af0-adac-7c5c9b63bd2d"
      },
      "outputs": [],
      "source": [
        "pattern_outras_partes = r'reboque'"
      ]
    },
    {
      "cell_type": "code",
      "execution_count": null,
      "id": "92a38680-9c66-4956-8ef6-6b6f3570bb6f",
      "metadata": {
        "id": "92a38680-9c66-4956-8ef6-6b6f3570bb6f"
      },
      "outputs": [],
      "source": [
        "MASK_OUTRAS_PARTES = df[\"PROD_XPROD\"].str.contains(r'reboque', flags = re.IGNORECASE) & (df[\"PROD_VUNCOM\"] < 20000)"
      ]
    },
    {
      "cell_type": "code",
      "execution_count": null,
      "id": "50e3f6f7-8b84-45e1-9f05-a2158301174e",
      "metadata": {
        "id": "50e3f6f7-8b84-45e1-9f05-a2158301174e"
      },
      "outputs": [],
      "source": [
        "LABELS_2 = ['PROD_XPROD', 'CONTAGEM']"
      ]
    },
    {
      "cell_type": "code",
      "execution_count": null,
      "id": "731eeb69-0198-42ee-9dcc-1d1e2861121f",
      "metadata": {
        "id": "731eeb69-0198-42ee-9dcc-1d1e2861121f"
      },
      "outputs": [],
      "source": [
        "df_outras_partes = df[MASK_PECAS_BICICLETA][LABELS_2]"
      ]
    },
    {
      "cell_type": "code",
      "execution_count": null,
      "id": "53f10f5d-cf1d-4678-9c74-fa9d45639ed7",
      "metadata": {
        "id": "53f10f5d-cf1d-4678-9c74-fa9d45639ed7",
        "outputId": "18abc73b-de88-4399-a324-b28cb3432e39"
      },
      "outputs": [
        {
          "data": {
            "text/html": [
              "<div>\n",
              "<style scoped>\n",
              "    .dataframe tbody tr th:only-of-type {\n",
              "        vertical-align: middle;\n",
              "    }\n",
              "\n",
              "    .dataframe tbody tr th {\n",
              "        vertical-align: top;\n",
              "    }\n",
              "\n",
              "    .dataframe thead th {\n",
              "        text-align: right;\n",
              "    }\n",
              "</style>\n",
              "<table border=\"1\" class=\"dataframe\">\n",
              "  <thead>\n",
              "    <tr style=\"text-align: right;\">\n",
              "      <th></th>\n",
              "      <th>PROD_XPROD</th>\n",
              "      <th>PROD_NCM</th>\n",
              "      <th>PROD_VUNCOM</th>\n",
              "      <th>CONTAGEM</th>\n",
              "      <th>NCM_POSICAO</th>\n",
              "      <th>IMPORTANCIA</th>\n",
              "      <th>POSICAO_NCM</th>\n",
              "    </tr>\n",
              "  </thead>\n",
              "  <tbody>\n",
              "    <tr>\n",
              "      <th>115098</th>\n",
              "      <td>PLACA REBOQUE MERCOSUL</td>\n",
              "      <td>83100000</td>\n",
              "      <td>120.000</td>\n",
              "      <td>434</td>\n",
              "      <td>8310</td>\n",
              "      <td>5.208000e+04</td>\n",
              "      <td>8310</td>\n",
              "    </tr>\n",
              "    <tr>\n",
              "      <th>91119</th>\n",
              "      <td>REBOQUE AUXILIAR DOLLY 02 EIXOS</td>\n",
              "      <td>87163900</td>\n",
              "      <td>50000.000</td>\n",
              "      <td>417</td>\n",
              "      <td>8716</td>\n",
              "      <td>2.085000e+07</td>\n",
              "      <td>8716</td>\n",
              "    </tr>\n",
              "    <tr>\n",
              "      <th>95762</th>\n",
              "      <td>PV960-0K010 ENGATE REBOQUE TOYOTA HILUX 16- (PA)</td>\n",
              "      <td>87169090</td>\n",
              "      <td>830.360</td>\n",
              "      <td>406</td>\n",
              "      <td>8716</td>\n",
              "      <td>3.371262e+05</td>\n",
              "      <td>8716</td>\n",
              "    </tr>\n",
              "    <tr>\n",
              "      <th>209833</th>\n",
              "      <td>DISPOSITIVO DE REBOQUE COM ACOPLAMENTO</td>\n",
              "      <td>87042190</td>\n",
              "      <td>768.260</td>\n",
              "      <td>366</td>\n",
              "      <td>8704</td>\n",
              "      <td>2.811832e+05</td>\n",
              "      <td>8704</td>\n",
              "    </tr>\n",
              "    <tr>\n",
              "      <th>31159</th>\n",
              "      <td>PV960-0K010 ENGATE REBOQUE TOYOTA HILUX 16- (PA)</td>\n",
              "      <td>87169090</td>\n",
              "      <td>712.160</td>\n",
              "      <td>309</td>\n",
              "      <td>8716</td>\n",
              "      <td>2.200574e+05</td>\n",
              "      <td>8716</td>\n",
              "    </tr>\n",
              "    <tr>\n",
              "      <th>...</th>\n",
              "      <td>...</td>\n",
              "      <td>...</td>\n",
              "      <td>...</td>\n",
              "      <td>...</td>\n",
              "      <td>...</td>\n",
              "      <td>...</td>\n",
              "      <td>...</td>\n",
              "    </tr>\n",
              "    <tr>\n",
              "      <th>316975</th>\n",
              "      <td>TAMPA - GANCHO DE REBOQUE</td>\n",
              "      <td>39263000</td>\n",
              "      <td>343.340</td>\n",
              "      <td>1</td>\n",
              "      <td>3926</td>\n",
              "      <td>3.433400e+02</td>\n",
              "      <td>3926</td>\n",
              "    </tr>\n",
              "    <tr>\n",
              "      <th>316435</th>\n",
              "      <td>ENGATE PARA REBOQUE FIAT STRADA ADVENTURE 2004/2017 500KG FIXO</td>\n",
              "      <td>87169090</td>\n",
              "      <td>55.026</td>\n",
              "      <td>1</td>\n",
              "      <td>8716</td>\n",
              "      <td>5.502600e+01</td>\n",
              "      <td>8716</td>\n",
              "    </tr>\n",
              "    <tr>\n",
              "      <th>316434</th>\n",
              "      <td>ENGATE PARA REBOQUE FIAT ARGO 2017 500KG FIXO</td>\n",
              "      <td>87169090</td>\n",
              "      <td>48.514</td>\n",
              "      <td>1</td>\n",
              "      <td>8716</td>\n",
              "      <td>4.851400e+01</td>\n",
              "      <td>8716</td>\n",
              "    </tr>\n",
              "    <tr>\n",
              "      <th>102753</th>\n",
              "      <td>Engate Para Reboque Honda New Civic 2017 Em Diante - 400kg de Tracao</td>\n",
              "      <td>87169090</td>\n",
              "      <td>169.900</td>\n",
              "      <td>1</td>\n",
              "      <td>8716</td>\n",
              "      <td>1.699000e+02</td>\n",
              "      <td>8716</td>\n",
              "    </tr>\n",
              "    <tr>\n",
              "      <th>499810</th>\n",
              "      <td>ENGATE REBOQUE KEKO ASX</td>\n",
              "      <td>87169090</td>\n",
              "      <td>809.900</td>\n",
              "      <td>1</td>\n",
              "      <td>8716</td>\n",
              "      <td>8.099000e+02</td>\n",
              "      <td>8716</td>\n",
              "    </tr>\n",
              "  </tbody>\n",
              "</table>\n",
              "<p>936 rows × 7 columns</p>\n",
              "</div>"
            ],
            "text/plain": [
              "                                                                  PROD_XPROD  \\\n",
              "115098                                                PLACA REBOQUE MERCOSUL   \n",
              "91119                                        REBOQUE AUXILIAR DOLLY 02 EIXOS   \n",
              "95762                       PV960-0K010 ENGATE REBOQUE TOYOTA HILUX 16- (PA)   \n",
              "209833                                DISPOSITIVO DE REBOQUE COM ACOPLAMENTO   \n",
              "31159                       PV960-0K010 ENGATE REBOQUE TOYOTA HILUX 16- (PA)   \n",
              "...                                                                      ...   \n",
              "316975                                             TAMPA - GANCHO DE REBOQUE   \n",
              "316435        ENGATE PARA REBOQUE FIAT STRADA ADVENTURE 2004/2017 500KG FIXO   \n",
              "316434                         ENGATE PARA REBOQUE FIAT ARGO 2017 500KG FIXO   \n",
              "102753  Engate Para Reboque Honda New Civic 2017 Em Diante - 400kg de Tracao   \n",
              "499810                                               ENGATE REBOQUE KEKO ASX   \n",
              "\n",
              "        PROD_NCM  PROD_VUNCOM  CONTAGEM NCM_POSICAO   IMPORTANCIA POSICAO_NCM  \n",
              "115098  83100000      120.000       434        8310  5.208000e+04        8310  \n",
              "91119   87163900    50000.000       417        8716  2.085000e+07        8716  \n",
              "95762   87169090      830.360       406        8716  3.371262e+05        8716  \n",
              "209833  87042190      768.260       366        8704  2.811832e+05        8704  \n",
              "31159   87169090      712.160       309        8716  2.200574e+05        8716  \n",
              "...          ...          ...       ...         ...           ...         ...  \n",
              "316975  39263000      343.340         1        3926  3.433400e+02        3926  \n",
              "316435  87169090       55.026         1        8716  5.502600e+01        8716  \n",
              "316434  87169090       48.514         1        8716  4.851400e+01        8716  \n",
              "102753  87169090      169.900         1        8716  1.699000e+02        8716  \n",
              "499810  87169090      809.900         1        8716  8.099000e+02        8716  \n",
              "\n",
              "[936 rows x 7 columns]"
            ]
          },
          "execution_count": 133,
          "metadata": {},
          "output_type": "execute_result"
        }
      ],
      "source": [
        "df[df[\"PROD_XPROD\"].str.contains(r'reboque', flags = re.IGNORECASE)].sort_values(by='CONTAGEM', ascending=False)"
      ]
    },
    {
      "cell_type": "code",
      "execution_count": null,
      "id": "27d2907e-6a26-40ae-9f91-c05849e06fef",
      "metadata": {
        "tags": [],
        "id": "27d2907e-6a26-40ae-9f91-c05849e06fef",
        "outputId": "37461e94-42de-4973-b8a1-2b333963764b"
      },
      "outputs": [
        {
          "data": {
            "text/plain": [
              "139"
            ]
          },
          "execution_count": 134,
          "metadata": {},
          "output_type": "execute_result"
        }
      ],
      "source": [
        "len(df[ df[\"PROD_XPROD\"].str.contains(r'REB\\s', flags = re.IGNORECASE)])"
      ]
    },
    {
      "cell_type": "code",
      "execution_count": null,
      "id": "9acbf9e3-9b21-4d68-903e-af3327465b07",
      "metadata": {
        "id": "9acbf9e3-9b21-4d68-903e-af3327465b07",
        "outputId": "7e54d10a-c303-430e-e932-f54ffc1348a0"
      },
      "outputs": [
        {
          "data": {
            "text/html": [
              "<div>\n",
              "<style scoped>\n",
              "    .dataframe tbody tr th:only-of-type {\n",
              "        vertical-align: middle;\n",
              "    }\n",
              "\n",
              "    .dataframe tbody tr th {\n",
              "        vertical-align: top;\n",
              "    }\n",
              "\n",
              "    .dataframe thead th {\n",
              "        text-align: right;\n",
              "    }\n",
              "</style>\n",
              "<table border=\"1\" class=\"dataframe\">\n",
              "  <thead>\n",
              "    <tr style=\"text-align: right;\">\n",
              "      <th></th>\n",
              "      <th>PROD_XPROD</th>\n",
              "      <th>PROD_NCM</th>\n",
              "      <th>PROD_VUNCOM</th>\n",
              "      <th>CONTAGEM</th>\n",
              "      <th>NCM_POSICAO</th>\n",
              "      <th>IMPORTANCIA</th>\n",
              "      <th>POSICAO_NCM</th>\n",
              "    </tr>\n",
              "  </thead>\n",
              "  <tbody>\n",
              "    <tr>\n",
              "      <th>81</th>\n",
              "      <td>REBITE DA GRADE DO RADIADOR</td>\n",
              "      <td>87082999</td>\n",
              "      <td>2.6036</td>\n",
              "      <td>3</td>\n",
              "      <td>8708</td>\n",
              "      <td>7.8108</td>\n",
              "      <td>8708</td>\n",
              "    </tr>\n",
              "    <tr>\n",
              "      <th>336</th>\n",
              "      <td>REB ROSCA REC 5/16 FIN ACO LT: 15170</td>\n",
              "      <td>73182300</td>\n",
              "      <td>23.0600</td>\n",
              "      <td>3</td>\n",
              "      <td>7318</td>\n",
              "      <td>69.1800</td>\n",
              "      <td>7318</td>\n",
              "    </tr>\n",
              "    <tr>\n",
              "      <th>352</th>\n",
              "      <td>SINALEIRA MARTE LED COM RE BIVOLT CARRETINHA CARRETA REBOQUE</td>\n",
              "      <td>87163900</td>\n",
              "      <td>145.9200</td>\n",
              "      <td>9</td>\n",
              "      <td>8716</td>\n",
              "      <td>1313.2800</td>\n",
              "      <td>8716</td>\n",
              "    </tr>\n",
              "    <tr>\n",
              "      <th>837</th>\n",
              "      <td>ACABAMENTO DA TAMPA DO REBOQUE TRASEIRO</td>\n",
              "      <td>87081000</td>\n",
              "      <td>586.9700</td>\n",
              "      <td>1</td>\n",
              "      <td>8708</td>\n",
              "      <td>586.9700</td>\n",
              "      <td>8708</td>\n",
              "    </tr>\n",
              "    <tr>\n",
              "      <th>1018</th>\n",
              "      <td>BIC 20 MTB MASC REB SUPER BOY PTO</td>\n",
              "      <td>87120010</td>\n",
              "      <td>387.8700</td>\n",
              "      <td>30</td>\n",
              "      <td>8712</td>\n",
              "      <td>11636.1000</td>\n",
              "      <td>8712</td>\n",
              "    </tr>\n",
              "    <tr>\n",
              "      <th>...</th>\n",
              "      <td>...</td>\n",
              "      <td>...</td>\n",
              "      <td>...</td>\n",
              "      <td>...</td>\n",
              "      <td>...</td>\n",
              "      <td>...</td>\n",
              "      <td>...</td>\n",
              "    </tr>\n",
              "    <tr>\n",
              "      <th>496877</th>\n",
              "      <td>CARRETAREB COR PRETA MARCA/MOD.R.REBOQUES EM EMA 750 COD 717308 ANO/MODELO 2021/2021 CAP 0.52T CHASSI 950EM7501MM000118</td>\n",
              "      <td>87164000</td>\n",
              "      <td>4200.0000</td>\n",
              "      <td>1</td>\n",
              "      <td>8716</td>\n",
              "      <td>4200.0000</td>\n",
              "      <td>8716</td>\n",
              "    </tr>\n",
              "    <tr>\n",
              "      <th>497902</th>\n",
              "      <td>PONTEIRA DO ENGATE DE REBOQUE</td>\n",
              "      <td>87169090</td>\n",
              "      <td>277.0000</td>\n",
              "      <td>1</td>\n",
              "      <td>8716</td>\n",
              "      <td>277.0000</td>\n",
              "      <td>8716</td>\n",
              "    </tr>\n",
              "    <tr>\n",
              "      <th>498760</th>\n",
              "      <td>TOMADA P/REBOQUE PRETA 6P MACHO 0018 ENGATCAR</td>\n",
              "      <td>87169090</td>\n",
              "      <td>8.8200</td>\n",
              "      <td>22</td>\n",
              "      <td>8716</td>\n",
              "      <td>194.0400</td>\n",
              "      <td>8716</td>\n",
              "    </tr>\n",
              "    <tr>\n",
              "      <th>499098</th>\n",
              "      <td>ENGATE PARA REBOQUE HYUNDAI HB20 2011/2017 500KG FIXO</td>\n",
              "      <td>87169090</td>\n",
              "      <td>48.5140</td>\n",
              "      <td>1</td>\n",
              "      <td>8716</td>\n",
              "      <td>48.5140</td>\n",
              "      <td>8716</td>\n",
              "    </tr>\n",
              "    <tr>\n",
              "      <th>499810</th>\n",
              "      <td>ENGATE REBOQUE KEKO ASX</td>\n",
              "      <td>87169090</td>\n",
              "      <td>809.9000</td>\n",
              "      <td>1</td>\n",
              "      <td>8716</td>\n",
              "      <td>809.9000</td>\n",
              "      <td>8716</td>\n",
              "    </tr>\n",
              "  </tbody>\n",
              "</table>\n",
              "<p>1440 rows × 7 columns</p>\n",
              "</div>"
            ],
            "text/plain": [
              "                                                                                                                     PROD_XPROD  \\\n",
              "81                                                                                                  REBITE DA GRADE DO RADIADOR   \n",
              "336                                                                                        REB ROSCA REC 5/16 FIN ACO LT: 15170   \n",
              "352                                                                SINALEIRA MARTE LED COM RE BIVOLT CARRETINHA CARRETA REBOQUE   \n",
              "837                                                                                     ACABAMENTO DA TAMPA DO REBOQUE TRASEIRO   \n",
              "1018                                                                                          BIC 20 MTB MASC REB SUPER BOY PTO   \n",
              "...                                                                                                                         ...   \n",
              "496877  CARRETAREB COR PRETA MARCA/MOD.R.REBOQUES EM EMA 750 COD 717308 ANO/MODELO 2021/2021 CAP 0.52T CHASSI 950EM7501MM000118   \n",
              "497902                                                                                            PONTEIRA DO ENGATE DE REBOQUE   \n",
              "498760                                                                            TOMADA P/REBOQUE PRETA 6P MACHO 0018 ENGATCAR   \n",
              "499098                                                                    ENGATE PARA REBOQUE HYUNDAI HB20 2011/2017 500KG FIXO   \n",
              "499810                                                                                                  ENGATE REBOQUE KEKO ASX   \n",
              "\n",
              "        PROD_NCM  PROD_VUNCOM  CONTAGEM NCM_POSICAO  IMPORTANCIA POSICAO_NCM  \n",
              "81      87082999       2.6036         3        8708       7.8108        8708  \n",
              "336     73182300      23.0600         3        7318      69.1800        7318  \n",
              "352     87163900     145.9200         9        8716    1313.2800        8716  \n",
              "837     87081000     586.9700         1        8708     586.9700        8708  \n",
              "1018    87120010     387.8700        30        8712   11636.1000        8712  \n",
              "...          ...          ...       ...         ...          ...         ...  \n",
              "496877  87164000    4200.0000         1        8716    4200.0000        8716  \n",
              "497902  87169090     277.0000         1        8716     277.0000        8716  \n",
              "498760  87169090       8.8200        22        8716     194.0400        8716  \n",
              "499098  87169090      48.5140         1        8716      48.5140        8716  \n",
              "499810  87169090     809.9000         1        8716     809.9000        8716  \n",
              "\n",
              "[1440 rows x 7 columns]"
            ]
          },
          "execution_count": 135,
          "metadata": {},
          "output_type": "execute_result"
        }
      ],
      "source": [
        "df[ df[\"PROD_XPROD\"].str.contains(r'REB') ]"
      ]
    },
    {
      "cell_type": "code",
      "execution_count": null,
      "id": "43dc4aed-7611-43e8-859c-8aaa55f7226a",
      "metadata": {
        "id": "43dc4aed-7611-43e8-859c-8aaa55f7226a"
      },
      "outputs": [],
      "source": [
        "df_outras_partes['CODIGO_PRODUTO_SEFAZ'] = 10030447007"
      ]
    },
    {
      "cell_type": "code",
      "execution_count": null,
      "id": "d6a21457-77f0-4591-9dca-3db1e86f3ef1",
      "metadata": {
        "tags": [],
        "id": "d6a21457-77f0-4591-9dca-3db1e86f3ef1",
        "outputId": "c964c5af-1576-4af8-fd07-e2f6a6c06d86"
      },
      "outputs": [
        {
          "data": {
            "text/html": [
              "<div>\n",
              "<style scoped>\n",
              "    .dataframe tbody tr th:only-of-type {\n",
              "        vertical-align: middle;\n",
              "    }\n",
              "\n",
              "    .dataframe tbody tr th {\n",
              "        vertical-align: top;\n",
              "    }\n",
              "\n",
              "    .dataframe thead th {\n",
              "        text-align: right;\n",
              "    }\n",
              "</style>\n",
              "<table border=\"1\" class=\"dataframe\">\n",
              "  <thead>\n",
              "    <tr style=\"text-align: right;\">\n",
              "      <th></th>\n",
              "      <th>PROD_XPROD</th>\n",
              "      <th>CONTAGEM</th>\n",
              "      <th>CODIGO_PRODUTO_SEFAZ</th>\n",
              "    </tr>\n",
              "  </thead>\n",
              "  <tbody>\n",
              "    <tr>\n",
              "      <th>22</th>\n",
              "      <td>BC 29 PRETO/AZUL T17 SOUTH NEW MTB 24M F DISCO HID</td>\n",
              "      <td>8</td>\n",
              "      <td>10030447006</td>\n",
              "    </tr>\n",
              "    <tr>\n",
              "      <th>70</th>\n",
              "      <td>SUP AL MTB PTO 60MM - 31,8</td>\n",
              "      <td>4</td>\n",
              "      <td>10030447006</td>\n",
              "    </tr>\n",
              "    <tr>\n",
              "      <th>269</th>\n",
              "      <td>MACANETA AL MTB GLOMETAL POLIDA</td>\n",
              "      <td>141</td>\n",
              "      <td>10030447006</td>\n",
              "    </tr>\n",
              "    <tr>\n",
              "      <th>274</th>\n",
              "      <td>SELIM MTB PRETO RAVA</td>\n",
              "      <td>42</td>\n",
              "      <td>10030447006</td>\n",
              "    </tr>\n",
              "    <tr>\n",
              "      <th>287</th>\n",
              "      <td>SELIM MTB/SPEED AIRFLOW PTO/AZUL</td>\n",
              "      <td>1</td>\n",
              "      <td>10030447006</td>\n",
              "    </tr>\n",
              "  </tbody>\n",
              "</table>\n",
              "</div>"
            ],
            "text/plain": [
              "                                             PROD_XPROD  CONTAGEM  \\\n",
              "22   BC 29 PRETO/AZUL T17 SOUTH NEW MTB 24M F DISCO HID         8   \n",
              "70                           SUP AL MTB PTO 60MM - 31,8         4   \n",
              "269                     MACANETA AL MTB GLOMETAL POLIDA       141   \n",
              "274                                SELIM MTB PRETO RAVA        42   \n",
              "287                    SELIM MTB/SPEED AIRFLOW PTO/AZUL         1   \n",
              "\n",
              "     CODIGO_PRODUTO_SEFAZ  \n",
              "22            10030447006  \n",
              "70            10030447006  \n",
              "269           10030447006  \n",
              "274           10030447006  \n",
              "287           10030447006  "
            ]
          },
          "execution_count": 137,
          "metadata": {},
          "output_type": "execute_result"
        }
      ],
      "source": [
        "df_pecas_bicicleta.head()"
      ]
    },
    {
      "cell_type": "code",
      "execution_count": null,
      "id": "542faba9-ceb2-4126-ba75-06af6ab3340f",
      "metadata": {
        "id": "542faba9-ceb2-4126-ba75-06af6ab3340f"
      },
      "outputs": [],
      "source": [
        "df_pecas_bicicleta.to_csv('direcao.csv', header=False, mode='a')"
      ]
    },
    {
      "cell_type": "code",
      "execution_count": null,
      "id": "f7397011-248f-4926-a1da-95fdac61311d",
      "metadata": {
        "id": "f7397011-248f-4926-a1da-95fdac61311d"
      },
      "outputs": [],
      "source": [
        "df_pecas_bicicleta.to_csv('labeled_cap87.csv', header=False, mode='a')"
      ]
    },
    {
      "cell_type": "markdown",
      "id": "c24ef89e-c50f-44af-9543-70cd9dfdc6bb",
      "metadata": {
        "id": "c24ef89e-c50f-44af-9543-70cd9dfdc6bb"
      },
      "source": [
        "### Veículos"
      ]
    },
    {
      "cell_type": "markdown",
      "id": "34b43b98-e92a-4df5-a4dc-1706faf265ac",
      "metadata": {
        "id": "34b43b98-e92a-4df5-a4dc-1706faf265ac"
      },
      "source": [
        "##### Uso da métrica QDE X VALOR"
      ]
    },
    {
      "cell_type": "code",
      "execution_count": null,
      "id": "72f6421e-3364-42fa-87b3-6fbd305a73b6",
      "metadata": {
        "tags": [],
        "id": "72f6421e-3364-42fa-87b3-6fbd305a73b6",
        "outputId": "b55aab86-86fa-47cc-bdc1-1af0a2210118"
      },
      "outputs": [
        {
          "data": {
            "text/html": [
              "<div>\n",
              "<style scoped>\n",
              "    .dataframe tbody tr th:only-of-type {\n",
              "        vertical-align: middle;\n",
              "    }\n",
              "\n",
              "    .dataframe tbody tr th {\n",
              "        vertical-align: top;\n",
              "    }\n",
              "\n",
              "    .dataframe thead th {\n",
              "        text-align: right;\n",
              "    }\n",
              "</style>\n",
              "<table border=\"1\" class=\"dataframe\">\n",
              "  <thead>\n",
              "    <tr style=\"text-align: right;\">\n",
              "      <th></th>\n",
              "      <th>PROD_XPROD</th>\n",
              "      <th>PROD_NCM</th>\n",
              "      <th>PROD_VUNCOM</th>\n",
              "      <th>CONTAGEM</th>\n",
              "      <th>NCM_POSICAO</th>\n",
              "      <th>IMPORTANCIA</th>\n",
              "      <th>POSICAO_NCM</th>\n",
              "    </tr>\n",
              "  </thead>\n",
              "  <tbody>\n",
              "    <tr>\n",
              "      <th>0</th>\n",
              "      <td>C-2005 CILINDRO MESTRE S/RESERV - CTL</td>\n",
              "      <td>87083090</td>\n",
              "      <td>52.900</td>\n",
              "      <td>1</td>\n",
              "      <td>8708</td>\n",
              "      <td>52.900</td>\n",
              "      <td>8708</td>\n",
              "    </tr>\n",
              "    <tr>\n",
              "      <th>1</th>\n",
              "      <td>PARA LAMA DIANTEIRO DIR 326   05 1025473</td>\n",
              "      <td>87082991</td>\n",
              "      <td>306.600</td>\n",
              "      <td>1</td>\n",
              "      <td>8708</td>\n",
              "      <td>306.600</td>\n",
              "      <td>8708</td>\n",
              "    </tr>\n",
              "    <tr>\n",
              "      <th>2</th>\n",
              "      <td>KIT RELACAO TRANSM BIZ125 ORI:4</td>\n",
              "      <td>87141000</td>\n",
              "      <td>77.060</td>\n",
              "      <td>38</td>\n",
              "      <td>8714</td>\n",
              "      <td>2928.280</td>\n",
              "      <td>8714</td>\n",
              "    </tr>\n",
              "    <tr>\n",
              "      <th>3</th>\n",
              "      <td>PIVO LD/LE HB20 12/... - JBJ287 IP</td>\n",
              "      <td>87088000</td>\n",
              "      <td>24.470</td>\n",
              "      <td>1</td>\n",
              "      <td>8708</td>\n",
              "      <td>24.470</td>\n",
              "      <td>8708</td>\n",
              "    </tr>\n",
              "    <tr>\n",
              "      <th>4</th>\n",
              "      <td>MEDIDORES DISNEY</td>\n",
              "      <td>39241000</td>\n",
              "      <td>8.290</td>\n",
              "      <td>21</td>\n",
              "      <td>3924</td>\n",
              "      <td>174.090</td>\n",
              "      <td>3924</td>\n",
              "    </tr>\n",
              "    <tr>\n",
              "      <th>5</th>\n",
              "      <td>PD/82 _ PD/1788</td>\n",
              "      <td>87083019</td>\n",
              "      <td>31.080</td>\n",
              "      <td>157</td>\n",
              "      <td>8708</td>\n",
              "      <td>4879.560</td>\n",
              "      <td>8708</td>\n",
              "    </tr>\n",
              "    <tr>\n",
              "      <th>6</th>\n",
              "      <td>ALAV. CABO CAPO S/ CABO GOL/VOY/SA/PAR</td>\n",
              "      <td>87082999</td>\n",
              "      <td>2.735</td>\n",
              "      <td>3</td>\n",
              "      <td>8708</td>\n",
              "      <td>8.205</td>\n",
              "      <td>8708</td>\n",
              "    </tr>\n",
              "    <tr>\n",
              "      <th>7</th>\n",
              "      <td>BRACO DA SUSPENSAO DIANTEIRA DIREITA</td>\n",
              "      <td>87088000</td>\n",
              "      <td>1256.040</td>\n",
              "      <td>35</td>\n",
              "      <td>8708</td>\n",
              "      <td>43961.400</td>\n",
              "      <td>8708</td>\n",
              "    </tr>\n",
              "    <tr>\n",
              "      <th>8</th>\n",
              "      <td>ARTICULACAO AXIAL ROSCA MACHO</td>\n",
              "      <td>87089990</td>\n",
              "      <td>28.465</td>\n",
              "      <td>1</td>\n",
              "      <td>8708</td>\n",
              "      <td>28.465</td>\n",
              "      <td>8708</td>\n",
              "    </tr>\n",
              "    <tr>\n",
              "      <th>9</th>\n",
              "      <td>K40073 - KIT ESTABILIZADOR DIREITO E ESQ</td>\n",
              "      <td>84099190</td>\n",
              "      <td>2.203</td>\n",
              "      <td>1</td>\n",
              "      <td>8409</td>\n",
              "      <td>2.203</td>\n",
              "      <td>8409</td>\n",
              "    </tr>\n",
              "  </tbody>\n",
              "</table>\n",
              "</div>"
            ],
            "text/plain": [
              "                                 PROD_XPROD  PROD_NCM  PROD_VUNCOM  CONTAGEM  \\\n",
              "0     C-2005 CILINDRO MESTRE S/RESERV - CTL  87083090       52.900         1   \n",
              "1  PARA LAMA DIANTEIRO DIR 326   05 1025473  87082991      306.600         1   \n",
              "2           KIT RELACAO TRANSM BIZ125 ORI:4  87141000       77.060        38   \n",
              "3        PIVO LD/LE HB20 12/... - JBJ287 IP  87088000       24.470         1   \n",
              "4                          MEDIDORES DISNEY  39241000        8.290        21   \n",
              "5                           PD/82 _ PD/1788  87083019       31.080       157   \n",
              "6    ALAV. CABO CAPO S/ CABO GOL/VOY/SA/PAR  87082999        2.735         3   \n",
              "7      BRACO DA SUSPENSAO DIANTEIRA DIREITA  87088000     1256.040        35   \n",
              "8             ARTICULACAO AXIAL ROSCA MACHO  87089990       28.465         1   \n",
              "9  K40073 - KIT ESTABILIZADOR DIREITO E ESQ  84099190        2.203         1   \n",
              "\n",
              "  NCM_POSICAO  IMPORTANCIA POSICAO_NCM  \n",
              "0        8708       52.900        8708  \n",
              "1        8708      306.600        8708  \n",
              "2        8714     2928.280        8714  \n",
              "3        8708       24.470        8708  \n",
              "4        3924      174.090        3924  \n",
              "5        8708     4879.560        8708  \n",
              "6        8708        8.205        8708  \n",
              "7        8708    43961.400        8708  \n",
              "8        8708       28.465        8708  \n",
              "9        8409        2.203        8409  "
            ]
          },
          "execution_count": 140,
          "metadata": {},
          "output_type": "execute_result"
        }
      ],
      "source": [
        "df.head(10)"
      ]
    },
    {
      "cell_type": "code",
      "execution_count": null,
      "id": "19e29d07-a596-44a2-aa6a-407ac6165f4d",
      "metadata": {
        "id": "19e29d07-a596-44a2-aa6a-407ac6165f4d"
      },
      "outputs": [],
      "source": [
        "carros_caminhonete = ['corolla', 'hilux', 'taos', 'saveiro', 'hb20', 'sw4', 's10' ,'amarok']"
      ]
    },
    {
      "cell_type": "code",
      "execution_count": null,
      "id": "4c030c2b-52c8-46d9-82c7-19b24fd3185b",
      "metadata": {
        "id": "4c030c2b-52c8-46d9-82c7-19b24fd3185b",
        "outputId": "1f00e2b3-cc26-444f-b290-d913e3dda6c2"
      },
      "outputs": [
        {
          "data": {
            "text/plain": [
              "'corolla|hilux|taos|saveiro|hb20|sw4|s10|amarok'"
            ]
          },
          "execution_count": 142,
          "metadata": {},
          "output_type": "execute_result"
        }
      ],
      "source": [
        "r'|'.join(carros_caminhonete)"
      ]
    },
    {
      "cell_type": "code",
      "execution_count": null,
      "id": "c89d74b9-e39f-45e4-82ce-ff702937e3b5",
      "metadata": {
        "id": "c89d74b9-e39f-45e4-82ce-ff702937e3b5"
      },
      "outputs": [],
      "source": [
        "pattern_carros = r'corolla|hilux|taos|saveiro|hb20|sw4|s10|amarok'"
      ]
    },
    {
      "cell_type": "code",
      "execution_count": null,
      "id": "38359d13-e3a4-49c0-a71b-51b95788eb74",
      "metadata": {
        "id": "38359d13-e3a4-49c0-a71b-51b95788eb74"
      },
      "outputs": [],
      "source": [
        "corpus_cap87 = \" \".join(df.PROD_XPROD)"
      ]
    },
    {
      "cell_type": "code",
      "execution_count": null,
      "id": "8d088c24-d64f-4875-ab27-3aff36f44aa2",
      "metadata": {
        "id": "8d088c24-d64f-4875-ab27-3aff36f44aa2"
      },
      "outputs": [],
      "source": [
        "carros_caminhonete_qde = len(re.findall(pattern_carros, corpus_cap87, flags = re.IGNORECASE))"
      ]
    },
    {
      "cell_type": "code",
      "execution_count": null,
      "id": "602bc188-a61e-45f0-b97b-91e4570b32d2",
      "metadata": {
        "id": "602bc188-a61e-45f0-b97b-91e4570b32d2"
      },
      "outputs": [],
      "source": [
        "caminhao_qde = len(re.findall(r'caminhao.*', corpus_cap87, flags = re.IGNORECASE))"
      ]
    },
    {
      "cell_type": "code",
      "execution_count": null,
      "id": "35e945c8-cfe9-45c0-84cc-53e86310e25a",
      "metadata": {
        "id": "35e945c8-cfe9-45c0-84cc-53e86310e25a"
      },
      "outputs": [],
      "source": [
        "tratores_qde = len(re.findall(r'trator.*', corpus_cap87, flags = re.IGNORECASE))"
      ]
    },
    {
      "cell_type": "code",
      "execution_count": null,
      "id": "9db9f037-eac3-484c-b35b-b47183e0215a",
      "metadata": {
        "id": "9db9f037-eac3-484c-b35b-b47183e0215a"
      },
      "outputs": [],
      "source": [
        "motocicletas_qde = len(re.findall(r'motocicleta.*', corpus_cap87, flags = re.IGNORECASE))"
      ]
    },
    {
      "cell_type": "code",
      "execution_count": null,
      "id": "91a8ebb9-1de6-4b65-82e5-17bb2196d729",
      "metadata": {
        "id": "91a8ebb9-1de6-4b65-82e5-17bb2196d729"
      },
      "outputs": [],
      "source": [
        "veiculos = carros_caminhonete_qde + caminhao_qde + tratores_qde + motocicletas_qde"
      ]
    },
    {
      "cell_type": "markdown",
      "id": "f7cd6e60-e8f8-47b5-bdc6-96c58df8eb30",
      "metadata": {
        "toc-hr-collapsed": true,
        "id": "f7cd6e60-e8f8-47b5-bdc6-96c58df8eb30"
      },
      "source": [
        "##### Percentual de carros:"
      ]
    },
    {
      "cell_type": "code",
      "execution_count": null,
      "id": "c518b791-0678-4637-9081-eef30e29e3a5",
      "metadata": {
        "id": "c518b791-0678-4637-9081-eef30e29e3a5"
      },
      "outputs": [],
      "source": [
        "perc_carro_caminhonete = round(carros_caminhonete_qde / veiculos * 100, 1)"
      ]
    },
    {
      "cell_type": "code",
      "execution_count": null,
      "id": "70d294b8-22bd-418a-9f99-254a0d71816b",
      "metadata": {
        "id": "70d294b8-22bd-418a-9f99-254a0d71816b",
        "outputId": "4d5da90b-3b7f-4faa-b928-44acd20fcc42"
      },
      "outputs": [
        {
          "data": {
            "text/plain": [
              "100.0"
            ]
          },
          "execution_count": 151,
          "metadata": {},
          "output_type": "execute_result"
        }
      ],
      "source": [
        "perc_carro_caminhonete"
      ]
    },
    {
      "cell_type": "markdown",
      "id": "cd8aa73b-4ab5-4c4e-bbf6-3ca43c7b8322",
      "metadata": {
        "id": "cd8aa73b-4ab5-4c4e-bbf6-3ca43c7b8322"
      },
      "source": [
        "##### Tabela veículos"
      ]
    },
    {
      "cell_type": "code",
      "execution_count": null,
      "id": "27b7865a-7ca3-4e8c-8027-06d2b3009d99",
      "metadata": {
        "id": "27b7865a-7ca3-4e8c-8027-06d2b3009d99"
      },
      "outputs": [],
      "source": [
        "indesejaveis = ['RTGR9']"
      ]
    },
    {
      "cell_type": "markdown",
      "id": "ad3d6a54-cbc9-4f72-87da-a85909c4a002",
      "metadata": {
        "id": "ad3d6a54-cbc9-4f72-87da-a85909c4a002"
      },
      "source": [
        "##### Verificando alguns veículos na tabela:"
      ]
    },
    {
      "cell_type": "code",
      "execution_count": null,
      "id": "fa9fc9b1-d7dd-4770-a81d-21a26eae2ee8",
      "metadata": {
        "tags": [],
        "id": "fa9fc9b1-d7dd-4770-a81d-21a26eae2ee8"
      },
      "outputs": [],
      "source": [
        "###### Chevrolet S10"
      ]
    },
    {
      "cell_type": "code",
      "execution_count": null,
      "id": "8b32f00d-d5c6-4e79-93a6-180652e57946",
      "metadata": {
        "tags": [],
        "id": "8b32f00d-d5c6-4e79-93a6-180652e57946"
      },
      "outputs": [],
      "source": [
        "pattern_S10 = r'CHEVROLET'"
      ]
    },
    {
      "cell_type": "code",
      "execution_count": null,
      "id": "f40f8779-ac31-4bf4-a004-60bcfc21b338",
      "metadata": {
        "tags": [],
        "id": "f40f8779-ac31-4bf4-a004-60bcfc21b338"
      },
      "outputs": [],
      "source": [
        "mask_s10 = (df[\"PROD_XPROD\"].str.contains(pattern_S10, flags = re.IGNORECASE) == True) & (df[\"PROD_VUNCOM\"] > 20000)"
      ]
    },
    {
      "cell_type": "code",
      "execution_count": null,
      "id": "a3b90121-ce10-4781-b3df-b5e78816a0ea",
      "metadata": {
        "id": "a3b90121-ce10-4781-b3df-b5e78816a0ea"
      },
      "outputs": [],
      "source": [
        "LABELS = ['PROD_XPROD', 'PROD_VUNCOM', 'CONTAGEM']"
      ]
    },
    {
      "cell_type": "code",
      "execution_count": null,
      "id": "e8f19c16-5aca-4a58-bd90-74803a099108",
      "metadata": {
        "tags": [],
        "id": "e8f19c16-5aca-4a58-bd90-74803a099108",
        "outputId": "10a74677-2b05-4b2a-96f9-a20209df7f24"
      },
      "outputs": [
        {
          "data": {
            "text/html": [
              "<div>\n",
              "<style scoped>\n",
              "    .dataframe tbody tr th:only-of-type {\n",
              "        vertical-align: middle;\n",
              "    }\n",
              "\n",
              "    .dataframe tbody tr th {\n",
              "        vertical-align: top;\n",
              "    }\n",
              "\n",
              "    .dataframe thead th {\n",
              "        text-align: right;\n",
              "    }\n",
              "</style>\n",
              "<table border=\"1\" class=\"dataframe\">\n",
              "  <thead>\n",
              "    <tr style=\"text-align: right;\">\n",
              "      <th></th>\n",
              "      <th>PROD_XPROD</th>\n",
              "      <th>PROD_VUNCOM</th>\n",
              "      <th>CONTAGEM</th>\n",
              "    </tr>\n",
              "  </thead>\n",
              "  <tbody>\n",
              "    <tr>\n",
              "      <th>87</th>\n",
              "      <td>CHEVROLET/ONIX 1.4AT ACT* MODELO 149596*</td>\n",
              "      <td>54822.98</td>\n",
              "      <td>110</td>\n",
              "    </tr>\n",
              "    <tr>\n",
              "      <th>3364</th>\n",
              "      <td>CHEVROLET/ONIX 1.4AT LT* MODELO 149583*</td>\n",
              "      <td>49503.85</td>\n",
              "      <td>5</td>\n",
              "    </tr>\n",
              "    <tr>\n",
              "      <th>3642</th>\n",
              "      <td>CHEVROLET/S10 LT DD4A *M.MODELO 220531*</td>\n",
              "      <td>132363.48</td>\n",
              "      <td>2</td>\n",
              "    </tr>\n",
              "    <tr>\n",
              "      <th>4548</th>\n",
              "      <td>CHEVROLET/ONIX 1.0MT LT* MODELO 149572*</td>\n",
              "      <td>40634.66</td>\n",
              "      <td>27</td>\n",
              "    </tr>\n",
              "    <tr>\n",
              "      <th>5993</th>\n",
              "      <td>CHASSIS :9BGEA69H0LG222265 CHEVROLET/ONIX PLUS</td>\n",
              "      <td>64000.00</td>\n",
              "      <td>3</td>\n",
              "    </tr>\n",
              "    <tr>\n",
              "      <th>6423</th>\n",
              "      <td>CHEVROLET/ONIX 1.4MT ACT* MODELO 149595*</td>\n",
              "      <td>49308.32</td>\n",
              "      <td>31</td>\n",
              "    </tr>\n",
              "    <tr>\n",
              "      <th>7696</th>\n",
              "      <td>CHEVROLET/S10 LTZ DD4A*M.MODELO 220529*</td>\n",
              "      <td>155212.05</td>\n",
              "      <td>17</td>\n",
              "    </tr>\n",
              "    <tr>\n",
              "      <th>8497</th>\n",
              "      <td>CHASSI: 9BG148MK0NC403918 - MOTOR: LWN F211231139 - 148MKN CHEVROLET/S10 LTZ DD4A *220529* - LOTACAO: 5</td>\n",
              "      <td>220000.00</td>\n",
              "      <td>1</td>\n",
              "    </tr>\n",
              "    <tr>\n",
              "      <th>10557</th>\n",
              "      <td>CHEVROLET/COBALT 18M LTZ *M.MOD. 107150*</td>\n",
              "      <td>53603.75</td>\n",
              "      <td>1</td>\n",
              "    </tr>\n",
              "    <tr>\n",
              "      <th>10986</th>\n",
              "      <td>CHEVROLET/S10 LTZ FD4A *M MODELO 220566*</td>\n",
              "      <td>108624.10</td>\n",
              "      <td>4</td>\n",
              "    </tr>\n",
              "  </tbody>\n",
              "</table>\n",
              "</div>"
            ],
            "text/plain": [
              "                                                                                                    PROD_XPROD  \\\n",
              "87                                                                    CHEVROLET/ONIX 1.4AT ACT* MODELO 149596*   \n",
              "3364                                                                   CHEVROLET/ONIX 1.4AT LT* MODELO 149583*   \n",
              "3642                                                                   CHEVROLET/S10 LT DD4A *M.MODELO 220531*   \n",
              "4548                                                                   CHEVROLET/ONIX 1.0MT LT* MODELO 149572*   \n",
              "5993                                                            CHASSIS :9BGEA69H0LG222265 CHEVROLET/ONIX PLUS   \n",
              "6423                                                                  CHEVROLET/ONIX 1.4MT ACT* MODELO 149595*   \n",
              "7696                                                                   CHEVROLET/S10 LTZ DD4A*M.MODELO 220529*   \n",
              "8497   CHASSI: 9BG148MK0NC403918 - MOTOR: LWN F211231139 - 148MKN CHEVROLET/S10 LTZ DD4A *220529* - LOTACAO: 5   \n",
              "10557                                                                 CHEVROLET/COBALT 18M LTZ *M.MOD. 107150*   \n",
              "10986                                                                 CHEVROLET/S10 LTZ FD4A *M MODELO 220566*   \n",
              "\n",
              "       PROD_VUNCOM  CONTAGEM  \n",
              "87        54822.98       110  \n",
              "3364      49503.85         5  \n",
              "3642     132363.48         2  \n",
              "4548      40634.66        27  \n",
              "5993      64000.00         3  \n",
              "6423      49308.32        31  \n",
              "7696     155212.05        17  \n",
              "8497     220000.00         1  \n",
              "10557     53603.75         1  \n",
              "10986    108624.10         4  "
            ]
          },
          "execution_count": 158,
          "metadata": {},
          "output_type": "execute_result"
        }
      ],
      "source": [
        "df[mask_s10][LABELS].head(10)"
      ]
    },
    {
      "cell_type": "code",
      "execution_count": null,
      "id": "548c6a20-bb4c-41c7-90f6-14034dbd90f6",
      "metadata": {
        "id": "548c6a20-bb4c-41c7-90f6-14034dbd90f6"
      },
      "outputs": [],
      "source": [
        "###### HB20"
      ]
    },
    {
      "cell_type": "code",
      "execution_count": null,
      "id": "918f36cd-872e-470d-bf2a-ecc538b5f20a",
      "metadata": {
        "tags": [],
        "id": "918f36cd-872e-470d-bf2a-ecc538b5f20a"
      },
      "outputs": [],
      "source": [
        "pattern_hb20 = r'HB20'"
      ]
    },
    {
      "cell_type": "code",
      "execution_count": null,
      "id": "56314245-b579-480e-9087-db2b483ed948",
      "metadata": {
        "tags": [],
        "id": "56314245-b579-480e-9087-db2b483ed948"
      },
      "outputs": [],
      "source": [
        "mask_hb20 = (df[\"PROD_XPROD\"].str.contains(pattern_hb20, flags = re.IGNORECASE) == True) & (df[\"PROD_VUNCOM\"] > 20000)"
      ]
    },
    {
      "cell_type": "code",
      "execution_count": null,
      "id": "bfde4ce5-99b5-48c1-b41b-2c1476200aa0",
      "metadata": {
        "tags": [],
        "id": "bfde4ce5-99b5-48c1-b41b-2c1476200aa0",
        "outputId": "28ab19ca-b259-46b8-9056-b373a1b9507f"
      },
      "outputs": [
        {
          "data": {
            "text/html": [
              "<div>\n",
              "<style scoped>\n",
              "    .dataframe tbody tr th:only-of-type {\n",
              "        vertical-align: middle;\n",
              "    }\n",
              "\n",
              "    .dataframe tbody tr th {\n",
              "        vertical-align: top;\n",
              "    }\n",
              "\n",
              "    .dataframe thead th {\n",
              "        text-align: right;\n",
              "    }\n",
              "</style>\n",
              "<table border=\"1\" class=\"dataframe\">\n",
              "  <thead>\n",
              "    <tr style=\"text-align: right;\">\n",
              "      <th></th>\n",
              "      <th>PROD_XPROD</th>\n",
              "      <th>PROD_VUNCOM</th>\n",
              "      <th>CONTAGEM</th>\n",
              "    </tr>\n",
              "  </thead>\n",
              "  <tbody>\n",
              "    <tr>\n",
              "      <th>2109</th>\n",
              "      <td>HB20 1.0 COMFORT PLUS 12V FLEX 4P MANUAL</td>\n",
              "      <td>53900.00</td>\n",
              "      <td>1</td>\n",
              "    </tr>\n",
              "    <tr>\n",
              "      <th>3344</th>\n",
              "      <td>NEW HB20X 1.6AT DIAMOND</td>\n",
              "      <td>61908.85</td>\n",
              "      <td>2</td>\n",
              "    </tr>\n",
              "    <tr>\n",
              "      <th>8092</th>\n",
              "      <td>NEW HB20X 1.6AT DIAMOND</td>\n",
              "      <td>59538.53</td>\n",
              "      <td>10</td>\n",
              "    </tr>\n",
              "    <tr>\n",
              "      <th>10190</th>\n",
              "      <td>HB20 1.0 MT TURBO COMFORT PLUS BM</td>\n",
              "      <td>54990.00</td>\n",
              "      <td>1</td>\n",
              "    </tr>\n",
              "    <tr>\n",
              "      <th>10503</th>\n",
              "      <td>HB20 1.0MT UNIQUE</td>\n",
              "      <td>46640.00</td>\n",
              "      <td>1</td>\n",
              "    </tr>\n",
              "    <tr>\n",
              "      <th>11684</th>\n",
              "      <td>HB20 1.0MT UNIQUE BLUEAUDIO</td>\n",
              "      <td>44990.00</td>\n",
              "      <td>75</td>\n",
              "    </tr>\n",
              "    <tr>\n",
              "      <th>12275</th>\n",
              "      <td>HB20S 1.6MT COMFORT</td>\n",
              "      <td>45532.74</td>\n",
              "      <td>54</td>\n",
              "    </tr>\n",
              "    <tr>\n",
              "      <th>12616</th>\n",
              "      <td>VU-HYUNDAI/HB20 1.0M COMFOR</td>\n",
              "      <td>36000.00</td>\n",
              "      <td>6</td>\n",
              "    </tr>\n",
              "    <tr>\n",
              "      <th>15535</th>\n",
              "      <td>HB20 1.6MT COMFORT PLUS BLUEAUDIO</td>\n",
              "      <td>52500.00</td>\n",
              "      <td>3</td>\n",
              "    </tr>\n",
              "    <tr>\n",
              "      <th>15612</th>\n",
              "      <td>HB20 1.6AT COMFORT PLUS EDICAO MILION</td>\n",
              "      <td>66390.00</td>\n",
              "      <td>1</td>\n",
              "    </tr>\n",
              "  </tbody>\n",
              "</table>\n",
              "</div>"
            ],
            "text/plain": [
              "                                     PROD_XPROD  PROD_VUNCOM  CONTAGEM\n",
              "2109   HB20 1.0 COMFORT PLUS 12V FLEX 4P MANUAL     53900.00         1\n",
              "3344                    NEW HB20X 1.6AT DIAMOND     61908.85         2\n",
              "8092                    NEW HB20X 1.6AT DIAMOND     59538.53        10\n",
              "10190         HB20 1.0 MT TURBO COMFORT PLUS BM     54990.00         1\n",
              "10503                         HB20 1.0MT UNIQUE     46640.00         1\n",
              "11684               HB20 1.0MT UNIQUE BLUEAUDIO     44990.00        75\n",
              "12275                       HB20S 1.6MT COMFORT     45532.74        54\n",
              "12616               VU-HYUNDAI/HB20 1.0M COMFOR     36000.00         6\n",
              "15535         HB20 1.6MT COMFORT PLUS BLUEAUDIO     52500.00         3\n",
              "15612     HB20 1.6AT COMFORT PLUS EDICAO MILION     66390.00         1"
            ]
          },
          "execution_count": 163,
          "metadata": {},
          "output_type": "execute_result"
        }
      ],
      "source": [
        "df[mask_hb20][LABELS].head(10)"
      ]
    },
    {
      "cell_type": "code",
      "execution_count": null,
      "id": "89054b82-e92f-4421-b6cf-5ee85febe89f",
      "metadata": {
        "tags": [],
        "id": "89054b82-e92f-4421-b6cf-5ee85febe89f"
      },
      "outputs": [],
      "source": [
        "carros_caminhonetes = ['corolla', 'hilux', 'taos', 'saveiro', 'hb20', 'sw4', 's10' ,'amarok']"
      ]
    },
    {
      "cell_type": "code",
      "execution_count": null,
      "id": "26ac83b3-ef40-45e3-b824-efd0044225bd",
      "metadata": {
        "id": "26ac83b3-ef40-45e3-b824-efd0044225bd"
      },
      "outputs": [],
      "source": [
        "marcas = ['fiat', 'volkswagen', 'chevrolet', 'hiunday', 'toyota', 'jeep', 'renault', 'honda', 'nissan', 'caoa chery']"
      ]
    },
    {
      "cell_type": "code",
      "execution_count": null,
      "id": "3897c47c-4cd3-4143-94e7-f369e66e43c9",
      "metadata": {
        "id": "3897c47c-4cd3-4143-94e7-f369e66e43c9"
      },
      "outputs": [],
      "source": [
        "def regex_with_or_groups(*grupo1, flag1a=\"?>\", flag_1b=\"?\"):\n",
        "    def regex_group2(*grupo2, flag2a=\"\", flag_2b=\"\"):\n",
        "        g1 = \"|\".join(grupo1)\n",
        "        g2 = \"|\".join(grupo2)\n",
        "        return \"^\" + \"(\" + flag1a + g1 + \")\" + \"(\" + g2 + \")\" + flag_2b\n",
        "    return regex_group2"
      ]
    },
    {
      "cell_type": "code",
      "execution_count": null,
      "id": "a10ea400-5bf9-427f-a595-bd9549a6cc5d",
      "metadata": {
        "id": "a10ea400-5bf9-427f-a595-bd9549a6cc5d",
        "outputId": "0f47d45e-5ce9-40e4-8762-4a067e96d1b8"
      },
      "outputs": [
        {
          "data": {
            "text/plain": [
              "'^(?>fiat|volkswagen|chevrolet|hiunday|toyota|jeep|renault|honda|nissan|caoa chery)(corolla|hilux|taos|saveiro|hb20|sw4|s10|amarok)'"
            ]
          },
          "execution_count": 167,
          "metadata": {},
          "output_type": "execute_result"
        }
      ],
      "source": [
        "regex_with_or_groups(*marcas)(*carros_caminhonete)"
      ]
    },
    {
      "cell_type": "markdown",
      "id": "e5121ea1-cdab-4300-807a-91c821890f82",
      "metadata": {
        "id": "e5121ea1-cdab-4300-807a-91c821890f82"
      },
      "source": [
        "###### carros + caminhonetes"
      ]
    },
    {
      "cell_type": "code",
      "execution_count": null,
      "id": "2084c3d5-4e73-4808-9981-5cc7140bee88",
      "metadata": {
        "id": "2084c3d5-4e73-4808-9981-5cc7140bee88"
      },
      "outputs": [],
      "source": [
        "# A peça de reposição mais cara é o motor de caminhão 19k reais.\n",
        "# A condição básica de um veículo é custar mais caro do que a parte."
      ]
    },
    {
      "cell_type": "code",
      "execution_count": null,
      "id": "a5ce729c-a762-4ed2-b6eb-e770ef383aae",
      "metadata": {
        "id": "a5ce729c-a762-4ed2-b6eb-e770ef383aae"
      },
      "outputs": [],
      "source": [
        "pattern_carros_caminhonetes = r'^(I[/])?(BZ12U4|BZ12Q4)?(VEICULO|VOLKSWAGEN|VW|CHEV|FIAT|HIUNDAI|RAM)?([\\s/])?(NOV[OA])?(COROLLA|HILUX|TAOS|SAVEIRO|HB20|TRACKER|T[\\-\\s]CROSS|JEEP|TRAILBLAZER|GOL|VIRTUS|NIVUS|POLO|UP|CRETA|FOX|SW4|CHEVROLET|S10|AMAROK|RAM)'"
      ]
    },
    {
      "cell_type": "code",
      "execution_count": null,
      "id": "4572950a-1288-4269-b37c-23548cc4a8b2",
      "metadata": {
        "id": "4572950a-1288-4269-b37c-23548cc4a8b2"
      },
      "outputs": [],
      "source": [
        "MASK_CARROS_CAMINHONETE = (df[\"PROD_XPROD\"].str.contains(pattern_carros_caminhonetes) == True) & (df[\"PROD_VUNCOM\"] > 20000)"
      ]
    },
    {
      "cell_type": "code",
      "execution_count": null,
      "id": "1a1c8cd3-69f2-4e4b-b2bf-3fc74fd69429",
      "metadata": {
        "id": "1a1c8cd3-69f2-4e4b-b2bf-3fc74fd69429"
      },
      "outputs": [],
      "source": [
        "LABELS_2 = ['PROD_XPROD', 'CONTAGEM']"
      ]
    },
    {
      "cell_type": "code",
      "execution_count": null,
      "id": "418096bc-73cb-41a5-a719-19a7d1958b42",
      "metadata": {
        "id": "418096bc-73cb-41a5-a719-19a7d1958b42",
        "outputId": "49106f1e-f4ee-41ba-80a6-5a7b58b26b58"
      },
      "outputs": [
        {
          "data": {
            "text/plain": [
              "1797"
            ]
          },
          "execution_count": 172,
          "metadata": {},
          "output_type": "execute_result"
        }
      ],
      "source": [
        "len(df[(df[\"PROD_XPROD\"].str.contains(r'^(I[/])?(BZ12U4|BZ12Q4)?([\\s/])?(AUTOMOVEL|VEICULO|VOLKSWAGEN|VW|CHEV|FIAT|HIUNDAI|RAM)?([\\s/])?(NOV[OA])?(COROLLA|HILUX|TAOS|SAVEIRO|HB20|TRACKER|TRAILBLAZER|T[\\-\\s]CROSS|JEEP|GOL|VIRTUS|NIVUS|POLO|CRETA|UP|FOX|SW4|CHEVROLET|S10|AMAROK|RAM)', flags = re.IGNORECASE) == True) & (df[\"PROD_VUNCOM\"] > 20000)])"
      ]
    },
    {
      "cell_type": "code",
      "execution_count": null,
      "id": "cfcfdd8c-faf2-4fa0-9233-97ec34f00f93",
      "metadata": {
        "id": "cfcfdd8c-faf2-4fa0-9233-97ec34f00f93",
        "outputId": "dd803ad8-9556-45d6-8f7d-7d5c29dec709"
      },
      "outputs": [
        {
          "data": {
            "text/html": [
              "<div>\n",
              "<style scoped>\n",
              "    .dataframe tbody tr th:only-of-type {\n",
              "        vertical-align: middle;\n",
              "    }\n",
              "\n",
              "    .dataframe tbody tr th {\n",
              "        vertical-align: top;\n",
              "    }\n",
              "\n",
              "    .dataframe thead th {\n",
              "        text-align: right;\n",
              "    }\n",
              "</style>\n",
              "<table border=\"1\" class=\"dataframe\">\n",
              "  <thead>\n",
              "    <tr style=\"text-align: right;\">\n",
              "      <th></th>\n",
              "      <th>PROD_XPROD</th>\n",
              "      <th>PROD_NCM</th>\n",
              "      <th>PROD_VUNCOM</th>\n",
              "      <th>CONTAGEM</th>\n",
              "      <th>NCM_POSICAO</th>\n",
              "      <th>IMPORTANCIA</th>\n",
              "      <th>POSICAO_NCM</th>\n",
              "    </tr>\n",
              "  </thead>\n",
              "  <tbody>\n",
              "    <tr>\n",
              "      <th>87</th>\n",
              "      <td>CHEVROLET/ONIX 1.4AT ACT* MODELO 149596*</td>\n",
              "      <td>87032210</td>\n",
              "      <td>54822.98</td>\n",
              "      <td>110</td>\n",
              "      <td>8703</td>\n",
              "      <td>6030527.80</td>\n",
              "      <td>8703</td>\n",
              "    </tr>\n",
              "    <tr>\n",
              "      <th>1080</th>\n",
              "      <td>HILUX CD DSL 4X4 SRX AT 21/21</td>\n",
              "      <td>87042190</td>\n",
              "      <td>292000.00</td>\n",
              "      <td>2</td>\n",
              "      <td>8704</td>\n",
              "      <td>584000.00</td>\n",
              "      <td>8704</td>\n",
              "    </tr>\n",
              "    <tr>\n",
              "      <th>1282</th>\n",
              "      <td>COROLLA ALTIS PREMIUM 1.8L HV FFV CVT</td>\n",
              "      <td>87034000</td>\n",
              "      <td>132245.73</td>\n",
              "      <td>11</td>\n",
              "      <td>8703</td>\n",
              "      <td>1454703.03</td>\n",
              "      <td>8703</td>\n",
              "    </tr>\n",
              "    <tr>\n",
              "      <th>1377</th>\n",
              "      <td>I/VW AMAROK V6 EXTR AC4</td>\n",
              "      <td>87042190</td>\n",
              "      <td>152823.97</td>\n",
              "      <td>10</td>\n",
              "      <td>8704</td>\n",
              "      <td>1528239.70</td>\n",
              "      <td>8704</td>\n",
              "    </tr>\n",
              "    <tr>\n",
              "      <th>1491</th>\n",
              "      <td>T-CROSS HIGHLINE 250 TSI</td>\n",
              "      <td>87032210</td>\n",
              "      <td>127000.00</td>\n",
              "      <td>3</td>\n",
              "      <td>8703</td>\n",
              "      <td>381000.00</td>\n",
              "      <td>8703</td>\n",
              "    </tr>\n",
              "    <tr>\n",
              "      <th>1493</th>\n",
              "      <td>I/VW TAOS CL TSI AE</td>\n",
              "      <td>87032210</td>\n",
              "      <td>113495.53</td>\n",
              "      <td>83</td>\n",
              "      <td>8703</td>\n",
              "      <td>9420128.99</td>\n",
              "      <td>8703</td>\n",
              "    </tr>\n",
              "    <tr>\n",
              "      <th>1604</th>\n",
              "      <td>VW SAVEIRO CD CROSS MA</td>\n",
              "      <td>87032310</td>\n",
              "      <td>59576.00</td>\n",
              "      <td>2</td>\n",
              "      <td>8703</td>\n",
              "      <td>119152.00</td>\n",
              "      <td>8703</td>\n",
              "    </tr>\n",
              "    <tr>\n",
              "      <th>1637</th>\n",
              "      <td>T-CROSS HIGHLINE 250 TSI - 9BWBJ6BF7M4064809</td>\n",
              "      <td>87032310</td>\n",
              "      <td>144000.00</td>\n",
              "      <td>2</td>\n",
              "      <td>8703</td>\n",
              "      <td>288000.00</td>\n",
              "      <td>8703</td>\n",
              "    </tr>\n",
              "    <tr>\n",
              "      <th>2109</th>\n",
              "      <td>HB20 1.0 COMFORT PLUS 12V FLEX 4P MANUAL</td>\n",
              "      <td>87032210</td>\n",
              "      <td>53900.00</td>\n",
              "      <td>1</td>\n",
              "      <td>8703</td>\n",
              "      <td>53900.00</td>\n",
              "      <td>8703</td>\n",
              "    </tr>\n",
              "    <tr>\n",
              "      <th>3295</th>\n",
              "      <td>I/CHEV TRACKER PREMIER *MM 220571*</td>\n",
              "      <td>87032210</td>\n",
              "      <td>74248.29</td>\n",
              "      <td>25</td>\n",
              "      <td>8703</td>\n",
              "      <td>1856207.25</td>\n",
              "      <td>8703</td>\n",
              "    </tr>\n",
              "    <tr>\n",
              "      <th>3364</th>\n",
              "      <td>CHEVROLET/ONIX 1.4AT LT* MODELO 149583*</td>\n",
              "      <td>87032210</td>\n",
              "      <td>49503.85</td>\n",
              "      <td>5</td>\n",
              "      <td>8703</td>\n",
              "      <td>247519.25</td>\n",
              "      <td>8703</td>\n",
              "    </tr>\n",
              "    <tr>\n",
              "      <th>3575</th>\n",
              "      <td>VW/VIRTUS HL AD</td>\n",
              "      <td>87032100</td>\n",
              "      <td>81152.30</td>\n",
              "      <td>19</td>\n",
              "      <td>8703</td>\n",
              "      <td>1541893.70</td>\n",
              "      <td>8703</td>\n",
              "    </tr>\n",
              "    <tr>\n",
              "      <th>3642</th>\n",
              "      <td>CHEVROLET/S10 LT DD4A *M.MODELO 220531*</td>\n",
              "      <td>87042190</td>\n",
              "      <td>132363.48</td>\n",
              "      <td>2</td>\n",
              "      <td>8704</td>\n",
              "      <td>264726.96</td>\n",
              "      <td>8704</td>\n",
              "    </tr>\n",
              "    <tr>\n",
              "      <th>3862</th>\n",
              "      <td>HILUX CD DSL 4X4 SRV AT</td>\n",
              "      <td>87042190</td>\n",
              "      <td>133848.39</td>\n",
              "      <td>55</td>\n",
              "      <td>8704</td>\n",
              "      <td>7361661.45</td>\n",
              "      <td>8704</td>\n",
              "    </tr>\n",
              "    <tr>\n",
              "      <th>3922</th>\n",
              "      <td>I/VW AMAROK CD 4X4 TREND</td>\n",
              "      <td>87042190</td>\n",
              "      <td>127529.71</td>\n",
              "      <td>15</td>\n",
              "      <td>8704</td>\n",
              "      <td>1912945.65</td>\n",
              "      <td>8704</td>\n",
              "    </tr>\n",
              "    <tr>\n",
              "      <th>3979</th>\n",
              "      <td>VW/POLO MCA</td>\n",
              "      <td>87032100</td>\n",
              "      <td>41159.86</td>\n",
              "      <td>13</td>\n",
              "      <td>8703</td>\n",
              "      <td>535078.18</td>\n",
              "      <td>8703</td>\n",
              "    </tr>\n",
              "    <tr>\n",
              "      <th>4030</th>\n",
              "      <td>SW4 DSL 4X4 SRX AT 7S</td>\n",
              "      <td>87033390</td>\n",
              "      <td>164363.13</td>\n",
              "      <td>17</td>\n",
              "      <td>8703</td>\n",
              "      <td>2794173.21</td>\n",
              "      <td>8703</td>\n",
              "    </tr>\n",
              "    <tr>\n",
              "      <th>4287</th>\n",
              "      <td>VW/GOL 1.0L MC5</td>\n",
              "      <td>87032100</td>\n",
              "      <td>46522.40</td>\n",
              "      <td>48</td>\n",
              "      <td>8703</td>\n",
              "      <td>2233075.20</td>\n",
              "      <td>8703</td>\n",
              "    </tr>\n",
              "    <tr>\n",
              "      <th>4548</th>\n",
              "      <td>CHEVROLET/ONIX 1.0MT LT* MODELO 149572*</td>\n",
              "      <td>87032100</td>\n",
              "      <td>40634.66</td>\n",
              "      <td>27</td>\n",
              "      <td>8703</td>\n",
              "      <td>1097135.82</td>\n",
              "      <td>8703</td>\n",
              "    </tr>\n",
              "    <tr>\n",
              "      <th>4978</th>\n",
              "      <td>VW/NIVUS HL TSI AD</td>\n",
              "      <td>87032100</td>\n",
              "      <td>104438.65</td>\n",
              "      <td>9</td>\n",
              "      <td>8703</td>\n",
              "      <td>939947.85</td>\n",
              "      <td>8703</td>\n",
              "    </tr>\n",
              "  </tbody>\n",
              "</table>\n",
              "</div>"
            ],
            "text/plain": [
              "                                        PROD_XPROD  PROD_NCM  PROD_VUNCOM  \\\n",
              "87        CHEVROLET/ONIX 1.4AT ACT* MODELO 149596*  87032210     54822.98   \n",
              "1080                 HILUX CD DSL 4X4 SRX AT 21/21  87042190    292000.00   \n",
              "1282         COROLLA ALTIS PREMIUM 1.8L HV FFV CVT  87034000    132245.73   \n",
              "1377                       I/VW AMAROK V6 EXTR AC4  87042190    152823.97   \n",
              "1491                      T-CROSS HIGHLINE 250 TSI  87032210    127000.00   \n",
              "1493                           I/VW TAOS CL TSI AE  87032210    113495.53   \n",
              "1604                        VW SAVEIRO CD CROSS MA  87032310     59576.00   \n",
              "1637  T-CROSS HIGHLINE 250 TSI - 9BWBJ6BF7M4064809  87032310    144000.00   \n",
              "2109      HB20 1.0 COMFORT PLUS 12V FLEX 4P MANUAL  87032210     53900.00   \n",
              "3295            I/CHEV TRACKER PREMIER *MM 220571*  87032210     74248.29   \n",
              "3364       CHEVROLET/ONIX 1.4AT LT* MODELO 149583*  87032210     49503.85   \n",
              "3575                               VW/VIRTUS HL AD  87032100     81152.30   \n",
              "3642       CHEVROLET/S10 LT DD4A *M.MODELO 220531*  87042190    132363.48   \n",
              "3862                       HILUX CD DSL 4X4 SRV AT  87042190    133848.39   \n",
              "3922                      I/VW AMAROK CD 4X4 TREND  87042190    127529.71   \n",
              "3979                                   VW/POLO MCA  87032100     41159.86   \n",
              "4030                         SW4 DSL 4X4 SRX AT 7S  87033390    164363.13   \n",
              "4287                               VW/GOL 1.0L MC5  87032100     46522.40   \n",
              "4548       CHEVROLET/ONIX 1.0MT LT* MODELO 149572*  87032100     40634.66   \n",
              "4978                            VW/NIVUS HL TSI AD  87032100    104438.65   \n",
              "\n",
              "      CONTAGEM NCM_POSICAO  IMPORTANCIA POSICAO_NCM  \n",
              "87         110        8703   6030527.80        8703  \n",
              "1080         2        8704    584000.00        8704  \n",
              "1282        11        8703   1454703.03        8703  \n",
              "1377        10        8704   1528239.70        8704  \n",
              "1491         3        8703    381000.00        8703  \n",
              "1493        83        8703   9420128.99        8703  \n",
              "1604         2        8703    119152.00        8703  \n",
              "1637         2        8703    288000.00        8703  \n",
              "2109         1        8703     53900.00        8703  \n",
              "3295        25        8703   1856207.25        8703  \n",
              "3364         5        8703    247519.25        8703  \n",
              "3575        19        8703   1541893.70        8703  \n",
              "3642         2        8704    264726.96        8704  \n",
              "3862        55        8704   7361661.45        8704  \n",
              "3922        15        8704   1912945.65        8704  \n",
              "3979        13        8703    535078.18        8703  \n",
              "4030        17        8703   2794173.21        8703  \n",
              "4287        48        8703   2233075.20        8703  \n",
              "4548        27        8703   1097135.82        8703  \n",
              "4978         9        8703    939947.85        8703  "
            ]
          },
          "execution_count": 173,
          "metadata": {},
          "output_type": "execute_result"
        }
      ],
      "source": [
        "df[(df[\"PROD_XPROD\"].str.contains(r'^(I[/])?(BZ12U4|BZ12Q4)?([\\s/])?(VEICULO|VOLKSWAGEN|VW|CHEV|FIAT|HIUNDAI|RAM)?([\\s/])?(NOV[OA])?(AUTOMOVEL|COROLLA|HILUX|TAOS|SAVEIRO|HB20|TRACKER|TRAILBLAZER|T[\\-\\s]CROSS|JEEP|GOL|VIRTUS|NIVUS|POLO|CRETA|UP|FOX|SW4|CHEVROLET|S10|AMAROK|RAM)') == True) & (df[\"PROD_VUNCOM\"] > 20000)].head(20)"
      ]
    },
    {
      "cell_type": "code",
      "execution_count": null,
      "id": "72cfa742-4322-4fcf-a30f-d828cf13822c",
      "metadata": {
        "tags": [],
        "id": "72cfa742-4322-4fcf-a30f-d828cf13822c",
        "outputId": "0e5b4d21-db44-4398-e07e-44bf19cd3c0a"
      },
      "outputs": [
        {
          "data": {
            "text/html": [
              "<div>\n",
              "<style scoped>\n",
              "    .dataframe tbody tr th:only-of-type {\n",
              "        vertical-align: middle;\n",
              "    }\n",
              "\n",
              "    .dataframe tbody tr th {\n",
              "        vertical-align: top;\n",
              "    }\n",
              "\n",
              "    .dataframe thead th {\n",
              "        text-align: right;\n",
              "    }\n",
              "</style>\n",
              "<table border=\"1\" class=\"dataframe\">\n",
              "  <thead>\n",
              "    <tr style=\"text-align: right;\">\n",
              "      <th></th>\n",
              "      <th>PROD_XPROD</th>\n",
              "      <th>PROD_NCM</th>\n",
              "      <th>PROD_VUNCOM</th>\n",
              "      <th>CONTAGEM</th>\n",
              "      <th>NCM_POSICAO</th>\n",
              "      <th>IMPORTANCIA</th>\n",
              "      <th>POSICAO_NCM</th>\n",
              "    </tr>\n",
              "  </thead>\n",
              "  <tbody>\n",
              "    <tr>\n",
              "      <th>1282</th>\n",
              "      <td>COROLLA ALTIS PREMIUM 1.8L HV FFV CVT</td>\n",
              "      <td>87034000</td>\n",
              "      <td>132245.73</td>\n",
              "      <td>11</td>\n",
              "      <td>8703</td>\n",
              "      <td>1454703.03</td>\n",
              "      <td>8703</td>\n",
              "    </tr>\n",
              "    <tr>\n",
              "      <th>5208</th>\n",
              "      <td>COROLLA CROSS XRE 2.0L CVT</td>\n",
              "      <td>87032310</td>\n",
              "      <td>119091.42</td>\n",
              "      <td>176</td>\n",
              "      <td>8703</td>\n",
              "      <td>20960089.92</td>\n",
              "      <td>8703</td>\n",
              "    </tr>\n",
              "    <tr>\n",
              "      <th>6648</th>\n",
              "      <td>COROLLA CROSS MID 2.0 GASOLINE</td>\n",
              "      <td>87032310</td>\n",
              "      <td>90794.44</td>\n",
              "      <td>3</td>\n",
              "      <td>8703</td>\n",
              "      <td>272383.32</td>\n",
              "      <td>8703</td>\n",
              "    </tr>\n",
              "    <tr>\n",
              "      <th>8845</th>\n",
              "      <td>COROLLA CROSS XRE 2.0L CVT</td>\n",
              "      <td>87032310</td>\n",
              "      <td>122006.31</td>\n",
              "      <td>88</td>\n",
              "      <td>8703</td>\n",
              "      <td>10736555.28</td>\n",
              "      <td>8703</td>\n",
              "    </tr>\n",
              "    <tr>\n",
              "      <th>10232</th>\n",
              "      <td>COROLLA XEI A/T 2.0 FFV</td>\n",
              "      <td>87032310</td>\n",
              "      <td>83993.13</td>\n",
              "      <td>95</td>\n",
              "      <td>8703</td>\n",
              "      <td>7979347.35</td>\n",
              "      <td>8703</td>\n",
              "    </tr>\n",
              "    <tr>\n",
              "      <th>...</th>\n",
              "      <td>...</td>\n",
              "      <td>...</td>\n",
              "      <td>...</td>\n",
              "      <td>...</td>\n",
              "      <td>...</td>\n",
              "      <td>...</td>\n",
              "      <td>...</td>\n",
              "    </tr>\n",
              "    <tr>\n",
              "      <th>471498</th>\n",
              "      <td>COROLLA XEI 2.0L FFV CVT</td>\n",
              "      <td>87032310</td>\n",
              "      <td>86771.92</td>\n",
              "      <td>99</td>\n",
              "      <td>8703</td>\n",
              "      <td>8590420.08</td>\n",
              "      <td>8703</td>\n",
              "    </tr>\n",
              "    <tr>\n",
              "      <th>472756</th>\n",
              "      <td>COROLLA GLI 2.0L FFV CVT</td>\n",
              "      <td>87032310</td>\n",
              "      <td>78694.15</td>\n",
              "      <td>62</td>\n",
              "      <td>8703</td>\n",
              "      <td>4879037.30</td>\n",
              "      <td>8703</td>\n",
              "    </tr>\n",
              "    <tr>\n",
              "      <th>476289</th>\n",
              "      <td>COROLLA CROSS XRX 1.8 HV CVT</td>\n",
              "      <td>87034000</td>\n",
              "      <td>157754.07</td>\n",
              "      <td>2</td>\n",
              "      <td>8703</td>\n",
              "      <td>315508.14</td>\n",
              "      <td>8703</td>\n",
              "    </tr>\n",
              "    <tr>\n",
              "      <th>491919</th>\n",
              "      <td>COROLLA CROSS XRX 1.8 HV CVT</td>\n",
              "      <td>87034000</td>\n",
              "      <td>139570.30</td>\n",
              "      <td>39</td>\n",
              "      <td>8703</td>\n",
              "      <td>5443241.70</td>\n",
              "      <td>8703</td>\n",
              "    </tr>\n",
              "    <tr>\n",
              "      <th>494029</th>\n",
              "      <td>COROLLA GLI A/T 1.8L FFV</td>\n",
              "      <td>87032310</td>\n",
              "      <td>61708.18</td>\n",
              "      <td>111</td>\n",
              "      <td>8703</td>\n",
              "      <td>6849607.98</td>\n",
              "      <td>8703</td>\n",
              "    </tr>\n",
              "  </tbody>\n",
              "</table>\n",
              "<p>89 rows × 7 columns</p>\n",
              "</div>"
            ],
            "text/plain": [
              "                                   PROD_XPROD  PROD_NCM  PROD_VUNCOM  \\\n",
              "1282    COROLLA ALTIS PREMIUM 1.8L HV FFV CVT  87034000    132245.73   \n",
              "5208               COROLLA CROSS XRE 2.0L CVT  87032310    119091.42   \n",
              "6648           COROLLA CROSS MID 2.0 GASOLINE  87032310     90794.44   \n",
              "8845               COROLLA CROSS XRE 2.0L CVT  87032310    122006.31   \n",
              "10232                 COROLLA XEI A/T 2.0 FFV  87032310     83993.13   \n",
              "...                                       ...       ...          ...   \n",
              "471498               COROLLA XEI 2.0L FFV CVT  87032310     86771.92   \n",
              "472756               COROLLA GLI 2.0L FFV CVT  87032310     78694.15   \n",
              "476289           COROLLA CROSS XRX 1.8 HV CVT  87034000    157754.07   \n",
              "491919           COROLLA CROSS XRX 1.8 HV CVT  87034000    139570.30   \n",
              "494029               COROLLA GLI A/T 1.8L FFV  87032310     61708.18   \n",
              "\n",
              "        CONTAGEM NCM_POSICAO  IMPORTANCIA POSICAO_NCM  \n",
              "1282          11        8703   1454703.03        8703  \n",
              "5208         176        8703  20960089.92        8703  \n",
              "6648           3        8703    272383.32        8703  \n",
              "8845          88        8703  10736555.28        8703  \n",
              "10232         95        8703   7979347.35        8703  \n",
              "...          ...         ...          ...         ...  \n",
              "471498        99        8703   8590420.08        8703  \n",
              "472756        62        8703   4879037.30        8703  \n",
              "476289         2        8703    315508.14        8703  \n",
              "491919        39        8703   5443241.70        8703  \n",
              "494029       111        8703   6849607.98        8703  \n",
              "\n",
              "[89 rows x 7 columns]"
            ]
          },
          "execution_count": 174,
          "metadata": {},
          "output_type": "execute_result"
        }
      ],
      "source": [
        "df[(df[\"PROD_XPROD\"].str.contains(r'^(NOV[OA])?(COROLLA)', flags = re.IGNORECASE) == True) & (df[\"PROD_VUNCOM\"] > 20000)]"
      ]
    },
    {
      "cell_type": "code",
      "execution_count": null,
      "id": "36dfddbd-1cd7-4b11-b00a-0fd55ea19bee",
      "metadata": {
        "id": "36dfddbd-1cd7-4b11-b00a-0fd55ea19bee"
      },
      "outputs": [],
      "source": [
        "df_carros_caminhonete = df[MASK_CARROS_CAMINHONETE][LABELS_2]"
      ]
    },
    {
      "cell_type": "code",
      "execution_count": null,
      "id": "b8dd4195-ea82-4d1c-8c5e-e9485d6faad1",
      "metadata": {
        "tags": [],
        "id": "b8dd4195-ea82-4d1c-8c5e-e9485d6faad1"
      },
      "outputs": [],
      "source": [
        "df_carros_caminhonete['CODIGO_PRODUTO_SEFAZ'] = 10030457003"
      ]
    },
    {
      "cell_type": "code",
      "execution_count": null,
      "id": "05513065-8ffb-43e8-8c03-a76506154b0a",
      "metadata": {
        "id": "05513065-8ffb-43e8-8c03-a76506154b0a",
        "outputId": "063a9dfc-7730-4c6d-b4e2-d731485b3c72"
      },
      "outputs": [
        {
          "name": "stdout",
          "output_type": "stream",
          "text": [
            "<class 'pandas.core.frame.DataFrame'>\n",
            "Int64Index: 1773 entries, 87 to 499838\n",
            "Data columns (total 3 columns):\n",
            " #   Column                Non-Null Count  Dtype \n",
            "---  ------                --------------  ----- \n",
            " 0   PROD_XPROD            1773 non-null   object\n",
            " 1   CONTAGEM              1773 non-null   int64 \n",
            " 2   CODIGO_PRODUTO_SEFAZ  1773 non-null   int64 \n",
            "dtypes: int64(2), object(1)\n",
            "memory usage: 55.4+ KB\n"
          ]
        }
      ],
      "source": [
        "df_carros_caminhonete.info()"
      ]
    },
    {
      "cell_type": "code",
      "execution_count": null,
      "id": "21676c60-1ed9-43ee-a436-7f3e14713dc9",
      "metadata": {
        "id": "21676c60-1ed9-43ee-a436-7f3e14713dc9"
      },
      "outputs": [],
      "source": [
        "df_carros_caminhonete.to_csv('carros_caminhonete.csv')"
      ]
    },
    {
      "cell_type": "code",
      "execution_count": null,
      "id": "b36c1b15-e01c-4f7b-890e-adf0eff9c70b",
      "metadata": {
        "id": "b36c1b15-e01c-4f7b-890e-adf0eff9c70b"
      },
      "outputs": [],
      "source": [
        "df_carros_caminhonete.to_csv('labeled_cap87.csv', header=False, mode='a')"
      ]
    },
    {
      "cell_type": "markdown",
      "id": "3fc346e7-596d-45a1-b5d9-ee7308c85e05",
      "metadata": {
        "id": "3fc346e7-596d-45a1-b5d9-ee7308c85e05"
      },
      "source": [
        "###### Tratores"
      ]
    },
    {
      "cell_type": "code",
      "execution_count": null,
      "id": "d6b641b8-37ba-4282-9146-299717f2dc8a",
      "metadata": {
        "tags": [],
        "id": "d6b641b8-37ba-4282-9146-299717f2dc8a"
      },
      "outputs": [],
      "source": [
        "# As vezes trator vem como: caminhão trator.\n",
        "pattern_trator = r'^(TRATOR|FORWARDER)'"
      ]
    },
    {
      "cell_type": "code",
      "execution_count": null,
      "id": "ff16fe96-6ad7-48d7-80b9-bfea1811a3e4",
      "metadata": {
        "tags": [],
        "id": "ff16fe96-6ad7-48d7-80b9-bfea1811a3e4"
      },
      "outputs": [],
      "source": [
        "MASK_TRATORES = (df[\"PROD_XPROD\"].str.contains(pattern_trator) == True) & (df[\"PROD_VUNCOM\"] > 20000)"
      ]
    },
    {
      "cell_type": "code",
      "execution_count": null,
      "id": "309bcac2-ed12-4507-8977-991454ed2e71",
      "metadata": {
        "tags": [],
        "id": "309bcac2-ed12-4507-8977-991454ed2e71",
        "outputId": "3454f68b-49c6-4bbe-8575-8f35fb9bd6e2"
      },
      "outputs": [
        {
          "data": {
            "text/html": [
              "<div>\n",
              "<style scoped>\n",
              "    .dataframe tbody tr th:only-of-type {\n",
              "        vertical-align: middle;\n",
              "    }\n",
              "\n",
              "    .dataframe tbody tr th {\n",
              "        vertical-align: top;\n",
              "    }\n",
              "\n",
              "    .dataframe thead th {\n",
              "        text-align: right;\n",
              "    }\n",
              "</style>\n",
              "<table border=\"1\" class=\"dataframe\">\n",
              "  <thead>\n",
              "    <tr style=\"text-align: right;\">\n",
              "      <th></th>\n",
              "      <th>PROD_XPROD</th>\n",
              "      <th>PROD_VUNCOM</th>\n",
              "      <th>CONTAGEM</th>\n",
              "    </tr>\n",
              "  </thead>\n",
              "  <tbody>\n",
              "    <tr>\n",
              "      <th>6848</th>\n",
              "      <td>TRATOR AGRICOLA U60 ROPS</td>\n",
              "      <td>100000.00</td>\n",
              "      <td>2</td>\n",
              "    </tr>\n",
              "    <tr>\n",
              "      <th>7894</th>\n",
              "      <td>TRATOR MA 5 8701.20.00</td>\n",
              "      <td>100000.00</td>\n",
              "      <td>6</td>\n",
              "    </tr>\n",
              "    <tr>\n",
              "      <th>9256</th>\n",
              "      <td>TRATOR AGRÍCOLA JOHN DEERE MODELO 6150J COM POTÊNCIA DE 110 KW</td>\n",
              "      <td>337000.00</td>\n",
              "      <td>36</td>\n",
              "    </tr>\n",
              "    <tr>\n",
              "      <th>9666</th>\n",
              "      <td>TRATOR KOMATSU 200-8F</td>\n",
              "      <td>1500000.00</td>\n",
              "      <td>17</td>\n",
              "    </tr>\n",
              "    <tr>\n",
              "      <th>11101</th>\n",
              "      <td>TRATOR AGRÍCOLA JOHN DEERE MODELO 5075E COM POTÊNCIA DE 55 KW</td>\n",
              "      <td>93099.50</td>\n",
              "      <td>1</td>\n",
              "    </tr>\n",
              "    <tr>\n",
              "      <th>11110</th>\n",
              "      <td>TRATOR AGRICOLA MASSEY FERGUSON MF 50-X</td>\n",
              "      <td>50000.00</td>\n",
              "      <td>2</td>\n",
              "    </tr>\n",
              "    <tr>\n",
              "      <th>11672</th>\n",
              "      <td>TRATOR AGRÍCOLA JOHN DEERE MODELO 5078E COM POTÊNCIA DE 57,4 KW</td>\n",
              "      <td>96574.27</td>\n",
              "      <td>6</td>\n",
              "    </tr>\n",
              "    <tr>\n",
              "      <th>12786</th>\n",
              "      <td>TRATOR AGRICOLA MF4292X 4RM</td>\n",
              "      <td>115950.46</td>\n",
              "      <td>2</td>\n",
              "    </tr>\n",
              "    <tr>\n",
              "      <th>14118</th>\n",
              "      <td>TRATOR JOHN DEERE MODELO TP106 CHASSI Nº 1BM6110JCBA000998</td>\n",
              "      <td>120000.00</td>\n",
              "      <td>1</td>\n",
              "    </tr>\n",
              "    <tr>\n",
              "      <th>14211</th>\n",
              "      <td>TRATOR JOHN DEERE 5078E</td>\n",
              "      <td>190000.00</td>\n",
              "      <td>2</td>\n",
              "    </tr>\n",
              "    <tr>\n",
              "      <th>15469</th>\n",
              "      <td>TRATOR AGRÍCOLA JOHN DEERE MODELO 6135J COM POTÊNCIA DE 99 KW</td>\n",
              "      <td>243196.02</td>\n",
              "      <td>1</td>\n",
              "    </tr>\n",
              "    <tr>\n",
              "      <th>15490</th>\n",
              "      <td>TRATOR AGRICOLA MF4275 4RM</td>\n",
              "      <td>94388.41</td>\n",
              "      <td>1</td>\n",
              "    </tr>\n",
              "    <tr>\n",
              "      <th>16415</th>\n",
              "      <td>TRATOR JOHN DEERE 6170J</td>\n",
              "      <td>264904.50</td>\n",
              "      <td>4</td>\n",
              "    </tr>\n",
              "    <tr>\n",
              "      <th>17031</th>\n",
              "      <td>TRATOR JOHN DEERE 8370R ANO: 2018CHASSI: 1BM8370RCJS100306</td>\n",
              "      <td>780000.00</td>\n",
              "      <td>3</td>\n",
              "    </tr>\n",
              "    <tr>\n",
              "      <th>17904</th>\n",
              "      <td>TRATOR JOHN DEERE 8335R CHASSI 1RW8335RHEP091948</td>\n",
              "      <td>250000.00</td>\n",
              "      <td>1</td>\n",
              "    </tr>\n",
              "    <tr>\n",
              "      <th>18033</th>\n",
              "      <td>TRATOR AGRICOLA MOD TS 110 NEW HOLLAND</td>\n",
              "      <td>55000.00</td>\n",
              "      <td>2</td>\n",
              "    </tr>\n",
              "    <tr>\n",
              "      <th>20143</th>\n",
              "      <td>TRATOR AGRICOLA MF4280 4RM</td>\n",
              "      <td>162734.00</td>\n",
              "      <td>2</td>\n",
              "    </tr>\n",
              "    <tr>\n",
              "      <th>21453</th>\n",
              "      <td>TRATOR VALTRA ANO/MOD 2010, SERIE H205269368 MONOB AAAT2010AAM001742</td>\n",
              "      <td>80000.00</td>\n",
              "      <td>1</td>\n",
              "    </tr>\n",
              "    <tr>\n",
              "      <th>22071</th>\n",
              "      <td>TRATOR AGRICOLA MF7722</td>\n",
              "      <td>408000.00</td>\n",
              "      <td>4</td>\n",
              "    </tr>\n",
              "    <tr>\n",
              "      <th>23069</th>\n",
              "      <td>TRATOR AGRÍCOLA JOHN DEERE MODELO 6100E COM POTÊNCIA DE 75 KW</td>\n",
              "      <td>124152.85</td>\n",
              "      <td>1</td>\n",
              "    </tr>\n",
              "    <tr>\n",
              "      <th>24923</th>\n",
              "      <td>TRATOR 6115J (MAR-I) CHASSI 1BM6115JKJD000969</td>\n",
              "      <td>192963.64</td>\n",
              "      <td>1</td>\n",
              "    </tr>\n",
              "    <tr>\n",
              "      <th>24959</th>\n",
              "      <td>TRATOR AGRICOLA MARCA MASSEY FERGUSON, MODELO MF4292/4XTRA, 100 CV ANO 2019, NUMERO DE SERIE 4292526737</td>\n",
              "      <td>161300.00</td>\n",
              "      <td>2</td>\n",
              "    </tr>\n",
              "    <tr>\n",
              "      <th>24985</th>\n",
              "      <td>TRATOR AGRICOLA VALTRA BH 154 4 X 4 FROTA 17 618 CHASSI 9AGT2019HJM000924 ANO 2018</td>\n",
              "      <td>280000.00</td>\n",
              "      <td>1</td>\n",
              "    </tr>\n",
              "    <tr>\n",
              "      <th>26124</th>\n",
              "      <td>TRATOR NEW HOLLAND - TL 5.100</td>\n",
              "      <td>167800.00</td>\n",
              "      <td>6</td>\n",
              "    </tr>\n",
              "    <tr>\n",
              "      <th>26169</th>\n",
              "      <td>TRATOR AGRICOLA 4R A750 4X4</td>\n",
              "      <td>104000.00</td>\n",
              "      <td>1</td>\n",
              "    </tr>\n",
              "    <tr>\n",
              "      <th>27276</th>\n",
              "      <td>TRATOR DE PNEUS 4X4 , MARCA MILLER ,MOD TM17 ANO 1994 CHASSI 9801296</td>\n",
              "      <td>68000.00</td>\n",
              "      <td>1</td>\n",
              "    </tr>\n",
              "    <tr>\n",
              "      <th>27464</th>\n",
              "      <td>TRATOR AGRICOLA MF 255/4 - NOVO SERIE. 2554490182 MARCA. MASSEY FERGUSON ANO FAB. 2017 MOD.2018</td>\n",
              "      <td>79000.00</td>\n",
              "      <td>1</td>\n",
              "    </tr>\n",
              "    <tr>\n",
              "      <th>27901</th>\n",
              "      <td>TRATOR NEW HOLLAND TL65</td>\n",
              "      <td>62000.00</td>\n",
              "      <td>1</td>\n",
              "    </tr>\n",
              "    <tr>\n",
              "      <th>27945</th>\n",
              "      <td>TRATOR JOHN DEERE 6100J</td>\n",
              "      <td>279372.32</td>\n",
              "      <td>1</td>\n",
              "    </tr>\n",
              "    <tr>\n",
              "      <th>28069</th>\n",
              "      <td>TRATOR JOHN DEERE 5080E</td>\n",
              "      <td>158246.01</td>\n",
              "      <td>3</td>\n",
              "    </tr>\n",
              "    <tr>\n",
              "      <th>30151</th>\n",
              "      <td>TRATOR JOHN DEERE 7200J</td>\n",
              "      <td>480210.02</td>\n",
              "      <td>1</td>\n",
              "    </tr>\n",
              "    <tr>\n",
              "      <th>31880</th>\n",
              "      <td>TRATOR AGRICOLA MARCA MASSEY FERGUSON MODELO MF 4292X, ANO DE FAB 2018 (NOVO), NUMERO DE SERIE: 4292498826, CODIGO CIF 3</td>\n",
              "      <td>148000.00</td>\n",
              "      <td>3</td>\n",
              "    </tr>\n",
              "    <tr>\n",
              "      <th>32615</th>\n",
              "      <td>TRATOR AGRÍCOLA JOHN DEERE MODELO 6125E COM POTÊNCIA DE 92 KW</td>\n",
              "      <td>137728.86</td>\n",
              "      <td>1</td>\n",
              "    </tr>\n",
              "    <tr>\n",
              "      <th>33359</th>\n",
              "      <td>TRATOR AGRICOLA MF4297 4RM</td>\n",
              "      <td>144472.80</td>\n",
              "      <td>1</td>\n",
              "    </tr>\n",
              "    <tr>\n",
              "      <th>33477</th>\n",
              "      <td>TRATOR AGRICOLA PLUS 80 - LSP80RCE01 12.4X24R1 18.4X30R1 SERIE: 2390212551 CHASSI:9BLP08001JG000206</td>\n",
              "      <td>68003.52</td>\n",
              "      <td>1</td>\n",
              "    </tr>\n",
              "    <tr>\n",
              "      <th>34089</th>\n",
              "      <td>TRATOR AGRÍCOLA JOHN DEERE MODELO 5090E COM POTÊNCIA DE 66 KW</td>\n",
              "      <td>141345.18</td>\n",
              "      <td>1</td>\n",
              "    </tr>\n",
              "    <tr>\n",
              "      <th>34211</th>\n",
              "      <td>TRATOR AGRICOLA 4R BH194 4X4</td>\n",
              "      <td>252978.00</td>\n",
              "      <td>2</td>\n",
              "    </tr>\n",
              "    <tr>\n",
              "      <th>34961</th>\n",
              "      <td>TRATOR JOHN DEERE 6210M</td>\n",
              "      <td>490514.43</td>\n",
              "      <td>1</td>\n",
              "    </tr>\n",
              "    <tr>\n",
              "      <th>35942</th>\n",
              "      <td>TRATOR MASSEY FERGUSON MODELO 275</td>\n",
              "      <td>45000.00</td>\n",
              "      <td>5</td>\n",
              "    </tr>\n",
              "    <tr>\n",
              "      <th>36382</th>\n",
              "      <td>TRATOR AGRICOLA MF4307 4RM PLA</td>\n",
              "      <td>119435.00</td>\n",
              "      <td>27</td>\n",
              "    </tr>\n",
              "    <tr>\n",
              "      <th>37695</th>\n",
              "      <td>TRATOR AGRÍCOLA JOHN DEERE MODELO 5055E COM POTENCIA DE 41 KW</td>\n",
              "      <td>68089.69</td>\n",
              "      <td>3</td>\n",
              "    </tr>\n",
              "    <tr>\n",
              "      <th>38918</th>\n",
              "      <td>TRATOR 6115J (MAR-I) CHASSI 1BM6115JKLD002143</td>\n",
              "      <td>225412.73</td>\n",
              "      <td>1</td>\n",
              "    </tr>\n",
              "    <tr>\n",
              "      <th>40363</th>\n",
              "      <td>TRATOR AGRICOLA, CASE, MAGNUM MX240, 4X4, 2006, SERIE: MX40C401214</td>\n",
              "      <td>70000.00</td>\n",
              "      <td>1</td>\n",
              "    </tr>\n",
              "    <tr>\n",
              "      <th>40671</th>\n",
              "      <td>TRATOR MASSEY FERGUSON MODELO 4275</td>\n",
              "      <td>50000.00</td>\n",
              "      <td>1</td>\n",
              "    </tr>\n",
              "    <tr>\n",
              "      <th>40675</th>\n",
              "      <td>TRATOR AGRICOLA JOHN DEERE 6145</td>\n",
              "      <td>180000.00</td>\n",
              "      <td>1</td>\n",
              "    </tr>\n",
              "    <tr>\n",
              "      <th>41490</th>\n",
              "      <td>TRATOR AGRICOLA 260CV 6 8260R</td>\n",
              "      <td>200000.00</td>\n",
              "      <td>2</td>\n",
              "    </tr>\n",
              "    <tr>\n",
              "      <th>42016</th>\n",
              "      <td>TRATOR AGRICOLA (USADO);MARCA JOHN DEERE;MODELO 5705;TRACAO 4X4;ANO FABRICACAO 2009;</td>\n",
              "      <td>41200.00</td>\n",
              "      <td>1</td>\n",
              "    </tr>\n",
              "    <tr>\n",
              "      <th>42383</th>\n",
              "      <td>TRATOR AGRICOLA                         MARCA: FENDT                            MODELO: VARIO 1050</td>\n",
              "      <td>2178000.00</td>\n",
              "      <td>2</td>\n",
              "    </tr>\n",
              "    <tr>\n",
              "      <th>43074</th>\n",
              "      <td>TRATOR JOHN DEERE USADO MODELO 5085E ANO FABRICAÇÃO/MODELO: 2012, COR PREDOMINANTE VERDE CHASSIS 1BM5085EEB4000394</td>\n",
              "      <td>150000.00</td>\n",
              "      <td>1</td>\n",
              "    </tr>\n",
              "    <tr>\n",
              "      <th>44744</th>\n",
              "      <td>TRATOR AGRICOLA PLUS 80 - LSP80RCE01 12.4X24R1 18.4X30R1 SERIE: 2390212572 CHASSI: 9BLP08001JG000227</td>\n",
              "      <td>68003.52</td>\n",
              "      <td>1</td>\n",
              "    </tr>\n",
              "  </tbody>\n",
              "</table>\n",
              "</div>"
            ],
            "text/plain": [
              "                                                                                                                     PROD_XPROD  \\\n",
              "6848                                                                                                   TRATOR AGRICOLA U60 ROPS   \n",
              "7894                                                                                                     TRATOR MA 5 8701.20.00   \n",
              "9256                                                             TRATOR AGRÍCOLA JOHN DEERE MODELO 6150J COM POTÊNCIA DE 110 KW   \n",
              "9666                                                                                                      TRATOR KOMATSU 200-8F   \n",
              "11101                                                             TRATOR AGRÍCOLA JOHN DEERE MODELO 5075E COM POTÊNCIA DE 55 KW   \n",
              "11110                                                                                   TRATOR AGRICOLA MASSEY FERGUSON MF 50-X   \n",
              "11672                                                           TRATOR AGRÍCOLA JOHN DEERE MODELO 5078E COM POTÊNCIA DE 57,4 KW   \n",
              "12786                                                                                               TRATOR AGRICOLA MF4292X 4RM   \n",
              "14118                                                                TRATOR JOHN DEERE MODELO TP106 CHASSI Nº 1BM6110JCBA000998   \n",
              "14211                                                                                                   TRATOR JOHN DEERE 5078E   \n",
              "15469                                                             TRATOR AGRÍCOLA JOHN DEERE MODELO 6135J COM POTÊNCIA DE 99 KW   \n",
              "15490                                                                                                TRATOR AGRICOLA MF4275 4RM   \n",
              "16415                                                                                                   TRATOR JOHN DEERE 6170J   \n",
              "17031                                                                TRATOR JOHN DEERE 8370R ANO: 2018CHASSI: 1BM8370RCJS100306   \n",
              "17904                                                                          TRATOR JOHN DEERE 8335R CHASSI 1RW8335RHEP091948   \n",
              "18033                                                                                    TRATOR AGRICOLA MOD TS 110 NEW HOLLAND   \n",
              "20143                                                                                                TRATOR AGRICOLA MF4280 4RM   \n",
              "21453                                                      TRATOR VALTRA ANO/MOD 2010, SERIE H205269368 MONOB AAAT2010AAM001742   \n",
              "22071                                                                                                    TRATOR AGRICOLA MF7722   \n",
              "23069                                                             TRATOR AGRÍCOLA JOHN DEERE MODELO 6100E COM POTÊNCIA DE 75 KW   \n",
              "24923                                                                             TRATOR 6115J (MAR-I) CHASSI 1BM6115JKJD000969   \n",
              "24959                   TRATOR AGRICOLA MARCA MASSEY FERGUSON, MODELO MF4292/4XTRA, 100 CV ANO 2019, NUMERO DE SERIE 4292526737   \n",
              "24985                                        TRATOR AGRICOLA VALTRA BH 154 4 X 4 FROTA 17 618 CHASSI 9AGT2019HJM000924 ANO 2018   \n",
              "26124                                                                                             TRATOR NEW HOLLAND - TL 5.100   \n",
              "26169                                                                                               TRATOR AGRICOLA 4R A750 4X4   \n",
              "27276                                                      TRATOR DE PNEUS 4X4 , MARCA MILLER ,MOD TM17 ANO 1994 CHASSI 9801296   \n",
              "27464                           TRATOR AGRICOLA MF 255/4 - NOVO SERIE. 2554490182 MARCA. MASSEY FERGUSON ANO FAB. 2017 MOD.2018   \n",
              "27901                                                                                                   TRATOR NEW HOLLAND TL65   \n",
              "27945                                                                                                   TRATOR JOHN DEERE 6100J   \n",
              "28069                                                                                                   TRATOR JOHN DEERE 5080E   \n",
              "30151                                                                                                   TRATOR JOHN DEERE 7200J   \n",
              "31880  TRATOR AGRICOLA MARCA MASSEY FERGUSON MODELO MF 4292X, ANO DE FAB 2018 (NOVO), NUMERO DE SERIE: 4292498826, CODIGO CIF 3   \n",
              "32615                                                             TRATOR AGRÍCOLA JOHN DEERE MODELO 6125E COM POTÊNCIA DE 92 KW   \n",
              "33359                                                                                                TRATOR AGRICOLA MF4297 4RM   \n",
              "33477                       TRATOR AGRICOLA PLUS 80 - LSP80RCE01 12.4X24R1 18.4X30R1 SERIE: 2390212551 CHASSI:9BLP08001JG000206   \n",
              "34089                                                             TRATOR AGRÍCOLA JOHN DEERE MODELO 5090E COM POTÊNCIA DE 66 KW   \n",
              "34211                                                                                              TRATOR AGRICOLA 4R BH194 4X4   \n",
              "34961                                                                                                   TRATOR JOHN DEERE 6210M   \n",
              "35942                                                                                         TRATOR MASSEY FERGUSON MODELO 275   \n",
              "36382                                                                                            TRATOR AGRICOLA MF4307 4RM PLA   \n",
              "37695                                                             TRATOR AGRÍCOLA JOHN DEERE MODELO 5055E COM POTENCIA DE 41 KW   \n",
              "38918                                                                             TRATOR 6115J (MAR-I) CHASSI 1BM6115JKLD002143   \n",
              "40363                                                        TRATOR AGRICOLA, CASE, MAGNUM MX240, 4X4, 2006, SERIE: MX40C401214   \n",
              "40671                                                                                        TRATOR MASSEY FERGUSON MODELO 4275   \n",
              "40675                                                                                           TRATOR AGRICOLA JOHN DEERE 6145   \n",
              "41490                                                                                             TRATOR AGRICOLA 260CV 6 8260R   \n",
              "42016                                      TRATOR AGRICOLA (USADO);MARCA JOHN DEERE;MODELO 5705;TRACAO 4X4;ANO FABRICACAO 2009;   \n",
              "42383                        TRATOR AGRICOLA                         MARCA: FENDT                            MODELO: VARIO 1050   \n",
              "43074        TRATOR JOHN DEERE USADO MODELO 5085E ANO FABRICAÇÃO/MODELO: 2012, COR PREDOMINANTE VERDE CHASSIS 1BM5085EEB4000394   \n",
              "44744                      TRATOR AGRICOLA PLUS 80 - LSP80RCE01 12.4X24R1 18.4X30R1 SERIE: 2390212572 CHASSI: 9BLP08001JG000227   \n",
              "\n",
              "       PROD_VUNCOM  CONTAGEM  \n",
              "6848     100000.00         2  \n",
              "7894     100000.00         6  \n",
              "9256     337000.00        36  \n",
              "9666    1500000.00        17  \n",
              "11101     93099.50         1  \n",
              "11110     50000.00         2  \n",
              "11672     96574.27         6  \n",
              "12786    115950.46         2  \n",
              "14118    120000.00         1  \n",
              "14211    190000.00         2  \n",
              "15469    243196.02         1  \n",
              "15490     94388.41         1  \n",
              "16415    264904.50         4  \n",
              "17031    780000.00         3  \n",
              "17904    250000.00         1  \n",
              "18033     55000.00         2  \n",
              "20143    162734.00         2  \n",
              "21453     80000.00         1  \n",
              "22071    408000.00         4  \n",
              "23069    124152.85         1  \n",
              "24923    192963.64         1  \n",
              "24959    161300.00         2  \n",
              "24985    280000.00         1  \n",
              "26124    167800.00         6  \n",
              "26169    104000.00         1  \n",
              "27276     68000.00         1  \n",
              "27464     79000.00         1  \n",
              "27901     62000.00         1  \n",
              "27945    279372.32         1  \n",
              "28069    158246.01         3  \n",
              "30151    480210.02         1  \n",
              "31880    148000.00         3  \n",
              "32615    137728.86         1  \n",
              "33359    144472.80         1  \n",
              "33477     68003.52         1  \n",
              "34089    141345.18         1  \n",
              "34211    252978.00         2  \n",
              "34961    490514.43         1  \n",
              "35942     45000.00         5  \n",
              "36382    119435.00        27  \n",
              "37695     68089.69         3  \n",
              "38918    225412.73         1  \n",
              "40363     70000.00         1  \n",
              "40671     50000.00         1  \n",
              "40675    180000.00         1  \n",
              "41490    200000.00         2  \n",
              "42016     41200.00         1  \n",
              "42383   2178000.00         2  \n",
              "43074    150000.00         1  \n",
              "44744     68003.52         1  "
            ]
          },
          "execution_count": 182,
          "metadata": {},
          "output_type": "execute_result"
        }
      ],
      "source": [
        "df[MASK_TRATORES][LABELS].head(50)"
      ]
    },
    {
      "cell_type": "code",
      "execution_count": null,
      "id": "4c4351be-f69a-43fc-9730-f9fcc7881eb3",
      "metadata": {
        "id": "4c4351be-f69a-43fc-9730-f9fcc7881eb3"
      },
      "outputs": [],
      "source": [
        "LABELS_2 = ['PROD_XPROD', 'CONTAGEM']"
      ]
    },
    {
      "cell_type": "code",
      "execution_count": null,
      "id": "bf10eb0a-f8e8-4734-be5a-64fb89df16cb",
      "metadata": {
        "id": "bf10eb0a-f8e8-4734-be5a-64fb89df16cb"
      },
      "outputs": [],
      "source": [
        "df_tratores = df[MASK_TRATORES][LABELS_2]"
      ]
    },
    {
      "cell_type": "code",
      "execution_count": null,
      "id": "088288f3-a0d2-45cd-9b52-44fd10272d22",
      "metadata": {
        "tags": [],
        "id": "088288f3-a0d2-45cd-9b52-44fd10272d22"
      },
      "outputs": [],
      "source": [
        "df_tratores['CODIGO_PRODUTO_SEFAZ'] = 10030457002"
      ]
    },
    {
      "cell_type": "code",
      "execution_count": null,
      "id": "7d25b55a-07b3-4b63-b4e1-f7fb19f9930a",
      "metadata": {
        "id": "7d25b55a-07b3-4b63-b4e1-f7fb19f9930a",
        "outputId": "d178512d-907c-4b7b-c36f-30b9b92c9cf6"
      },
      "outputs": [
        {
          "data": {
            "text/html": [
              "<div>\n",
              "<style scoped>\n",
              "    .dataframe tbody tr th:only-of-type {\n",
              "        vertical-align: middle;\n",
              "    }\n",
              "\n",
              "    .dataframe tbody tr th {\n",
              "        vertical-align: top;\n",
              "    }\n",
              "\n",
              "    .dataframe thead th {\n",
              "        text-align: right;\n",
              "    }\n",
              "</style>\n",
              "<table border=\"1\" class=\"dataframe\">\n",
              "  <thead>\n",
              "    <tr style=\"text-align: right;\">\n",
              "      <th></th>\n",
              "      <th>PROD_XPROD</th>\n",
              "      <th>CONTAGEM</th>\n",
              "      <th>CODIGO_PRODUTO_SEFAZ</th>\n",
              "    </tr>\n",
              "  </thead>\n",
              "  <tbody>\n",
              "    <tr>\n",
              "      <th>6848</th>\n",
              "      <td>TRATOR AGRICOLA U60 ROPS</td>\n",
              "      <td>2</td>\n",
              "      <td>10030457002</td>\n",
              "    </tr>\n",
              "    <tr>\n",
              "      <th>7894</th>\n",
              "      <td>TRATOR MA 5 8701.20.00</td>\n",
              "      <td>6</td>\n",
              "      <td>10030457002</td>\n",
              "    </tr>\n",
              "    <tr>\n",
              "      <th>9256</th>\n",
              "      <td>TRATOR AGRÍCOLA JOHN DEERE MODELO 6150J COM POTÊNCIA DE 110 KW</td>\n",
              "      <td>36</td>\n",
              "      <td>10030457002</td>\n",
              "    </tr>\n",
              "    <tr>\n",
              "      <th>9666</th>\n",
              "      <td>TRATOR KOMATSU 200-8F</td>\n",
              "      <td>17</td>\n",
              "      <td>10030457002</td>\n",
              "    </tr>\n",
              "    <tr>\n",
              "      <th>11101</th>\n",
              "      <td>TRATOR AGRÍCOLA JOHN DEERE MODELO 5075E COM POTÊNCIA DE 55 KW</td>\n",
              "      <td>1</td>\n",
              "      <td>10030457002</td>\n",
              "    </tr>\n",
              "  </tbody>\n",
              "</table>\n",
              "</div>"
            ],
            "text/plain": [
              "                                                           PROD_XPROD  \\\n",
              "6848                                         TRATOR AGRICOLA U60 ROPS   \n",
              "7894                                           TRATOR MA 5 8701.20.00   \n",
              "9256   TRATOR AGRÍCOLA JOHN DEERE MODELO 6150J COM POTÊNCIA DE 110 KW   \n",
              "9666                                            TRATOR KOMATSU 200-8F   \n",
              "11101   TRATOR AGRÍCOLA JOHN DEERE MODELO 5075E COM POTÊNCIA DE 55 KW   \n",
              "\n",
              "       CONTAGEM  CODIGO_PRODUTO_SEFAZ  \n",
              "6848          2           10030457002  \n",
              "7894          6           10030457002  \n",
              "9256         36           10030457002  \n",
              "9666         17           10030457002  \n",
              "11101         1           10030457002  "
            ]
          },
          "execution_count": 186,
          "metadata": {},
          "output_type": "execute_result"
        }
      ],
      "source": [
        "df_tratores.head()"
      ]
    },
    {
      "cell_type": "code",
      "execution_count": null,
      "id": "8095f0dd-18ab-4c02-8b73-a6edfec331fb",
      "metadata": {
        "id": "8095f0dd-18ab-4c02-8b73-a6edfec331fb"
      },
      "outputs": [],
      "source": [
        "df_tratores.to_csv('tratores.csv')"
      ]
    },
    {
      "cell_type": "code",
      "execution_count": null,
      "id": "220259b8-0e22-4231-a1b3-857bd8310b2d",
      "metadata": {
        "tags": [],
        "id": "220259b8-0e22-4231-a1b3-857bd8310b2d"
      },
      "outputs": [],
      "source": [
        "df_tratores.to_csv('labeled_cap87.csv', mode='a', header=False)"
      ]
    },
    {
      "cell_type": "markdown",
      "id": "eaeb14b4-3083-4db7-9973-fd2ab7b26941",
      "metadata": {
        "id": "eaeb14b4-3083-4db7-9973-fd2ab7b26941"
      },
      "source": [
        "###### Caminhão"
      ]
    },
    {
      "cell_type": "code",
      "execution_count": null,
      "id": "9a031954-6092-40a1-a9fa-d534af0d297d",
      "metadata": {
        "id": "9a031954-6092-40a1-a9fa-d534af0d297d"
      },
      "outputs": [],
      "source": [
        "pattern_caminhao = r'^(CAM[.\\s]|CAMINHAO|CARRETA)'"
      ]
    },
    {
      "cell_type": "code",
      "execution_count": null,
      "id": "b1a94d55-52c2-4bcb-87db-fee539b9b8f5",
      "metadata": {
        "id": "b1a94d55-52c2-4bcb-87db-fee539b9b8f5"
      },
      "outputs": [],
      "source": [
        "compiled_pat_caminhao = re.compile('^(CAM[.\\s]|CAMINHAO|CARRETA)')"
      ]
    },
    {
      "cell_type": "code",
      "execution_count": null,
      "id": "2537d5c7-a913-4aa4-8546-08e706a6589a",
      "metadata": {
        "tags": [],
        "id": "2537d5c7-a913-4aa4-8546-08e706a6589a"
      },
      "outputs": [],
      "source": [
        "MASK_CAMINHAO = (df[\"PROD_XPROD\"].str.contains(pattern_caminhao, flags = re.IGNORECASE))  & (df[\"PROD_VUNCOM\"] > 20000)"
      ]
    },
    {
      "cell_type": "code",
      "execution_count": null,
      "id": "accf4788-f5c3-484c-b20a-0c65478d2873",
      "metadata": {
        "id": "accf4788-f5c3-484c-b20a-0c65478d2873",
        "outputId": "ea360d11-f40a-40e4-a598-2c25cf8c2750"
      },
      "outputs": [
        {
          "data": {
            "text/plain": [
              "357"
            ]
          },
          "execution_count": 192,
          "metadata": {},
          "output_type": "execute_result"
        }
      ],
      "source": [
        "len(df[df[\"PROD_XPROD\"].str.contains(pattern_caminhao, flags = re.IGNORECASE)  & (df[\"PROD_VUNCOM\"] > 20000)])"
      ]
    },
    {
      "cell_type": "code",
      "execution_count": null,
      "id": "962b060c-b17c-4ddf-8fdf-7f04c760aeac",
      "metadata": {
        "tags": [],
        "id": "962b060c-b17c-4ddf-8fdf-7f04c760aeac",
        "outputId": "7e245d64-3a0a-4806-f0c7-009d29f57082"
      },
      "outputs": [
        {
          "data": {
            "text/html": [
              "<div>\n",
              "<style scoped>\n",
              "    .dataframe tbody tr th:only-of-type {\n",
              "        vertical-align: middle;\n",
              "    }\n",
              "\n",
              "    .dataframe tbody tr th {\n",
              "        vertical-align: top;\n",
              "    }\n",
              "\n",
              "    .dataframe thead th {\n",
              "        text-align: right;\n",
              "    }\n",
              "</style>\n",
              "<table border=\"1\" class=\"dataframe\">\n",
              "  <thead>\n",
              "    <tr style=\"text-align: right;\">\n",
              "      <th></th>\n",
              "      <th>PROD_XPROD</th>\n",
              "      <th>CONTAGEM</th>\n",
              "    </tr>\n",
              "  </thead>\n",
              "  <tbody>\n",
              "    <tr>\n",
              "      <th>843</th>\n",
              "      <td>CAMINHAO TRATOR, VOLVO MOD. FH 540</td>\n",
              "      <td>2</td>\n",
              "    </tr>\n",
              "    <tr>\n",
              "      <th>2463</th>\n",
              "      <td>CAMINHAO ATEGO 1419 COM CABINE</td>\n",
              "      <td>2</td>\n",
              "    </tr>\n",
              "    <tr>\n",
              "      <th>6982</th>\n",
              "      <td>CAMINHAO VOLKSWAGEN CONSTELLATION 17230</td>\n",
              "      <td>376</td>\n",
              "    </tr>\n",
              "    <tr>\n",
              "      <th>7578</th>\n",
              "      <td>CARRETA GRANELEIRA GRANOS 26000</td>\n",
              "      <td>6</td>\n",
              "    </tr>\n",
              "    <tr>\n",
              "      <th>9136</th>\n",
              "      <td>CAMINHAO TRATOR, VOLVO MOD. FH 540</td>\n",
              "      <td>3</td>\n",
              "    </tr>\n",
              "    <tr>\n",
              "      <th>9358</th>\n",
              "      <td>CAMINHAO SCANIA G440 6X4 FJG4084</td>\n",
              "      <td>4</td>\n",
              "    </tr>\n",
              "    <tr>\n",
              "      <th>9544</th>\n",
              "      <td>CAMINHAO VOLKSWAGEN CONSTELLATION 1723</td>\n",
              "      <td>968</td>\n",
              "    </tr>\n",
              "    <tr>\n",
              "      <th>11191</th>\n",
              "      <td>CAM RIG VW 17190 CH 9536E8240JR823269 PL BCC6953 CACAMBA BASC CH SP7FN1026,0J00061 CARROCERIA MET GUIND VEIC</td>\n",
              "      <td>1</td>\n",
              "    </tr>\n",
              "    <tr>\n",
              "      <th>12063</th>\n",
              "      <td>CAMINHAO VW 13.180</td>\n",
              "      <td>45</td>\n",
              "    </tr>\n",
              "    <tr>\n",
              "      <th>13068</th>\n",
              "      <td>CAMINHAO CHASSIS COM MOTOR E CABINA / P440 B6X4 CS</td>\n",
              "      <td>12</td>\n",
              "    </tr>\n",
              "  </tbody>\n",
              "</table>\n",
              "</div>"
            ],
            "text/plain": [
              "                                                                                                         PROD_XPROD  \\\n",
              "843                                                                              CAMINHAO TRATOR, VOLVO MOD. FH 540   \n",
              "2463                                                                                 CAMINHAO ATEGO 1419 COM CABINE   \n",
              "6982                                                                        CAMINHAO VOLKSWAGEN CONSTELLATION 17230   \n",
              "7578                                                                                CARRETA GRANELEIRA GRANOS 26000   \n",
              "9136                                                                             CAMINHAO TRATOR, VOLVO MOD. FH 540   \n",
              "9358                                                                               CAMINHAO SCANIA G440 6X4 FJG4084   \n",
              "9544                                                                         CAMINHAO VOLKSWAGEN CONSTELLATION 1723   \n",
              "11191  CAM RIG VW 17190 CH 9536E8240JR823269 PL BCC6953 CACAMBA BASC CH SP7FN1026,0J00061 CARROCERIA MET GUIND VEIC   \n",
              "12063                                                                                            CAMINHAO VW 13.180   \n",
              "13068                                                            CAMINHAO CHASSIS COM MOTOR E CABINA / P440 B6X4 CS   \n",
              "\n",
              "       CONTAGEM  \n",
              "843           2  \n",
              "2463          2  \n",
              "6982        376  \n",
              "7578          6  \n",
              "9136          3  \n",
              "9358          4  \n",
              "9544        968  \n",
              "11191         1  \n",
              "12063        45  \n",
              "13068        12  "
            ]
          },
          "execution_count": 193,
          "metadata": {},
          "output_type": "execute_result"
        }
      ],
      "source": [
        "df[MASK_CAMINHAO][LABELS_2].head(10)"
      ]
    },
    {
      "cell_type": "code",
      "execution_count": null,
      "id": "fddb3b75-a76e-4fa1-afbe-2f478b6241ca",
      "metadata": {
        "tags": [],
        "id": "fddb3b75-a76e-4fa1-afbe-2f478b6241ca",
        "outputId": "49e88921-528d-46d3-9252-64e354b2938a"
      },
      "outputs": [
        {
          "data": {
            "text/html": [
              "<div>\n",
              "<style scoped>\n",
              "    .dataframe tbody tr th:only-of-type {\n",
              "        vertical-align: middle;\n",
              "    }\n",
              "\n",
              "    .dataframe tbody tr th {\n",
              "        vertical-align: top;\n",
              "    }\n",
              "\n",
              "    .dataframe thead th {\n",
              "        text-align: right;\n",
              "    }\n",
              "</style>\n",
              "<table border=\"1\" class=\"dataframe\">\n",
              "  <thead>\n",
              "    <tr style=\"text-align: right;\">\n",
              "      <th></th>\n",
              "      <th>PROD_XPROD</th>\n",
              "      <th>PROD_NCM</th>\n",
              "      <th>PROD_VUNCOM</th>\n",
              "      <th>CONTAGEM</th>\n",
              "      <th>NCM_POSICAO</th>\n",
              "      <th>IMPORTANCIA</th>\n",
              "      <th>POSICAO_NCM</th>\n",
              "    </tr>\n",
              "  </thead>\n",
              "  <tbody>\n",
              "    <tr>\n",
              "      <th>950</th>\n",
              "      <td>FLANGE BOMBA COMB GOLF IV FOX 2005 CROSSFOX 2005 KOMBI 2011</td>\n",
              "      <td>87089990</td>\n",
              "      <td>39.900000</td>\n",
              "      <td>3</td>\n",
              "      <td>8708</td>\n",
              "      <td>119.700000</td>\n",
              "      <td>8708</td>\n",
              "    </tr>\n",
              "    <tr>\n",
              "      <th>951</th>\n",
              "      <td>ISOLAMENTO ACUSTICO</td>\n",
              "      <td>87082919</td>\n",
              "      <td>345.800000</td>\n",
              "      <td>3</td>\n",
              "      <td>8708</td>\n",
              "      <td>1037.400000</td>\n",
              "      <td>8708</td>\n",
              "    </tr>\n",
              "    <tr>\n",
              "      <th>952</th>\n",
              "      <td>CAIXA ROTULA ALAV.CAMBIO GOL/PARATI/SANTANA .../05</td>\n",
              "      <td>87089990</td>\n",
              "      <td>18.280000</td>\n",
              "      <td>18</td>\n",
              "      <td>8708</td>\n",
              "      <td>329.040000</td>\n",
              "      <td>8708</td>\n",
              "    </tr>\n",
              "    <tr>\n",
              "      <th>953</th>\n",
              "      <td>TRAVA ARANHA RANDON MODERNA 80MM</td>\n",
              "      <td>87169090</td>\n",
              "      <td>12.000000</td>\n",
              "      <td>59</td>\n",
              "      <td>8716</td>\n",
              "      <td>708.000000</td>\n",
              "      <td>8716</td>\n",
              "    </tr>\n",
              "    <tr>\n",
              "      <th>954</th>\n",
              "      <td>GUIDAO TITAN CROMADO</td>\n",
              "      <td>87149100</td>\n",
              "      <td>23.800000</td>\n",
              "      <td>48</td>\n",
              "      <td>8714</td>\n",
              "      <td>1142.400000</td>\n",
              "      <td>8714</td>\n",
              "    </tr>\n",
              "    <tr>\n",
              "      <th>955</th>\n",
              "      <td>AMORTECEDOR DIANT ESQ</td>\n",
              "      <td>87088000</td>\n",
              "      <td>300.300000</td>\n",
              "      <td>1</td>\n",
              "      <td>8708</td>\n",
              "      <td>300.300000</td>\n",
              "      <td>8708</td>\n",
              "    </tr>\n",
              "    <tr>\n",
              "      <th>956</th>\n",
              "      <td>AXIAL DE DIRECAO</td>\n",
              "      <td>87089990</td>\n",
              "      <td>28.468000</td>\n",
              "      <td>1</td>\n",
              "      <td>8708</td>\n",
              "      <td>28.468000</td>\n",
              "      <td>8708</td>\n",
              "    </tr>\n",
              "    <tr>\n",
              "      <th>957</th>\n",
              "      <td>AXIAL DE DIRECAO</td>\n",
              "      <td>87089990</td>\n",
              "      <td>29.640000</td>\n",
              "      <td>5</td>\n",
              "      <td>8708</td>\n",
              "      <td>148.200000</td>\n",
              "      <td>8708</td>\n",
              "    </tr>\n",
              "    <tr>\n",
              "      <th>958</th>\n",
              "      <td>CALOTA PLAST CINEM (GOTA C/ACRIL) CROMADO/DIREITO</td>\n",
              "      <td>87087090</td>\n",
              "      <td>19.750875</td>\n",
              "      <td>1</td>\n",
              "      <td>8708</td>\n",
              "      <td>19.750875</td>\n",
              "      <td>8708</td>\n",
              "    </tr>\n",
              "    <tr>\n",
              "      <th>959</th>\n",
              "      <td>ESTRELA PLAST GRADE CROM C/ARO 255MM MB</td>\n",
              "      <td>87089990</td>\n",
              "      <td>35.840000</td>\n",
              "      <td>6</td>\n",
              "      <td>8708</td>\n",
              "      <td>215.040000</td>\n",
              "      <td>8708</td>\n",
              "    </tr>\n",
              "    <tr>\n",
              "      <th>960</th>\n",
              "      <td>CONJ PLATO EMBR</td>\n",
              "      <td>87089300</td>\n",
              "      <td>1959.220000</td>\n",
              "      <td>3</td>\n",
              "      <td>8708</td>\n",
              "      <td>5877.660000</td>\n",
              "      <td>8708</td>\n",
              "    </tr>\n",
              "    <tr>\n",
              "      <th>961</th>\n",
              "      <td>TQ EXP RAD VOLVO NL/EDC</td>\n",
              "      <td>87089990</td>\n",
              "      <td>97.470000</td>\n",
              "      <td>1</td>\n",
              "      <td>8708</td>\n",
              "      <td>97.470000</td>\n",
              "      <td>8708</td>\n",
              "    </tr>\n",
              "    <tr>\n",
              "      <th>962</th>\n",
              "      <td>TERMINAL DIRECAO - NAKATA N 99225</td>\n",
              "      <td>87089990</td>\n",
              "      <td>190.000000</td>\n",
              "      <td>1</td>\n",
              "      <td>8708</td>\n",
              "      <td>190.000000</td>\n",
              "      <td>8708</td>\n",
              "    </tr>\n",
              "    <tr>\n",
              "      <th>963</th>\n",
              "      <td>TAPA SOL ACRILICO VOLVO FH/FM/FMX 2010/2014</td>\n",
              "      <td>87082999</td>\n",
              "      <td>645.619200</td>\n",
              "      <td>1</td>\n",
              "      <td>8708</td>\n",
              "      <td>645.619200</td>\n",
              "      <td>8708</td>\n",
              "    </tr>\n",
              "    <tr>\n",
              "      <th>964</th>\n",
              "      <td>PASTILHA FREIO DIANT JG NHB17570900 ORI:4</td>\n",
              "      <td>87083019</td>\n",
              "      <td>283.530000</td>\n",
              "      <td>5</td>\n",
              "      <td>8708</td>\n",
              "      <td>1417.650000</td>\n",
              "      <td>8708</td>\n",
              "    </tr>\n",
              "    <tr>\n",
              "      <th>965</th>\n",
              "      <td>JRP1382-CAIXA DE DIRECAO HIDRAULICA</td>\n",
              "      <td>87089483</td>\n",
              "      <td>678.350000</td>\n",
              "      <td>1</td>\n",
              "      <td>8708</td>\n",
              "      <td>678.350000</td>\n",
              "      <td>8708</td>\n",
              "    </tr>\n",
              "    <tr>\n",
              "      <th>966</th>\n",
              "      <td>CABO EMBREAGEM-94638953</td>\n",
              "      <td>87089300</td>\n",
              "      <td>29.140000</td>\n",
              "      <td>1</td>\n",
              "      <td>8708</td>\n",
              "      <td>29.140000</td>\n",
              "      <td>8708</td>\n",
              "    </tr>\n",
              "    <tr>\n",
              "      <th>967</th>\n",
              "      <td>ENGATE STRADA 03/    SUPORTE</td>\n",
              "      <td>87089990</td>\n",
              "      <td>316.940000</td>\n",
              "      <td>1</td>\n",
              "      <td>8708</td>\n",
              "      <td>316.940000</td>\n",
              "      <td>8708</td>\n",
              "    </tr>\n",
              "    <tr>\n",
              "      <th>968</th>\n",
              "      <td>LINHA PRETA 20</td>\n",
              "      <td>54011090</td>\n",
              "      <td>10.600000</td>\n",
              "      <td>1</td>\n",
              "      <td>5401</td>\n",
              "      <td>10.600000</td>\n",
              "      <td>5401</td>\n",
              "    </tr>\n",
              "    <tr>\n",
              "      <th>969</th>\n",
              "      <td>SEMI EIXO DE TRANSMISSAO DE VEICULO AUTO CMP003</td>\n",
              "      <td>87089990</td>\n",
              "      <td>1124.010000</td>\n",
              "      <td>5</td>\n",
              "      <td>8708</td>\n",
              "      <td>5620.050000</td>\n",
              "      <td>8708</td>\n",
              "    </tr>\n",
              "    <tr>\n",
              "      <th>970</th>\n",
              "      <td>SISTEMA DE INSUFLACA</td>\n",
              "      <td>87089522</td>\n",
              "      <td>225.690000</td>\n",
              "      <td>49</td>\n",
              "      <td>8708</td>\n",
              "      <td>11058.810000</td>\n",
              "      <td>8708</td>\n",
              "    </tr>\n",
              "    <tr>\n",
              "      <th>971</th>\n",
              "      <td>CRUZETA CARDA SCANIA S4 TRACADO (CARDAN PEQ) FAP</td>\n",
              "      <td>87085099</td>\n",
              "      <td>161.678000</td>\n",
              "      <td>5</td>\n",
              "      <td>8708</td>\n",
              "      <td>808.390000</td>\n",
              "      <td>8708</td>\n",
              "    </tr>\n",
              "    <tr>\n",
              "      <th>972</th>\n",
              "      <td>(23.048) TAMPA OLEO MOTOR -PED ANEXADO: 191573</td>\n",
              "      <td>84099190</td>\n",
              "      <td>7.270000</td>\n",
              "      <td>3</td>\n",
              "      <td>8409</td>\n",
              "      <td>21.810000</td>\n",
              "      <td>8409</td>\n",
              "    </tr>\n",
              "    <tr>\n",
              "      <th>973</th>\n",
              "      <td>BARRA AXIAL (TERMINAL) E/D 300MM</td>\n",
              "      <td>87089482</td>\n",
              "      <td>29.220000</td>\n",
              "      <td>10</td>\n",
              "      <td>8708</td>\n",
              "      <td>292.200000</td>\n",
              "      <td>8708</td>\n",
              "    </tr>\n",
              "    <tr>\n",
              "      <th>974</th>\n",
              "      <td>HG 33053 AMORTECEDOR DIANT - NAK</td>\n",
              "      <td>87088000</td>\n",
              "      <td>170.700000</td>\n",
              "      <td>1</td>\n",
              "      <td>8708</td>\n",
              "      <td>170.700000</td>\n",
              "      <td>8708</td>\n",
              "    </tr>\n",
              "    <tr>\n",
              "      <th>975</th>\n",
              "      <td>TAMPA CUBO DIANTEIRO IVECO</td>\n",
              "      <td>87087090</td>\n",
              "      <td>195.000000</td>\n",
              "      <td>1</td>\n",
              "      <td>8708</td>\n",
              "      <td>195.000000</td>\n",
              "      <td>8708</td>\n",
              "    </tr>\n",
              "    <tr>\n",
              "      <th>976</th>\n",
              "      <td>TUBO FLEXIVEL ACO GALVANIZADO 3.1/2X1000MM</td>\n",
              "      <td>87089200</td>\n",
              "      <td>112.500000</td>\n",
              "      <td>3</td>\n",
              "      <td>8708</td>\n",
              "      <td>337.500000</td>\n",
              "      <td>8708</td>\n",
              "    </tr>\n",
              "    <tr>\n",
              "      <th>977</th>\n",
              "      <td>DUTO DE ENTRADA DO FILTRO DE AR DE VEICU</td>\n",
              "      <td>87089990</td>\n",
              "      <td>119.251000</td>\n",
              "      <td>1</td>\n",
              "      <td>8708</td>\n",
              "      <td>119.251000</td>\n",
              "      <td>8708</td>\n",
              "    </tr>\n",
              "    <tr>\n",
              "      <th>978</th>\n",
              "      <td>PD/23 PD/1788 PASTILHA FREIO DIANT - FRA</td>\n",
              "      <td>87083019</td>\n",
              "      <td>28.460000</td>\n",
              "      <td>2</td>\n",
              "      <td>8708</td>\n",
              "      <td>56.920000</td>\n",
              "      <td>8708</td>\n",
              "    </tr>\n",
              "    <tr>\n",
              "      <th>979</th>\n",
              "      <td>BORRACHA AMORT.DIANT.F-1000/PAMPA</td>\n",
              "      <td>40161010</td>\n",
              "      <td>3.890000</td>\n",
              "      <td>54</td>\n",
              "      <td>4016</td>\n",
              "      <td>210.060000</td>\n",
              "      <td>4016</td>\n",
              "    </tr>\n",
              "    <tr>\n",
              "      <th>980</th>\n",
              "      <td>RCCE00700 CILINDRO MESTRE EMBREAGEM - VAR</td>\n",
              "      <td>87089300</td>\n",
              "      <td>108.290000</td>\n",
              "      <td>1</td>\n",
              "      <td>8708</td>\n",
              "      <td>108.290000</td>\n",
              "      <td>8708</td>\n",
              "    </tr>\n",
              "    <tr>\n",
              "      <th>981</th>\n",
              "      <td>28529 BLOCO 4RVE 8 VALMET 60ID 80ID</td>\n",
              "      <td>87089100</td>\n",
              "      <td>647.790000</td>\n",
              "      <td>1</td>\n",
              "      <td>8708</td>\n",
              "      <td>647.790000</td>\n",
              "      <td>8708</td>\n",
              "    </tr>\n",
              "    <tr>\n",
              "      <th>982</th>\n",
              "      <td>GUIA GRAMPO MOLA TRAS MB 1113/2013</td>\n",
              "      <td>82055900</td>\n",
              "      <td>20.310000</td>\n",
              "      <td>2</td>\n",
              "      <td>8205</td>\n",
              "      <td>40.620000</td>\n",
              "      <td>8205</td>\n",
              "    </tr>\n",
              "    <tr>\n",
              "      <th>983</th>\n",
              "      <td>CALOTA DA RODA</td>\n",
              "      <td>87082999</td>\n",
              "      <td>476.430000</td>\n",
              "      <td>1</td>\n",
              "      <td>8708</td>\n",
              "      <td>476.430000</td>\n",
              "      <td>8708</td>\n",
              "    </tr>\n",
              "    <tr>\n",
              "      <th>984</th>\n",
              "      <td>CALOTA ARO 15P MOD MONTANA 2011/20</td>\n",
              "      <td>87087090</td>\n",
              "      <td>11.560000</td>\n",
              "      <td>30</td>\n",
              "      <td>8708</td>\n",
              "      <td>346.800000</td>\n",
              "      <td>8708</td>\n",
              "    </tr>\n",
              "    <tr>\n",
              "      <th>985</th>\n",
              "      <td>KITS BATENTE/COIFA PALIO/SIENA 96/...(2 LADOS)</td>\n",
              "      <td>40169990</td>\n",
              "      <td>59.330000</td>\n",
              "      <td>20</td>\n",
              "      <td>4016</td>\n",
              "      <td>1186.600000</td>\n",
              "      <td>4016</td>\n",
              "    </tr>\n",
              "    <tr>\n",
              "      <th>986</th>\n",
              "      <td>PASTILHA FREIO CB300R/CB600R 04/09/BANDIT C/ABS(T)</td>\n",
              "      <td>87141000</td>\n",
              "      <td>1.393500</td>\n",
              "      <td>1</td>\n",
              "      <td>8714</td>\n",
              "      <td>1.393500</td>\n",
              "      <td>8714</td>\n",
              "    </tr>\n",
              "    <tr>\n",
              "      <th>987</th>\n",
              "      <td>TAMPA LAT ESQ</td>\n",
              "      <td>87141000</td>\n",
              "      <td>94.650000</td>\n",
              "      <td>1</td>\n",
              "      <td>8714</td>\n",
              "      <td>94.650000</td>\n",
              "      <td>8714</td>\n",
              "    </tr>\n",
              "    <tr>\n",
              "      <th>988</th>\n",
              "      <td>SOBRE TAMPA CUBO RODA TRACAO SCANIA VERMELHA</td>\n",
              "      <td>87087090</td>\n",
              "      <td>74.220000</td>\n",
              "      <td>2</td>\n",
              "      <td>8708</td>\n",
              "      <td>148.440000</td>\n",
              "      <td>8708</td>\n",
              "    </tr>\n",
              "    <tr>\n",
              "      <th>989</th>\n",
              "      <td>KIT RELACAO COMPLETO 50X17 ACO 1045</td>\n",
              "      <td>87141000</td>\n",
              "      <td>90.460000</td>\n",
              "      <td>2</td>\n",
              "      <td>8714</td>\n",
              "      <td>180.920000</td>\n",
              "      <td>8714</td>\n",
              "    </tr>\n",
              "    <tr>\n",
              "      <th>990</th>\n",
              "      <td>(2817) GRADE CENTRAL PARA-CHOQUE CORSA CLASSIC 10/16  PRETA</td>\n",
              "      <td>87082912</td>\n",
              "      <td>7.790000</td>\n",
              "      <td>1</td>\n",
              "      <td>8708</td>\n",
              "      <td>7.790000</td>\n",
              "      <td>8708</td>\n",
              "    </tr>\n",
              "    <tr>\n",
              "      <th>991</th>\n",
              "      <td>(2860) MOLDURA RENAULT SANDERO 14/... LD PRETO S/MILHA</td>\n",
              "      <td>87082912</td>\n",
              "      <td>7.790000</td>\n",
              "      <td>1</td>\n",
              "      <td>8708</td>\n",
              "      <td>7.790000</td>\n",
              "      <td>8708</td>\n",
              "    </tr>\n",
              "    <tr>\n",
              "      <th>992</th>\n",
              "      <td>MANCAL EIXO TANDEM VOLVO</td>\n",
              "      <td>87089990</td>\n",
              "      <td>600.000000</td>\n",
              "      <td>6</td>\n",
              "      <td>8708</td>\n",
              "      <td>3600.000000</td>\n",
              "      <td>8708</td>\n",
              "    </tr>\n",
              "    <tr>\n",
              "      <th>993</th>\n",
              "      <td>SYL1407-PASTILHA DE FREIO</td>\n",
              "      <td>87083090</td>\n",
              "      <td>23.680000</td>\n",
              "      <td>2</td>\n",
              "      <td>8708</td>\n",
              "      <td>47.360000</td>\n",
              "      <td>8708</td>\n",
              "    </tr>\n",
              "    <tr>\n",
              "      <th>994</th>\n",
              "      <td>(2713) MOLDURA PUNTO 07/12 LE PRETA S/ MILHA</td>\n",
              "      <td>87082912</td>\n",
              "      <td>5.440000</td>\n",
              "      <td>1</td>\n",
              "      <td>8708</td>\n",
              "      <td>5.440000</td>\n",
              "      <td>8708</td>\n",
              "    </tr>\n",
              "    <tr>\n",
              "      <th>995</th>\n",
              "      <td>DELIVERY - COMB 02 C/ 200</td>\n",
              "      <td>39239000</td>\n",
              "      <td>200.000000</td>\n",
              "      <td>9</td>\n",
              "      <td>3923</td>\n",
              "      <td>1800.000000</td>\n",
              "      <td>3923</td>\n",
              "    </tr>\n",
              "    <tr>\n",
              "      <th>996</th>\n",
              "      <td>(ALB356-509) ALBARUS - JUNTA HOMOC GM CELTA 1.0 MPFI 8V S/ABS</td>\n",
              "      <td>87089990</td>\n",
              "      <td>160.310000</td>\n",
              "      <td>1</td>\n",
              "      <td>8708</td>\n",
              "      <td>160.310000</td>\n",
              "      <td>8708</td>\n",
              "    </tr>\n",
              "    <tr>\n",
              "      <th>997</th>\n",
              "      <td>SILENCIOSO *TN1</td>\n",
              "      <td>87089200</td>\n",
              "      <td>1180.000000</td>\n",
              "      <td>1</td>\n",
              "      <td>8708</td>\n",
              "      <td>1180.000000</td>\n",
              "      <td>8708</td>\n",
              "    </tr>\n",
              "    <tr>\n",
              "      <th>998</th>\n",
              "      <td>GRADE TRASEIR VF 50 COM CALHAS</td>\n",
              "      <td>84189900</td>\n",
              "      <td>21.610000</td>\n",
              "      <td>40</td>\n",
              "      <td>8418</td>\n",
              "      <td>864.400000</td>\n",
              "      <td>8418</td>\n",
              "    </tr>\n",
              "    <tr>\n",
              "      <th>999</th>\n",
              "      <td>RABETA - FAN 150 TITAN 150 PRETO 2009 A 2013</td>\n",
              "      <td>87141000</td>\n",
              "      <td>118.020000</td>\n",
              "      <td>1</td>\n",
              "      <td>8714</td>\n",
              "      <td>118.020000</td>\n",
              "      <td>8714</td>\n",
              "    </tr>\n",
              "  </tbody>\n",
              "</table>\n",
              "</div>"
            ],
            "text/plain": [
              "                                                        PROD_XPROD  PROD_NCM  \\\n",
              "950    FLANGE BOMBA COMB GOLF IV FOX 2005 CROSSFOX 2005 KOMBI 2011  87089990   \n",
              "951                                            ISOLAMENTO ACUSTICO  87082919   \n",
              "952             CAIXA ROTULA ALAV.CAMBIO GOL/PARATI/SANTANA .../05  87089990   \n",
              "953                               TRAVA ARANHA RANDON MODERNA 80MM  87169090   \n",
              "954                                           GUIDAO TITAN CROMADO  87149100   \n",
              "955                                          AMORTECEDOR DIANT ESQ  87088000   \n",
              "956                                               AXIAL DE DIRECAO  87089990   \n",
              "957                                               AXIAL DE DIRECAO  87089990   \n",
              "958              CALOTA PLAST CINEM (GOTA C/ACRIL) CROMADO/DIREITO  87087090   \n",
              "959                        ESTRELA PLAST GRADE CROM C/ARO 255MM MB  87089990   \n",
              "960                                                CONJ PLATO EMBR  87089300   \n",
              "961                                        TQ EXP RAD VOLVO NL/EDC  87089990   \n",
              "962                              TERMINAL DIRECAO - NAKATA N 99225  87089990   \n",
              "963                    TAPA SOL ACRILICO VOLVO FH/FM/FMX 2010/2014  87082999   \n",
              "964                      PASTILHA FREIO DIANT JG NHB17570900 ORI:4  87083019   \n",
              "965                            JRP1382-CAIXA DE DIRECAO HIDRAULICA  87089483   \n",
              "966                                        CABO EMBREAGEM-94638953  87089300   \n",
              "967                                   ENGATE STRADA 03/    SUPORTE  87089990   \n",
              "968                                                 LINHA PRETA 20  54011090   \n",
              "969                SEMI EIXO DE TRANSMISSAO DE VEICULO AUTO CMP003  87089990   \n",
              "970                                           SISTEMA DE INSUFLACA  87089522   \n",
              "971               CRUZETA CARDA SCANIA S4 TRACADO (CARDAN PEQ) FAP  87085099   \n",
              "972                 (23.048) TAMPA OLEO MOTOR -PED ANEXADO: 191573  84099190   \n",
              "973                               BARRA AXIAL (TERMINAL) E/D 300MM  87089482   \n",
              "974                               HG 33053 AMORTECEDOR DIANT - NAK  87088000   \n",
              "975                                     TAMPA CUBO DIANTEIRO IVECO  87087090   \n",
              "976                     TUBO FLEXIVEL ACO GALVANIZADO 3.1/2X1000MM  87089200   \n",
              "977                       DUTO DE ENTRADA DO FILTRO DE AR DE VEICU  87089990   \n",
              "978                       PD/23 PD/1788 PASTILHA FREIO DIANT - FRA  87083019   \n",
              "979                              BORRACHA AMORT.DIANT.F-1000/PAMPA  40161010   \n",
              "980                      RCCE00700 CILINDRO MESTRE EMBREAGEM - VAR  87089300   \n",
              "981                            28529 BLOCO 4RVE 8 VALMET 60ID 80ID  87089100   \n",
              "982                             GUIA GRAMPO MOLA TRAS MB 1113/2013  82055900   \n",
              "983                                                 CALOTA DA RODA  87082999   \n",
              "984                             CALOTA ARO 15P MOD MONTANA 2011/20  87087090   \n",
              "985                 KITS BATENTE/COIFA PALIO/SIENA 96/...(2 LADOS)  40169990   \n",
              "986             PASTILHA FREIO CB300R/CB600R 04/09/BANDIT C/ABS(T)  87141000   \n",
              "987                                                  TAMPA LAT ESQ  87141000   \n",
              "988                   SOBRE TAMPA CUBO RODA TRACAO SCANIA VERMELHA  87087090   \n",
              "989                            KIT RELACAO COMPLETO 50X17 ACO 1045  87141000   \n",
              "990    (2817) GRADE CENTRAL PARA-CHOQUE CORSA CLASSIC 10/16  PRETA  87082912   \n",
              "991         (2860) MOLDURA RENAULT SANDERO 14/... LD PRETO S/MILHA  87082912   \n",
              "992                                       MANCAL EIXO TANDEM VOLVO  87089990   \n",
              "993                                      SYL1407-PASTILHA DE FREIO  87083090   \n",
              "994                   (2713) MOLDURA PUNTO 07/12 LE PRETA S/ MILHA  87082912   \n",
              "995                                      DELIVERY - COMB 02 C/ 200  39239000   \n",
              "996  (ALB356-509) ALBARUS - JUNTA HOMOC GM CELTA 1.0 MPFI 8V S/ABS  87089990   \n",
              "997                                                SILENCIOSO *TN1  87089200   \n",
              "998                                 GRADE TRASEIR VF 50 COM CALHAS  84189900   \n",
              "999                   RABETA - FAN 150 TITAN 150 PRETO 2009 A 2013  87141000   \n",
              "\n",
              "     PROD_VUNCOM  CONTAGEM NCM_POSICAO   IMPORTANCIA POSICAO_NCM  \n",
              "950    39.900000         3        8708    119.700000        8708  \n",
              "951   345.800000         3        8708   1037.400000        8708  \n",
              "952    18.280000        18        8708    329.040000        8708  \n",
              "953    12.000000        59        8716    708.000000        8716  \n",
              "954    23.800000        48        8714   1142.400000        8714  \n",
              "955   300.300000         1        8708    300.300000        8708  \n",
              "956    28.468000         1        8708     28.468000        8708  \n",
              "957    29.640000         5        8708    148.200000        8708  \n",
              "958    19.750875         1        8708     19.750875        8708  \n",
              "959    35.840000         6        8708    215.040000        8708  \n",
              "960  1959.220000         3        8708   5877.660000        8708  \n",
              "961    97.470000         1        8708     97.470000        8708  \n",
              "962   190.000000         1        8708    190.000000        8708  \n",
              "963   645.619200         1        8708    645.619200        8708  \n",
              "964   283.530000         5        8708   1417.650000        8708  \n",
              "965   678.350000         1        8708    678.350000        8708  \n",
              "966    29.140000         1        8708     29.140000        8708  \n",
              "967   316.940000         1        8708    316.940000        8708  \n",
              "968    10.600000         1        5401     10.600000        5401  \n",
              "969  1124.010000         5        8708   5620.050000        8708  \n",
              "970   225.690000        49        8708  11058.810000        8708  \n",
              "971   161.678000         5        8708    808.390000        8708  \n",
              "972     7.270000         3        8409     21.810000        8409  \n",
              "973    29.220000        10        8708    292.200000        8708  \n",
              "974   170.700000         1        8708    170.700000        8708  \n",
              "975   195.000000         1        8708    195.000000        8708  \n",
              "976   112.500000         3        8708    337.500000        8708  \n",
              "977   119.251000         1        8708    119.251000        8708  \n",
              "978    28.460000         2        8708     56.920000        8708  \n",
              "979     3.890000        54        4016    210.060000        4016  \n",
              "980   108.290000         1        8708    108.290000        8708  \n",
              "981   647.790000         1        8708    647.790000        8708  \n",
              "982    20.310000         2        8205     40.620000        8205  \n",
              "983   476.430000         1        8708    476.430000        8708  \n",
              "984    11.560000        30        8708    346.800000        8708  \n",
              "985    59.330000        20        4016   1186.600000        4016  \n",
              "986     1.393500         1        8714      1.393500        8714  \n",
              "987    94.650000         1        8714     94.650000        8714  \n",
              "988    74.220000         2        8708    148.440000        8708  \n",
              "989    90.460000         2        8714    180.920000        8714  \n",
              "990     7.790000         1        8708      7.790000        8708  \n",
              "991     7.790000         1        8708      7.790000        8708  \n",
              "992   600.000000         6        8708   3600.000000        8708  \n",
              "993    23.680000         2        8708     47.360000        8708  \n",
              "994     5.440000         1        8708      5.440000        8708  \n",
              "995   200.000000         9        3923   1800.000000        3923  \n",
              "996   160.310000         1        8708    160.310000        8708  \n",
              "997  1180.000000         1        8708   1180.000000        8708  \n",
              "998    21.610000        40        8418    864.400000        8418  \n",
              "999   118.020000         1        8714    118.020000        8714  "
            ]
          },
          "execution_count": 194,
          "metadata": {},
          "output_type": "execute_result"
        }
      ],
      "source": [
        "df.replace(to_replace ='[Rr][Tt][Gg].+', value = '', regex = True, inplace = False).head(1000).tail(50)"
      ]
    },
    {
      "cell_type": "code",
      "execution_count": null,
      "id": "17e3cf0e-eb13-4ee1-8b3f-60ceb5edd7ad",
      "metadata": {
        "id": "17e3cf0e-eb13-4ee1-8b3f-60ceb5edd7ad"
      },
      "outputs": [],
      "source": [
        "LABELS_2 = ['PROD_XPROD', 'CONTAGEM']"
      ]
    },
    {
      "cell_type": "code",
      "execution_count": null,
      "id": "5e0c0284-d5ce-44b1-b796-69a5fcb4def9",
      "metadata": {
        "id": "5e0c0284-d5ce-44b1-b796-69a5fcb4def9"
      },
      "outputs": [],
      "source": [
        "df_caminhao = df[MASK_CAMINHAO][LABELS_2]"
      ]
    },
    {
      "cell_type": "code",
      "execution_count": null,
      "id": "06c73f62-58f0-4d5e-bc1a-306e7244856f",
      "metadata": {
        "tags": [],
        "id": "06c73f62-58f0-4d5e-bc1a-306e7244856f"
      },
      "outputs": [],
      "source": [
        "df_caminhao['CODIGO_PRODUTO_SEFAZ'] = 10030457001"
      ]
    },
    {
      "cell_type": "code",
      "execution_count": null,
      "id": "361100b2-831f-4d42-8f5e-192b7df90c5d",
      "metadata": {
        "id": "361100b2-831f-4d42-8f5e-192b7df90c5d",
        "outputId": "d020d391-a0be-4abd-9827-d138fcba262c"
      },
      "outputs": [
        {
          "data": {
            "text/html": [
              "<div>\n",
              "<style scoped>\n",
              "    .dataframe tbody tr th:only-of-type {\n",
              "        vertical-align: middle;\n",
              "    }\n",
              "\n",
              "    .dataframe tbody tr th {\n",
              "        vertical-align: top;\n",
              "    }\n",
              "\n",
              "    .dataframe thead th {\n",
              "        text-align: right;\n",
              "    }\n",
              "</style>\n",
              "<table border=\"1\" class=\"dataframe\">\n",
              "  <thead>\n",
              "    <tr style=\"text-align: right;\">\n",
              "      <th></th>\n",
              "      <th>PROD_XPROD</th>\n",
              "      <th>CONTAGEM</th>\n",
              "      <th>CODIGO_PRODUTO_SEFAZ</th>\n",
              "    </tr>\n",
              "  </thead>\n",
              "  <tbody>\n",
              "    <tr>\n",
              "      <th>843</th>\n",
              "      <td>CAMINHAO TRATOR, VOLVO MOD. FH 540</td>\n",
              "      <td>2</td>\n",
              "      <td>10030457001</td>\n",
              "    </tr>\n",
              "    <tr>\n",
              "      <th>2463</th>\n",
              "      <td>CAMINHAO ATEGO 1419 COM CABINE</td>\n",
              "      <td>2</td>\n",
              "      <td>10030457001</td>\n",
              "    </tr>\n",
              "    <tr>\n",
              "      <th>6982</th>\n",
              "      <td>CAMINHAO VOLKSWAGEN CONSTELLATION 17230</td>\n",
              "      <td>376</td>\n",
              "      <td>10030457001</td>\n",
              "    </tr>\n",
              "    <tr>\n",
              "      <th>7578</th>\n",
              "      <td>CARRETA GRANELEIRA GRANOS 26000</td>\n",
              "      <td>6</td>\n",
              "      <td>10030457001</td>\n",
              "    </tr>\n",
              "    <tr>\n",
              "      <th>9136</th>\n",
              "      <td>CAMINHAO TRATOR, VOLVO MOD. FH 540</td>\n",
              "      <td>3</td>\n",
              "      <td>10030457001</td>\n",
              "    </tr>\n",
              "  </tbody>\n",
              "</table>\n",
              "</div>"
            ],
            "text/plain": [
              "                                   PROD_XPROD  CONTAGEM  CODIGO_PRODUTO_SEFAZ\n",
              "843        CAMINHAO TRATOR, VOLVO MOD. FH 540         2           10030457001\n",
              "2463           CAMINHAO ATEGO 1419 COM CABINE         2           10030457001\n",
              "6982  CAMINHAO VOLKSWAGEN CONSTELLATION 17230       376           10030457001\n",
              "7578          CARRETA GRANELEIRA GRANOS 26000         6           10030457001\n",
              "9136       CAMINHAO TRATOR, VOLVO MOD. FH 540         3           10030457001"
            ]
          },
          "execution_count": 198,
          "metadata": {},
          "output_type": "execute_result"
        }
      ],
      "source": [
        "df_caminhao.head()"
      ]
    },
    {
      "cell_type": "code",
      "execution_count": null,
      "id": "52c26628-b500-4d09-b1e0-a661f02032e6",
      "metadata": {
        "id": "52c26628-b500-4d09-b1e0-a661f02032e6"
      },
      "outputs": [],
      "source": [
        "df_caminhao.to_csv('caminhao.csv')"
      ]
    },
    {
      "cell_type": "code",
      "execution_count": null,
      "id": "3c34d01a-fa65-4147-8533-e027328e46e3",
      "metadata": {
        "id": "3c34d01a-fa65-4147-8533-e027328e46e3"
      },
      "outputs": [],
      "source": [
        "df_caminhao.to_csv('labeled_cap87.csv', mode='a', header=False)"
      ]
    },
    {
      "cell_type": "markdown",
      "id": "95a251ea-52bd-4803-a050-e6a4741a7750",
      "metadata": {
        "id": "95a251ea-52bd-4803-a050-e6a4741a7750"
      },
      "source": [
        "###### Onibus"
      ]
    },
    {
      "cell_type": "code",
      "execution_count": null,
      "id": "5998f9e1-dde8-4e9b-9e48-bb6010cb8a23",
      "metadata": {
        "id": "5998f9e1-dde8-4e9b-9e48-bb6010cb8a23"
      },
      "outputs": [],
      "source": [
        "pattern_onibus = r'^(ONIBUS)'"
      ]
    },
    {
      "cell_type": "code",
      "execution_count": null,
      "id": "defec144-34c4-41f3-81a9-61bd5bb4e481",
      "metadata": {
        "tags": [],
        "id": "defec144-34c4-41f3-81a9-61bd5bb4e481"
      },
      "outputs": [],
      "source": [
        "MASK_ONIBUS = (df[\"PROD_XPROD\"].str.contains(pattern_onibus, flags = re.IGNORECASE))  & (df[\"PROD_VUNCOM\"] > 20000)"
      ]
    },
    {
      "cell_type": "code",
      "execution_count": null,
      "id": "1eece098-b119-4559-9315-fab3d4976fe5",
      "metadata": {
        "tags": [],
        "id": "1eece098-b119-4559-9315-fab3d4976fe5",
        "outputId": "7a4b46bd-adfa-4339-8724-7759459065ac"
      },
      "outputs": [
        {
          "data": {
            "text/html": [
              "<div>\n",
              "<style scoped>\n",
              "    .dataframe tbody tr th:only-of-type {\n",
              "        vertical-align: middle;\n",
              "    }\n",
              "\n",
              "    .dataframe tbody tr th {\n",
              "        vertical-align: top;\n",
              "    }\n",
              "\n",
              "    .dataframe thead th {\n",
              "        text-align: right;\n",
              "    }\n",
              "</style>\n",
              "<table border=\"1\" class=\"dataframe\">\n",
              "  <thead>\n",
              "    <tr style=\"text-align: right;\">\n",
              "      <th></th>\n",
              "      <th>PROD_XPROD</th>\n",
              "      <th>PROD_VUNCOM</th>\n",
              "      <th>CONTAGEM</th>\n",
              "    </tr>\n",
              "  </thead>\n",
              "  <tbody>\n",
              "    <tr>\n",
              "      <th>153991</th>\n",
              "      <td>ONIBUS URBANO SOB ENCOMENDA COM CARROCERIA DE NOSSA FABRICACAO OPCIONAIS CONFORME CARACTERISTICAS SEGUINTES:</td>\n",
              "      <td>143000.00</td>\n",
              "      <td>10</td>\n",
              "    </tr>\n",
              "    <tr>\n",
              "      <th>156683</th>\n",
              "      <td>ONIBUS RODOVIARIO SOB ENCOMENDA COM CARROCERIA DE NOSSA FABRICACAO OPCIONAIS CONFORME CARACTERISTICAS SEGUINTES:</td>\n",
              "      <td>490000.00</td>\n",
              "      <td>5</td>\n",
              "    </tr>\n",
              "    <tr>\n",
              "      <th>163478</th>\n",
              "      <td>ONIBUS COMPLETO SOB ENCOMENDA DE NOSSA FABRICACAO E OPCIONAIS CONFORME CARACTERISTICAS SEGUINTES:</td>\n",
              "      <td>367406.85</td>\n",
              "      <td>4</td>\n",
              "    </tr>\n",
              "    <tr>\n",
              "      <th>215459</th>\n",
              "      <td>ONIBUS ESCOLAR COMPLETO COM CARROCERIA DE NOSSA FABRICACAO, MARCA: MASCARELLO, MODELO: GRAN MIDI - ESCOLAR, NUMERO: BUSU</td>\n",
              "      <td>430000.00</td>\n",
              "      <td>13</td>\n",
              "    </tr>\n",
              "    <tr>\n",
              "      <th>230633</th>\n",
              "      <td>ONIBUS COMPLETO SOB ENCOMENDA DE NOSSA FABRICACAO E OPCIONAIS CONFORME CARACTERISTICAS SEGUINTES:</td>\n",
              "      <td>341200.00</td>\n",
              "      <td>39</td>\n",
              "    </tr>\n",
              "    <tr>\n",
              "      <th>233522</th>\n",
              "      <td>ONIBUS URBANO SOB ENCOMENDA COM CARROCERIA DE NOSSA FABRICACAO OPCIONAIS CONFORME CARACTERISTICAS SEGUINTES:</td>\n",
              "      <td>317900.00</td>\n",
              "      <td>15</td>\n",
              "    </tr>\n",
              "    <tr>\n",
              "      <th>243450</th>\n",
              "      <td>ONIBUS RODOVIARIO SOB ENCOMENDA COM CARROCERIA DE NOSSA FABRICACAO COM AS SEGUINTES CARACTERISTICAS:</td>\n",
              "      <td>415000.00</td>\n",
              "      <td>2</td>\n",
              "    </tr>\n",
              "    <tr>\n",
              "      <th>276844</th>\n",
              "      <td>ONIBUS M B MPOLO TORINO GVU AKG-9609 17 955 78 228581-3 9BM3840732B301939 2002</td>\n",
              "      <td>80000.00</td>\n",
              "      <td>4</td>\n",
              "    </tr>\n",
              "    <tr>\n",
              "      <th>301035</th>\n",
              "      <td>ONIBUS COMPLETO SOB ENCOMENDA DE NOSSA FABRICACAO E OPCIONAIS CONFORME CARACTERISTICAS SEGUINTES:</td>\n",
              "      <td>416152.43</td>\n",
              "      <td>1</td>\n",
              "    </tr>\n",
              "    <tr>\n",
              "      <th>311521</th>\n",
              "      <td>ONIBUS LO - 916/48</td>\n",
              "      <td>271800.00</td>\n",
              "      <td>2</td>\n",
              "    </tr>\n",
              "    <tr>\n",
              "      <th>314174</th>\n",
              "      <td>ONIBUS COMPLETO SOB ENCOMENDA DE NOSSA FABRICACAO E OPCIONAIS CONFORME CARACTERISTICAS SEGUINTES:</td>\n",
              "      <td>284500.00</td>\n",
              "      <td>87</td>\n",
              "    </tr>\n",
              "    <tr>\n",
              "      <th>329738</th>\n",
              "      <td>ONIBUS URBANO SOB ENCOMENDA COM CARROCERIA DE NOSSA FABRICACAO OPCIONAIS CONFORME CARACTERISTICAS SEGUINTES:</td>\n",
              "      <td>247950.00</td>\n",
              "      <td>167</td>\n",
              "    </tr>\n",
              "    <tr>\n",
              "      <th>334300</th>\n",
              "      <td>ONIBUS URBANO SOB ENCOMENDA COM CARROCERIA DE NOSSA FABRICACAO OPCIONAIS CONFORME CARACTERISTICAS SEGUINTES:</td>\n",
              "      <td>136000.00</td>\n",
              "      <td>2</td>\n",
              "    </tr>\n",
              "    <tr>\n",
              "      <th>367204</th>\n",
              "      <td>ONIBUS RODOVIARIO SOB ENCOMENDA COM CARROCERIA DE NOSSA FABRICACAO OPCIONAIS CONFORME CARACTERISTICAS SEGUINTES:</td>\n",
              "      <td>518000.00</td>\n",
              "      <td>2</td>\n",
              "    </tr>\n",
              "    <tr>\n",
              "      <th>424382</th>\n",
              "      <td>ONIBUS RODOVIARIO SOB ENCOMENDA COM CARROCERIA DE NOSSA FABRICACAO OPCIONAIS CONFORME CARACTERISTICAS SEGUINTES:</td>\n",
              "      <td>414000.00</td>\n",
              "      <td>12</td>\n",
              "    </tr>\n",
              "    <tr>\n",
              "      <th>454310</th>\n",
              "      <td>ONIBUS COMPLETO SOB ENCOMENDA DE NOSSA FABRICACAO E OPCIONAIS CONFORME CARACTERISTICAS SEGUINTES:</td>\n",
              "      <td>279000.00</td>\n",
              "      <td>2</td>\n",
              "    </tr>\n",
              "    <tr>\n",
              "      <th>455896</th>\n",
              "      <td>ONIBUS COMPLETO SOB ENCOMENDA DE NOSSA FABRICACAO E OPCIONAIS CONFORME CARACTERISTICAS SEGUINTES:</td>\n",
              "      <td>367856.80</td>\n",
              "      <td>2</td>\n",
              "    </tr>\n",
              "    <tr>\n",
              "      <th>489474</th>\n",
              "      <td>ONIBUS URBANO SOB ENCOMENDA COM CARROCERIA DE NOSSA FABRICACAO OPCIONAIS CONFORME CARACTERISTICAS SEGUINTES:</td>\n",
              "      <td>143500.00</td>\n",
              "      <td>37</td>\n",
              "    </tr>\n",
              "    <tr>\n",
              "      <th>494899</th>\n",
              "      <td>ONIBUS COMPLETO SOB ENCOMENDA DE NOSSA FABRICACAO E OPCIONAIS CONFORME CARACTERISTICAS SEGUINTES:</td>\n",
              "      <td>345000.00</td>\n",
              "      <td>6</td>\n",
              "    </tr>\n",
              "    <tr>\n",
              "      <th>498116</th>\n",
              "      <td>ONIBUS COMPLETO SOB ENCOMENDA DE NOSSA FABRICACAO E OPCIONAIS CONFORME CARACTERISTICAS SEGUINTES:</td>\n",
              "      <td>289000.00</td>\n",
              "      <td>2</td>\n",
              "    </tr>\n",
              "  </tbody>\n",
              "</table>\n",
              "</div>"
            ],
            "text/plain": [
              "                                                                                                                      PROD_XPROD  \\\n",
              "153991              ONIBUS URBANO SOB ENCOMENDA COM CARROCERIA DE NOSSA FABRICACAO OPCIONAIS CONFORME CARACTERISTICAS SEGUINTES:   \n",
              "156683          ONIBUS RODOVIARIO SOB ENCOMENDA COM CARROCERIA DE NOSSA FABRICACAO OPCIONAIS CONFORME CARACTERISTICAS SEGUINTES:   \n",
              "163478                         ONIBUS COMPLETO SOB ENCOMENDA DE NOSSA FABRICACAO E OPCIONAIS CONFORME CARACTERISTICAS SEGUINTES:   \n",
              "215459  ONIBUS ESCOLAR COMPLETO COM CARROCERIA DE NOSSA FABRICACAO, MARCA: MASCARELLO, MODELO: GRAN MIDI - ESCOLAR, NUMERO: BUSU   \n",
              "230633                         ONIBUS COMPLETO SOB ENCOMENDA DE NOSSA FABRICACAO E OPCIONAIS CONFORME CARACTERISTICAS SEGUINTES:   \n",
              "233522              ONIBUS URBANO SOB ENCOMENDA COM CARROCERIA DE NOSSA FABRICACAO OPCIONAIS CONFORME CARACTERISTICAS SEGUINTES:   \n",
              "243450                      ONIBUS RODOVIARIO SOB ENCOMENDA COM CARROCERIA DE NOSSA FABRICACAO COM AS SEGUINTES CARACTERISTICAS:   \n",
              "276844                                            ONIBUS M B MPOLO TORINO GVU AKG-9609 17 955 78 228581-3 9BM3840732B301939 2002   \n",
              "301035                         ONIBUS COMPLETO SOB ENCOMENDA DE NOSSA FABRICACAO E OPCIONAIS CONFORME CARACTERISTICAS SEGUINTES:   \n",
              "311521                                                                                                        ONIBUS LO - 916/48   \n",
              "314174                         ONIBUS COMPLETO SOB ENCOMENDA DE NOSSA FABRICACAO E OPCIONAIS CONFORME CARACTERISTICAS SEGUINTES:   \n",
              "329738              ONIBUS URBANO SOB ENCOMENDA COM CARROCERIA DE NOSSA FABRICACAO OPCIONAIS CONFORME CARACTERISTICAS SEGUINTES:   \n",
              "334300              ONIBUS URBANO SOB ENCOMENDA COM CARROCERIA DE NOSSA FABRICACAO OPCIONAIS CONFORME CARACTERISTICAS SEGUINTES:   \n",
              "367204          ONIBUS RODOVIARIO SOB ENCOMENDA COM CARROCERIA DE NOSSA FABRICACAO OPCIONAIS CONFORME CARACTERISTICAS SEGUINTES:   \n",
              "424382          ONIBUS RODOVIARIO SOB ENCOMENDA COM CARROCERIA DE NOSSA FABRICACAO OPCIONAIS CONFORME CARACTERISTICAS SEGUINTES:   \n",
              "454310                         ONIBUS COMPLETO SOB ENCOMENDA DE NOSSA FABRICACAO E OPCIONAIS CONFORME CARACTERISTICAS SEGUINTES:   \n",
              "455896                         ONIBUS COMPLETO SOB ENCOMENDA DE NOSSA FABRICACAO E OPCIONAIS CONFORME CARACTERISTICAS SEGUINTES:   \n",
              "489474              ONIBUS URBANO SOB ENCOMENDA COM CARROCERIA DE NOSSA FABRICACAO OPCIONAIS CONFORME CARACTERISTICAS SEGUINTES:   \n",
              "494899                         ONIBUS COMPLETO SOB ENCOMENDA DE NOSSA FABRICACAO E OPCIONAIS CONFORME CARACTERISTICAS SEGUINTES:   \n",
              "498116                         ONIBUS COMPLETO SOB ENCOMENDA DE NOSSA FABRICACAO E OPCIONAIS CONFORME CARACTERISTICAS SEGUINTES:   \n",
              "\n",
              "        PROD_VUNCOM  CONTAGEM  \n",
              "153991    143000.00        10  \n",
              "156683    490000.00         5  \n",
              "163478    367406.85         4  \n",
              "215459    430000.00        13  \n",
              "230633    341200.00        39  \n",
              "233522    317900.00        15  \n",
              "243450    415000.00         2  \n",
              "276844     80000.00         4  \n",
              "301035    416152.43         1  \n",
              "311521    271800.00         2  \n",
              "314174    284500.00        87  \n",
              "329738    247950.00       167  \n",
              "334300    136000.00         2  \n",
              "367204    518000.00         2  \n",
              "424382    414000.00        12  \n",
              "454310    279000.00         2  \n",
              "455896    367856.80         2  \n",
              "489474    143500.00        37  \n",
              "494899    345000.00         6  \n",
              "498116    289000.00         2  "
            ]
          },
          "execution_count": 203,
          "metadata": {},
          "output_type": "execute_result"
        }
      ],
      "source": [
        "df[MASK_ONIBUS][LABELS].tail(20)"
      ]
    },
    {
      "cell_type": "code",
      "execution_count": null,
      "id": "61bef097-ba24-480e-8419-6e06acf66e27",
      "metadata": {
        "id": "61bef097-ba24-480e-8419-6e06acf66e27",
        "outputId": "189cfdbc-127b-46f5-e3e2-392306ad7531"
      },
      "outputs": [
        {
          "data": {
            "text/html": [
              "<div>\n",
              "<style scoped>\n",
              "    .dataframe tbody tr th:only-of-type {\n",
              "        vertical-align: middle;\n",
              "    }\n",
              "\n",
              "    .dataframe tbody tr th {\n",
              "        vertical-align: top;\n",
              "    }\n",
              "\n",
              "    .dataframe thead th {\n",
              "        text-align: right;\n",
              "    }\n",
              "</style>\n",
              "<table border=\"1\" class=\"dataframe\">\n",
              "  <thead>\n",
              "    <tr style=\"text-align: right;\">\n",
              "      <th></th>\n",
              "      <th>PROD_XPROD</th>\n",
              "      <th>PROD_VUNCOM</th>\n",
              "      <th>CONTAGEM</th>\n",
              "    </tr>\n",
              "  </thead>\n",
              "  <tbody>\n",
              "    <tr>\n",
              "      <th>60919</th>\n",
              "      <td>ONIBUS M.BENZ / MASCARELLO GRANVIA O - USADO</td>\n",
              "      <td>78000.00</td>\n",
              "      <td>17</td>\n",
              "    </tr>\n",
              "    <tr>\n",
              "      <th>276844</th>\n",
              "      <td>ONIBUS M B MPOLO TORINO GVU AKG-9609 17 955 78 228581-3 9BM3840732B301939 2002</td>\n",
              "      <td>80000.00</td>\n",
              "      <td>4</td>\n",
              "    </tr>\n",
              "    <tr>\n",
              "      <th>334300</th>\n",
              "      <td>ONIBUS URBANO SOB ENCOMENDA COM CARROCERIA DE NOSSA FABRICACAO OPCIONAIS CONFORME CARACTERISTICAS SEGUINTES:</td>\n",
              "      <td>136000.00</td>\n",
              "      <td>2</td>\n",
              "    </tr>\n",
              "    <tr>\n",
              "      <th>153991</th>\n",
              "      <td>ONIBUS URBANO SOB ENCOMENDA COM CARROCERIA DE NOSSA FABRICACAO OPCIONAIS CONFORME CARACTERISTICAS SEGUINTES:</td>\n",
              "      <td>143000.00</td>\n",
              "      <td>10</td>\n",
              "    </tr>\n",
              "    <tr>\n",
              "      <th>489474</th>\n",
              "      <td>ONIBUS URBANO SOB ENCOMENDA COM CARROCERIA DE NOSSA FABRICACAO OPCIONAIS CONFORME CARACTERISTICAS SEGUINTES:</td>\n",
              "      <td>143500.00</td>\n",
              "      <td>37</td>\n",
              "    </tr>\n",
              "    <tr>\n",
              "      <th>87055</th>\n",
              "      <td>ONIBUS URBANO SOB ENCOMENDA COM CARROCERIA DE NOSSA FABRICACAO OPCIONAIS CONFORME CARACTERISTICAS SEGUINTES:</td>\n",
              "      <td>156500.00</td>\n",
              "      <td>142</td>\n",
              "    </tr>\n",
              "    <tr>\n",
              "      <th>329738</th>\n",
              "      <td>ONIBUS URBANO SOB ENCOMENDA COM CARROCERIA DE NOSSA FABRICACAO OPCIONAIS CONFORME CARACTERISTICAS SEGUINTES:</td>\n",
              "      <td>247950.00</td>\n",
              "      <td>167</td>\n",
              "    </tr>\n",
              "    <tr>\n",
              "      <th>311521</th>\n",
              "      <td>ONIBUS LO - 916/48</td>\n",
              "      <td>271800.00</td>\n",
              "      <td>2</td>\n",
              "    </tr>\n",
              "    <tr>\n",
              "      <th>454310</th>\n",
              "      <td>ONIBUS COMPLETO SOB ENCOMENDA DE NOSSA FABRICACAO E OPCIONAIS CONFORME CARACTERISTICAS SEGUINTES:</td>\n",
              "      <td>279000.00</td>\n",
              "      <td>2</td>\n",
              "    </tr>\n",
              "    <tr>\n",
              "      <th>314174</th>\n",
              "      <td>ONIBUS COMPLETO SOB ENCOMENDA DE NOSSA FABRICACAO E OPCIONAIS CONFORME CARACTERISTICAS SEGUINTES:</td>\n",
              "      <td>284500.00</td>\n",
              "      <td>87</td>\n",
              "    </tr>\n",
              "    <tr>\n",
              "      <th>498116</th>\n",
              "      <td>ONIBUS COMPLETO SOB ENCOMENDA DE NOSSA FABRICACAO E OPCIONAIS CONFORME CARACTERISTICAS SEGUINTES:</td>\n",
              "      <td>289000.00</td>\n",
              "      <td>2</td>\n",
              "    </tr>\n",
              "    <tr>\n",
              "      <th>85580</th>\n",
              "      <td>ONIBUS COMPLETO SOB ENCOMENDA DE NOSSA FABRICACAO E OPCIONAIS CONFORME CARACTERISTICAS SEGUINTES:</td>\n",
              "      <td>293000.00</td>\n",
              "      <td>71</td>\n",
              "    </tr>\n",
              "    <tr>\n",
              "      <th>233522</th>\n",
              "      <td>ONIBUS URBANO SOB ENCOMENDA COM CARROCERIA DE NOSSA FABRICACAO OPCIONAIS CONFORME CARACTERISTICAS SEGUINTES:</td>\n",
              "      <td>317900.00</td>\n",
              "      <td>15</td>\n",
              "    </tr>\n",
              "    <tr>\n",
              "      <th>28640</th>\n",
              "      <td>ONIBUS RODOVIARIO COM CARROCERIA DE NOSSA FABRICACAO, MARCA: MASCARELLO, MODELO: ELLO, NUMERO: BUSRC9BVNM9A31102MASC, AN</td>\n",
              "      <td>329753.57</td>\n",
              "      <td>1</td>\n",
              "    </tr>\n",
              "    <tr>\n",
              "      <th>230633</th>\n",
              "      <td>ONIBUS COMPLETO SOB ENCOMENDA DE NOSSA FABRICACAO E OPCIONAIS CONFORME CARACTERISTICAS SEGUINTES:</td>\n",
              "      <td>341200.00</td>\n",
              "      <td>39</td>\n",
              "    </tr>\n",
              "    <tr>\n",
              "      <th>494899</th>\n",
              "      <td>ONIBUS COMPLETO SOB ENCOMENDA DE NOSSA FABRICACAO E OPCIONAIS CONFORME CARACTERISTICAS SEGUINTES:</td>\n",
              "      <td>345000.00</td>\n",
              "      <td>6</td>\n",
              "    </tr>\n",
              "    <tr>\n",
              "      <th>163478</th>\n",
              "      <td>ONIBUS COMPLETO SOB ENCOMENDA DE NOSSA FABRICACAO E OPCIONAIS CONFORME CARACTERISTICAS SEGUINTES:</td>\n",
              "      <td>367406.85</td>\n",
              "      <td>4</td>\n",
              "    </tr>\n",
              "    <tr>\n",
              "      <th>455896</th>\n",
              "      <td>ONIBUS COMPLETO SOB ENCOMENDA DE NOSSA FABRICACAO E OPCIONAIS CONFORME CARACTERISTICAS SEGUINTES:</td>\n",
              "      <td>367856.80</td>\n",
              "      <td>2</td>\n",
              "    </tr>\n",
              "    <tr>\n",
              "      <th>424382</th>\n",
              "      <td>ONIBUS RODOVIARIO SOB ENCOMENDA COM CARROCERIA DE NOSSA FABRICACAO OPCIONAIS CONFORME CARACTERISTICAS SEGUINTES:</td>\n",
              "      <td>414000.00</td>\n",
              "      <td>12</td>\n",
              "    </tr>\n",
              "    <tr>\n",
              "      <th>243450</th>\n",
              "      <td>ONIBUS RODOVIARIO SOB ENCOMENDA COM CARROCERIA DE NOSSA FABRICACAO COM AS SEGUINTES CARACTERISTICAS:</td>\n",
              "      <td>415000.00</td>\n",
              "      <td>2</td>\n",
              "    </tr>\n",
              "    <tr>\n",
              "      <th>301035</th>\n",
              "      <td>ONIBUS COMPLETO SOB ENCOMENDA DE NOSSA FABRICACAO E OPCIONAIS CONFORME CARACTERISTICAS SEGUINTES:</td>\n",
              "      <td>416152.43</td>\n",
              "      <td>1</td>\n",
              "    </tr>\n",
              "    <tr>\n",
              "      <th>215459</th>\n",
              "      <td>ONIBUS ESCOLAR COMPLETO COM CARROCERIA DE NOSSA FABRICACAO, MARCA: MASCARELLO, MODELO: GRAN MIDI - ESCOLAR, NUMERO: BUSU</td>\n",
              "      <td>430000.00</td>\n",
              "      <td>13</td>\n",
              "    </tr>\n",
              "    <tr>\n",
              "      <th>156683</th>\n",
              "      <td>ONIBUS RODOVIARIO SOB ENCOMENDA COM CARROCERIA DE NOSSA FABRICACAO OPCIONAIS CONFORME CARACTERISTICAS SEGUINTES:</td>\n",
              "      <td>490000.00</td>\n",
              "      <td>5</td>\n",
              "    </tr>\n",
              "    <tr>\n",
              "      <th>367204</th>\n",
              "      <td>ONIBUS RODOVIARIO SOB ENCOMENDA COM CARROCERIA DE NOSSA FABRICACAO OPCIONAIS CONFORME CARACTERISTICAS SEGUINTES:</td>\n",
              "      <td>518000.00</td>\n",
              "      <td>2</td>\n",
              "    </tr>\n",
              "  </tbody>\n",
              "</table>\n",
              "</div>"
            ],
            "text/plain": [
              "                                                                                                                      PROD_XPROD  \\\n",
              "60919                                                                               ONIBUS M.BENZ / MASCARELLO GRANVIA O - USADO   \n",
              "276844                                            ONIBUS M B MPOLO TORINO GVU AKG-9609 17 955 78 228581-3 9BM3840732B301939 2002   \n",
              "334300              ONIBUS URBANO SOB ENCOMENDA COM CARROCERIA DE NOSSA FABRICACAO OPCIONAIS CONFORME CARACTERISTICAS SEGUINTES:   \n",
              "153991              ONIBUS URBANO SOB ENCOMENDA COM CARROCERIA DE NOSSA FABRICACAO OPCIONAIS CONFORME CARACTERISTICAS SEGUINTES:   \n",
              "489474              ONIBUS URBANO SOB ENCOMENDA COM CARROCERIA DE NOSSA FABRICACAO OPCIONAIS CONFORME CARACTERISTICAS SEGUINTES:   \n",
              "87055               ONIBUS URBANO SOB ENCOMENDA COM CARROCERIA DE NOSSA FABRICACAO OPCIONAIS CONFORME CARACTERISTICAS SEGUINTES:   \n",
              "329738              ONIBUS URBANO SOB ENCOMENDA COM CARROCERIA DE NOSSA FABRICACAO OPCIONAIS CONFORME CARACTERISTICAS SEGUINTES:   \n",
              "311521                                                                                                        ONIBUS LO - 916/48   \n",
              "454310                         ONIBUS COMPLETO SOB ENCOMENDA DE NOSSA FABRICACAO E OPCIONAIS CONFORME CARACTERISTICAS SEGUINTES:   \n",
              "314174                         ONIBUS COMPLETO SOB ENCOMENDA DE NOSSA FABRICACAO E OPCIONAIS CONFORME CARACTERISTICAS SEGUINTES:   \n",
              "498116                         ONIBUS COMPLETO SOB ENCOMENDA DE NOSSA FABRICACAO E OPCIONAIS CONFORME CARACTERISTICAS SEGUINTES:   \n",
              "85580                          ONIBUS COMPLETO SOB ENCOMENDA DE NOSSA FABRICACAO E OPCIONAIS CONFORME CARACTERISTICAS SEGUINTES:   \n",
              "233522              ONIBUS URBANO SOB ENCOMENDA COM CARROCERIA DE NOSSA FABRICACAO OPCIONAIS CONFORME CARACTERISTICAS SEGUINTES:   \n",
              "28640   ONIBUS RODOVIARIO COM CARROCERIA DE NOSSA FABRICACAO, MARCA: MASCARELLO, MODELO: ELLO, NUMERO: BUSRC9BVNM9A31102MASC, AN   \n",
              "230633                         ONIBUS COMPLETO SOB ENCOMENDA DE NOSSA FABRICACAO E OPCIONAIS CONFORME CARACTERISTICAS SEGUINTES:   \n",
              "494899                         ONIBUS COMPLETO SOB ENCOMENDA DE NOSSA FABRICACAO E OPCIONAIS CONFORME CARACTERISTICAS SEGUINTES:   \n",
              "163478                         ONIBUS COMPLETO SOB ENCOMENDA DE NOSSA FABRICACAO E OPCIONAIS CONFORME CARACTERISTICAS SEGUINTES:   \n",
              "455896                         ONIBUS COMPLETO SOB ENCOMENDA DE NOSSA FABRICACAO E OPCIONAIS CONFORME CARACTERISTICAS SEGUINTES:   \n",
              "424382          ONIBUS RODOVIARIO SOB ENCOMENDA COM CARROCERIA DE NOSSA FABRICACAO OPCIONAIS CONFORME CARACTERISTICAS SEGUINTES:   \n",
              "243450                      ONIBUS RODOVIARIO SOB ENCOMENDA COM CARROCERIA DE NOSSA FABRICACAO COM AS SEGUINTES CARACTERISTICAS:   \n",
              "301035                         ONIBUS COMPLETO SOB ENCOMENDA DE NOSSA FABRICACAO E OPCIONAIS CONFORME CARACTERISTICAS SEGUINTES:   \n",
              "215459  ONIBUS ESCOLAR COMPLETO COM CARROCERIA DE NOSSA FABRICACAO, MARCA: MASCARELLO, MODELO: GRAN MIDI - ESCOLAR, NUMERO: BUSU   \n",
              "156683          ONIBUS RODOVIARIO SOB ENCOMENDA COM CARROCERIA DE NOSSA FABRICACAO OPCIONAIS CONFORME CARACTERISTICAS SEGUINTES:   \n",
              "367204          ONIBUS RODOVIARIO SOB ENCOMENDA COM CARROCERIA DE NOSSA FABRICACAO OPCIONAIS CONFORME CARACTERISTICAS SEGUINTES:   \n",
              "\n",
              "        PROD_VUNCOM  CONTAGEM  \n",
              "60919      78000.00        17  \n",
              "276844     80000.00         4  \n",
              "334300    136000.00         2  \n",
              "153991    143000.00        10  \n",
              "489474    143500.00        37  \n",
              "87055     156500.00       142  \n",
              "329738    247950.00       167  \n",
              "311521    271800.00         2  \n",
              "454310    279000.00         2  \n",
              "314174    284500.00        87  \n",
              "498116    289000.00         2  \n",
              "85580     293000.00        71  \n",
              "233522    317900.00        15  \n",
              "28640     329753.57         1  \n",
              "230633    341200.00        39  \n",
              "494899    345000.00         6  \n",
              "163478    367406.85         4  \n",
              "455896    367856.80         2  \n",
              "424382    414000.00        12  \n",
              "243450    415000.00         2  \n",
              "301035    416152.43         1  \n",
              "215459    430000.00        13  \n",
              "156683    490000.00         5  \n",
              "367204    518000.00         2  "
            ]
          },
          "execution_count": 204,
          "metadata": {},
          "output_type": "execute_result"
        }
      ],
      "source": [
        "df[MASK_ONIBUS][LABELS].sort_values(by='PROD_VUNCOM', ascending=True)"
      ]
    },
    {
      "cell_type": "code",
      "execution_count": null,
      "id": "70da9bdf-2f71-44dc-b71d-1b0a42f215af",
      "metadata": {
        "id": "70da9bdf-2f71-44dc-b71d-1b0a42f215af"
      },
      "outputs": [],
      "source": [
        "LABELS_2 = ['PROD_XPROD', 'CONTAGEM']"
      ]
    },
    {
      "cell_type": "code",
      "execution_count": null,
      "id": "725a72cb-9670-4bdb-97e9-aa7de3acbe9b",
      "metadata": {
        "id": "725a72cb-9670-4bdb-97e9-aa7de3acbe9b"
      },
      "outputs": [],
      "source": [
        "df_onibus = df[MASK_ONIBUS][LABELS_2]"
      ]
    },
    {
      "cell_type": "code",
      "execution_count": null,
      "id": "3fc6514d-6fe8-41ad-a20f-8bb49a82dfa4",
      "metadata": {
        "tags": [],
        "id": "3fc6514d-6fe8-41ad-a20f-8bb49a82dfa4"
      },
      "outputs": [],
      "source": [
        "df_onibus['CODIGO_PRODUTO_SEFAZ'] = 10030457006"
      ]
    },
    {
      "cell_type": "code",
      "execution_count": null,
      "id": "8b0f2459-3066-4547-8487-891d3a2cde0a",
      "metadata": {
        "id": "8b0f2459-3066-4547-8487-891d3a2cde0a",
        "outputId": "a9f9c367-c773-47c0-b39d-e8067ef93149"
      },
      "outputs": [
        {
          "data": {
            "text/html": [
              "<div>\n",
              "<style scoped>\n",
              "    .dataframe tbody tr th:only-of-type {\n",
              "        vertical-align: middle;\n",
              "    }\n",
              "\n",
              "    .dataframe tbody tr th {\n",
              "        vertical-align: top;\n",
              "    }\n",
              "\n",
              "    .dataframe thead th {\n",
              "        text-align: right;\n",
              "    }\n",
              "</style>\n",
              "<table border=\"1\" class=\"dataframe\">\n",
              "  <thead>\n",
              "    <tr style=\"text-align: right;\">\n",
              "      <th></th>\n",
              "      <th>PROD_XPROD</th>\n",
              "      <th>CONTAGEM</th>\n",
              "      <th>CODIGO_PRODUTO_SEFAZ</th>\n",
              "    </tr>\n",
              "  </thead>\n",
              "  <tbody>\n",
              "    <tr>\n",
              "      <th>28640</th>\n",
              "      <td>ONIBUS RODOVIARIO COM CARROCERIA DE NOSSA FABRICACAO, MARCA: MASCARELLO, MODELO: ELLO, NUMERO: BUSRC9BVNM9A31102MASC, AN</td>\n",
              "      <td>1</td>\n",
              "      <td>10030457006</td>\n",
              "    </tr>\n",
              "    <tr>\n",
              "      <th>60919</th>\n",
              "      <td>ONIBUS M.BENZ / MASCARELLO GRANVIA O - USADO</td>\n",
              "      <td>17</td>\n",
              "      <td>10030457006</td>\n",
              "    </tr>\n",
              "    <tr>\n",
              "      <th>85580</th>\n",
              "      <td>ONIBUS COMPLETO SOB ENCOMENDA DE NOSSA FABRICACAO E OPCIONAIS CONFORME CARACTERISTICAS SEGUINTES:</td>\n",
              "      <td>71</td>\n",
              "      <td>10030457006</td>\n",
              "    </tr>\n",
              "    <tr>\n",
              "      <th>87055</th>\n",
              "      <td>ONIBUS URBANO SOB ENCOMENDA COM CARROCERIA DE NOSSA FABRICACAO OPCIONAIS CONFORME CARACTERISTICAS SEGUINTES:</td>\n",
              "      <td>142</td>\n",
              "      <td>10030457006</td>\n",
              "    </tr>\n",
              "    <tr>\n",
              "      <th>153991</th>\n",
              "      <td>ONIBUS URBANO SOB ENCOMENDA COM CARROCERIA DE NOSSA FABRICACAO OPCIONAIS CONFORME CARACTERISTICAS SEGUINTES:</td>\n",
              "      <td>10</td>\n",
              "      <td>10030457006</td>\n",
              "    </tr>\n",
              "  </tbody>\n",
              "</table>\n",
              "</div>"
            ],
            "text/plain": [
              "                                                                                                                      PROD_XPROD  \\\n",
              "28640   ONIBUS RODOVIARIO COM CARROCERIA DE NOSSA FABRICACAO, MARCA: MASCARELLO, MODELO: ELLO, NUMERO: BUSRC9BVNM9A31102MASC, AN   \n",
              "60919                                                                               ONIBUS M.BENZ / MASCARELLO GRANVIA O - USADO   \n",
              "85580                          ONIBUS COMPLETO SOB ENCOMENDA DE NOSSA FABRICACAO E OPCIONAIS CONFORME CARACTERISTICAS SEGUINTES:   \n",
              "87055               ONIBUS URBANO SOB ENCOMENDA COM CARROCERIA DE NOSSA FABRICACAO OPCIONAIS CONFORME CARACTERISTICAS SEGUINTES:   \n",
              "153991              ONIBUS URBANO SOB ENCOMENDA COM CARROCERIA DE NOSSA FABRICACAO OPCIONAIS CONFORME CARACTERISTICAS SEGUINTES:   \n",
              "\n",
              "        CONTAGEM  CODIGO_PRODUTO_SEFAZ  \n",
              "28640          1           10030457006  \n",
              "60919         17           10030457006  \n",
              "85580         71           10030457006  \n",
              "87055        142           10030457006  \n",
              "153991        10           10030457006  "
            ]
          },
          "execution_count": 208,
          "metadata": {},
          "output_type": "execute_result"
        }
      ],
      "source": [
        "df_onibus.head()"
      ]
    },
    {
      "cell_type": "code",
      "execution_count": null,
      "id": "4e0ac1f8-356e-4afd-bf80-e04ff98f057c",
      "metadata": {
        "id": "4e0ac1f8-356e-4afd-bf80-e04ff98f057c"
      },
      "outputs": [],
      "source": [
        "df_onibus.to_csv('labeled_cap87.csv', mode='a', header=False)"
      ]
    },
    {
      "cell_type": "markdown",
      "id": "9efdec11-cd2c-4824-ba2e-2401967b430c",
      "metadata": {
        "tags": [],
        "id": "9efdec11-cd2c-4824-ba2e-2401967b430c"
      },
      "source": [
        "###### Motocicletas"
      ]
    },
    {
      "cell_type": "code",
      "execution_count": null,
      "id": "41276fbe-09f5-4647-8337-3a548a9f963c",
      "metadata": {
        "id": "41276fbe-09f5-4647-8337-3a548a9f963c"
      },
      "outputs": [],
      "source": [
        "motos_mais_vendidas = ['CG', 'BIZ', 'NXR', 'POP', 'YAMAHA', 'HONDA']"
      ]
    },
    {
      "cell_type": "code",
      "execution_count": null,
      "id": "c4f2c4c1-a4ad-469a-ae5f-2649fb67c656",
      "metadata": {
        "id": "c4f2c4c1-a4ad-469a-ae5f-2649fb67c656"
      },
      "outputs": [],
      "source": [
        "motos_mais_caras = ['BMW R 1250 GS Adventure', 'BMW S 1000 RR','Harley-Davidson Ultra Limited', 'Ducati Panigale V4 S', 'Honda GL 1800 Gold Wing']"
      ]
    },
    {
      "cell_type": "code",
      "execution_count": null,
      "id": "c1dfce6e-40b5-4485-b69a-2b99336226e8",
      "metadata": {
        "id": "c1dfce6e-40b5-4485-b69a-2b99336226e8"
      },
      "outputs": [],
      "source": [
        "pattern_motocicleta = r'^(MOTO[^R]|CG|BIZ|NXR|POP|YAMAHA|HONDA|BMW.*ADVENTURE)'"
      ]
    },
    {
      "cell_type": "code",
      "execution_count": null,
      "id": "6090c0db-a862-4b01-83ed-ce60f32bdb2d",
      "metadata": {
        "tags": [],
        "id": "6090c0db-a862-4b01-83ed-ce60f32bdb2d"
      },
      "outputs": [],
      "source": [
        "MASK_MOTOCICLETA = (df[\"PROD_XPROD\"].str.contains(pattern_motocicleta, flags = re.IGNORECASE))  & (df[\"PROD_VUNCOM\"] > 2000)"
      ]
    },
    {
      "cell_type": "code",
      "execution_count": null,
      "id": "00159575-195c-4265-b90b-780736b64edb",
      "metadata": {
        "tags": [],
        "id": "00159575-195c-4265-b90b-780736b64edb",
        "outputId": "98a206c2-bf91-44e3-d118-950ff6632827"
      },
      "outputs": [
        {
          "data": {
            "text/html": [
              "<div>\n",
              "<style scoped>\n",
              "    .dataframe tbody tr th:only-of-type {\n",
              "        vertical-align: middle;\n",
              "    }\n",
              "\n",
              "    .dataframe tbody tr th {\n",
              "        vertical-align: top;\n",
              "    }\n",
              "\n",
              "    .dataframe thead th {\n",
              "        text-align: right;\n",
              "    }\n",
              "</style>\n",
              "<table border=\"1\" class=\"dataframe\">\n",
              "  <thead>\n",
              "    <tr style=\"text-align: right;\">\n",
              "      <th></th>\n",
              "      <th>PROD_XPROD</th>\n",
              "      <th>PROD_VUNCOM</th>\n",
              "      <th>CONTAGEM</th>\n",
              "    </tr>\n",
              "  </thead>\n",
              "  <tbody>\n",
              "    <tr>\n",
              "      <th>110</th>\n",
              "      <td>CG 160 FAN</td>\n",
              "      <td>8268.64</td>\n",
              "      <td>190</td>\n",
              "    </tr>\n",
              "    <tr>\n",
              "      <th>942</th>\n",
              "      <td>CG 160 FAN CHASSI: 9C2KC2200NR144185</td>\n",
              "      <td>15000.00</td>\n",
              "      <td>1</td>\n",
              "    </tr>\n",
              "    <tr>\n",
              "      <th>1481</th>\n",
              "      <td>YAMAHA/YBR 150 FACTOR ED UBS</td>\n",
              "      <td>13500.00</td>\n",
              "      <td>15</td>\n",
              "    </tr>\n",
              "    <tr>\n",
              "      <th>1518</th>\n",
              "      <td>HONDA BIZ 125, CHASSI 9C2JC4830MR071213</td>\n",
              "      <td>12950.00</td>\n",
              "      <td>2</td>\n",
              "    </tr>\n",
              "    <tr>\n",
              "      <th>1923</th>\n",
              "      <td>MOTONETA MARCA YAMAHA 0125 CC TIPO: BL56 MOD NEO 125</td>\n",
              "      <td>9195.00</td>\n",
              "      <td>16</td>\n",
              "    </tr>\n",
              "    <tr>\n",
              "      <th>1967</th>\n",
              "      <td>YAMAHA/XTZ150 CROSSER VERSAO Z</td>\n",
              "      <td>12800.00</td>\n",
              "      <td>4</td>\n",
              "    </tr>\n",
              "    <tr>\n",
              "      <th>2105</th>\n",
              "      <td>CG 160 FAN</td>\n",
              "      <td>17965.00</td>\n",
              "      <td>2</td>\n",
              "    </tr>\n",
              "    <tr>\n",
              "      <th>2195</th>\n",
              "      <td>HONDA XRE 300 ABS, CHASSI 9C2ND1120NR201371</td>\n",
              "      <td>26000.00</td>\n",
              "      <td>1</td>\n",
              "    </tr>\n",
              "    <tr>\n",
              "      <th>2458</th>\n",
              "      <td>CG 160 FAN</td>\n",
              "      <td>14477.00</td>\n",
              "      <td>39</td>\n",
              "    </tr>\n",
              "    <tr>\n",
              "      <th>2468</th>\n",
              "      <td>MOTOCICLETA MARCA YAMAHA 0149 CC TIPO: 2RP7 MOD YBR150 FACTOR VERSAO E</td>\n",
              "      <td>6600.00</td>\n",
              "      <td>130</td>\n",
              "    </tr>\n",
              "    <tr>\n",
              "      <th>2975</th>\n",
              "      <td>HONDA BIZ 125, CHASSI 9C2JC4830MR098590</td>\n",
              "      <td>12930.50</td>\n",
              "      <td>2</td>\n",
              "    </tr>\n",
              "    <tr>\n",
              "      <th>3562</th>\n",
              "      <td>Honda - Motos/BIZ 110i</td>\n",
              "      <td>8729.23</td>\n",
              "      <td>1</td>\n",
              "    </tr>\n",
              "    <tr>\n",
              "      <th>3762</th>\n",
              "      <td>HONDA HR-V EXL CVT</td>\n",
              "      <td>81251.59</td>\n",
              "      <td>23</td>\n",
              "    </tr>\n",
              "    <tr>\n",
              "      <th>4101</th>\n",
              "      <td>HONDA HR-V EXL CVT</td>\n",
              "      <td>81483.52</td>\n",
              "      <td>8</td>\n",
              "    </tr>\n",
              "    <tr>\n",
              "      <th>4243</th>\n",
              "      <td>HONDA CB 250F TWISTER, CHASSI 9C2MC4400JR011974</td>\n",
              "      <td>12599.67</td>\n",
              "      <td>1</td>\n",
              "    </tr>\n",
              "    <tr>\n",
              "      <th>4251</th>\n",
              "      <td>MOTOCICLETA MARCA KAWASAKI MODELO VERSYS-X 300 A NACIONAL CHASSI: 96PLEHC13JFS00156 MOTOR: EX300AES13733 ANO/MOD. 2018 A</td>\n",
              "      <td>19530.91</td>\n",
              "      <td>1</td>\n",
              "    </tr>\n",
              "    <tr>\n",
              "      <th>4344</th>\n",
              "      <td>MOTOCICLETA FLTRU - VIVID BLACK</td>\n",
              "      <td>72388.38</td>\n",
              "      <td>15</td>\n",
              "    </tr>\n",
              "    <tr>\n",
              "      <th>4765</th>\n",
              "      <td>MOTOCICLETA HONDA NXR 160 BROS ESDD DE 14,5CV(GASO LINA)/14,7CV(ALCOOL) E 162,7CC ANO MOD 2019 ANO FA B 2018</td>\n",
              "      <td>9821.00</td>\n",
              "      <td>358</td>\n",
              "    </tr>\n",
              "    <tr>\n",
              "      <th>5268</th>\n",
              "      <td>YAMAHA NEO 125, CHASSI 9C6SEB520N0033984</td>\n",
              "      <td>11600.00</td>\n",
              "      <td>4</td>\n",
              "    </tr>\n",
              "    <tr>\n",
              "      <th>5633</th>\n",
              "      <td>MOTOCICLETA HONDA CB 500X DE 50,4CV E 471,0CC ANO MOD 2022 ANO FAB 2021 A GASOLINA</td>\n",
              "      <td>28951.00</td>\n",
              "      <td>27</td>\n",
              "    </tr>\n",
              "  </tbody>\n",
              "</table>\n",
              "</div>"
            ],
            "text/plain": [
              "                                                                                                                    PROD_XPROD  \\\n",
              "110                                                                                                                 CG 160 FAN   \n",
              "942                                                                                       CG 160 FAN CHASSI: 9C2KC2200NR144185   \n",
              "1481                                                                                              YAMAHA/YBR 150 FACTOR ED UBS   \n",
              "1518                                                                                   HONDA BIZ 125, CHASSI 9C2JC4830MR071213   \n",
              "1923                                                                      MOTONETA MARCA YAMAHA 0125 CC TIPO: BL56 MOD NEO 125   \n",
              "1967                                                                                            YAMAHA/XTZ150 CROSSER VERSAO Z   \n",
              "2105                                                                                                                CG 160 FAN   \n",
              "2195                                                                               HONDA XRE 300 ABS, CHASSI 9C2ND1120NR201371   \n",
              "2458                                                                                                                CG 160 FAN   \n",
              "2468                                                    MOTOCICLETA MARCA YAMAHA 0149 CC TIPO: 2RP7 MOD YBR150 FACTOR VERSAO E   \n",
              "2975                                                                                   HONDA BIZ 125, CHASSI 9C2JC4830MR098590   \n",
              "3562                                                                                                    Honda - Motos/BIZ 110i   \n",
              "3762                                                                                                        HONDA HR-V EXL CVT   \n",
              "4101                                                                                                        HONDA HR-V EXL CVT   \n",
              "4243                                                                           HONDA CB 250F TWISTER, CHASSI 9C2MC4400JR011974   \n",
              "4251  MOTOCICLETA MARCA KAWASAKI MODELO VERSYS-X 300 A NACIONAL CHASSI: 96PLEHC13JFS00156 MOTOR: EX300AES13733 ANO/MOD. 2018 A   \n",
              "4344                                                                                           MOTOCICLETA FLTRU - VIVID BLACK   \n",
              "4765              MOTOCICLETA HONDA NXR 160 BROS ESDD DE 14,5CV(GASO LINA)/14,7CV(ALCOOL) E 162,7CC ANO MOD 2019 ANO FA B 2018   \n",
              "5268                                                                                  YAMAHA NEO 125, CHASSI 9C6SEB520N0033984   \n",
              "5633                                        MOTOCICLETA HONDA CB 500X DE 50,4CV E 471,0CC ANO MOD 2022 ANO FAB 2021 A GASOLINA   \n",
              "\n",
              "      PROD_VUNCOM  CONTAGEM  \n",
              "110       8268.64       190  \n",
              "942      15000.00         1  \n",
              "1481     13500.00        15  \n",
              "1518     12950.00         2  \n",
              "1923      9195.00        16  \n",
              "1967     12800.00         4  \n",
              "2105     17965.00         2  \n",
              "2195     26000.00         1  \n",
              "2458     14477.00        39  \n",
              "2468      6600.00       130  \n",
              "2975     12930.50         2  \n",
              "3562      8729.23         1  \n",
              "3762     81251.59        23  \n",
              "4101     81483.52         8  \n",
              "4243     12599.67         1  \n",
              "4251     19530.91         1  \n",
              "4344     72388.38        15  \n",
              "4765      9821.00       358  \n",
              "5268     11600.00         4  \n",
              "5633     28951.00        27  "
            ]
          },
          "execution_count": 214,
          "metadata": {},
          "output_type": "execute_result"
        }
      ],
      "source": [
        "df[MASK_MOTOCICLETA][LABELS].head(20)"
      ]
    },
    {
      "cell_type": "code",
      "execution_count": null,
      "id": "e697e6d6-6aaf-48fb-bf68-e3287f00f4dd",
      "metadata": {
        "id": "e697e6d6-6aaf-48fb-bf68-e3287f00f4dd"
      },
      "outputs": [],
      "source": [
        "LABELS_2 = ['PROD_XPROD', 'CONTAGEM']"
      ]
    },
    {
      "cell_type": "code",
      "execution_count": null,
      "id": "4e49f687-23ca-4b18-be0f-e596794ce388",
      "metadata": {
        "id": "4e49f687-23ca-4b18-be0f-e596794ce388"
      },
      "outputs": [],
      "source": [
        "df_motocicleta = df[MASK_MOTOCICLETA][LABELS_2]"
      ]
    },
    {
      "cell_type": "code",
      "execution_count": null,
      "id": "53c33f3c-00e8-458b-938d-0e7a7185fb17",
      "metadata": {
        "tags": [],
        "id": "53c33f3c-00e8-458b-938d-0e7a7185fb17"
      },
      "outputs": [],
      "source": [
        "df_motocicleta['CODIGO_PRODUTO_SEFAZ'] = 10030457004"
      ]
    },
    {
      "cell_type": "code",
      "execution_count": null,
      "id": "77fc1e23-a095-4ac8-a912-eebf8484d8dd",
      "metadata": {
        "id": "77fc1e23-a095-4ac8-a912-eebf8484d8dd",
        "outputId": "44e5c1a1-a333-4cef-ff69-2d289f65bdab"
      },
      "outputs": [
        {
          "data": {
            "text/html": [
              "<div>\n",
              "<style scoped>\n",
              "    .dataframe tbody tr th:only-of-type {\n",
              "        vertical-align: middle;\n",
              "    }\n",
              "\n",
              "    .dataframe tbody tr th {\n",
              "        vertical-align: top;\n",
              "    }\n",
              "\n",
              "    .dataframe thead th {\n",
              "        text-align: right;\n",
              "    }\n",
              "</style>\n",
              "<table border=\"1\" class=\"dataframe\">\n",
              "  <thead>\n",
              "    <tr style=\"text-align: right;\">\n",
              "      <th></th>\n",
              "      <th>PROD_XPROD</th>\n",
              "      <th>CONTAGEM</th>\n",
              "      <th>CODIGO_PRODUTO_SEFAZ</th>\n",
              "    </tr>\n",
              "  </thead>\n",
              "  <tbody>\n",
              "    <tr>\n",
              "      <th>110</th>\n",
              "      <td>CG 160 FAN</td>\n",
              "      <td>190</td>\n",
              "      <td>10030457004</td>\n",
              "    </tr>\n",
              "    <tr>\n",
              "      <th>942</th>\n",
              "      <td>CG 160 FAN CHASSI: 9C2KC2200NR144185</td>\n",
              "      <td>1</td>\n",
              "      <td>10030457004</td>\n",
              "    </tr>\n",
              "    <tr>\n",
              "      <th>1481</th>\n",
              "      <td>YAMAHA/YBR 150 FACTOR ED UBS</td>\n",
              "      <td>15</td>\n",
              "      <td>10030457004</td>\n",
              "    </tr>\n",
              "    <tr>\n",
              "      <th>1518</th>\n",
              "      <td>HONDA BIZ 125, CHASSI 9C2JC4830MR071213</td>\n",
              "      <td>2</td>\n",
              "      <td>10030457004</td>\n",
              "    </tr>\n",
              "    <tr>\n",
              "      <th>1923</th>\n",
              "      <td>MOTONETA MARCA YAMAHA 0125 CC TIPO: BL56 MOD NEO 125</td>\n",
              "      <td>16</td>\n",
              "      <td>10030457004</td>\n",
              "    </tr>\n",
              "  </tbody>\n",
              "</table>\n",
              "</div>"
            ],
            "text/plain": [
              "                                                PROD_XPROD  CONTAGEM  \\\n",
              "110                                             CG 160 FAN       190   \n",
              "942                   CG 160 FAN CHASSI: 9C2KC2200NR144185         1   \n",
              "1481                          YAMAHA/YBR 150 FACTOR ED UBS        15   \n",
              "1518               HONDA BIZ 125, CHASSI 9C2JC4830MR071213         2   \n",
              "1923  MOTONETA MARCA YAMAHA 0125 CC TIPO: BL56 MOD NEO 125        16   \n",
              "\n",
              "      CODIGO_PRODUTO_SEFAZ  \n",
              "110            10030457004  \n",
              "942            10030457004  \n",
              "1481           10030457004  \n",
              "1518           10030457004  \n",
              "1923           10030457004  "
            ]
          },
          "execution_count": 218,
          "metadata": {},
          "output_type": "execute_result"
        }
      ],
      "source": [
        "df_motocicleta.head()"
      ]
    },
    {
      "cell_type": "code",
      "execution_count": null,
      "id": "4270ed49-cd46-43d8-b021-539d9b06327f",
      "metadata": {
        "id": "4270ed49-cd46-43d8-b021-539d9b06327f"
      },
      "outputs": [],
      "source": [
        "df_motocicleta.to_csv('motocicleta.csv')"
      ]
    },
    {
      "cell_type": "code",
      "execution_count": null,
      "id": "ee4f299c-5ea4-4f96-be50-8b8abb0bd6b1",
      "metadata": {
        "id": "ee4f299c-5ea4-4f96-be50-8b8abb0bd6b1"
      },
      "outputs": [],
      "source": [
        "df_motocicleta.to_csv('labeled_cap87.csv', mode='a', header=False)"
      ]
    },
    {
      "cell_type": "markdown",
      "id": "b3c35d8f-1b7e-40e5-858e-767c8a11b071",
      "metadata": {
        "tags": [],
        "id": "b3c35d8f-1b7e-40e5-858e-767c8a11b071"
      },
      "source": [
        "###### Bicicletas"
      ]
    },
    {
      "cell_type": "code",
      "execution_count": null,
      "id": "78c837a6-556d-49a5-aeb0-84317500ac4a",
      "metadata": {
        "id": "78c837a6-556d-49a5-aeb0-84317500ac4a"
      },
      "outputs": [],
      "source": [
        "pattern_motocicleta = r'^(BICICLETA|BIKE|CALOI)'"
      ]
    },
    {
      "cell_type": "code",
      "execution_count": null,
      "id": "0c3d7f27-127b-417d-a847-586c736cb6b9",
      "metadata": {
        "tags": [],
        "id": "0c3d7f27-127b-417d-a847-586c736cb6b9"
      },
      "outputs": [],
      "source": [
        "MASK_BICICLETA = (df[\"PROD_XPROD\"].str.contains(pattern_motocicleta, flags = re.IGNORECASE))  & (df[\"PROD_VUNCOM\"] > 1000)"
      ]
    },
    {
      "cell_type": "code",
      "execution_count": null,
      "id": "431298d5-60a7-45fb-9f6c-20da5d98e64f",
      "metadata": {
        "tags": [],
        "id": "431298d5-60a7-45fb-9f6c-20da5d98e64f",
        "outputId": "ba723c0d-da1c-4026-c8e5-3c397670f08a"
      },
      "outputs": [
        {
          "data": {
            "text/html": [
              "<div>\n",
              "<style scoped>\n",
              "    .dataframe tbody tr th:only-of-type {\n",
              "        vertical-align: middle;\n",
              "    }\n",
              "\n",
              "    .dataframe tbody tr th {\n",
              "        vertical-align: top;\n",
              "    }\n",
              "\n",
              "    .dataframe thead th {\n",
              "        text-align: right;\n",
              "    }\n",
              "</style>\n",
              "<table border=\"1\" class=\"dataframe\">\n",
              "  <thead>\n",
              "    <tr style=\"text-align: right;\">\n",
              "      <th></th>\n",
              "      <th>PROD_XPROD</th>\n",
              "      <th>PROD_VUNCOM</th>\n",
              "      <th>CONTAGEM</th>\n",
              "    </tr>\n",
              "  </thead>\n",
              "  <tbody>\n",
              "    <tr>\n",
              "      <th>48</th>\n",
              "      <td>BICICLETA ALUM KSW 29 IMPORT 24 VEL GRAFITE/PRETO FOSCO 19\" KRW16</td>\n",
              "      <td>1169.90</td>\n",
              "      <td>6</td>\n",
              "    </tr>\n",
              "    <tr>\n",
              "      <th>107</th>\n",
              "      <td>Bicicleta Aro 29 KSW XLT 24v Cambios Shimano TX-800 Freio a Disco Hidraulico Suspensao com Trava Cor:Preto+Laranja;Taman</td>\n",
              "      <td>1699.00</td>\n",
              "      <td>1</td>\n",
              "    </tr>\n",
              "    <tr>\n",
              "      <th>1024</th>\n",
              "      <td>BICICLETA 29 C/21 MARCHAS SHIMANO SPACELINE VEGA FREIO A DISCO SUSPENSAO C/80MM - TAMANHO 17 CINZA</td>\n",
              "      <td>1099.00</td>\n",
              "      <td>11</td>\n",
              "    </tr>\n",
              "    <tr>\n",
              "      <th>1030</th>\n",
              "      <td>BICICLETA ARO 16 DINO PRETA</td>\n",
              "      <td>1176.00</td>\n",
              "      <td>1</td>\n",
              "    </tr>\n",
              "    <tr>\n",
              "      <th>1674</th>\n",
              "      <td>BICICLETA CALOI 10 PRETA</td>\n",
              "      <td>1169.00</td>\n",
              "      <td>1</td>\n",
              "    </tr>\n",
              "    <tr>\n",
              "      <th>1753</th>\n",
              "      <td>BICICLETA RAPHYNUS ARO 29 T-17 PR/ BRANCO</td>\n",
              "      <td>1149.00</td>\n",
              "      <td>2</td>\n",
              "    </tr>\n",
              "    <tr>\n",
              "      <th>2741</th>\n",
              "      <td>BICICLETA 29 ALFAMEQ ATX T15.5 PTO/VERM</td>\n",
              "      <td>2200.00</td>\n",
              "      <td>1</td>\n",
              "    </tr>\n",
              "    <tr>\n",
              "      <th>2882</th>\n",
              "      <td>BICICLETA ELETRICA VERMELHA</td>\n",
              "      <td>4290.00</td>\n",
              "      <td>13</td>\n",
              "    </tr>\n",
              "    <tr>\n",
              "      <th>2941</th>\n",
              "      <td>BICICLETA ARO 26 RETRO BEACH 18V COM CADEIRINHA TRASEIRA COR:PRETO</td>\n",
              "      <td>1349.00</td>\n",
              "      <td>1</td>\n",
              "    </tr>\n",
              "    <tr>\n",
              "      <th>5080</th>\n",
              "      <td>BICICLETA BKL JULLY 24 PRETO/PINK</td>\n",
              "      <td>1467.00</td>\n",
              "      <td>1</td>\n",
              "    </tr>\n",
              "    <tr>\n",
              "      <th>5811</th>\n",
              "      <td>BICICLETA ARO 26 RETRO VINTAGE FEMININA CESTA VIME BAGAG(CHASSI EB40144 COR : BEGE COM VERMELHO)</td>\n",
              "      <td>1399.00</td>\n",
              "      <td>1</td>\n",
              "    </tr>\n",
              "    <tr>\n",
              "      <th>6572</th>\n",
              "      <td>BICICLETA ARO 29 ALUM HID 24 V PRETO/VERDE - VENZO</td>\n",
              "      <td>2300.00</td>\n",
              "      <td>1</td>\n",
              "    </tr>\n",
              "    <tr>\n",
              "      <th>6616</th>\n",
              "      <td>BICICLETA GROM 24 2021 AQUA/PTO REF: 11004400010256 MARCA: SENSE</td>\n",
              "      <td>1924.65</td>\n",
              "      <td>6</td>\n",
              "    </tr>\n",
              "    <tr>\n",
              "      <th>6736</th>\n",
              "      <td>BICICLETA ALFAMEQ ATX ARO 29 FD 24V QD 15 PTR RO</td>\n",
              "      <td>1068.84</td>\n",
              "      <td>3</td>\n",
              "    </tr>\n",
              "    <tr>\n",
              "      <th>6885</th>\n",
              "      <td>BICICLETA CALOI ANDES ARO 26 PTO PRETO NA</td>\n",
              "      <td>1099.00</td>\n",
              "      <td>6</td>\n",
              "    </tr>\n",
              "    <tr>\n",
              "      <th>7205</th>\n",
              "      <td>Bike Caloi Explorer sport Tm 17 2019</td>\n",
              "      <td>1799.00</td>\n",
              "      <td>1</td>\n",
              "    </tr>\n",
              "    <tr>\n",
              "      <th>7498</th>\n",
              "      <td>BICICLETA FUN COMP 2021/22 AQUA/PTO TAM L REF: 11004400010198 MARCA: SENSE</td>\n",
              "      <td>2056.25</td>\n",
              "      <td>14</td>\n",
              "    </tr>\n",
              "    <tr>\n",
              "      <th>7631</th>\n",
              "      <td>BICICLETA ALUM KSW 29 IMPORT 24 VEL PRETO/VERMELHO 17\" KRW16</td>\n",
              "      <td>1199.09</td>\n",
              "      <td>2</td>\n",
              "    </tr>\n",
              "    <tr>\n",
              "      <th>7836</th>\n",
              "      <td>BICICLETA ARO 29 ATALANTA 21 MARCHA</td>\n",
              "      <td>1970.00</td>\n",
              "      <td>1</td>\n",
              "    </tr>\n",
              "    <tr>\n",
              "      <th>9028</th>\n",
              "      <td>BICICLETA ONE 2021/22 CZA/RSA TAM S REF: 11004400010188 MARCA: SENSE</td>\n",
              "      <td>1681.25</td>\n",
              "      <td>12</td>\n",
              "    </tr>\n",
              "  </tbody>\n",
              "</table>\n",
              "</div>"
            ],
            "text/plain": [
              "                                                                                                                    PROD_XPROD  \\\n",
              "48                                                           BICICLETA ALUM KSW 29 IMPORT 24 VEL GRAFITE/PRETO FOSCO 19\" KRW16   \n",
              "107   Bicicleta Aro 29 KSW XLT 24v Cambios Shimano TX-800 Freio a Disco Hidraulico Suspensao com Trava Cor:Preto+Laranja;Taman   \n",
              "1024                        BICICLETA 29 C/21 MARCHAS SHIMANO SPACELINE VEGA FREIO A DISCO SUSPENSAO C/80MM - TAMANHO 17 CINZA   \n",
              "1030                                                                                               BICICLETA ARO 16 DINO PRETA   \n",
              "1674                                                                                                  BICICLETA CALOI 10 PRETA   \n",
              "1753                                                                                 BICICLETA RAPHYNUS ARO 29 T-17 PR/ BRANCO   \n",
              "2741                                                                                   BICICLETA 29 ALFAMEQ ATX T15.5 PTO/VERM   \n",
              "2882                                                                                               BICICLETA ELETRICA VERMELHA   \n",
              "2941                                                        BICICLETA ARO 26 RETRO BEACH 18V COM CADEIRINHA TRASEIRA COR:PRETO   \n",
              "5080                                                                                         BICICLETA BKL JULLY 24 PRETO/PINK   \n",
              "5811                          BICICLETA ARO 26 RETRO VINTAGE FEMININA CESTA VIME BAGAG(CHASSI EB40144 COR : BEGE COM VERMELHO)   \n",
              "6572                                                                        BICICLETA ARO 29 ALUM HID 24 V PRETO/VERDE - VENZO   \n",
              "6616                                                          BICICLETA GROM 24 2021 AQUA/PTO REF: 11004400010256 MARCA: SENSE   \n",
              "6736                                                                          BICICLETA ALFAMEQ ATX ARO 29 FD 24V QD 15 PTR RO   \n",
              "6885                                                                                 BICICLETA CALOI ANDES ARO 26 PTO PRETO NA   \n",
              "7205                                                                                      Bike Caloi Explorer sport Tm 17 2019   \n",
              "7498                                                BICICLETA FUN COMP 2021/22 AQUA/PTO TAM L REF: 11004400010198 MARCA: SENSE   \n",
              "7631                                                              BICICLETA ALUM KSW 29 IMPORT 24 VEL PRETO/VERMELHO 17\" KRW16   \n",
              "7836                                                                                       BICICLETA ARO 29 ATALANTA 21 MARCHA   \n",
              "9028                                                      BICICLETA ONE 2021/22 CZA/RSA TAM S REF: 11004400010188 MARCA: SENSE   \n",
              "\n",
              "      PROD_VUNCOM  CONTAGEM  \n",
              "48        1169.90         6  \n",
              "107       1699.00         1  \n",
              "1024      1099.00        11  \n",
              "1030      1176.00         1  \n",
              "1674      1169.00         1  \n",
              "1753      1149.00         2  \n",
              "2741      2200.00         1  \n",
              "2882      4290.00        13  \n",
              "2941      1349.00         1  \n",
              "5080      1467.00         1  \n",
              "5811      1399.00         1  \n",
              "6572      2300.00         1  \n",
              "6616      1924.65         6  \n",
              "6736      1068.84         3  \n",
              "6885      1099.00         6  \n",
              "7205      1799.00         1  \n",
              "7498      2056.25        14  \n",
              "7631      1199.09         2  \n",
              "7836      1970.00         1  \n",
              "9028      1681.25        12  "
            ]
          },
          "execution_count": 223,
          "metadata": {},
          "output_type": "execute_result"
        }
      ],
      "source": [
        "df[MASK_BICICLETA][LABELS].head(20)"
      ]
    },
    {
      "cell_type": "code",
      "execution_count": null,
      "id": "4bec8635-b75e-4dec-89b1-9865445143d8",
      "metadata": {
        "id": "4bec8635-b75e-4dec-89b1-9865445143d8",
        "outputId": "91c79a59-b8a0-4660-bcb4-3d3b07da22bf"
      },
      "outputs": [
        {
          "data": {
            "text/html": [
              "<div>\n",
              "<style scoped>\n",
              "    .dataframe tbody tr th:only-of-type {\n",
              "        vertical-align: middle;\n",
              "    }\n",
              "\n",
              "    .dataframe tbody tr th {\n",
              "        vertical-align: top;\n",
              "    }\n",
              "\n",
              "    .dataframe thead th {\n",
              "        text-align: right;\n",
              "    }\n",
              "</style>\n",
              "<table border=\"1\" class=\"dataframe\">\n",
              "  <thead>\n",
              "    <tr style=\"text-align: right;\">\n",
              "      <th></th>\n",
              "      <th>PROD_XPROD</th>\n",
              "      <th>PROD_VUNCOM</th>\n",
              "      <th>CONTAGEM</th>\n",
              "    </tr>\n",
              "  </thead>\n",
              "  <tbody>\n",
              "    <tr>\n",
              "      <th>230032</th>\n",
              "      <td>BIKEARO 29 21 V FREIO A DISCO SUSP DIANT BRANCO NA</td>\n",
              "      <td>1002.4100</td>\n",
              "      <td>1</td>\n",
              "    </tr>\n",
              "    <tr>\n",
              "      <th>364586</th>\n",
              "      <td>BICICLETA VULCAN ARO 29 TAM15 PRETA CALOI</td>\n",
              "      <td>1005.2900</td>\n",
              "      <td>6</td>\n",
              "    </tr>\n",
              "    <tr>\n",
              "      <th>286506</th>\n",
              "      <td>BIKE 29 KLS SPORT GOLD F/D 21V PRETO/PINK</td>\n",
              "      <td>1012.9000</td>\n",
              "      <td>10</td>\n",
              "    </tr>\n",
              "    <tr>\n",
              "      <th>202461</th>\n",
              "      <td>BICICLETA CALOI T TYPE ARO 26 02 336</td>\n",
              "      <td>1015.1700</td>\n",
              "      <td>8</td>\n",
              "    </tr>\n",
              "    <tr>\n",
              "      <th>370843</th>\n",
              "      <td>BICICLETA SCHWINN COLORADO CALOI PRETO NA</td>\n",
              "      <td>1016.0000</td>\n",
              "      <td>8</td>\n",
              "    </tr>\n",
              "    <tr>\n",
              "      <th>...</th>\n",
              "      <td>...</td>\n",
              "      <td>...</td>\n",
              "      <td>...</td>\n",
              "    </tr>\n",
              "    <tr>\n",
              "      <th>421880</th>\n",
              "      <td>BICICLETA ELETRICA IMPULSE E-TRAIL 2019 PRETO TAM M Ref: 11000500010015 Marca: SENSE</td>\n",
              "      <td>16065.4800</td>\n",
              "      <td>1</td>\n",
              "    </tr>\n",
              "    <tr>\n",
              "      <th>276062</th>\n",
              "      <td>Bicicleta Cannondale Synapse Carbon Disc Ultegra Di2 - Cinza</td>\n",
              "      <td>17900.0000</td>\n",
              "      <td>1</td>\n",
              "    </tr>\n",
              "    <tr>\n",
              "      <th>160462</th>\n",
              "      <td>BICICLETA DE MONTANHA MODELO EPIC EXPERT CARBON 29 MASCULINO COR CINZA GELO/VERMELHO EVOLUTIVO TAM L MARCA SPE</td>\n",
              "      <td>18289.1800</td>\n",
              "      <td>1</td>\n",
              "    </tr>\n",
              "    <tr>\n",
              "      <th>24468</th>\n",
              "      <td>BICICLETA TREK SPEED CONCEPTTAM.L BK-BK USO ADULTO</td>\n",
              "      <td>19071.2018</td>\n",
              "      <td>1</td>\n",
              "    </tr>\n",
              "    <tr>\n",
              "      <th>389487</th>\n",
              "      <td>BICICLETA DE ESTRADA MODELO VENGE S-WORKS DISC DI2 EDICAO ESPECIAL PETER SAGAN COR BRANCO ARCO IRIS/HOLOGRAFIC</td>\n",
              "      <td>34833.0800</td>\n",
              "      <td>2</td>\n",
              "    </tr>\n",
              "  </tbody>\n",
              "</table>\n",
              "<p>722 rows × 3 columns</p>\n",
              "</div>"
            ],
            "text/plain": [
              "                                                                                                            PROD_XPROD  \\\n",
              "230032                                                              BIKEARO 29 21 V FREIO A DISCO SUSP DIANT BRANCO NA   \n",
              "364586                                                                       BICICLETA VULCAN ARO 29 TAM15 PRETA CALOI   \n",
              "286506                                                                       BIKE 29 KLS SPORT GOLD F/D 21V PRETO/PINK   \n",
              "202461                                                                            BICICLETA CALOI T TYPE ARO 26 02 336   \n",
              "370843                                                                       BICICLETA SCHWINN COLORADO CALOI PRETO NA   \n",
              "...                                                                                                                ...   \n",
              "421880                            BICICLETA ELETRICA IMPULSE E-TRAIL 2019 PRETO TAM M Ref: 11000500010015 Marca: SENSE   \n",
              "276062                                                    Bicicleta Cannondale Synapse Carbon Disc Ultegra Di2 - Cinza   \n",
              "160462  BICICLETA DE MONTANHA MODELO EPIC EXPERT CARBON 29 MASCULINO COR CINZA GELO/VERMELHO EVOLUTIVO TAM L MARCA SPE   \n",
              "24468                                                               BICICLETA TREK SPEED CONCEPTTAM.L BK-BK USO ADULTO   \n",
              "389487  BICICLETA DE ESTRADA MODELO VENGE S-WORKS DISC DI2 EDICAO ESPECIAL PETER SAGAN COR BRANCO ARCO IRIS/HOLOGRAFIC   \n",
              "\n",
              "        PROD_VUNCOM  CONTAGEM  \n",
              "230032    1002.4100         1  \n",
              "364586    1005.2900         6  \n",
              "286506    1012.9000        10  \n",
              "202461    1015.1700         8  \n",
              "370843    1016.0000         8  \n",
              "...             ...       ...  \n",
              "421880   16065.4800         1  \n",
              "276062   17900.0000         1  \n",
              "160462   18289.1800         1  \n",
              "24468    19071.2018         1  \n",
              "389487   34833.0800         2  \n",
              "\n",
              "[722 rows x 3 columns]"
            ]
          },
          "execution_count": 224,
          "metadata": {},
          "output_type": "execute_result"
        }
      ],
      "source": [
        "df[MASK_BICICLETA][LABELS].sort_values(by='PROD_VUNCOM', ascending=True)"
      ]
    },
    {
      "cell_type": "code",
      "execution_count": null,
      "id": "02505123-fcfc-4174-8715-3f6b75ced88c",
      "metadata": {
        "id": "02505123-fcfc-4174-8715-3f6b75ced88c"
      },
      "outputs": [],
      "source": [
        "LABELS_2 = ['PROD_XPROD', 'CONTAGEM']"
      ]
    },
    {
      "cell_type": "code",
      "execution_count": null,
      "id": "1e2a175e-111f-498f-846c-d76bcd5f6624",
      "metadata": {
        "id": "1e2a175e-111f-498f-846c-d76bcd5f6624"
      },
      "outputs": [],
      "source": [
        "df_bicicleta = df[MASK_BICICLETA][LABELS_2]"
      ]
    },
    {
      "cell_type": "code",
      "execution_count": null,
      "id": "47a7bf43-2258-41e4-b285-8967cce60959",
      "metadata": {
        "tags": [],
        "id": "47a7bf43-2258-41e4-b285-8967cce60959"
      },
      "outputs": [],
      "source": [
        "df_bicicleta['CODIGO_PRODUTO_SEFAZ'] = 10030457005"
      ]
    },
    {
      "cell_type": "code",
      "execution_count": null,
      "id": "b48310cb-a73a-45c3-9544-60468885af8f",
      "metadata": {
        "id": "b48310cb-a73a-45c3-9544-60468885af8f",
        "outputId": "fb8a7c6d-675a-419b-8f48-b5a85249b3d5"
      },
      "outputs": [
        {
          "data": {
            "text/html": [
              "<div>\n",
              "<style scoped>\n",
              "    .dataframe tbody tr th:only-of-type {\n",
              "        vertical-align: middle;\n",
              "    }\n",
              "\n",
              "    .dataframe tbody tr th {\n",
              "        vertical-align: top;\n",
              "    }\n",
              "\n",
              "    .dataframe thead th {\n",
              "        text-align: right;\n",
              "    }\n",
              "</style>\n",
              "<table border=\"1\" class=\"dataframe\">\n",
              "  <thead>\n",
              "    <tr style=\"text-align: right;\">\n",
              "      <th></th>\n",
              "      <th>PROD_XPROD</th>\n",
              "      <th>CONTAGEM</th>\n",
              "      <th>CODIGO_PRODUTO_SEFAZ</th>\n",
              "    </tr>\n",
              "  </thead>\n",
              "  <tbody>\n",
              "    <tr>\n",
              "      <th>48</th>\n",
              "      <td>BICICLETA ALUM KSW 29 IMPORT 24 VEL GRAFITE/PRETO FOSCO 19\" KRW16</td>\n",
              "      <td>6</td>\n",
              "      <td>10030457005</td>\n",
              "    </tr>\n",
              "    <tr>\n",
              "      <th>107</th>\n",
              "      <td>Bicicleta Aro 29 KSW XLT 24v Cambios Shimano TX-800 Freio a Disco Hidraulico Suspensao com Trava Cor:Preto+Laranja;Taman</td>\n",
              "      <td>1</td>\n",
              "      <td>10030457005</td>\n",
              "    </tr>\n",
              "    <tr>\n",
              "      <th>1024</th>\n",
              "      <td>BICICLETA 29 C/21 MARCHAS SHIMANO SPACELINE VEGA FREIO A DISCO SUSPENSAO C/80MM - TAMANHO 17 CINZA</td>\n",
              "      <td>11</td>\n",
              "      <td>10030457005</td>\n",
              "    </tr>\n",
              "    <tr>\n",
              "      <th>1030</th>\n",
              "      <td>BICICLETA ARO 16 DINO PRETA</td>\n",
              "      <td>1</td>\n",
              "      <td>10030457005</td>\n",
              "    </tr>\n",
              "    <tr>\n",
              "      <th>1674</th>\n",
              "      <td>BICICLETA CALOI 10 PRETA</td>\n",
              "      <td>1</td>\n",
              "      <td>10030457005</td>\n",
              "    </tr>\n",
              "  </tbody>\n",
              "</table>\n",
              "</div>"
            ],
            "text/plain": [
              "                                                                                                                    PROD_XPROD  \\\n",
              "48                                                           BICICLETA ALUM KSW 29 IMPORT 24 VEL GRAFITE/PRETO FOSCO 19\" KRW16   \n",
              "107   Bicicleta Aro 29 KSW XLT 24v Cambios Shimano TX-800 Freio a Disco Hidraulico Suspensao com Trava Cor:Preto+Laranja;Taman   \n",
              "1024                        BICICLETA 29 C/21 MARCHAS SHIMANO SPACELINE VEGA FREIO A DISCO SUSPENSAO C/80MM - TAMANHO 17 CINZA   \n",
              "1030                                                                                               BICICLETA ARO 16 DINO PRETA   \n",
              "1674                                                                                                  BICICLETA CALOI 10 PRETA   \n",
              "\n",
              "      CONTAGEM  CODIGO_PRODUTO_SEFAZ  \n",
              "48           6           10030457005  \n",
              "107          1           10030457005  \n",
              "1024        11           10030457005  \n",
              "1030         1           10030457005  \n",
              "1674         1           10030457005  "
            ]
          },
          "execution_count": 228,
          "metadata": {},
          "output_type": "execute_result"
        }
      ],
      "source": [
        "df_bicicleta.head()"
      ]
    },
    {
      "cell_type": "code",
      "execution_count": null,
      "id": "e55b6fd3-d97d-4163-b450-0ff08b63a29e",
      "metadata": {
        "id": "e55b6fd3-d97d-4163-b450-0ff08b63a29e"
      },
      "outputs": [],
      "source": [
        "df_bicicleta.to_csv('bicicleta.csv')"
      ]
    },
    {
      "cell_type": "code",
      "execution_count": null,
      "id": "856ac22d-be74-4cb9-a63e-ca422919a391",
      "metadata": {
        "id": "856ac22d-be74-4cb9-a63e-ca422919a391"
      },
      "outputs": [],
      "source": [
        "df_bicicleta.to_csv('labeled_cap87.csv', mode='a', header=False)"
      ]
    },
    {
      "cell_type": "code",
      "execution_count": null,
      "id": "c2d47d81-4718-4ecf-8c3f-59b65d22d692",
      "metadata": {
        "id": "c2d47d81-4718-4ecf-8c3f-59b65d22d692"
      },
      "outputs": [],
      "source": [
        "MASK_VEICULOS = MASK_CAMINHAO | MASK_CARROS_CAMINHONETE | MASK_MOTOCICLETA | MASK_BICICLETA | MASK_TRATORES | MASK_ONIBUS"
      ]
    },
    {
      "cell_type": "code",
      "execution_count": null,
      "id": "a4c810f1-b812-4ef2-8724-86d9c5a8e29c",
      "metadata": {
        "id": "a4c810f1-b812-4ef2-8724-86d9c5a8e29c"
      },
      "outputs": [],
      "source": [
        "df_veiculos = df[MASK_VEICULOS]"
      ]
    },
    {
      "cell_type": "code",
      "execution_count": null,
      "id": "8da1aa5b-8be2-418f-8587-afd12b601501",
      "metadata": {
        "id": "8da1aa5b-8be2-418f-8587-afd12b601501"
      },
      "outputs": [],
      "source": [
        "df_nao_veiculos = df[~MASK_VEICULOS]"
      ]
    },
    {
      "cell_type": "code",
      "execution_count": null,
      "id": "fd1dbb0a-c3f1-44d0-9a00-a865cf426ad8",
      "metadata": {
        "id": "fd1dbb0a-c3f1-44d0-9a00-a865cf426ad8"
      },
      "outputs": [],
      "source": [
        "df_nao_veiculos.to_csv('nao_veiculos.csv')"
      ]
    },
    {
      "cell_type": "markdown",
      "id": "a0f9055b-2642-4491-a095-62ff4f2b5af0",
      "metadata": {
        "id": "a0f9055b-2642-4491-a095-62ff4f2b5af0"
      },
      "source": [
        "###### Reboques/Semi-reboques"
      ]
    },
    {
      "cell_type": "code",
      "execution_count": null,
      "id": "07378c16-5ebf-4fa7-9681-01afe776d189",
      "metadata": {
        "id": "07378c16-5ebf-4fa7-9681-01afe776d189"
      },
      "outputs": [],
      "source": [
        "pattern_outras_partes = r'^(SEMI)?([R\\-.])REBOQUE'"
      ]
    },
    {
      "cell_type": "code",
      "execution_count": null,
      "id": "64ac54e3-3645-4ea6-bd94-e746a635d2d6",
      "metadata": {
        "id": "64ac54e3-3645-4ea6-bd94-e746a635d2d6"
      },
      "outputs": [],
      "source": [
        "MASK_OUTRAS_PARTES = df[\"PROD_XPROD\"].str.contains(r'(SEMI)?([R\\-.])REBOQUE', flags = re.IGNORECASE)"
      ]
    },
    {
      "cell_type": "code",
      "execution_count": null,
      "id": "5332b500-a603-4c94-b000-8e7381d31006",
      "metadata": {
        "id": "5332b500-a603-4c94-b000-8e7381d31006"
      },
      "outputs": [],
      "source": [
        "LABELS_2 = ['PROD_XPROD', 'CONTAGEM']"
      ]
    },
    {
      "cell_type": "code",
      "execution_count": null,
      "id": "6c9295af-9b5d-493e-a16e-1a5a542c27d7",
      "metadata": {
        "id": "6c9295af-9b5d-493e-a16e-1a5a542c27d7"
      },
      "outputs": [],
      "source": [
        "df_outras_partes = df[MASK_PECAS_BICICLETA][LABELS_2]"
      ]
    },
    {
      "cell_type": "code",
      "execution_count": null,
      "id": "dfb1765f-a223-4709-ae9e-04ef561a85f8",
      "metadata": {
        "id": "dfb1765f-a223-4709-ae9e-04ef561a85f8",
        "outputId": "ac612aae-4b24-4409-b9f1-891323688c0c"
      },
      "outputs": [
        {
          "data": {
            "text/html": [
              "<div>\n",
              "<style scoped>\n",
              "    .dataframe tbody tr th:only-of-type {\n",
              "        vertical-align: middle;\n",
              "    }\n",
              "\n",
              "    .dataframe tbody tr th {\n",
              "        vertical-align: top;\n",
              "    }\n",
              "\n",
              "    .dataframe thead th {\n",
              "        text-align: right;\n",
              "    }\n",
              "</style>\n",
              "<table border=\"1\" class=\"dataframe\">\n",
              "  <thead>\n",
              "    <tr style=\"text-align: right;\">\n",
              "      <th></th>\n",
              "      <th>PROD_XPROD</th>\n",
              "      <th>PROD_NCM</th>\n",
              "      <th>PROD_VUNCOM</th>\n",
              "      <th>CONTAGEM</th>\n",
              "      <th>NCM_POSICAO</th>\n",
              "      <th>IMPORTANCIA</th>\n",
              "      <th>POSICAO_NCM</th>\n",
              "    </tr>\n",
              "  </thead>\n",
              "  <tbody>\n",
              "    <tr>\n",
              "      <th>347773</th>\n",
              "      <td>SEMIRREBOQUE RODOTREM GRANELEIRO 02 EIXOS</td>\n",
              "      <td>87163900</td>\n",
              "      <td>80000.00</td>\n",
              "      <td>231</td>\n",
              "      <td>8716</td>\n",
              "      <td>18480000.00</td>\n",
              "      <td>8716</td>\n",
              "    </tr>\n",
              "    <tr>\n",
              "      <th>344695</th>\n",
              "      <td>SEMIRREBOQUE RODOTREM BASCULANTE 02 EIXOS 35 M3 - GRAO/ACUCAR</td>\n",
              "      <td>87163900</td>\n",
              "      <td>110000.00</td>\n",
              "      <td>145</td>\n",
              "      <td>8716</td>\n",
              "      <td>15950000.00</td>\n",
              "      <td>8716</td>\n",
              "    </tr>\n",
              "    <tr>\n",
              "      <th>441034</th>\n",
              "      <td>SEMIRREBOQUE RODOTREM BASCULANTE 02 EIXOS 35 M3 - GRAO/ACUCAR</td>\n",
              "      <td>87163900</td>\n",
              "      <td>107500.00</td>\n",
              "      <td>120</td>\n",
              "      <td>8716</td>\n",
              "      <td>12900000.00</td>\n",
              "      <td>8716</td>\n",
              "    </tr>\n",
              "    <tr>\n",
              "      <th>4886</th>\n",
              "      <td>CAMINHAO TRATOR PARA SEMIRREBOQUE / COMPLEMENTO DE ICMS</td>\n",
              "      <td>87012000</td>\n",
              "      <td>0.00</td>\n",
              "      <td>110</td>\n",
              "      <td>8701</td>\n",
              "      <td>0.00</td>\n",
              "      <td>8701</td>\n",
              "    </tr>\n",
              "    <tr>\n",
              "      <th>303046</th>\n",
              "      <td>SEMIRREBOQUE RODOTREM BASCULANTE 02 EIXOS 35 M3 - GRAO/ACUCAR</td>\n",
              "      <td>87163900</td>\n",
              "      <td>90000.00</td>\n",
              "      <td>101</td>\n",
              "      <td>8716</td>\n",
              "      <td>9090000.00</td>\n",
              "      <td>8716</td>\n",
              "    </tr>\n",
              "    <tr>\n",
              "      <th>...</th>\n",
              "      <td>...</td>\n",
              "      <td>...</td>\n",
              "      <td>...</td>\n",
              "      <td>...</td>\n",
              "      <td>...</td>\n",
              "      <td>...</td>\n",
              "      <td>...</td>\n",
              "    </tr>\n",
              "    <tr>\n",
              "      <th>355189</th>\n",
              "      <td>CARRETAREB COR PRATA MARCA/MOD.R.REBOQUES EM EMA 750 COD 717308 ANO/MODELO 2021/2021 CAP 0.52T CHASSI 950EM7501MM000090</td>\n",
              "      <td>87164000</td>\n",
              "      <td>2650.00</td>\n",
              "      <td>1</td>\n",
              "      <td>8716</td>\n",
              "      <td>2650.00</td>\n",
              "      <td>8716</td>\n",
              "    </tr>\n",
              "    <tr>\n",
              "      <th>99213</th>\n",
              "      <td>SEMIRREBOQUE GRANELEIRO 03 EIXOS BOBINEIRO 12.500 MM</td>\n",
              "      <td>87163900</td>\n",
              "      <td>86000.00</td>\n",
              "      <td>1</td>\n",
              "      <td>8716</td>\n",
              "      <td>86000.00</td>\n",
              "      <td>8716</td>\n",
              "    </tr>\n",
              "    <tr>\n",
              "      <th>236780</th>\n",
              "      <td>CAMINHAO TRATOR PARA SEMIRREBOQUE / 589235</td>\n",
              "      <td>87012000</td>\n",
              "      <td>16249.41</td>\n",
              "      <td>1</td>\n",
              "      <td>8701</td>\n",
              "      <td>16249.41</td>\n",
              "      <td>8701</td>\n",
              "    </tr>\n",
              "    <tr>\n",
              "      <th>381640</th>\n",
              "      <td>SEMIRREBOQUE TANQUE ACO CARBONO SEMIELIPTICO 3 EIXOS JUNTOS MECANICOS 30000 LITR</td>\n",
              "      <td>87163100</td>\n",
              "      <td>128892.00</td>\n",
              "      <td>1</td>\n",
              "      <td>8716</td>\n",
              "      <td>128892.00</td>\n",
              "      <td>8716</td>\n",
              "    </tr>\n",
              "    <tr>\n",
              "      <th>496877</th>\n",
              "      <td>CARRETAREB COR PRETA MARCA/MOD.R.REBOQUES EM EMA 750 COD 717308 ANO/MODELO 2021/2021 CAP 0.52T CHASSI 950EM7501MM000118</td>\n",
              "      <td>87164000</td>\n",
              "      <td>4200.00</td>\n",
              "      <td>1</td>\n",
              "      <td>8716</td>\n",
              "      <td>4200.00</td>\n",
              "      <td>8716</td>\n",
              "    </tr>\n",
              "  </tbody>\n",
              "</table>\n",
              "<p>176 rows × 7 columns</p>\n",
              "</div>"
            ],
            "text/plain": [
              "                                                                                                                     PROD_XPROD  \\\n",
              "347773                                                                                SEMIRREBOQUE RODOTREM GRANELEIRO 02 EIXOS   \n",
              "344695                                                            SEMIRREBOQUE RODOTREM BASCULANTE 02 EIXOS 35 M3 - GRAO/ACUCAR   \n",
              "441034                                                            SEMIRREBOQUE RODOTREM BASCULANTE 02 EIXOS 35 M3 - GRAO/ACUCAR   \n",
              "4886                                                                    CAMINHAO TRATOR PARA SEMIRREBOQUE / COMPLEMENTO DE ICMS   \n",
              "303046                                                            SEMIRREBOQUE RODOTREM BASCULANTE 02 EIXOS 35 M3 - GRAO/ACUCAR   \n",
              "...                                                                                                                         ...   \n",
              "355189  CARRETAREB COR PRATA MARCA/MOD.R.REBOQUES EM EMA 750 COD 717308 ANO/MODELO 2021/2021 CAP 0.52T CHASSI 950EM7501MM000090   \n",
              "99213                                                                      SEMIRREBOQUE GRANELEIRO 03 EIXOS BOBINEIRO 12.500 MM   \n",
              "236780                                                                               CAMINHAO TRATOR PARA SEMIRREBOQUE / 589235   \n",
              "381640                                         SEMIRREBOQUE TANQUE ACO CARBONO SEMIELIPTICO 3 EIXOS JUNTOS MECANICOS 30000 LITR   \n",
              "496877  CARRETAREB COR PRETA MARCA/MOD.R.REBOQUES EM EMA 750 COD 717308 ANO/MODELO 2021/2021 CAP 0.52T CHASSI 950EM7501MM000118   \n",
              "\n",
              "        PROD_NCM  PROD_VUNCOM  CONTAGEM NCM_POSICAO  IMPORTANCIA POSICAO_NCM  \n",
              "347773  87163900     80000.00       231        8716  18480000.00        8716  \n",
              "344695  87163900    110000.00       145        8716  15950000.00        8716  \n",
              "441034  87163900    107500.00       120        8716  12900000.00        8716  \n",
              "4886    87012000         0.00       110        8701         0.00        8701  \n",
              "303046  87163900     90000.00       101        8716   9090000.00        8716  \n",
              "...          ...          ...       ...         ...          ...         ...  \n",
              "355189  87164000      2650.00         1        8716      2650.00        8716  \n",
              "99213   87163900     86000.00         1        8716     86000.00        8716  \n",
              "236780  87012000     16249.41         1        8701     16249.41        8701  \n",
              "381640  87163100    128892.00         1        8716    128892.00        8716  \n",
              "496877  87164000      4200.00         1        8716      4200.00        8716  \n",
              "\n",
              "[176 rows x 7 columns]"
            ]
          },
          "execution_count": 239,
          "metadata": {},
          "output_type": "execute_result"
        }
      ],
      "source": [
        "df[df[\"PROD_XPROD\"].str.contains(r'(SEMI)?([R\\-.])REBOQUE', flags = re.IGNORECASE)].sort_values(by='CONTAGEM', ascending=False)"
      ]
    },
    {
      "cell_type": "code",
      "execution_count": null,
      "id": "0931d1b9-92ce-4aca-ab26-5a52c4fd8807",
      "metadata": {
        "tags": [],
        "id": "0931d1b9-92ce-4aca-ab26-5a52c4fd8807",
        "outputId": "e8f484ae-f5a3-489c-b39d-5165bf1397bc"
      },
      "outputs": [
        {
          "data": {
            "text/plain": [
              "139"
            ]
          },
          "execution_count": 240,
          "metadata": {},
          "output_type": "execute_result"
        }
      ],
      "source": [
        "len(df[ df[\"PROD_XPROD\"].str.contains(r'REB\\s', flags = re.IGNORECASE)])"
      ]
    },
    {
      "cell_type": "code",
      "execution_count": null,
      "id": "cd5756c1-3807-48fa-a9f7-6c7ed2def53c",
      "metadata": {
        "id": "cd5756c1-3807-48fa-a9f7-6c7ed2def53c",
        "outputId": "8863d3b5-4ed3-4198-d111-1c5c0ae1b16e"
      },
      "outputs": [
        {
          "data": {
            "text/html": [
              "<div>\n",
              "<style scoped>\n",
              "    .dataframe tbody tr th:only-of-type {\n",
              "        vertical-align: middle;\n",
              "    }\n",
              "\n",
              "    .dataframe tbody tr th {\n",
              "        vertical-align: top;\n",
              "    }\n",
              "\n",
              "    .dataframe thead th {\n",
              "        text-align: right;\n",
              "    }\n",
              "</style>\n",
              "<table border=\"1\" class=\"dataframe\">\n",
              "  <thead>\n",
              "    <tr style=\"text-align: right;\">\n",
              "      <th></th>\n",
              "      <th>PROD_XPROD</th>\n",
              "      <th>PROD_NCM</th>\n",
              "      <th>PROD_VUNCOM</th>\n",
              "      <th>CONTAGEM</th>\n",
              "      <th>NCM_POSICAO</th>\n",
              "      <th>IMPORTANCIA</th>\n",
              "      <th>POSICAO_NCM</th>\n",
              "    </tr>\n",
              "  </thead>\n",
              "  <tbody>\n",
              "    <tr>\n",
              "      <th>81</th>\n",
              "      <td>REBITE DA GRADE DO RADIADOR</td>\n",
              "      <td>87082999</td>\n",
              "      <td>2.6036</td>\n",
              "      <td>3</td>\n",
              "      <td>8708</td>\n",
              "      <td>7.8108</td>\n",
              "      <td>8708</td>\n",
              "    </tr>\n",
              "    <tr>\n",
              "      <th>336</th>\n",
              "      <td>REB ROSCA REC 5/16 FIN ACO LT: 15170</td>\n",
              "      <td>73182300</td>\n",
              "      <td>23.0600</td>\n",
              "      <td>3</td>\n",
              "      <td>7318</td>\n",
              "      <td>69.1800</td>\n",
              "      <td>7318</td>\n",
              "    </tr>\n",
              "    <tr>\n",
              "      <th>352</th>\n",
              "      <td>SINALEIRA MARTE LED COM RE BIVOLT CARRETINHA CARRETA REBOQUE</td>\n",
              "      <td>87163900</td>\n",
              "      <td>145.9200</td>\n",
              "      <td>9</td>\n",
              "      <td>8716</td>\n",
              "      <td>1313.2800</td>\n",
              "      <td>8716</td>\n",
              "    </tr>\n",
              "    <tr>\n",
              "      <th>837</th>\n",
              "      <td>ACABAMENTO DA TAMPA DO REBOQUE TRASEIRO</td>\n",
              "      <td>87081000</td>\n",
              "      <td>586.9700</td>\n",
              "      <td>1</td>\n",
              "      <td>8708</td>\n",
              "      <td>586.9700</td>\n",
              "      <td>8708</td>\n",
              "    </tr>\n",
              "    <tr>\n",
              "      <th>1018</th>\n",
              "      <td>BIC 20 MTB MASC REB SUPER BOY PTO</td>\n",
              "      <td>87120010</td>\n",
              "      <td>387.8700</td>\n",
              "      <td>30</td>\n",
              "      <td>8712</td>\n",
              "      <td>11636.1000</td>\n",
              "      <td>8712</td>\n",
              "    </tr>\n",
              "    <tr>\n",
              "      <th>...</th>\n",
              "      <td>...</td>\n",
              "      <td>...</td>\n",
              "      <td>...</td>\n",
              "      <td>...</td>\n",
              "      <td>...</td>\n",
              "      <td>...</td>\n",
              "      <td>...</td>\n",
              "    </tr>\n",
              "    <tr>\n",
              "      <th>496877</th>\n",
              "      <td>CARRETAREB COR PRETA MARCA/MOD.R.REBOQUES EM EMA 750 COD 717308 ANO/MODELO 2021/2021 CAP 0.52T CHASSI 950EM7501MM000118</td>\n",
              "      <td>87164000</td>\n",
              "      <td>4200.0000</td>\n",
              "      <td>1</td>\n",
              "      <td>8716</td>\n",
              "      <td>4200.0000</td>\n",
              "      <td>8716</td>\n",
              "    </tr>\n",
              "    <tr>\n",
              "      <th>497902</th>\n",
              "      <td>PONTEIRA DO ENGATE DE REBOQUE</td>\n",
              "      <td>87169090</td>\n",
              "      <td>277.0000</td>\n",
              "      <td>1</td>\n",
              "      <td>8716</td>\n",
              "      <td>277.0000</td>\n",
              "      <td>8716</td>\n",
              "    </tr>\n",
              "    <tr>\n",
              "      <th>498760</th>\n",
              "      <td>TOMADA P/REBOQUE PRETA 6P MACHO 0018 ENGATCAR</td>\n",
              "      <td>87169090</td>\n",
              "      <td>8.8200</td>\n",
              "      <td>22</td>\n",
              "      <td>8716</td>\n",
              "      <td>194.0400</td>\n",
              "      <td>8716</td>\n",
              "    </tr>\n",
              "    <tr>\n",
              "      <th>499098</th>\n",
              "      <td>ENGATE PARA REBOQUE HYUNDAI HB20 2011/2017 500KG FIXO</td>\n",
              "      <td>87169090</td>\n",
              "      <td>48.5140</td>\n",
              "      <td>1</td>\n",
              "      <td>8716</td>\n",
              "      <td>48.5140</td>\n",
              "      <td>8716</td>\n",
              "    </tr>\n",
              "    <tr>\n",
              "      <th>499810</th>\n",
              "      <td>ENGATE REBOQUE KEKO ASX</td>\n",
              "      <td>87169090</td>\n",
              "      <td>809.9000</td>\n",
              "      <td>1</td>\n",
              "      <td>8716</td>\n",
              "      <td>809.9000</td>\n",
              "      <td>8716</td>\n",
              "    </tr>\n",
              "  </tbody>\n",
              "</table>\n",
              "<p>1440 rows × 7 columns</p>\n",
              "</div>"
            ],
            "text/plain": [
              "                                                                                                                     PROD_XPROD  \\\n",
              "81                                                                                                  REBITE DA GRADE DO RADIADOR   \n",
              "336                                                                                        REB ROSCA REC 5/16 FIN ACO LT: 15170   \n",
              "352                                                                SINALEIRA MARTE LED COM RE BIVOLT CARRETINHA CARRETA REBOQUE   \n",
              "837                                                                                     ACABAMENTO DA TAMPA DO REBOQUE TRASEIRO   \n",
              "1018                                                                                          BIC 20 MTB MASC REB SUPER BOY PTO   \n",
              "...                                                                                                                         ...   \n",
              "496877  CARRETAREB COR PRETA MARCA/MOD.R.REBOQUES EM EMA 750 COD 717308 ANO/MODELO 2021/2021 CAP 0.52T CHASSI 950EM7501MM000118   \n",
              "497902                                                                                            PONTEIRA DO ENGATE DE REBOQUE   \n",
              "498760                                                                            TOMADA P/REBOQUE PRETA 6P MACHO 0018 ENGATCAR   \n",
              "499098                                                                    ENGATE PARA REBOQUE HYUNDAI HB20 2011/2017 500KG FIXO   \n",
              "499810                                                                                                  ENGATE REBOQUE KEKO ASX   \n",
              "\n",
              "        PROD_NCM  PROD_VUNCOM  CONTAGEM NCM_POSICAO  IMPORTANCIA POSICAO_NCM  \n",
              "81      87082999       2.6036         3        8708       7.8108        8708  \n",
              "336     73182300      23.0600         3        7318      69.1800        7318  \n",
              "352     87163900     145.9200         9        8716    1313.2800        8716  \n",
              "837     87081000     586.9700         1        8708     586.9700        8708  \n",
              "1018    87120010     387.8700        30        8712   11636.1000        8712  \n",
              "...          ...          ...       ...         ...          ...         ...  \n",
              "496877  87164000    4200.0000         1        8716    4200.0000        8716  \n",
              "497902  87169090     277.0000         1        8716     277.0000        8716  \n",
              "498760  87169090       8.8200        22        8716     194.0400        8716  \n",
              "499098  87169090      48.5140         1        8716      48.5140        8716  \n",
              "499810  87169090     809.9000         1        8716     809.9000        8716  \n",
              "\n",
              "[1440 rows x 7 columns]"
            ]
          },
          "execution_count": 241,
          "metadata": {},
          "output_type": "execute_result"
        }
      ],
      "source": [
        "df[ df[\"PROD_XPROD\"].str.contains(r'REB') ].head()"
      ]
    },
    {
      "cell_type": "code",
      "execution_count": null,
      "id": "1aba2bd7-7852-4d82-b7f5-6ed139345ff1",
      "metadata": {
        "id": "1aba2bd7-7852-4d82-b7f5-6ed139345ff1"
      },
      "outputs": [],
      "source": [
        "df_outras_partes['CODIGO_PRODUTO_SEFAZ'] = 10030457007"
      ]
    },
    {
      "cell_type": "markdown",
      "id": "ea6527fe-a50a-4a2c-8720-2f7ea639e809",
      "metadata": {
        "id": "ea6527fe-a50a-4a2c-8720-2f7ea639e809"
      },
      "source": [
        "#### Não rotulado"
      ]
    },
    {
      "cell_type": "code",
      "execution_count": null,
      "id": "19429c9c-95ba-4396-9c16-ef3e6ce9347d",
      "metadata": {
        "tags": [],
        "id": "19429c9c-95ba-4396-9c16-ef3e6ce9347d",
        "outputId": "03251185-9e4d-4f23-db97-2c22c4158c26"
      },
      "outputs": [
        {
          "data": {
            "text/html": [
              "<div>\n",
              "<style scoped>\n",
              "    .dataframe tbody tr th:only-of-type {\n",
              "        vertical-align: middle;\n",
              "    }\n",
              "\n",
              "    .dataframe tbody tr th {\n",
              "        vertical-align: top;\n",
              "    }\n",
              "\n",
              "    .dataframe thead th {\n",
              "        text-align: right;\n",
              "    }\n",
              "</style>\n",
              "<table border=\"1\" class=\"dataframe\">\n",
              "  <thead>\n",
              "    <tr style=\"text-align: right;\">\n",
              "      <th></th>\n",
              "      <th>PROD_XPROD</th>\n",
              "      <th>PROD_NCM</th>\n",
              "      <th>PROD_VUNCOM</th>\n",
              "      <th>CONTAGEM</th>\n",
              "      <th>NCM_POSICAO</th>\n",
              "      <th>IMPORTANCIA</th>\n",
              "      <th>POSICAO_NCM</th>\n",
              "    </tr>\n",
              "  </thead>\n",
              "  <tbody>\n",
              "    <tr>\n",
              "      <th>269677</th>\n",
              "      <td>INSUFLADOR RECALL -</td>\n",
              "      <td>87089522</td>\n",
              "      <td>32.97</td>\n",
              "      <td>3103</td>\n",
              "      <td>8708</td>\n",
              "      <td>102305.91</td>\n",
              "      <td>8708</td>\n",
              "    </tr>\n",
              "    <tr>\n",
              "      <th>38913</th>\n",
              "      <td>CESTA ARAME COMP 31X23X23 C/CINTO PTO</td>\n",
              "      <td>87149990</td>\n",
              "      <td>12.00</td>\n",
              "      <td>2873</td>\n",
              "      <td>8714</td>\n",
              "      <td>34476.00</td>\n",
              "      <td>8714</td>\n",
              "    </tr>\n",
              "    <tr>\n",
              "      <th>312975</th>\n",
              "      <td>KIT REVISAO HOP 1000</td>\n",
              "      <td>87141000</td>\n",
              "      <td>35.49</td>\n",
              "      <td>2778</td>\n",
              "      <td>8714</td>\n",
              "      <td>98591.22</td>\n",
              "      <td>8714</td>\n",
              "    </tr>\n",
              "    <tr>\n",
              "      <th>34036</th>\n",
              "      <td>GARFO DIANT DIR</td>\n",
              "      <td>87141000</td>\n",
              "      <td>14.67</td>\n",
              "      <td>2740</td>\n",
              "      <td>8714</td>\n",
              "      <td>40195.80</td>\n",
              "      <td>8714</td>\n",
              "    </tr>\n",
              "    <tr>\n",
              "      <th>7670</th>\n",
              "      <td>ARO P72 26X1.1-2 36F NATURAL</td>\n",
              "      <td>87149200</td>\n",
              "      <td>14.40</td>\n",
              "      <td>2544</td>\n",
              "      <td>8714</td>\n",
              "      <td>36633.60</td>\n",
              "      <td>8714</td>\n",
              "    </tr>\n",
              "    <tr>\n",
              "      <th>100551</th>\n",
              "      <td>PEDIVELA MONOBLOCO 165MM CROMADO</td>\n",
              "      <td>87149600</td>\n",
              "      <td>12.00</td>\n",
              "      <td>2495</td>\n",
              "      <td>8714</td>\n",
              "      <td>29940.00</td>\n",
              "      <td>8714</td>\n",
              "    </tr>\n",
              "    <tr>\n",
              "      <th>9282</th>\n",
              "      <td>401114 - PATIN FREIO DIANTTRAS TITAN KS TRAS ES - COBREQ</td>\n",
              "      <td>87141000</td>\n",
              "      <td>20.00</td>\n",
              "      <td>2418</td>\n",
              "      <td>8714</td>\n",
              "      <td>48360.00</td>\n",
              "      <td>8714</td>\n",
              "    </tr>\n",
              "    <tr>\n",
              "      <th>9269</th>\n",
              "      <td>ALAV.CAMBIO AL.DIR./ESQ. C/CABOS S/COND</td>\n",
              "      <td>87149990</td>\n",
              "      <td>5.02</td>\n",
              "      <td>2415</td>\n",
              "      <td>8714</td>\n",
              "      <td>12123.30</td>\n",
              "      <td>8714</td>\n",
              "    </tr>\n",
              "    <tr>\n",
              "      <th>85415</th>\n",
              "      <td>EIXO TR 3/8X175 PTO C/CX+COLR+ESP C/CUBO</td>\n",
              "      <td>87149990</td>\n",
              "      <td>3.36</td>\n",
              "      <td>2411</td>\n",
              "      <td>8714</td>\n",
              "      <td>8100.96</td>\n",
              "      <td>8714</td>\n",
              "    </tr>\n",
              "    <tr>\n",
              "      <th>199665</th>\n",
              "      <td>CURVA POTI NOVA (BRISA) CROMADO PIMONT</td>\n",
              "      <td>87149100</td>\n",
              "      <td>9.60</td>\n",
              "      <td>2346</td>\n",
              "      <td>8714</td>\n",
              "      <td>22521.60</td>\n",
              "      <td>8714</td>\n",
              "    </tr>\n",
              "    <tr>\n",
              "      <th>162506</th>\n",
              "      <td>CESTA ARAME COMP 35X25X26 C/CINTO PTO REF: WGCES00</td>\n",
              "      <td>87149990</td>\n",
              "      <td>14.00</td>\n",
              "      <td>2254</td>\n",
              "      <td>8714</td>\n",
              "      <td>31556.00</td>\n",
              "      <td>8714</td>\n",
              "    </tr>\n",
              "    <tr>\n",
              "      <th>416669</th>\n",
              "      <td>ISPIRAZIONE GENOVA LIVANTO</td>\n",
              "      <td>9012100</td>\n",
              "      <td>2.40</td>\n",
              "      <td>2173</td>\n",
              "      <td>9012</td>\n",
              "      <td>5215.20</td>\n",
              "      <td>9012</td>\n",
              "    </tr>\n",
              "    <tr>\n",
              "      <th>32377</th>\n",
              "      <td>RODA LIVRE 6V ACO MARRON/PRETA SF-SW-02 SHUNFENG</td>\n",
              "      <td>87149320</td>\n",
              "      <td>10.88</td>\n",
              "      <td>2100</td>\n",
              "      <td>8714</td>\n",
              "      <td>22848.00</td>\n",
              "      <td>8714</td>\n",
              "    </tr>\n",
              "    <tr>\n",
              "      <th>162346</th>\n",
              "      <td>RODA LIVRE 20D ACO MARRON SF-FW09 SHUNFENG</td>\n",
              "      <td>87149320</td>\n",
              "      <td>6.08</td>\n",
              "      <td>2061</td>\n",
              "      <td>8714</td>\n",
              "      <td>12530.88</td>\n",
              "      <td>8714</td>\n",
              "    </tr>\n",
              "    <tr>\n",
              "      <th>72698</th>\n",
              "      <td>ARO 26X1.9 AL 36F 26MM NATURAL (IGR)</td>\n",
              "      <td>87149200</td>\n",
              "      <td>11.60</td>\n",
              "      <td>1957</td>\n",
              "      <td>8714</td>\n",
              "      <td>22701.20</td>\n",
              "      <td>8714</td>\n",
              "    </tr>\n",
              "    <tr>\n",
              "      <th>7357</th>\n",
              "      <td>CONJUNTO BOLSA DO AI</td>\n",
              "      <td>87089521</td>\n",
              "      <td>122.92</td>\n",
              "      <td>1937</td>\n",
              "      <td>8708</td>\n",
              "      <td>238096.04</td>\n",
              "      <td>8708</td>\n",
              "    </tr>\n",
              "    <tr>\n",
              "      <th>74476</th>\n",
              "      <td>CABO FREIO TRAS 1.5MM-1800MM 19FIOS</td>\n",
              "      <td>87149490</td>\n",
              "      <td>0.80</td>\n",
              "      <td>1836</td>\n",
              "      <td>8714</td>\n",
              "      <td>1468.80</td>\n",
              "      <td>8714</td>\n",
              "    </tr>\n",
              "    <tr>\n",
              "      <th>96361</th>\n",
              "      <td>ARO P04 ESCAPE 260 26-36F PRETO</td>\n",
              "      <td>87149200</td>\n",
              "      <td>20.00</td>\n",
              "      <td>1777</td>\n",
              "      <td>8714</td>\n",
              "      <td>35540.00</td>\n",
              "      <td>8714</td>\n",
              "    </tr>\n",
              "    <tr>\n",
              "      <th>121159</th>\n",
              "      <td>BRACO ACO PTO. 170MM INDEX 28/38/48 C/CC</td>\n",
              "      <td>87149600</td>\n",
              "      <td>20.00</td>\n",
              "      <td>1744</td>\n",
              "      <td>8714</td>\n",
              "      <td>34880.00</td>\n",
              "      <td>8714</td>\n",
              "    </tr>\n",
              "    <tr>\n",
              "      <th>28709</th>\n",
              "      <td>BAGAGEIRO DOBRAVEL CROMADO</td>\n",
              "      <td>87149990</td>\n",
              "      <td>16.00</td>\n",
              "      <td>1706</td>\n",
              "      <td>8714</td>\n",
              "      <td>27296.00</td>\n",
              "      <td>8714</td>\n",
              "    </tr>\n",
              "  </tbody>\n",
              "</table>\n",
              "</div>"
            ],
            "text/plain": [
              "                                                      PROD_XPROD  PROD_NCM  \\\n",
              "269677                                       INSUFLADOR RECALL -  87089522   \n",
              "38913                      CESTA ARAME COMP 31X23X23 C/CINTO PTO  87149990   \n",
              "312975                                      KIT REVISAO HOP 1000  87141000   \n",
              "34036                                            GARFO DIANT DIR  87141000   \n",
              "7670                                ARO P72 26X1.1-2 36F NATURAL  87149200   \n",
              "100551                          PEDIVELA MONOBLOCO 165MM CROMADO  87149600   \n",
              "9282    401114 - PATIN FREIO DIANTTRAS TITAN KS TRAS ES - COBREQ  87141000   \n",
              "9269                     ALAV.CAMBIO AL.DIR./ESQ. C/CABOS S/COND  87149990   \n",
              "85415                   EIXO TR 3/8X175 PTO C/CX+COLR+ESP C/CUBO  87149990   \n",
              "199665                    CURVA POTI NOVA (BRISA) CROMADO PIMONT  87149100   \n",
              "162506        CESTA ARAME COMP 35X25X26 C/CINTO PTO REF: WGCES00  87149990   \n",
              "416669                                ISPIRAZIONE GENOVA LIVANTO   9012100   \n",
              "32377           RODA LIVRE 6V ACO MARRON/PRETA SF-SW-02 SHUNFENG  87149320   \n",
              "162346                RODA LIVRE 20D ACO MARRON SF-FW09 SHUNFENG  87149320   \n",
              "72698                       ARO 26X1.9 AL 36F 26MM NATURAL (IGR)  87149200   \n",
              "7357                                        CONJUNTO BOLSA DO AI  87089521   \n",
              "74476                        CABO FREIO TRAS 1.5MM-1800MM 19FIOS  87149490   \n",
              "96361                            ARO P04 ESCAPE 260 26-36F PRETO  87149200   \n",
              "121159                  BRACO ACO PTO. 170MM INDEX 28/38/48 C/CC  87149600   \n",
              "28709                                 BAGAGEIRO DOBRAVEL CROMADO  87149990   \n",
              "\n",
              "        PROD_VUNCOM  CONTAGEM NCM_POSICAO  IMPORTANCIA POSICAO_NCM  \n",
              "269677        32.97      3103        8708    102305.91        8708  \n",
              "38913         12.00      2873        8714     34476.00        8714  \n",
              "312975        35.49      2778        8714     98591.22        8714  \n",
              "34036         14.67      2740        8714     40195.80        8714  \n",
              "7670          14.40      2544        8714     36633.60        8714  \n",
              "100551        12.00      2495        8714     29940.00        8714  \n",
              "9282          20.00      2418        8714     48360.00        8714  \n",
              "9269           5.02      2415        8714     12123.30        8714  \n",
              "85415          3.36      2411        8714      8100.96        8714  \n",
              "199665         9.60      2346        8714     22521.60        8714  \n",
              "162506        14.00      2254        8714     31556.00        8714  \n",
              "416669         2.40      2173        9012      5215.20        9012  \n",
              "32377         10.88      2100        8714     22848.00        8714  \n",
              "162346         6.08      2061        8714     12530.88        8714  \n",
              "72698         11.60      1957        8714     22701.20        8714  \n",
              "7357         122.92      1937        8708    238096.04        8708  \n",
              "74476          0.80      1836        8714      1468.80        8714  \n",
              "96361         20.00      1777        8714     35540.00        8714  \n",
              "121159        20.00      1744        8714     34880.00        8714  \n",
              "28709         16.00      1706        8714     27296.00        8714  "
            ]
          },
          "execution_count": 243,
          "metadata": {},
          "output_type": "execute_result"
        }
      ],
      "source": [
        "df[(~MASK_VEICULOS) & (~MASK_PECAS)].sort_values(by='CONTAGEM', ascending=False).head(20)"
      ]
    },
    {
      "cell_type": "code",
      "execution_count": null,
      "id": "8ef03034-eb34-4633-8917-524328e13f10",
      "metadata": {
        "id": "8ef03034-eb34-4633-8917-524328e13f10",
        "outputId": "5e933933-b407-4cad-8344-dd0b783ade24"
      },
      "outputs": [
        {
          "data": {
            "text/plain": [
              "433518"
            ]
          },
          "execution_count": 244,
          "metadata": {},
          "output_type": "execute_result"
        }
      ],
      "source": [
        "len(df[(~MASK_VEICULOS) & (~MASK_PECAS)].sort_values(by='IMPORTANCIA', ascending=False))"
      ]
    },
    {
      "cell_type": "code",
      "execution_count": null,
      "id": "0798ae65-11ab-4e54-96c1-99fc95f09200",
      "metadata": {
        "tags": [],
        "id": "0798ae65-11ab-4e54-96c1-99fc95f09200",
        "outputId": "e31afa3d-25a5-4deb-fd75-3eca08df37be"
      },
      "outputs": [
        {
          "data": {
            "text/html": [
              "<div>\n",
              "<style scoped>\n",
              "    .dataframe tbody tr th:only-of-type {\n",
              "        vertical-align: middle;\n",
              "    }\n",
              "\n",
              "    .dataframe tbody tr th {\n",
              "        vertical-align: top;\n",
              "    }\n",
              "\n",
              "    .dataframe thead th {\n",
              "        text-align: right;\n",
              "    }\n",
              "</style>\n",
              "<table border=\"1\" class=\"dataframe\">\n",
              "  <thead>\n",
              "    <tr style=\"text-align: right;\">\n",
              "      <th></th>\n",
              "      <th>PROD_XPROD</th>\n",
              "      <th>PROD_NCM</th>\n",
              "      <th>PROD_VUNCOM</th>\n",
              "      <th>CONTAGEM</th>\n",
              "      <th>NCM_POSICAO</th>\n",
              "      <th>IMPORTANCIA</th>\n",
              "      <th>POSICAO_NCM</th>\n",
              "    </tr>\n",
              "  </thead>\n",
              "  <tbody>\n",
              "    <tr>\n",
              "      <th>1</th>\n",
              "      <td>PARA LAMA DIANTEIRO DIR 326   05 1025473</td>\n",
              "      <td>87082991</td>\n",
              "      <td>306.600000</td>\n",
              "      <td>1</td>\n",
              "      <td>8708</td>\n",
              "      <td>306.600</td>\n",
              "      <td>8708</td>\n",
              "    </tr>\n",
              "    <tr>\n",
              "      <th>2</th>\n",
              "      <td>KIT RELACAO TRANSM BIZ125 ORI:4</td>\n",
              "      <td>87141000</td>\n",
              "      <td>77.060000</td>\n",
              "      <td>38</td>\n",
              "      <td>8714</td>\n",
              "      <td>2928.280</td>\n",
              "      <td>8714</td>\n",
              "    </tr>\n",
              "    <tr>\n",
              "      <th>3</th>\n",
              "      <td>PIVO LD/LE HB20 12/... - JBJ287 IP</td>\n",
              "      <td>87088000</td>\n",
              "      <td>24.470000</td>\n",
              "      <td>1</td>\n",
              "      <td>8708</td>\n",
              "      <td>24.470</td>\n",
              "      <td>8708</td>\n",
              "    </tr>\n",
              "    <tr>\n",
              "      <th>4</th>\n",
              "      <td>MEDIDORES DISNEY</td>\n",
              "      <td>39241000</td>\n",
              "      <td>8.290000</td>\n",
              "      <td>21</td>\n",
              "      <td>3924</td>\n",
              "      <td>174.090</td>\n",
              "      <td>3924</td>\n",
              "    </tr>\n",
              "    <tr>\n",
              "      <th>6</th>\n",
              "      <td>ALAV. CABO CAPO S/ CABO GOL/VOY/SA/PAR</td>\n",
              "      <td>87082999</td>\n",
              "      <td>2.735000</td>\n",
              "      <td>3</td>\n",
              "      <td>8708</td>\n",
              "      <td>8.205</td>\n",
              "      <td>8708</td>\n",
              "    </tr>\n",
              "    <tr>\n",
              "      <th>7</th>\n",
              "      <td>BRACO DA SUSPENSAO DIANTEIRA DIREITA</td>\n",
              "      <td>87088000</td>\n",
              "      <td>1256.040000</td>\n",
              "      <td>35</td>\n",
              "      <td>8708</td>\n",
              "      <td>43961.400</td>\n",
              "      <td>8708</td>\n",
              "    </tr>\n",
              "    <tr>\n",
              "      <th>8</th>\n",
              "      <td>ARTICULACAO AXIAL ROSCA MACHO</td>\n",
              "      <td>87089990</td>\n",
              "      <td>28.465000</td>\n",
              "      <td>1</td>\n",
              "      <td>8708</td>\n",
              "      <td>28.465</td>\n",
              "      <td>8708</td>\n",
              "    </tr>\n",
              "    <tr>\n",
              "      <th>9</th>\n",
              "      <td>K40073 - KIT ESTABILIZADOR DIREITO E ESQ</td>\n",
              "      <td>84099190</td>\n",
              "      <td>2.203000</td>\n",
              "      <td>1</td>\n",
              "      <td>8409</td>\n",
              "      <td>2.203</td>\n",
              "      <td>8409</td>\n",
              "    </tr>\n",
              "    <tr>\n",
              "      <th>10</th>\n",
              "      <td>PIVO INF. LD/ LE</td>\n",
              "      <td>87088000</td>\n",
              "      <td>16.766667</td>\n",
              "      <td>12</td>\n",
              "      <td>8708</td>\n",
              "      <td>201.200</td>\n",
              "      <td>8708</td>\n",
              "    </tr>\n",
              "    <tr>\n",
              "      <th>13</th>\n",
              "      <td>JG. MOVIMENTO CENTRO 34,7MM SELADO 122MM GTS LE-018</td>\n",
              "      <td>87149990</td>\n",
              "      <td>17.950000</td>\n",
              "      <td>1</td>\n",
              "      <td>8714</td>\n",
              "      <td>17.950</td>\n",
              "      <td>8714</td>\n",
              "    </tr>\n",
              "    <tr>\n",
              "      <th>14</th>\n",
              "      <td>GUIDAO POTI CROMADO C- BUCHA PIMONT H50</td>\n",
              "      <td>87149100</td>\n",
              "      <td>17.970000</td>\n",
              "      <td>1</td>\n",
              "      <td>8714</td>\n",
              "      <td>17.970</td>\n",
              "      <td>8714</td>\n",
              "    </tr>\n",
              "    <tr>\n",
              "      <th>15</th>\n",
              "      <td>KIT JUNTA HOMOCINETICA C/ ABS</td>\n",
              "      <td>87085099</td>\n",
              "      <td>70.220000</td>\n",
              "      <td>7</td>\n",
              "      <td>8708</td>\n",
              "      <td>491.540</td>\n",
              "      <td>8708</td>\n",
              "    </tr>\n",
              "    <tr>\n",
              "      <th>16</th>\n",
              "      <td>KIT JUNTA HOMOCINETICA C/ ABS</td>\n",
              "      <td>87085099</td>\n",
              "      <td>59.830000</td>\n",
              "      <td>3</td>\n",
              "      <td>8708</td>\n",
              "      <td>179.490</td>\n",
              "      <td>8708</td>\n",
              "    </tr>\n",
              "    <tr>\n",
              "      <th>19</th>\n",
              "      <td>BANDEJA SUP. LD COMPLETA</td>\n",
              "      <td>87088000</td>\n",
              "      <td>120.895000</td>\n",
              "      <td>3</td>\n",
              "      <td>8708</td>\n",
              "      <td>362.685</td>\n",
              "      <td>8708</td>\n",
              "    </tr>\n",
              "    <tr>\n",
              "      <th>20</th>\n",
              "      <td>PD/412 _ PD/1788</td>\n",
              "      <td>87083019</td>\n",
              "      <td>63.430000</td>\n",
              "      <td>4</td>\n",
              "      <td>8708</td>\n",
              "      <td>253.720</td>\n",
              "      <td>8708</td>\n",
              "    </tr>\n",
              "    <tr>\n",
              "      <th>21</th>\n",
              "      <td>FECH MEC PORTA DIANT IVECO VERTIS APOS11 D</td>\n",
              "      <td>83012000</td>\n",
              "      <td>95.160000</td>\n",
              "      <td>5</td>\n",
              "      <td>8301</td>\n",
              "      <td>475.800</td>\n",
              "      <td>8301</td>\n",
              "    </tr>\n",
              "    <tr>\n",
              "      <th>23</th>\n",
              "      <td>ESPACADOR DE ALUM 5MM PRETO P/DIR AHEAD--NECO</td>\n",
              "      <td>87149990</td>\n",
              "      <td>1.560000</td>\n",
              "      <td>293</td>\n",
              "      <td>8714</td>\n",
              "      <td>457.080</td>\n",
              "      <td>8714</td>\n",
              "    </tr>\n",
              "    <tr>\n",
              "      <th>24</th>\n",
              "      <td>CURVA POTI NOVA (BRISA) CROMADO PIMONT</td>\n",
              "      <td>87149100</td>\n",
              "      <td>20.000000</td>\n",
              "      <td>1198</td>\n",
              "      <td>8714</td>\n",
              "      <td>23960.000</td>\n",
              "      <td>8714</td>\n",
              "    </tr>\n",
              "    <tr>\n",
              "      <th>25</th>\n",
              "      <td>CANOTE SELIM, ALM, GTI, 27,2X350MM, PTO</td>\n",
              "      <td>87149990</td>\n",
              "      <td>14.720000</td>\n",
              "      <td>228</td>\n",
              "      <td>8714</td>\n",
              "      <td>3356.160</td>\n",
              "      <td>8714</td>\n",
              "    </tr>\n",
              "    <tr>\n",
              "      <th>26</th>\n",
              "      <td>GUIDAO D.H ACO BCO EXPAND 560X60MM/1.2MM TOUGH</td>\n",
              "      <td>87149990</td>\n",
              "      <td>10.000000</td>\n",
              "      <td>390</td>\n",
              "      <td>8714</td>\n",
              "      <td>3900.000</td>\n",
              "      <td>8714</td>\n",
              "    </tr>\n",
              "  </tbody>\n",
              "</table>\n",
              "</div>"
            ],
            "text/plain": [
              "                                             PROD_XPROD  PROD_NCM  \\\n",
              "1              PARA LAMA DIANTEIRO DIR 326   05 1025473  87082991   \n",
              "2                       KIT RELACAO TRANSM BIZ125 ORI:4  87141000   \n",
              "3                    PIVO LD/LE HB20 12/... - JBJ287 IP  87088000   \n",
              "4                                      MEDIDORES DISNEY  39241000   \n",
              "6                ALAV. CABO CAPO S/ CABO GOL/VOY/SA/PAR  87082999   \n",
              "7                  BRACO DA SUSPENSAO DIANTEIRA DIREITA  87088000   \n",
              "8                         ARTICULACAO AXIAL ROSCA MACHO  87089990   \n",
              "9              K40073 - KIT ESTABILIZADOR DIREITO E ESQ  84099190   \n",
              "10                                     PIVO INF. LD/ LE  87088000   \n",
              "13  JG. MOVIMENTO CENTRO 34,7MM SELADO 122MM GTS LE-018  87149990   \n",
              "14              GUIDAO POTI CROMADO C- BUCHA PIMONT H50  87149100   \n",
              "15                        KIT JUNTA HOMOCINETICA C/ ABS  87085099   \n",
              "16                        KIT JUNTA HOMOCINETICA C/ ABS  87085099   \n",
              "19                             BANDEJA SUP. LD COMPLETA  87088000   \n",
              "20                                     PD/412 _ PD/1788  87083019   \n",
              "21           FECH MEC PORTA DIANT IVECO VERTIS APOS11 D  83012000   \n",
              "23        ESPACADOR DE ALUM 5MM PRETO P/DIR AHEAD--NECO  87149990   \n",
              "24               CURVA POTI NOVA (BRISA) CROMADO PIMONT  87149100   \n",
              "25              CANOTE SELIM, ALM, GTI, 27,2X350MM, PTO  87149990   \n",
              "26       GUIDAO D.H ACO BCO EXPAND 560X60MM/1.2MM TOUGH  87149990   \n",
              "\n",
              "    PROD_VUNCOM  CONTAGEM NCM_POSICAO  IMPORTANCIA POSICAO_NCM  \n",
              "1    306.600000         1        8708      306.600        8708  \n",
              "2     77.060000        38        8714     2928.280        8714  \n",
              "3     24.470000         1        8708       24.470        8708  \n",
              "4      8.290000        21        3924      174.090        3924  \n",
              "6      2.735000         3        8708        8.205        8708  \n",
              "7   1256.040000        35        8708    43961.400        8708  \n",
              "8     28.465000         1        8708       28.465        8708  \n",
              "9      2.203000         1        8409        2.203        8409  \n",
              "10    16.766667        12        8708      201.200        8708  \n",
              "13    17.950000         1        8714       17.950        8714  \n",
              "14    17.970000         1        8714       17.970        8714  \n",
              "15    70.220000         7        8708      491.540        8708  \n",
              "16    59.830000         3        8708      179.490        8708  \n",
              "19   120.895000         3        8708      362.685        8708  \n",
              "20    63.430000         4        8708      253.720        8708  \n",
              "21    95.160000         5        8301      475.800        8301  \n",
              "23     1.560000       293        8714      457.080        8714  \n",
              "24    20.000000      1198        8714    23960.000        8714  \n",
              "25    14.720000       228        8714     3356.160        8714  \n",
              "26    10.000000       390        8714     3900.000        8714  "
            ]
          },
          "execution_count": 245,
          "metadata": {},
          "output_type": "execute_result"
        }
      ],
      "source": [
        "df[~(MASK_VEICULOS | MASK_PECAS | MASK_OLEO_MOTOR_SEM_PECAS)].head(20)"
      ]
    },
    {
      "cell_type": "markdown",
      "id": "f35d706f-2ce4-4a28-83cf-76c8c925d431",
      "metadata": {
        "id": "f35d706f-2ce4-4a28-83cf-76c8c925d431"
      },
      "source": [
        "###### Teste de Morgan (~ A) & (~ B) == ~( A | B ) "
      ]
    },
    {
      "cell_type": "code",
      "execution_count": null,
      "id": "1aea8832-d2a1-42a3-a45d-8dcd35d13369",
      "metadata": {
        "id": "1aea8832-d2a1-42a3-a45d-8dcd35d13369",
        "outputId": "4d5f8a07-7d60-4d69-c6bd-c0f462705803"
      },
      "outputs": [
        {
          "data": {
            "text/plain": [
              "True"
            ]
          },
          "execution_count": 246,
          "metadata": {},
          "output_type": "execute_result"
        }
      ],
      "source": [
        "df[(~MASK_VEICULOS) & (~MASK_PECAS) & (~MASK_OLEO_MOTOR_SEM_PECAS)].equals(df[~(MASK_VEICULOS | MASK_PECAS)])"
      ]
    },
    {
      "cell_type": "code",
      "execution_count": null,
      "id": "10f25e80-8a4b-40c0-9bfb-33ff1332b51c",
      "metadata": {
        "id": "10f25e80-8a4b-40c0-9bfb-33ff1332b51c"
      },
      "outputs": [],
      "source": [
        "df_restante = df[ ~( MASK_VEICULOS | MASK_PECAS | MASK_OLEO_MOTOR_SEM_PECAS ) ]"
      ]
    },
    {
      "cell_type": "code",
      "execution_count": null,
      "id": "3db897b0-e8fe-4296-a4dc-1e725f1c9fb2",
      "metadata": {
        "tags": [],
        "id": "3db897b0-e8fe-4296-a4dc-1e725f1c9fb2",
        "outputId": "f496afc9-5868-49dd-b743-ba7c0357b7f8"
      },
      "outputs": [
        {
          "data": {
            "text/plain": [
              "433518"
            ]
          },
          "execution_count": 248,
          "metadata": {},
          "output_type": "execute_result"
        }
      ],
      "source": [
        "len(df_restante)"
      ]
    },
    {
      "cell_type": "code",
      "execution_count": null,
      "id": "9e2e8923-72fa-4666-9a53-db3b675ee40c",
      "metadata": {
        "tags": [],
        "id": "9e2e8923-72fa-4666-9a53-db3b675ee40c",
        "outputId": "67b610ed-a78d-4fb1-a894-32d8e2119bf4"
      },
      "outputs": [
        {
          "data": {
            "text/html": [
              "<div>\n",
              "<style scoped>\n",
              "    .dataframe tbody tr th:only-of-type {\n",
              "        vertical-align: middle;\n",
              "    }\n",
              "\n",
              "    .dataframe tbody tr th {\n",
              "        vertical-align: top;\n",
              "    }\n",
              "\n",
              "    .dataframe thead th {\n",
              "        text-align: right;\n",
              "    }\n",
              "</style>\n",
              "<table border=\"1\" class=\"dataframe\">\n",
              "  <thead>\n",
              "    <tr style=\"text-align: right;\">\n",
              "      <th></th>\n",
              "      <th>PROD_XPROD</th>\n",
              "      <th>PROD_NCM</th>\n",
              "      <th>PROD_VUNCOM</th>\n",
              "      <th>CONTAGEM</th>\n",
              "      <th>NCM_POSICAO</th>\n",
              "      <th>IMPORTANCIA</th>\n",
              "      <th>POSICAO_NCM</th>\n",
              "    </tr>\n",
              "  </thead>\n",
              "  <tbody>\n",
              "    <tr>\n",
              "      <th>1</th>\n",
              "      <td>PARA LAMA DIANTEIRO DIR 326   05 1025473</td>\n",
              "      <td>87082991</td>\n",
              "      <td>306.600000</td>\n",
              "      <td>1</td>\n",
              "      <td>8708</td>\n",
              "      <td>306.600</td>\n",
              "      <td>8708</td>\n",
              "    </tr>\n",
              "    <tr>\n",
              "      <th>2</th>\n",
              "      <td>KIT RELACAO TRANSM BIZ125 ORI:4</td>\n",
              "      <td>87141000</td>\n",
              "      <td>77.060000</td>\n",
              "      <td>38</td>\n",
              "      <td>8714</td>\n",
              "      <td>2928.280</td>\n",
              "      <td>8714</td>\n",
              "    </tr>\n",
              "    <tr>\n",
              "      <th>3</th>\n",
              "      <td>PIVO LD/LE HB20 12/... - JBJ287 IP</td>\n",
              "      <td>87088000</td>\n",
              "      <td>24.470000</td>\n",
              "      <td>1</td>\n",
              "      <td>8708</td>\n",
              "      <td>24.470</td>\n",
              "      <td>8708</td>\n",
              "    </tr>\n",
              "    <tr>\n",
              "      <th>4</th>\n",
              "      <td>MEDIDORES DISNEY</td>\n",
              "      <td>39241000</td>\n",
              "      <td>8.290000</td>\n",
              "      <td>21</td>\n",
              "      <td>3924</td>\n",
              "      <td>174.090</td>\n",
              "      <td>3924</td>\n",
              "    </tr>\n",
              "    <tr>\n",
              "      <th>6</th>\n",
              "      <td>ALAV. CABO CAPO S/ CABO GOL/VOY/SA/PAR</td>\n",
              "      <td>87082999</td>\n",
              "      <td>2.735000</td>\n",
              "      <td>3</td>\n",
              "      <td>8708</td>\n",
              "      <td>8.205</td>\n",
              "      <td>8708</td>\n",
              "    </tr>\n",
              "    <tr>\n",
              "      <th>7</th>\n",
              "      <td>BRACO DA SUSPENSAO DIANTEIRA DIREITA</td>\n",
              "      <td>87088000</td>\n",
              "      <td>1256.040000</td>\n",
              "      <td>35</td>\n",
              "      <td>8708</td>\n",
              "      <td>43961.400</td>\n",
              "      <td>8708</td>\n",
              "    </tr>\n",
              "    <tr>\n",
              "      <th>8</th>\n",
              "      <td>ARTICULACAO AXIAL ROSCA MACHO</td>\n",
              "      <td>87089990</td>\n",
              "      <td>28.465000</td>\n",
              "      <td>1</td>\n",
              "      <td>8708</td>\n",
              "      <td>28.465</td>\n",
              "      <td>8708</td>\n",
              "    </tr>\n",
              "    <tr>\n",
              "      <th>9</th>\n",
              "      <td>K40073 - KIT ESTABILIZADOR DIREITO E ESQ</td>\n",
              "      <td>84099190</td>\n",
              "      <td>2.203000</td>\n",
              "      <td>1</td>\n",
              "      <td>8409</td>\n",
              "      <td>2.203</td>\n",
              "      <td>8409</td>\n",
              "    </tr>\n",
              "    <tr>\n",
              "      <th>10</th>\n",
              "      <td>PIVO INF. LD/ LE</td>\n",
              "      <td>87088000</td>\n",
              "      <td>16.766667</td>\n",
              "      <td>12</td>\n",
              "      <td>8708</td>\n",
              "      <td>201.200</td>\n",
              "      <td>8708</td>\n",
              "    </tr>\n",
              "    <tr>\n",
              "      <th>13</th>\n",
              "      <td>JG. MOVIMENTO CENTRO 34,7MM SELADO 122MM GTS LE-018</td>\n",
              "      <td>87149990</td>\n",
              "      <td>17.950000</td>\n",
              "      <td>1</td>\n",
              "      <td>8714</td>\n",
              "      <td>17.950</td>\n",
              "      <td>8714</td>\n",
              "    </tr>\n",
              "    <tr>\n",
              "      <th>14</th>\n",
              "      <td>GUIDAO POTI CROMADO C- BUCHA PIMONT H50</td>\n",
              "      <td>87149100</td>\n",
              "      <td>17.970000</td>\n",
              "      <td>1</td>\n",
              "      <td>8714</td>\n",
              "      <td>17.970</td>\n",
              "      <td>8714</td>\n",
              "    </tr>\n",
              "    <tr>\n",
              "      <th>15</th>\n",
              "      <td>KIT JUNTA HOMOCINETICA C/ ABS</td>\n",
              "      <td>87085099</td>\n",
              "      <td>70.220000</td>\n",
              "      <td>7</td>\n",
              "      <td>8708</td>\n",
              "      <td>491.540</td>\n",
              "      <td>8708</td>\n",
              "    </tr>\n",
              "    <tr>\n",
              "      <th>16</th>\n",
              "      <td>KIT JUNTA HOMOCINETICA C/ ABS</td>\n",
              "      <td>87085099</td>\n",
              "      <td>59.830000</td>\n",
              "      <td>3</td>\n",
              "      <td>8708</td>\n",
              "      <td>179.490</td>\n",
              "      <td>8708</td>\n",
              "    </tr>\n",
              "    <tr>\n",
              "      <th>19</th>\n",
              "      <td>BANDEJA SUP. LD COMPLETA</td>\n",
              "      <td>87088000</td>\n",
              "      <td>120.895000</td>\n",
              "      <td>3</td>\n",
              "      <td>8708</td>\n",
              "      <td>362.685</td>\n",
              "      <td>8708</td>\n",
              "    </tr>\n",
              "    <tr>\n",
              "      <th>20</th>\n",
              "      <td>PD/412 _ PD/1788</td>\n",
              "      <td>87083019</td>\n",
              "      <td>63.430000</td>\n",
              "      <td>4</td>\n",
              "      <td>8708</td>\n",
              "      <td>253.720</td>\n",
              "      <td>8708</td>\n",
              "    </tr>\n",
              "    <tr>\n",
              "      <th>21</th>\n",
              "      <td>FECH MEC PORTA DIANT IVECO VERTIS APOS11 D</td>\n",
              "      <td>83012000</td>\n",
              "      <td>95.160000</td>\n",
              "      <td>5</td>\n",
              "      <td>8301</td>\n",
              "      <td>475.800</td>\n",
              "      <td>8301</td>\n",
              "    </tr>\n",
              "    <tr>\n",
              "      <th>23</th>\n",
              "      <td>ESPACADOR DE ALUM 5MM PRETO P/DIR AHEAD--NECO</td>\n",
              "      <td>87149990</td>\n",
              "      <td>1.560000</td>\n",
              "      <td>293</td>\n",
              "      <td>8714</td>\n",
              "      <td>457.080</td>\n",
              "      <td>8714</td>\n",
              "    </tr>\n",
              "    <tr>\n",
              "      <th>24</th>\n",
              "      <td>CURVA POTI NOVA (BRISA) CROMADO PIMONT</td>\n",
              "      <td>87149100</td>\n",
              "      <td>20.000000</td>\n",
              "      <td>1198</td>\n",
              "      <td>8714</td>\n",
              "      <td>23960.000</td>\n",
              "      <td>8714</td>\n",
              "    </tr>\n",
              "    <tr>\n",
              "      <th>25</th>\n",
              "      <td>CANOTE SELIM, ALM, GTI, 27,2X350MM, PTO</td>\n",
              "      <td>87149990</td>\n",
              "      <td>14.720000</td>\n",
              "      <td>228</td>\n",
              "      <td>8714</td>\n",
              "      <td>3356.160</td>\n",
              "      <td>8714</td>\n",
              "    </tr>\n",
              "    <tr>\n",
              "      <th>26</th>\n",
              "      <td>GUIDAO D.H ACO BCO EXPAND 560X60MM/1.2MM TOUGH</td>\n",
              "      <td>87149990</td>\n",
              "      <td>10.000000</td>\n",
              "      <td>390</td>\n",
              "      <td>8714</td>\n",
              "      <td>3900.000</td>\n",
              "      <td>8714</td>\n",
              "    </tr>\n",
              "  </tbody>\n",
              "</table>\n",
              "</div>"
            ],
            "text/plain": [
              "                                             PROD_XPROD  PROD_NCM  \\\n",
              "1              PARA LAMA DIANTEIRO DIR 326   05 1025473  87082991   \n",
              "2                       KIT RELACAO TRANSM BIZ125 ORI:4  87141000   \n",
              "3                    PIVO LD/LE HB20 12/... - JBJ287 IP  87088000   \n",
              "4                                      MEDIDORES DISNEY  39241000   \n",
              "6                ALAV. CABO CAPO S/ CABO GOL/VOY/SA/PAR  87082999   \n",
              "7                  BRACO DA SUSPENSAO DIANTEIRA DIREITA  87088000   \n",
              "8                         ARTICULACAO AXIAL ROSCA MACHO  87089990   \n",
              "9              K40073 - KIT ESTABILIZADOR DIREITO E ESQ  84099190   \n",
              "10                                     PIVO INF. LD/ LE  87088000   \n",
              "13  JG. MOVIMENTO CENTRO 34,7MM SELADO 122MM GTS LE-018  87149990   \n",
              "14              GUIDAO POTI CROMADO C- BUCHA PIMONT H50  87149100   \n",
              "15                        KIT JUNTA HOMOCINETICA C/ ABS  87085099   \n",
              "16                        KIT JUNTA HOMOCINETICA C/ ABS  87085099   \n",
              "19                             BANDEJA SUP. LD COMPLETA  87088000   \n",
              "20                                     PD/412 _ PD/1788  87083019   \n",
              "21           FECH MEC PORTA DIANT IVECO VERTIS APOS11 D  83012000   \n",
              "23        ESPACADOR DE ALUM 5MM PRETO P/DIR AHEAD--NECO  87149990   \n",
              "24               CURVA POTI NOVA (BRISA) CROMADO PIMONT  87149100   \n",
              "25              CANOTE SELIM, ALM, GTI, 27,2X350MM, PTO  87149990   \n",
              "26       GUIDAO D.H ACO BCO EXPAND 560X60MM/1.2MM TOUGH  87149990   \n",
              "\n",
              "    PROD_VUNCOM  CONTAGEM NCM_POSICAO  IMPORTANCIA POSICAO_NCM  \n",
              "1    306.600000         1        8708      306.600        8708  \n",
              "2     77.060000        38        8714     2928.280        8714  \n",
              "3     24.470000         1        8708       24.470        8708  \n",
              "4      8.290000        21        3924      174.090        3924  \n",
              "6      2.735000         3        8708        8.205        8708  \n",
              "7   1256.040000        35        8708    43961.400        8708  \n",
              "8     28.465000         1        8708       28.465        8708  \n",
              "9      2.203000         1        8409        2.203        8409  \n",
              "10    16.766667        12        8708      201.200        8708  \n",
              "13    17.950000         1        8714       17.950        8714  \n",
              "14    17.970000         1        8714       17.970        8714  \n",
              "15    70.220000         7        8708      491.540        8708  \n",
              "16    59.830000         3        8708      179.490        8708  \n",
              "19   120.895000         3        8708      362.685        8708  \n",
              "20    63.430000         4        8708      253.720        8708  \n",
              "21    95.160000         5        8301      475.800        8301  \n",
              "23     1.560000       293        8714      457.080        8714  \n",
              "24    20.000000      1198        8714    23960.000        8714  \n",
              "25    14.720000       228        8714     3356.160        8714  \n",
              "26    10.000000       390        8714     3900.000        8714  "
            ]
          },
          "execution_count": 249,
          "metadata": {},
          "output_type": "execute_result"
        }
      ],
      "source": [
        "df_restante.head(20)"
      ]
    },
    {
      "cell_type": "code",
      "execution_count": null,
      "id": "d7b0f1d0-b34c-486c-8326-ecafd310d0ea",
      "metadata": {
        "id": "d7b0f1d0-b34c-486c-8326-ecafd310d0ea"
      },
      "outputs": [],
      "source": [
        "df_labeled = pd.read_csv('labeled_cap87.csv', index_col=[0])"
      ]
    },
    {
      "cell_type": "markdown",
      "id": "94f04e4f-85de-4c12-971b-64f7452272f3",
      "metadata": {
        "id": "94f04e4f-85de-4c12-971b-64f7452272f3"
      },
      "source": [
        "###### Verificando rotulagens"
      ]
    },
    {
      "cell_type": "code",
      "execution_count": null,
      "id": "6f3c0bfa-f52a-49c6-9b9a-727d8c533117",
      "metadata": {
        "id": "6f3c0bfa-f52a-49c6-9b9a-727d8c533117",
        "outputId": "19230013-6709-46d8-ee43-b14a774a1d4d"
      },
      "outputs": [
        {
          "data": {
            "text/plain": [
              "497276"
            ]
          },
          "execution_count": 251,
          "metadata": {},
          "output_type": "execute_result"
        }
      ],
      "source": [
        "len(df_restante)+len(df_labeled)"
      ]
    },
    {
      "cell_type": "code",
      "execution_count": null,
      "id": "ac67e1bf-7172-4a4b-a6d3-d575d89d8802",
      "metadata": {
        "id": "ac67e1bf-7172-4a4b-a6d3-d575d89d8802",
        "outputId": "9cf825c7-8683-49c0-9039-dc5b467878f7"
      },
      "outputs": [
        {
          "data": {
            "text/plain": [
              "12.7516"
            ]
          },
          "execution_count": 252,
          "metadata": {},
          "output_type": "execute_result"
        }
      ],
      "source": [
        "len(df_labeled)/len(df)*100"
      ]
    },
    {
      "cell_type": "markdown",
      "id": "39af9c88-99a4-4975-bbaa-0da95adf44be",
      "metadata": {
        "id": "39af9c88-99a4-4975-bbaa-0da95adf44be"
      },
      "source": [
        "###### Tratando tabela restante"
      ]
    },
    {
      "cell_type": "code",
      "execution_count": null,
      "id": "882ba099-12cb-4a23-8f94-5a79c56b7ee2",
      "metadata": {
        "tags": [],
        "id": "882ba099-12cb-4a23-8f94-5a79c56b7ee2",
        "outputId": "c6a9f814-8c7a-41ec-a623-82bddabe0849"
      },
      "outputs": [
        {
          "data": {
            "text/html": [
              "<div>\n",
              "<style scoped>\n",
              "    .dataframe tbody tr th:only-of-type {\n",
              "        vertical-align: middle;\n",
              "    }\n",
              "\n",
              "    .dataframe tbody tr th {\n",
              "        vertical-align: top;\n",
              "    }\n",
              "\n",
              "    .dataframe thead th {\n",
              "        text-align: right;\n",
              "    }\n",
              "</style>\n",
              "<table border=\"1\" class=\"dataframe\">\n",
              "  <thead>\n",
              "    <tr style=\"text-align: right;\">\n",
              "      <th></th>\n",
              "      <th>PROD_XPROD</th>\n",
              "      <th>PROD_NCM</th>\n",
              "      <th>PROD_VUNCOM</th>\n",
              "      <th>CONTAGEM</th>\n",
              "      <th>NCM_POSICAO</th>\n",
              "      <th>IMPORTANCIA</th>\n",
              "      <th>POSICAO_NCM</th>\n",
              "    </tr>\n",
              "  </thead>\n",
              "  <tbody>\n",
              "    <tr>\n",
              "      <th>269677</th>\n",
              "      <td>INSUFLADOR RECALL -</td>\n",
              "      <td>87089522</td>\n",
              "      <td>32.97</td>\n",
              "      <td>3103</td>\n",
              "      <td>8708</td>\n",
              "      <td>102305.91</td>\n",
              "      <td>8708</td>\n",
              "    </tr>\n",
              "    <tr>\n",
              "      <th>38913</th>\n",
              "      <td>CESTA ARAME COMP 31X23X23 C/CINTO PTO</td>\n",
              "      <td>87149990</td>\n",
              "      <td>12.00</td>\n",
              "      <td>2873</td>\n",
              "      <td>8714</td>\n",
              "      <td>34476.00</td>\n",
              "      <td>8714</td>\n",
              "    </tr>\n",
              "    <tr>\n",
              "      <th>312975</th>\n",
              "      <td>KIT REVISAO HOP 1000</td>\n",
              "      <td>87141000</td>\n",
              "      <td>35.49</td>\n",
              "      <td>2778</td>\n",
              "      <td>8714</td>\n",
              "      <td>98591.22</td>\n",
              "      <td>8714</td>\n",
              "    </tr>\n",
              "    <tr>\n",
              "      <th>34036</th>\n",
              "      <td>GARFO DIANT DIR</td>\n",
              "      <td>87141000</td>\n",
              "      <td>14.67</td>\n",
              "      <td>2740</td>\n",
              "      <td>8714</td>\n",
              "      <td>40195.80</td>\n",
              "      <td>8714</td>\n",
              "    </tr>\n",
              "    <tr>\n",
              "      <th>7670</th>\n",
              "      <td>ARO P72 26X1.1-2 36F NATURAL</td>\n",
              "      <td>87149200</td>\n",
              "      <td>14.40</td>\n",
              "      <td>2544</td>\n",
              "      <td>8714</td>\n",
              "      <td>36633.60</td>\n",
              "      <td>8714</td>\n",
              "    </tr>\n",
              "    <tr>\n",
              "      <th>100551</th>\n",
              "      <td>PEDIVELA MONOBLOCO 165MM CROMADO</td>\n",
              "      <td>87149600</td>\n",
              "      <td>12.00</td>\n",
              "      <td>2495</td>\n",
              "      <td>8714</td>\n",
              "      <td>29940.00</td>\n",
              "      <td>8714</td>\n",
              "    </tr>\n",
              "    <tr>\n",
              "      <th>9282</th>\n",
              "      <td>401114 - PATIN FREIO DIANTTRAS TITAN KS TRAS ES - COBREQ</td>\n",
              "      <td>87141000</td>\n",
              "      <td>20.00</td>\n",
              "      <td>2418</td>\n",
              "      <td>8714</td>\n",
              "      <td>48360.00</td>\n",
              "      <td>8714</td>\n",
              "    </tr>\n",
              "    <tr>\n",
              "      <th>9269</th>\n",
              "      <td>ALAV.CAMBIO AL.DIR./ESQ. C/CABOS S/COND</td>\n",
              "      <td>87149990</td>\n",
              "      <td>5.02</td>\n",
              "      <td>2415</td>\n",
              "      <td>8714</td>\n",
              "      <td>12123.30</td>\n",
              "      <td>8714</td>\n",
              "    </tr>\n",
              "    <tr>\n",
              "      <th>85415</th>\n",
              "      <td>EIXO TR 3/8X175 PTO C/CX+COLR+ESP C/CUBO</td>\n",
              "      <td>87149990</td>\n",
              "      <td>3.36</td>\n",
              "      <td>2411</td>\n",
              "      <td>8714</td>\n",
              "      <td>8100.96</td>\n",
              "      <td>8714</td>\n",
              "    </tr>\n",
              "    <tr>\n",
              "      <th>199665</th>\n",
              "      <td>CURVA POTI NOVA (BRISA) CROMADO PIMONT</td>\n",
              "      <td>87149100</td>\n",
              "      <td>9.60</td>\n",
              "      <td>2346</td>\n",
              "      <td>8714</td>\n",
              "      <td>22521.60</td>\n",
              "      <td>8714</td>\n",
              "    </tr>\n",
              "    <tr>\n",
              "      <th>162506</th>\n",
              "      <td>CESTA ARAME COMP 35X25X26 C/CINTO PTO REF: WGCES00</td>\n",
              "      <td>87149990</td>\n",
              "      <td>14.00</td>\n",
              "      <td>2254</td>\n",
              "      <td>8714</td>\n",
              "      <td>31556.00</td>\n",
              "      <td>8714</td>\n",
              "    </tr>\n",
              "    <tr>\n",
              "      <th>416669</th>\n",
              "      <td>ISPIRAZIONE GENOVA LIVANTO</td>\n",
              "      <td>9012100</td>\n",
              "      <td>2.40</td>\n",
              "      <td>2173</td>\n",
              "      <td>9012</td>\n",
              "      <td>5215.20</td>\n",
              "      <td>9012</td>\n",
              "    </tr>\n",
              "    <tr>\n",
              "      <th>32377</th>\n",
              "      <td>RODA LIVRE 6V ACO MARRON/PRETA SF-SW-02 SHUNFENG</td>\n",
              "      <td>87149320</td>\n",
              "      <td>10.88</td>\n",
              "      <td>2100</td>\n",
              "      <td>8714</td>\n",
              "      <td>22848.00</td>\n",
              "      <td>8714</td>\n",
              "    </tr>\n",
              "    <tr>\n",
              "      <th>162346</th>\n",
              "      <td>RODA LIVRE 20D ACO MARRON SF-FW09 SHUNFENG</td>\n",
              "      <td>87149320</td>\n",
              "      <td>6.08</td>\n",
              "      <td>2061</td>\n",
              "      <td>8714</td>\n",
              "      <td>12530.88</td>\n",
              "      <td>8714</td>\n",
              "    </tr>\n",
              "    <tr>\n",
              "      <th>72698</th>\n",
              "      <td>ARO 26X1.9 AL 36F 26MM NATURAL (IGR)</td>\n",
              "      <td>87149200</td>\n",
              "      <td>11.60</td>\n",
              "      <td>1957</td>\n",
              "      <td>8714</td>\n",
              "      <td>22701.20</td>\n",
              "      <td>8714</td>\n",
              "    </tr>\n",
              "    <tr>\n",
              "      <th>7357</th>\n",
              "      <td>CONJUNTO BOLSA DO AI</td>\n",
              "      <td>87089521</td>\n",
              "      <td>122.92</td>\n",
              "      <td>1937</td>\n",
              "      <td>8708</td>\n",
              "      <td>238096.04</td>\n",
              "      <td>8708</td>\n",
              "    </tr>\n",
              "    <tr>\n",
              "      <th>74476</th>\n",
              "      <td>CABO FREIO TRAS 1.5MM-1800MM 19FIOS</td>\n",
              "      <td>87149490</td>\n",
              "      <td>0.80</td>\n",
              "      <td>1836</td>\n",
              "      <td>8714</td>\n",
              "      <td>1468.80</td>\n",
              "      <td>8714</td>\n",
              "    </tr>\n",
              "    <tr>\n",
              "      <th>96361</th>\n",
              "      <td>ARO P04 ESCAPE 260 26-36F PRETO</td>\n",
              "      <td>87149200</td>\n",
              "      <td>20.00</td>\n",
              "      <td>1777</td>\n",
              "      <td>8714</td>\n",
              "      <td>35540.00</td>\n",
              "      <td>8714</td>\n",
              "    </tr>\n",
              "    <tr>\n",
              "      <th>121159</th>\n",
              "      <td>BRACO ACO PTO. 170MM INDEX 28/38/48 C/CC</td>\n",
              "      <td>87149600</td>\n",
              "      <td>20.00</td>\n",
              "      <td>1744</td>\n",
              "      <td>8714</td>\n",
              "      <td>34880.00</td>\n",
              "      <td>8714</td>\n",
              "    </tr>\n",
              "    <tr>\n",
              "      <th>28709</th>\n",
              "      <td>BAGAGEIRO DOBRAVEL CROMADO</td>\n",
              "      <td>87149990</td>\n",
              "      <td>16.00</td>\n",
              "      <td>1706</td>\n",
              "      <td>8714</td>\n",
              "      <td>27296.00</td>\n",
              "      <td>8714</td>\n",
              "    </tr>\n",
              "  </tbody>\n",
              "</table>\n",
              "</div>"
            ],
            "text/plain": [
              "                                                      PROD_XPROD  PROD_NCM  \\\n",
              "269677                                       INSUFLADOR RECALL -  87089522   \n",
              "38913                      CESTA ARAME COMP 31X23X23 C/CINTO PTO  87149990   \n",
              "312975                                      KIT REVISAO HOP 1000  87141000   \n",
              "34036                                            GARFO DIANT DIR  87141000   \n",
              "7670                                ARO P72 26X1.1-2 36F NATURAL  87149200   \n",
              "100551                          PEDIVELA MONOBLOCO 165MM CROMADO  87149600   \n",
              "9282    401114 - PATIN FREIO DIANTTRAS TITAN KS TRAS ES - COBREQ  87141000   \n",
              "9269                     ALAV.CAMBIO AL.DIR./ESQ. C/CABOS S/COND  87149990   \n",
              "85415                   EIXO TR 3/8X175 PTO C/CX+COLR+ESP C/CUBO  87149990   \n",
              "199665                    CURVA POTI NOVA (BRISA) CROMADO PIMONT  87149100   \n",
              "162506        CESTA ARAME COMP 35X25X26 C/CINTO PTO REF: WGCES00  87149990   \n",
              "416669                                ISPIRAZIONE GENOVA LIVANTO   9012100   \n",
              "32377           RODA LIVRE 6V ACO MARRON/PRETA SF-SW-02 SHUNFENG  87149320   \n",
              "162346                RODA LIVRE 20D ACO MARRON SF-FW09 SHUNFENG  87149320   \n",
              "72698                       ARO 26X1.9 AL 36F 26MM NATURAL (IGR)  87149200   \n",
              "7357                                        CONJUNTO BOLSA DO AI  87089521   \n",
              "74476                        CABO FREIO TRAS 1.5MM-1800MM 19FIOS  87149490   \n",
              "96361                            ARO P04 ESCAPE 260 26-36F PRETO  87149200   \n",
              "121159                  BRACO ACO PTO. 170MM INDEX 28/38/48 C/CC  87149600   \n",
              "28709                                 BAGAGEIRO DOBRAVEL CROMADO  87149990   \n",
              "\n",
              "        PROD_VUNCOM  CONTAGEM NCM_POSICAO  IMPORTANCIA POSICAO_NCM  \n",
              "269677        32.97      3103        8708    102305.91        8708  \n",
              "38913         12.00      2873        8714     34476.00        8714  \n",
              "312975        35.49      2778        8714     98591.22        8714  \n",
              "34036         14.67      2740        8714     40195.80        8714  \n",
              "7670          14.40      2544        8714     36633.60        8714  \n",
              "100551        12.00      2495        8714     29940.00        8714  \n",
              "9282          20.00      2418        8714     48360.00        8714  \n",
              "9269           5.02      2415        8714     12123.30        8714  \n",
              "85415          3.36      2411        8714      8100.96        8714  \n",
              "199665         9.60      2346        8714     22521.60        8714  \n",
              "162506        14.00      2254        8714     31556.00        8714  \n",
              "416669         2.40      2173        9012      5215.20        9012  \n",
              "32377         10.88      2100        8714     22848.00        8714  \n",
              "162346         6.08      2061        8714     12530.88        8714  \n",
              "72698         11.60      1957        8714     22701.20        8714  \n",
              "7357         122.92      1937        8708    238096.04        8708  \n",
              "74476          0.80      1836        8714      1468.80        8714  \n",
              "96361         20.00      1777        8714     35540.00        8714  \n",
              "121159        20.00      1744        8714     34880.00        8714  \n",
              "28709         16.00      1706        8714     27296.00        8714  "
            ]
          },
          "execution_count": 253,
          "metadata": {},
          "output_type": "execute_result"
        }
      ],
      "source": [
        "df_restante.sort_values(by='CONTAGEM', ascending=False).head(20)"
      ]
    },
    {
      "cell_type": "code",
      "execution_count": null,
      "id": "d902ecae-07a6-4d5d-a98f-7cb1dcff2ed0",
      "metadata": {
        "id": "d902ecae-07a6-4d5d-a98f-7cb1dcff2ed0"
      },
      "outputs": [],
      "source": [
        "veiculos_rest = r'VEICULO UTILITARIO | (VW\\/)(GOL|FOX|POLO|VIRTUS) | VW/T CROSS | ONIBUS URBANO'"
      ]
    },
    {
      "cell_type": "markdown",
      "id": "11752118-7a7e-453e-9856-c5114c101226",
      "metadata": {
        "id": "11752118-7a7e-453e-9856-c5114c101226"
      },
      "source": [
        "##### Problema das abreviaçoes"
      ]
    },
    {
      "cell_type": "code",
      "execution_count": null,
      "id": "db0d291d-33a5-48be-a105-6bde122680d0",
      "metadata": {
        "tags": [],
        "id": "db0d291d-33a5-48be-a105-6bde122680d0",
        "outputId": "c46e1c57-780f-4420-d61f-83b0fd0e5227"
      },
      "outputs": [
        {
          "data": {
            "text/html": [
              "<div>\n",
              "<style scoped>\n",
              "    .dataframe tbody tr th:only-of-type {\n",
              "        vertical-align: middle;\n",
              "    }\n",
              "\n",
              "    .dataframe tbody tr th {\n",
              "        vertical-align: top;\n",
              "    }\n",
              "\n",
              "    .dataframe thead th {\n",
              "        text-align: right;\n",
              "    }\n",
              "</style>\n",
              "<table border=\"1\" class=\"dataframe\">\n",
              "  <thead>\n",
              "    <tr style=\"text-align: right;\">\n",
              "      <th></th>\n",
              "      <th>PROD_XPROD</th>\n",
              "      <th>PROD_NCM</th>\n",
              "      <th>PROD_VUNCOM</th>\n",
              "      <th>CONTAGEM</th>\n",
              "      <th>NCM_POSICAO</th>\n",
              "      <th>IMPORTANCIA</th>\n",
              "      <th>POSICAO_NCM</th>\n",
              "    </tr>\n",
              "  </thead>\n",
              "  <tbody>\n",
              "    <tr>\n",
              "      <th>195198</th>\n",
              "      <td>VW/276CPA _ LA/720</td>\n",
              "      <td>87083090</td>\n",
              "      <td>45.35</td>\n",
              "      <td>285</td>\n",
              "      <td>8708</td>\n",
              "      <td>12924.75</td>\n",
              "      <td>8708</td>\n",
              "    </tr>\n",
              "    <tr>\n",
              "      <th>16667</th>\n",
              "      <td>VW/282CPA _ LA/720</td>\n",
              "      <td>87083090</td>\n",
              "      <td>107.74</td>\n",
              "      <td>282</td>\n",
              "      <td>8708</td>\n",
              "      <td>30382.68</td>\n",
              "      <td>8708</td>\n",
              "    </tr>\n",
              "    <tr>\n",
              "      <th>31499</th>\n",
              "      <td>VW/NOVA SAVEIRO RB MBVD</td>\n",
              "      <td>87043190</td>\n",
              "      <td>54109.77</td>\n",
              "      <td>235</td>\n",
              "      <td>8704</td>\n",
              "      <td>12715795.95</td>\n",
              "      <td>8704</td>\n",
              "    </tr>\n",
              "    <tr>\n",
              "      <th>285972</th>\n",
              "      <td>VW/NOVA SAVEIRO RB MBVS</td>\n",
              "      <td>87043190</td>\n",
              "      <td>44684.63</td>\n",
              "      <td>202</td>\n",
              "      <td>8704</td>\n",
              "      <td>9026295.26</td>\n",
              "      <td>8704</td>\n",
              "    </tr>\n",
              "    <tr>\n",
              "      <th>409311</th>\n",
              "      <td>VW/280CPA _ LM/835</td>\n",
              "      <td>87083090</td>\n",
              "      <td>89.46</td>\n",
              "      <td>158</td>\n",
              "      <td>8708</td>\n",
              "      <td>14134.68</td>\n",
              "      <td>8708</td>\n",
              "    </tr>\n",
              "    <tr>\n",
              "      <th>86764</th>\n",
              "      <td>VW/VOYAGE 1.6L MB5</td>\n",
              "      <td>87032310</td>\n",
              "      <td>45029.15</td>\n",
              "      <td>152</td>\n",
              "      <td>8703</td>\n",
              "      <td>6844430.80</td>\n",
              "      <td>8703</td>\n",
              "    </tr>\n",
              "    <tr>\n",
              "      <th>61608</th>\n",
              "      <td>VW/VOYAGE 1.6L AF5</td>\n",
              "      <td>87032310</td>\n",
              "      <td>45560.79</td>\n",
              "      <td>148</td>\n",
              "      <td>8703</td>\n",
              "      <td>6742996.92</td>\n",
              "      <td>8703</td>\n",
              "    </tr>\n",
              "    <tr>\n",
              "      <th>498675</th>\n",
              "      <td>VW/281CPA _ LM/835</td>\n",
              "      <td>87083090</td>\n",
              "      <td>62.76</td>\n",
              "      <td>146</td>\n",
              "      <td>8708</td>\n",
              "      <td>9162.96</td>\n",
              "      <td>8708</td>\n",
              "    </tr>\n",
              "    <tr>\n",
              "      <th>284417</th>\n",
              "      <td>VW/VOYAGE 1.6L MB5</td>\n",
              "      <td>87032310</td>\n",
              "      <td>43153.25</td>\n",
              "      <td>142</td>\n",
              "      <td>8703</td>\n",
              "      <td>6127761.50</td>\n",
              "      <td>8703</td>\n",
              "    </tr>\n",
              "    <tr>\n",
              "      <th>302225</th>\n",
              "      <td>VW/NOVA SAVEIRO RB MBVS</td>\n",
              "      <td>87043190</td>\n",
              "      <td>41689.52</td>\n",
              "      <td>140</td>\n",
              "      <td>8704</td>\n",
              "      <td>5836532.80</td>\n",
              "      <td>8704</td>\n",
              "    </tr>\n",
              "    <tr>\n",
              "      <th>157341</th>\n",
              "      <td>VW/NOVA SAVEIRO RB MBVD</td>\n",
              "      <td>87043190</td>\n",
              "      <td>51346.90</td>\n",
              "      <td>107</td>\n",
              "      <td>8704</td>\n",
              "      <td>5494118.30</td>\n",
              "      <td>8704</td>\n",
              "    </tr>\n",
              "    <tr>\n",
              "      <th>305780</th>\n",
              "      <td>VW/262 _ LA/720</td>\n",
              "      <td>68138190</td>\n",
              "      <td>8.66</td>\n",
              "      <td>102</td>\n",
              "      <td>6813</td>\n",
              "      <td>883.32</td>\n",
              "      <td>6813</td>\n",
              "    </tr>\n",
              "    <tr>\n",
              "      <th>225498</th>\n",
              "      <td>VW/274X _ LA/720</td>\n",
              "      <td>68138190</td>\n",
              "      <td>7.05</td>\n",
              "      <td>100</td>\n",
              "      <td>6813</td>\n",
              "      <td>705.00</td>\n",
              "      <td>6813</td>\n",
              "    </tr>\n",
              "    <tr>\n",
              "      <th>332462</th>\n",
              "      <td>VW/280CPA _ LM/835</td>\n",
              "      <td>87083090</td>\n",
              "      <td>86.78</td>\n",
              "      <td>92</td>\n",
              "      <td>8708</td>\n",
              "      <td>7983.76</td>\n",
              "      <td>8708</td>\n",
              "    </tr>\n",
              "    <tr>\n",
              "      <th>439748</th>\n",
              "      <td>VW/NOVA SAVEIRO RB MBVS</td>\n",
              "      <td>87043190</td>\n",
              "      <td>44969.24</td>\n",
              "      <td>86</td>\n",
              "      <td>8704</td>\n",
              "      <td>3867354.64</td>\n",
              "      <td>8704</td>\n",
              "    </tr>\n",
              "    <tr>\n",
              "      <th>421149</th>\n",
              "      <td>VW/276CPA _ LA/720</td>\n",
              "      <td>87083090</td>\n",
              "      <td>43.99</td>\n",
              "      <td>82</td>\n",
              "      <td>8708</td>\n",
              "      <td>3607.18</td>\n",
              "      <td>8708</td>\n",
              "    </tr>\n",
              "    <tr>\n",
              "      <th>278877</th>\n",
              "      <td>VW/274X _ LA/720</td>\n",
              "      <td>68138190</td>\n",
              "      <td>7.26</td>\n",
              "      <td>81</td>\n",
              "      <td>6813</td>\n",
              "      <td>588.06</td>\n",
              "      <td>6813</td>\n",
              "    </tr>\n",
              "    <tr>\n",
              "      <th>200797</th>\n",
              "      <td>VW/NOVO GOL TL MBV</td>\n",
              "      <td>87032310</td>\n",
              "      <td>31439.09</td>\n",
              "      <td>80</td>\n",
              "      <td>8703</td>\n",
              "      <td>2515127.20</td>\n",
              "      <td>8703</td>\n",
              "    </tr>\n",
              "    <tr>\n",
              "      <th>438518</th>\n",
              "      <td>VW/NOVA SAVEIRO RB MBVS</td>\n",
              "      <td>87043190</td>\n",
              "      <td>46236.30</td>\n",
              "      <td>78</td>\n",
              "      <td>8704</td>\n",
              "      <td>3606431.40</td>\n",
              "      <td>8704</td>\n",
              "    </tr>\n",
              "    <tr>\n",
              "      <th>24392</th>\n",
              "      <td>VW/NOVA SAVEIRO RB MBVS</td>\n",
              "      <td>87043190</td>\n",
              "      <td>44020.89</td>\n",
              "      <td>74</td>\n",
              "      <td>8704</td>\n",
              "      <td>3257545.86</td>\n",
              "      <td>8704</td>\n",
              "    </tr>\n",
              "  </tbody>\n",
              "</table>\n",
              "</div>"
            ],
            "text/plain": [
              "                     PROD_XPROD  PROD_NCM  PROD_VUNCOM  CONTAGEM NCM_POSICAO  \\\n",
              "195198       VW/276CPA _ LA/720  87083090        45.35       285        8708   \n",
              "16667        VW/282CPA _ LA/720  87083090       107.74       282        8708   \n",
              "31499   VW/NOVA SAVEIRO RB MBVD  87043190     54109.77       235        8704   \n",
              "285972  VW/NOVA SAVEIRO RB MBVS  87043190     44684.63       202        8704   \n",
              "409311       VW/280CPA _ LM/835  87083090        89.46       158        8708   \n",
              "86764        VW/VOYAGE 1.6L MB5  87032310     45029.15       152        8703   \n",
              "61608        VW/VOYAGE 1.6L AF5  87032310     45560.79       148        8703   \n",
              "498675       VW/281CPA _ LM/835  87083090        62.76       146        8708   \n",
              "284417       VW/VOYAGE 1.6L MB5  87032310     43153.25       142        8703   \n",
              "302225  VW/NOVA SAVEIRO RB MBVS  87043190     41689.52       140        8704   \n",
              "157341  VW/NOVA SAVEIRO RB MBVD  87043190     51346.90       107        8704   \n",
              "305780          VW/262 _ LA/720  68138190         8.66       102        6813   \n",
              "225498         VW/274X _ LA/720  68138190         7.05       100        6813   \n",
              "332462       VW/280CPA _ LM/835  87083090        86.78        92        8708   \n",
              "439748  VW/NOVA SAVEIRO RB MBVS  87043190     44969.24        86        8704   \n",
              "421149       VW/276CPA _ LA/720  87083090        43.99        82        8708   \n",
              "278877         VW/274X _ LA/720  68138190         7.26        81        6813   \n",
              "200797       VW/NOVO GOL TL MBV  87032310     31439.09        80        8703   \n",
              "438518  VW/NOVA SAVEIRO RB MBVS  87043190     46236.30        78        8704   \n",
              "24392   VW/NOVA SAVEIRO RB MBVS  87043190     44020.89        74        8704   \n",
              "\n",
              "        IMPORTANCIA POSICAO_NCM  \n",
              "195198     12924.75        8708  \n",
              "16667      30382.68        8708  \n",
              "31499   12715795.95        8704  \n",
              "285972   9026295.26        8704  \n",
              "409311     14134.68        8708  \n",
              "86764    6844430.80        8703  \n",
              "61608    6742996.92        8703  \n",
              "498675      9162.96        8708  \n",
              "284417   6127761.50        8703  \n",
              "302225   5836532.80        8704  \n",
              "157341   5494118.30        8704  \n",
              "305780       883.32        6813  \n",
              "225498       705.00        6813  \n",
              "332462      7983.76        8708  \n",
              "439748   3867354.64        8704  \n",
              "421149      3607.18        8708  \n",
              "278877       588.06        6813  \n",
              "200797   2515127.20        8703  \n",
              "438518   3606431.40        8704  \n",
              "24392    3257545.86        8704  "
            ]
          },
          "execution_count": 255,
          "metadata": {},
          "output_type": "execute_result"
        }
      ],
      "source": [
        "df_restante[df_restante['PROD_XPROD'].str.contains(r'^(VW[\\s/-][-]?)', flags = re.IGNORECASE)].sort_values(by=['CONTAGEM', 'IMPORTANCIA'], ascending=False).head(20)"
      ]
    },
    {
      "cell_type": "code",
      "execution_count": null,
      "id": "b55d4878-4ee7-4059-b304-e4f48443ab0f",
      "metadata": {
        "id": "b55d4878-4ee7-4059-b304-e4f48443ab0f"
      },
      "outputs": [],
      "source": [
        "LABELS = ['PROD_XPROD', 'NCM_POSICAO', 'PROD_VUNCOM', 'IMPORTANCIA']"
      ]
    },
    {
      "cell_type": "code",
      "execution_count": null,
      "id": "a72b8244-5d49-473c-88e7-e3e6c7a7c87c",
      "metadata": {
        "id": "a72b8244-5d49-473c-88e7-e3e6c7a7c87c",
        "outputId": "fbe5d9db-0479-4ffa-c6fb-3740e9314710"
      },
      "outputs": [
        {
          "data": {
            "text/html": [
              "<div>\n",
              "<style scoped>\n",
              "    .dataframe tbody tr th:only-of-type {\n",
              "        vertical-align: middle;\n",
              "    }\n",
              "\n",
              "    .dataframe tbody tr th {\n",
              "        vertical-align: top;\n",
              "    }\n",
              "\n",
              "    .dataframe thead th {\n",
              "        text-align: right;\n",
              "    }\n",
              "</style>\n",
              "<table border=\"1\" class=\"dataframe\">\n",
              "  <thead>\n",
              "    <tr style=\"text-align: right;\">\n",
              "      <th></th>\n",
              "      <th>PROD_XPROD</th>\n",
              "      <th>NCM_POSICAO</th>\n",
              "      <th>PROD_VUNCOM</th>\n",
              "      <th>IMPORTANCIA</th>\n",
              "    </tr>\n",
              "  </thead>\n",
              "  <tbody>\n",
              "    <tr>\n",
              "      <th>386814</th>\n",
              "      <td>BZ12U4 VW/POLO MF</td>\n",
              "      <td>8703</td>\n",
              "      <td>57507.91</td>\n",
              "      <td>1782745.21</td>\n",
              "    </tr>\n",
              "    <tr>\n",
              "      <th>351607</th>\n",
              "      <td>BZ12Q4 VW/POLO MCA</td>\n",
              "      <td>8703</td>\n",
              "      <td>54181.52</td>\n",
              "      <td>1517082.56</td>\n",
              "    </tr>\n",
              "    <tr>\n",
              "      <th>189928</th>\n",
              "      <td>BZ12Q4 VW/POLO MCA</td>\n",
              "      <td>8703</td>\n",
              "      <td>53395.11</td>\n",
              "      <td>1334877.75</td>\n",
              "    </tr>\n",
              "    <tr>\n",
              "      <th>346011</th>\n",
              "      <td>BZ12Q4 VW/POLO MCA</td>\n",
              "      <td>8703</td>\n",
              "      <td>52420.74</td>\n",
              "      <td>1048414.80</td>\n",
              "    </tr>\n",
              "    <tr>\n",
              "      <th>165267</th>\n",
              "      <td>BZ12U4 VW/POLO MF</td>\n",
              "      <td>8703</td>\n",
              "      <td>56559.73</td>\n",
              "      <td>904955.68</td>\n",
              "    </tr>\n",
              "    <tr>\n",
              "      <th>465992</th>\n",
              "      <td>BZ12Q4 VW/POLO MCA</td>\n",
              "      <td>8703</td>\n",
              "      <td>58000.00</td>\n",
              "      <td>812000.00</td>\n",
              "    </tr>\n",
              "    <tr>\n",
              "      <th>332354</th>\n",
              "      <td>BZ12U4 VW/POLO MF</td>\n",
              "      <td>8703</td>\n",
              "      <td>58508.65</td>\n",
              "      <td>760612.45</td>\n",
              "    </tr>\n",
              "    <tr>\n",
              "      <th>212803</th>\n",
              "      <td>BZ12Q4 VW/POLO MCA</td>\n",
              "      <td>8703</td>\n",
              "      <td>53500.00</td>\n",
              "      <td>642000.00</td>\n",
              "    </tr>\n",
              "    <tr>\n",
              "      <th>58856</th>\n",
              "      <td>BZ12U4 VW/POLO MF</td>\n",
              "      <td>8703</td>\n",
              "      <td>60000.00</td>\n",
              "      <td>540000.00</td>\n",
              "    </tr>\n",
              "    <tr>\n",
              "      <th>224369</th>\n",
              "      <td>BZ12U4 VW/POLO MF</td>\n",
              "      <td>8703</td>\n",
              "      <td>60990.00</td>\n",
              "      <td>365940.00</td>\n",
              "    </tr>\n",
              "    <tr>\n",
              "      <th>164523</th>\n",
              "      <td>BZ12U4 VW/POLO MF</td>\n",
              "      <td>8703</td>\n",
              "      <td>58990.00</td>\n",
              "      <td>353940.00</td>\n",
              "    </tr>\n",
              "    <tr>\n",
              "      <th>386275</th>\n",
              "      <td>BZ12Q4 VW/POLO MCA</td>\n",
              "      <td>8703</td>\n",
              "      <td>56300.00</td>\n",
              "      <td>337800.00</td>\n",
              "    </tr>\n",
              "    <tr>\n",
              "      <th>90117</th>\n",
              "      <td>BZ12U4 VW/POLO MF</td>\n",
              "      <td>8703</td>\n",
              "      <td>59900.00</td>\n",
              "      <td>299500.00</td>\n",
              "    </tr>\n",
              "    <tr>\n",
              "      <th>397476</th>\n",
              "      <td>BZ12Q4 VW/POLO MCA</td>\n",
              "      <td>8703</td>\n",
              "      <td>53595.27</td>\n",
              "      <td>267976.35</td>\n",
              "    </tr>\n",
              "    <tr>\n",
              "      <th>109871</th>\n",
              "      <td>BZ12Q4 VW/POLO MCA</td>\n",
              "      <td>8703</td>\n",
              "      <td>56000.00</td>\n",
              "      <td>224000.00</td>\n",
              "    </tr>\n",
              "    <tr>\n",
              "      <th>127630</th>\n",
              "      <td>VEICULO USADO VW GOLF</td>\n",
              "      <td>8703</td>\n",
              "      <td>24000.00</td>\n",
              "      <td>96000.00</td>\n",
              "    </tr>\n",
              "    <tr>\n",
              "      <th>88585</th>\n",
              "      <td>BZ12Q4 VW/POLO MCA</td>\n",
              "      <td>8703</td>\n",
              "      <td>51986.16</td>\n",
              "      <td>155958.48</td>\n",
              "    </tr>\n",
              "    <tr>\n",
              "      <th>382391</th>\n",
              "      <td>VU-VW/GOL SPECIAL</td>\n",
              "      <td>8703</td>\n",
              "      <td>28000.00</td>\n",
              "      <td>84000.00</td>\n",
              "    </tr>\n",
              "    <tr>\n",
              "      <th>52945</th>\n",
              "      <td>AUTOMOVEL VW GOL PLACA NRQ 1387 FROTA 170001</td>\n",
              "      <td>8703</td>\n",
              "      <td>25000.00</td>\n",
              "      <td>75000.00</td>\n",
              "    </tr>\n",
              "    <tr>\n",
              "      <th>323755</th>\n",
              "      <td>BZ12U4 VW/POLO MF</td>\n",
              "      <td>8703</td>\n",
              "      <td>60850.00</td>\n",
              "      <td>121700.00</td>\n",
              "    </tr>\n",
              "  </tbody>\n",
              "</table>\n",
              "</div>"
            ],
            "text/plain": [
              "                                          PROD_XPROD NCM_POSICAO  PROD_VUNCOM  \\\n",
              "386814                             BZ12U4 VW/POLO MF        8703     57507.91   \n",
              "351607                            BZ12Q4 VW/POLO MCA        8703     54181.52   \n",
              "189928                            BZ12Q4 VW/POLO MCA        8703     53395.11   \n",
              "346011                            BZ12Q4 VW/POLO MCA        8703     52420.74   \n",
              "165267                             BZ12U4 VW/POLO MF        8703     56559.73   \n",
              "465992                            BZ12Q4 VW/POLO MCA        8703     58000.00   \n",
              "332354                             BZ12U4 VW/POLO MF        8703     58508.65   \n",
              "212803                            BZ12Q4 VW/POLO MCA        8703     53500.00   \n",
              "58856                              BZ12U4 VW/POLO MF        8703     60000.00   \n",
              "224369                             BZ12U4 VW/POLO MF        8703     60990.00   \n",
              "164523                             BZ12U4 VW/POLO MF        8703     58990.00   \n",
              "386275                            BZ12Q4 VW/POLO MCA        8703     56300.00   \n",
              "90117                              BZ12U4 VW/POLO MF        8703     59900.00   \n",
              "397476                            BZ12Q4 VW/POLO MCA        8703     53595.27   \n",
              "109871                            BZ12Q4 VW/POLO MCA        8703     56000.00   \n",
              "127630                         VEICULO USADO VW GOLF        8703     24000.00   \n",
              "88585                             BZ12Q4 VW/POLO MCA        8703     51986.16   \n",
              "382391                             VU-VW/GOL SPECIAL        8703     28000.00   \n",
              "52945   AUTOMOVEL VW GOL PLACA NRQ 1387 FROTA 170001        8703     25000.00   \n",
              "323755                             BZ12U4 VW/POLO MF        8703     60850.00   \n",
              "\n",
              "        IMPORTANCIA  \n",
              "386814   1782745.21  \n",
              "351607   1517082.56  \n",
              "189928   1334877.75  \n",
              "346011   1048414.80  \n",
              "165267    904955.68  \n",
              "465992    812000.00  \n",
              "332354    760612.45  \n",
              "212803    642000.00  \n",
              "58856     540000.00  \n",
              "224369    365940.00  \n",
              "164523    353940.00  \n",
              "386275    337800.00  \n",
              "90117     299500.00  \n",
              "397476    267976.35  \n",
              "109871    224000.00  \n",
              "127630     96000.00  \n",
              "88585     155958.48  \n",
              "382391     84000.00  \n",
              "52945      75000.00  \n",
              "323755    121700.00  "
            ]
          },
          "execution_count": 257,
          "metadata": {},
          "output_type": "execute_result"
        }
      ],
      "source": [
        "df_restante[df_restante['PROD_XPROD'].str.contains( '(VW[\\s/])(GOL|FOX|POLO|VIRTUS)', flags = re.IGNORECASE) & (df_restante.PROD_VUNCOM > 20000)].sort_values(by=['CONTAGEM', 'IMPORTANCIA'], ascending=False)[LABELS].head(20)"
      ]
    },
    {
      "cell_type": "code",
      "execution_count": null,
      "id": "57bb4b21-0a80-487a-9f4f-edab5bf34f7d",
      "metadata": {
        "id": "57bb4b21-0a80-487a-9f4f-edab5bf34f7d",
        "outputId": "e2bc9361-0779-4ae8-c1b3-8fdb7334edac"
      },
      "outputs": [
        {
          "data": {
            "text/plain": [
              "'^(I[/])?(BZ12U4|BZ12Q4)?(VEICULO|VOLKSWAGEN|VW|CHEV|FIAT|HIUNDAI|RAM)?([\\\\s/])?(NOV[OA])?(COROLLA|HILUX|TAOS|SAVEIRO|HB20|TRACKER|T[\\\\-\\\\s]CROSS|JEEP|TRAILBLAZER|GOL|VIRTUS|NIVUS|POLO|UP|CRETA|FOX|SW4|CHEVROLET|S10|AMAROK|RAM)'"
            ]
          },
          "execution_count": 258,
          "metadata": {},
          "output_type": "execute_result"
        }
      ],
      "source": [
        "pattern_carros_caminhonetes"
      ]
    },
    {
      "cell_type": "code",
      "execution_count": null,
      "id": "342e0116-e9f6-48bd-abd7-9140053edbde",
      "metadata": {
        "id": "342e0116-e9f6-48bd-abd7-9140053edbde"
      },
      "outputs": [],
      "source": [
        ""
      ]
    }
  ],
  "metadata": {
    "kernelspec": {
      "display_name": "Python 3 (ipykernel)",
      "language": "python",
      "name": "python3"
    },
    "language_info": {
      "codemirror_mode": {
        "name": "ipython",
        "version": 3
      },
      "file_extension": ".py",
      "mimetype": "text/x-python",
      "name": "python",
      "nbconvert_exporter": "python",
      "pygments_lexer": "ipython3",
      "version": "3.7.11"
    },
    "toc-autonumbering": false,
    "toc-showcode": false,
    "toc-showmarkdowntxt": true,
    "colab": {
      "name": "rotulagem_cap87.ipynb",
      "provenance": [],
      "toc_visible": true,
      "include_colab_link": true
    }
  },
  "nbformat": 4,
  "nbformat_minor": 5
}